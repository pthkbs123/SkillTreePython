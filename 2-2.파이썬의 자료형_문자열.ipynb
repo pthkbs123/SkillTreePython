{
  "nbformat": 4,
  "nbformat_minor": 0,
  "metadata": {
    "colab": {
      "name": "2-2.파이썬의 자료형_문자열.ipynb",
      "provenance": [],
      "collapsed_sections": [],
      "include_colab_link": true
    },
    "kernelspec": {
      "name": "python3",
      "display_name": "Python 3"
    },
    "language_info": {
      "name": "python"
    }
  },
  "cells": [
    {
      "cell_type": "markdown",
      "metadata": {
        "id": "view-in-github",
        "colab_type": "text"
      },
      "source": [
        "<a href=\"https://colab.research.google.com/github/pthkbs123/SkillTreePython/blob/main/2-2.%ED%8C%8C%EC%9D%B4%EC%8D%AC%EC%9D%98%20%EC%9E%90%EB%A3%8C%ED%98%95_%EB%AC%B8%EC%9E%90%EC%97%B4.ipynb\" target=\"_parent\"><img src=\"https://colab.research.google.com/assets/colab-badge.svg\" alt=\"Open In Colab\"/></a>"
      ]
    },
    {
      "cell_type": "markdown",
      "source": [
        "# 2-2.파이썬의 자료형:문자열\n",
        "---\n",
        "* 날짜: 2022-03-28\n",
        "* 이름: 박태현"
      ],
      "metadata": {
        "id": "kB5IciXEm6o4"
      }
    },
    {
      "cell_type": "markdown",
      "source": [
        "## 개념정리\n",
        "---\n",
        "\n",
        "이번 시간에 다룰 자료형은 문자열 (String) 자료형 입니다. 문자열 도한 숫자와 마찬가지로 기본적인 데이터 타입이며 광범위하게 사용됩니다. 문자열 문자들의 집합으로 이루어져 있습니다."
      ],
      "metadata": {
        "id": "4iN8NFzHRJ2D"
      }
    },
    {
      "cell_type": "markdown",
      "source": [
        "### (1) 문자열 생성하기\n",
        "\n",
        "\n",
        "* 작은따음표 `'` \n",
        "\n",
        "```\n",
        "a = 'hello'\n",
        "print(a), type(a)\n",
        "```\n",
        "\n",
        "\n",
        "\n",
        "\n",
        "\n"
      ],
      "metadata": {
        "id": "UKlkHH0IRL5h"
      }
    },
    {
      "cell_type": "code",
      "source": [
        "a = 'hello'\n",
        "a, type(a)"
      ],
      "metadata": {
        "id": "DwxmxrH90x6c",
        "colab": {
          "base_uri": "https://localhost:8080/"
        },
        "outputId": "2af613b6-0fec-447a-f81c-c551819cfa37"
      },
      "execution_count": 2,
      "outputs": [
        {
          "output_type": "execute_result",
          "data": {
            "text/plain": [
              "('hello', str)"
            ]
          },
          "metadata": {},
          "execution_count": 2
        }
      ]
    },
    {
      "cell_type": "markdown",
      "source": [
        "* 큰따음표 `\"`\n",
        "\n",
        "```\n",
        "a = \"hello\"\n",
        "print(a), type(a)\n",
        "```\n"
      ],
      "metadata": {
        "id": "ftvQ5Pfk0yBf"
      }
    },
    {
      "cell_type": "code",
      "source": [
        "a = \"hello\"\n",
        "a, type(a)"
      ],
      "metadata": {
        "id": "phUxr9LP0y7Q",
        "colab": {
          "base_uri": "https://localhost:8080/"
        },
        "outputId": "19971737-6678-485d-c1ae-b55561ba9a2b"
      },
      "execution_count": 3,
      "outputs": [
        {
          "output_type": "execute_result",
          "data": {
            "text/plain": [
              "('hello', str)"
            ]
          },
          "metadata": {},
          "execution_count": 3
        }
      ]
    },
    {
      "cell_type": "markdown",
      "source": [
        "\n",
        "* 작은따음표 세개 `'''`\n",
        "\n",
        "```\n",
        "a = '''hello'''\n",
        "print(a), type(a)\n",
        "```\n",
        "\n"
      ],
      "metadata": {
        "id": "RMpem26n0zBR"
      }
    },
    {
      "cell_type": "code",
      "source": [
        "a = '''hello'''\n",
        "a, type(a)"
      ],
      "metadata": {
        "id": "oLRaHKFD0zsX",
        "colab": {
          "base_uri": "https://localhost:8080/"
        },
        "outputId": "962b6e09-5bab-46d3-88c9-66111366af06"
      },
      "execution_count": 5,
      "outputs": [
        {
          "output_type": "execute_result",
          "data": {
            "text/plain": [
              "('hello', str)"
            ]
          },
          "metadata": {},
          "execution_count": 5
        }
      ]
    },
    {
      "cell_type": "markdown",
      "source": [
        "* 큰따음표 세개 `\"\"\"`\n",
        "\n",
        "```\n",
        "a = \"\"\"hello\"\"\"\n",
        "print(a), type(a)\n",
        "```\n"
      ],
      "metadata": {
        "id": "TZkDN8560z1N"
      }
    },
    {
      "cell_type": "code",
      "source": [
        "a = \"\"\"hello\"\"\"\n",
        "a, type(a)"
      ],
      "metadata": {
        "id": "vQMs78BT00c-",
        "colab": {
          "base_uri": "https://localhost:8080/"
        },
        "outputId": "cb621da9-f260-454f-c48f-8d7a13e0af9c"
      },
      "execution_count": 7,
      "outputs": [
        {
          "output_type": "execute_result",
          "data": {
            "text/plain": [
              "('hello', str)"
            ]
          },
          "metadata": {},
          "execution_count": 7
        }
      ]
    },
    {
      "cell_type": "markdown",
      "source": [
        "#### **작은따음표나 큰따음표가 포함된 문자열**\n",
        "\n",
        "위에서 우리는 작은따음표나 큰따음표를 이용해서 문자열을 생성하였습니다. 그런데 언제 작은따음표를 쓰고, 큰따음표를 써야할까요? 대부분의 경우 사용자의 편의에 맞춰서 사용하시면 되지만 특정 상황에 따라 적절히 선택해서 문자열을 생성해야 합니다. \n",
        "\n",
        "* 작은따음표 포함시키기\n",
        "\n",
        "```\n",
        "a = \"It's nice day!\"\n",
        "print(a)\n",
        "```"
      ],
      "metadata": {
        "id": "-6nvbRvd02kK"
      }
    },
    {
      "cell_type": "code",
      "source": [
        "a = \"it's nice day!\"\n",
        "a"
      ],
      "metadata": {
        "id": "7AfuxTvH4tdg",
        "colab": {
          "base_uri": "https://localhost:8080/",
          "height": 35
        },
        "outputId": "be480587-87a0-456e-e2e9-95bab5743f4f"
      },
      "execution_count": 8,
      "outputs": [
        {
          "output_type": "execute_result",
          "data": {
            "text/plain": [
              "\"it's nice day!\""
            ],
            "application/vnd.google.colaboratory.intrinsic+json": {
              "type": "string"
            }
          },
          "metadata": {},
          "execution_count": 8
        }
      ]
    },
    {
      "cell_type": "markdown",
      "source": [
        "* 큰따음표 포함시키기\n",
        "\n",
        "```\n",
        "a = 'he said, \"nice day!\"'\n",
        "print(a)\n",
        "```"
      ],
      "metadata": {
        "id": "MHzcVeyz5IzP"
      }
    },
    {
      "cell_type": "code",
      "source": [
        "a = 'he said, \"nice day!\"'\n",
        "a"
      ],
      "metadata": {
        "id": "GZR3Ujq95QRk",
        "colab": {
          "base_uri": "https://localhost:8080/",
          "height": 35
        },
        "outputId": "8546a51d-672f-4420-a67d-e20d7cfc2124"
      },
      "execution_count": 10,
      "outputs": [
        {
          "output_type": "execute_result",
          "data": {
            "text/plain": [
              "'he said, \"nice day!\"'"
            ],
            "application/vnd.google.colaboratory.intrinsic+json": {
              "type": "string"
            }
          },
          "metadata": {},
          "execution_count": 10
        }
      ]
    },
    {
      "cell_type": "markdown",
      "source": [
        "#### **연속된 따옴표의 사용**\n",
        "\n",
        "연속된 따옴표는 표현의 자유도가 높습니다. 우선 여러줄의 문자열을 생성할 수 있습니다. \n",
        "\n",
        "* 작음 따옴표 / 큰 따옴표\n",
        "\n",
        "따옴표 한개를 사용할 때 줄 바꿈을 적용하면 에러 메시지가 뜹니다.\n",
        "\n",
        "```\n",
        "a = 'nice\n",
        "day !'\n",
        "```\n",
        "\n"
      ],
      "metadata": {
        "id": "opbfNksrAq4P"
      }
    },
    {
      "cell_type": "code",
      "source": [
        "a = 'nice\n",
        "day!'"
      ],
      "metadata": {
        "id": "8wPrBcJS5i5x",
        "colab": {
          "base_uri": "https://localhost:8080/",
          "height": 137
        },
        "outputId": "b017fecd-9688-4725-e490-0436d0a69f96"
      },
      "execution_count": 14,
      "outputs": [
        {
          "output_type": "error",
          "ename": "SyntaxError",
          "evalue": "ignored",
          "traceback": [
            "\u001b[0;36m  File \u001b[0;32m\"<ipython-input-14-a32b4eaa74e2>\"\u001b[0;36m, line \u001b[0;32m1\u001b[0m\n\u001b[0;31m    a = 'nice\u001b[0m\n\u001b[0m             ^\u001b[0m\n\u001b[0;31mSyntaxError\u001b[0m\u001b[0;31m:\u001b[0m EOL while scanning string literal\n"
          ]
        }
      ]
    },
    {
      "cell_type": "markdown",
      "source": [
        "* 작음 따옴표 / 큰 따옴표 세개\n",
        "\n",
        "따음표 세개를 쓰면 줄 바꿈이 가능합니다.\n",
        "\n",
        "```\n",
        "a = '''\n",
        "nice\n",
        "day !\n",
        "'''\n",
        "```\n"
      ],
      "metadata": {
        "id": "cWLVpy9R5oEq"
      }
    },
    {
      "cell_type": "code",
      "source": [
        "a = ''' nice\n",
        "day \n",
        "!\n",
        "'''\n",
        "print(a)"
      ],
      "metadata": {
        "id": "ovhFYYpI5sd_",
        "colab": {
          "base_uri": "https://localhost:8080/"
        },
        "outputId": "22e5a603-7eb3-45c3-a610-750c82ea745b"
      },
      "execution_count": 17,
      "outputs": [
        {
          "output_type": "stream",
          "name": "stdout",
          "text": [
            " nice\n",
            "day \n",
            "!\n",
            "\n"
          ]
        }
      ]
    },
    {
      "cell_type": "markdown",
      "source": [
        "또한 문자열 안에 큰따음표나 작은따옴표를 자유롭게 포함할 수 있습니다.\n",
        "\n",
        "```\n",
        "a = '''\n",
        "It's\n",
        "nice\n",
        "day !\n",
        "'''\n",
        "```"
      ],
      "metadata": {
        "id": "II4NczMb5yYl"
      }
    },
    {
      "cell_type": "code",
      "source": [
        "a = '''\n",
        "it's \n",
        "nice\n",
        "day\n",
        "!\n",
        "'''\n",
        "print(a)"
      ],
      "metadata": {
        "id": "cApA3Fwn5tbJ",
        "colab": {
          "base_uri": "https://localhost:8080/"
        },
        "outputId": "95c47c06-297a-40e1-d5ef-0809dcee47a4"
      },
      "execution_count": 18,
      "outputs": [
        {
          "output_type": "stream",
          "name": "stdout",
          "text": [
            "\n",
            "it's \n",
            "nice\n",
            "day\n",
            "!\n",
            "\n"
          ]
        }
      ]
    },
    {
      "cell_type": "markdown",
      "source": [
        "### (2) 이스케이프 코드\n",
        "\n",
        "이스케이프 코드는 프로그래밍할 때 사용할 수 있도록 미리 만들어 둔 문자조합 입니다. 출력물을 보기 좋게 정렬하는 용도로 사용되며 주로 사용되는 이스케이프 코드를 정리하면 아래와 같습니다. \n",
        "\n",
        "* `\\n` : 문자열 내에서 줄을 바꿉니다.\n",
        "\n",
        "```\n",
        "a = 'nice\\nday!'\n",
        "print(a)\n",
        "```\n"
      ],
      "metadata": {
        "id": "8qoGgPDT55BR"
      }
    },
    {
      "cell_type": "code",
      "source": [
        "a = 'nice \\nday'\n",
        "print(a)"
      ],
      "metadata": {
        "id": "4n7IDBuq5-hv",
        "colab": {
          "base_uri": "https://localhost:8080/"
        },
        "outputId": "8702c8ee-0372-4445-d624-0cfd30914c79"
      },
      "execution_count": 20,
      "outputs": [
        {
          "output_type": "stream",
          "name": "stdout",
          "text": [
            "nice \n",
            "day\n"
          ]
        }
      ]
    },
    {
      "cell_type": "markdown",
      "source": [
        "* `\\t` : 문자열 내에서 탭 간격만큼 띄어쓰기 합니다.\n",
        "\n",
        "```\n",
        "a = 'nice\\tday!'\n",
        "print(a)\n",
        "```"
      ],
      "metadata": {
        "id": "LcAJr9hK6Api"
      }
    },
    {
      "cell_type": "code",
      "source": [
        "a = 'nice\\tday'\n",
        "print(a)"
      ],
      "metadata": {
        "id": "esQ1Vclb6EPw",
        "colab": {
          "base_uri": "https://localhost:8080/"
        },
        "outputId": "69fdd008-2e3e-4fe7-ba5e-75e4722ee126"
      },
      "execution_count": 22,
      "outputs": [
        {
          "output_type": "stream",
          "name": "stdout",
          "text": [
            "nice\tday\n"
          ]
        }
      ]
    },
    {
      "cell_type": "markdown",
      "source": [
        "* `\\\\` : 문자열 내에서 `\\` 를 문자 그대로 표시합니다.\n",
        "\n",
        "```\n",
        "a = 'nice\\\\day!'\n",
        "print(a)\n",
        "```"
      ],
      "metadata": {
        "id": "WUaMrp516Gpt"
      }
    },
    {
      "cell_type": "code",
      "source": [
        "a = 'nice\\\\day'\n",
        "print(a)"
      ],
      "metadata": {
        "id": "-dIGYh-k6FDJ",
        "colab": {
          "base_uri": "https://localhost:8080/"
        },
        "outputId": "3d365ae8-b0d8-47c8-df2c-585b6886c7da"
      },
      "execution_count": 23,
      "outputs": [
        {
          "output_type": "stream",
          "name": "stdout",
          "text": [
            "nice\\day\n"
          ]
        }
      ]
    },
    {
      "cell_type": "markdown",
      "source": [
        "* `\\'` : 문자열 내에서 작은 따음표 `'` 를 문자 그대로 표시합니다.\n",
        "\n",
        "```\n",
        "a = 'nice\\'day!'\n",
        "print(a)\n",
        "```"
      ],
      "metadata": {
        "id": "4xbxgNT06Pz6"
      }
    },
    {
      "cell_type": "code",
      "source": [
        "a = 'nice\\'day'\n",
        "print(a)"
      ],
      "metadata": {
        "id": "89Fv1jo_6Pz7",
        "colab": {
          "base_uri": "https://localhost:8080/"
        },
        "outputId": "47287901-d6bd-4161-e00f-4c729018d019"
      },
      "execution_count": 24,
      "outputs": [
        {
          "output_type": "stream",
          "name": "stdout",
          "text": [
            "nice'day\n"
          ]
        }
      ]
    },
    {
      "cell_type": "markdown",
      "source": [
        "* `\\\"` : 문자열 내에서 큰따음표 `\"` 를 문자 그대로 표시합니다.\n",
        "\n",
        "```\n",
        "a = 'nice\\\"day!'\n",
        "print(a)\n",
        "```"
      ],
      "metadata": {
        "id": "QSzXTGff7uw4"
      }
    },
    {
      "cell_type": "code",
      "source": [
        "a = 'nice\\\"day'\n",
        "print(a)"
      ],
      "metadata": {
        "id": "R40_NPU47uw-",
        "colab": {
          "base_uri": "https://localhost:8080/"
        },
        "outputId": "0fdd7331-2ee8-4f84-d580-f1735435eb62"
      },
      "execution_count": 25,
      "outputs": [
        {
          "output_type": "stream",
          "name": "stdout",
          "text": [
            "nice\"day\n"
          ]
        }
      ]
    },
    {
      "cell_type": "markdown",
      "source": [
        "### (3) 문자열 포매팅(Formatting)\n",
        "\n",
        "문자열 안에 변수가 포함된 경우를 생각해 보겠습니다. \n",
        "\n",
        "```\n",
        "It's nice day!\n",
        "It's good day!\n",
        "It's happy day!\n",
        "```\n",
        "\n",
        "위 문장들의 공통 값은 `It's --- day` 이고 변하는 값들은 `nice`, `good`, `happy` 가 됩니다. \n",
        "\n",
        "이 때 변하는 값들을 문장 내에서 처리해 주는 것이 포매팅 입니다. 아직까진 어떤 의미인지 잘 이해가 안갈 수 있습니다. 여러가지 방법들을 하나씩 따라하면서 감을 잡아 봅시다.\n",
        "\n"
      ],
      "metadata": {
        "id": "yKAeHMtt74ad"
      }
    },
    {
      "cell_type": "markdown",
      "source": [
        "####  **`%`  이용하기**\n",
        "\n",
        "변수는 `a` 이고 전체 문장은 `s`입니다. 문장내에 변수를 `%s`로 두고 문장 끝에 %s에 들어갈 것이 `a`임을 표시해 줍니다.\n",
        "\n",
        "```\n",
        "a = 'nice'\n",
        "s = \"It's %s day!\"%(a)\n",
        "print(s)\n",
        "```\n",
        "\n"
      ],
      "metadata": {
        "id": "QgMmtjem_VIT"
      }
    },
    {
      "cell_type": "code",
      "source": [
        "a = 'nice'\n",
        "s = \"It's %s day!\"%a\n",
        "print(s)"
      ],
      "metadata": {
        "id": "LOPlbk426N__",
        "colab": {
          "base_uri": "https://localhost:8080/"
        },
        "outputId": "b9e63ccd-7ee7-4d69-ea5e-79ab44931ee8"
      },
      "execution_count": 31,
      "outputs": [
        {
          "output_type": "stream",
          "name": "stdout",
          "text": [
            "It's nice day!\n"
          ]
        }
      ]
    },
    {
      "cell_type": "markdown",
      "source": [
        "변수 `b`와 `c`를 추가하고 각각 `good`, `happy`로 바인딩 합시다. 문자 끝에 무엇을 넣어줄지 정해 다양한 변수를 지정할 수 있습니다. \n",
        "\n",
        "```\n",
        "a = 'nice'\n",
        "b = 'good'\n",
        "c = 'happy'\n",
        "s = \"It's %s day!\"%(b)\n",
        "print(s)\n",
        "```"
      ],
      "metadata": {
        "id": "7kep77Ls__Q2"
      }
    },
    {
      "cell_type": "code",
      "source": [
        "a = 'nice'\n",
        "b = 'good'\n",
        "c = 'happy'\n",
        "s = \"It's %s day!\"%(a)\n",
        "print(s)"
      ],
      "metadata": {
        "id": "9edAonWp_6SH",
        "colab": {
          "base_uri": "https://localhost:8080/"
        },
        "outputId": "da0db49b-33be-4373-812c-d6148f0ea8bf"
      },
      "execution_count": 29,
      "outputs": [
        {
          "output_type": "stream",
          "name": "stdout",
          "text": [
            "It's nice day!\n"
          ]
        }
      ]
    },
    {
      "cell_type": "markdown",
      "source": [
        "두개 이상의 변수도 다룰 수 있습니다. \n",
        "\n",
        "```\n",
        "a = 'nice'\n",
        "b = 'good'\n",
        "c = 'happy'\n",
        "s = \"It's %s, %s, and %s day!\"%(a, b, c)\n",
        "print(s)\n",
        "```"
      ],
      "metadata": {
        "id": "CaR1T3S7Aaw3"
      }
    },
    {
      "cell_type": "code",
      "source": [
        "a = 'nice'\n",
        "b = 'good'\n",
        "c = 'happy'\n",
        "s = \"It's %s, %s, and %s day!\"%(a, c, b)\n",
        "print(s)"
      ],
      "metadata": {
        "id": "2hH45AgVAV03",
        "colab": {
          "base_uri": "https://localhost:8080/"
        },
        "outputId": "203008e8-8732-4665-f6d9-6209a66f6312"
      },
      "execution_count": 32,
      "outputs": [
        {
          "output_type": "stream",
          "name": "stdout",
          "text": [
            "It's nice, happy, and good day!\n"
          ]
        }
      ]
    },
    {
      "cell_type": "markdown",
      "source": [
        "이 때 문장 내에 `%s`로 변수를 지칭하는 것을 볼 수 있습니다. `s`가 뜻하는 것은 `string`입니다. 즉, 우리가 변수로 사용할 `a`, `b`, `c`가 문자열(string) 이기 때문에 `%s`로 문장 내에 변수를 표시합니다. \n",
        "\n",
        "그렇다면 문자열이 아닌 정수일 때는 어떻게 표시할까요? 이 때는 `%d`로 표시합니다.\n",
        "\n",
        "\n",
        "\n",
        "```\n",
        "a = 2\n",
        "s = '%d apples.'%(a)\n",
        "print(s)\n",
        "```\n",
        "\n"
      ],
      "metadata": {
        "id": "XXcIbOqRApxi"
      }
    },
    {
      "cell_type": "code",
      "source": [
        "a = 2\n",
        "s = '%d apples.'%(a)\n",
        "print(s)\n",
        "# %s로 하더라도(자료형이 맞지 않더라도)알아서 수정해줌"
      ],
      "metadata": {
        "id": "cF5rP4FBAjpa",
        "colab": {
          "base_uri": "https://localhost:8080/"
        },
        "outputId": "f9ead435-c0b0-46ff-94ae-107879bfe2dd"
      },
      "execution_count": 37,
      "outputs": [
        {
          "output_type": "stream",
          "name": "stdout",
          "text": [
            "2 apples.\n"
          ]
        }
      ]
    },
    {
      "cell_type": "markdown",
      "source": [
        "이 밖에 `a`의 자료형에 따라 적절한 코드를 사용합니다. \n",
        "\n",
        "| 코드 | 설명 |\n",
        "| --|-- |\n",
        "|%s|\t문자열(String)|\n",
        "|%c|\t문자 1개(character)|\n",
        "|%d|\t정수(Integer)|\n",
        "|%f\t|부동소수(floating-point)|\n",
        "|%o\t|8진수|\n",
        "|%x\t|16진수|\n",
        "|%%\t|Literal % (문자 % 자체)|\n",
        "\n",
        "이제 문자열 포매팅에 대한 기본적인 이해는 되었습니다. 더 많은 포매팅 방법을 알아보고 본인에게 가장 편리한 방법을 사용해 보도록 합시다."
      ],
      "metadata": {
        "id": "2dSPARaCBPIf"
      }
    },
    {
      "cell_type": "markdown",
      "source": [
        "#### **`.format()` 이용하기**\n",
        "\n",
        "\n",
        "이 방식에서 문자열 안의 변수는 `{}` 로 표현됩니다. 그리고 어떤 변수가 오는 지는 `.format()`을 이용합니다. 이 방식은 이전과 달리 변수의 타입에 관계없이 항상 `{}` 기호를 써서 나타냅니다. \n",
        "\n",
        "\n",
        "```\n",
        "a = 'nice'\n",
        "s = \"It's {} day!\".format(a)\n",
        "print(s)\n",
        "```\n"
      ],
      "metadata": {
        "id": "WbPuzriMBSsB"
      }
    },
    {
      "cell_type": "code",
      "source": [
        "a = 'nice'\n",
        "s = \"it's {} day!\".format(a)\n",
        "print(s)"
      ],
      "metadata": {
        "id": "lU2dMDiNEFac",
        "colab": {
          "base_uri": "https://localhost:8080/"
        },
        "outputId": "a727af9e-5ca0-4d41-cdf9-1ccb75af7d46"
      },
      "execution_count": 36,
      "outputs": [
        {
          "output_type": "stream",
          "name": "stdout",
          "text": [
            "it's nice day!\n"
          ]
        }
      ]
    },
    {
      "cell_type": "markdown",
      "source": [
        "* 여러개의 변수\n",
        "\n",
        "```\n",
        "a = 3\n",
        "b = 'apples'\n",
        "s = 'there are {} {}'.format(a, b)\n",
        "print(s)\n",
        "```\n"
      ],
      "metadata": {
        "id": "CiYaXRPVBSt-"
      }
    },
    {
      "cell_type": "code",
      "source": [
        "a = 3\n",
        "b = 'apples'\n",
        "s = 'there are {} {} and something'.format(a,b)\n",
        "print(s)"
      ],
      "metadata": {
        "id": "8PiiujY3BK13",
        "colab": {
          "base_uri": "https://localhost:8080/"
        },
        "outputId": "5ad82c8c-fae5-44e3-8be6-8222208949cd"
      },
      "execution_count": 40,
      "outputs": [
        {
          "output_type": "stream",
          "name": "stdout",
          "text": [
            "there are 3 apples and something\n"
          ]
        }
      ]
    },
    {
      "cell_type": "markdown",
      "source": [
        "* 괄호 인덱싱 : 변수를 나타내는 괄호 `{}` 안에 번호로 인덱싱을 할 수 있습니다.  \n",
        "\n",
        "\n",
        "```\n",
        "a = '3'\n",
        "b = 'apples'\n",
        "c = 'oranges'\n",
        "s = 'there are {0} {1} and {0} {2}'.format(a, b, c)\n",
        "print(s)\n",
        "``` \n",
        "이 때 `{0}`, `{1}`, `{2}` 는 차례대로 `a`, `b`, `c` 가 됩니다.\n"
      ],
      "metadata": {
        "id": "jnIYWLtfEcX0"
      }
    },
    {
      "cell_type": "code",
      "source": [
        "a = '3'\n",
        "b = 'apples'\n",
        "c = 'oranges'\n",
        "s = 'there are {0} {1} and {0} {2}'.format(a, b, c)\n",
        "print(s)"
      ],
      "metadata": {
        "id": "jVLUKFNmEX--",
        "colab": {
          "base_uri": "https://localhost:8080/"
        },
        "outputId": "93497a55-02f9-4ebd-d412-ce3471e9ed2a"
      },
      "execution_count": 45,
      "outputs": [
        {
          "output_type": "stream",
          "name": "stdout",
          "text": [
            "there are 3 apples and 3 oranges\n"
          ]
        }
      ]
    },
    {
      "cell_type": "markdown",
      "source": [
        "* 괄호 태그 : 변수를 나타내는 괄호 `{}` 안에 태그로 인덱싱을 할 수 있습니다.\n",
        "\n",
        "```\n",
        "a = '3'\n",
        "b = 'apples'\n",
        "c = 'oranges'\n",
        "s = 'there are {num} {fruit1} and {num} {fruit2}'.format(num=a, fruit1=b, fruit2=c)\n",
        "print(s)\n",
        "``` \n"
      ],
      "metadata": {
        "id": "9kXyc4KFEwhD"
      }
    },
    {
      "cell_type": "code",
      "source": [
        "a = '3'\n",
        "b = 'apples'\n",
        "c = 'oranges'\n",
        "s = 'there are {num} {fruit1} and {num} {fruit2}'.format(num=a, fruit1=b, fruit2=c)\n",
        "print(s)"
      ],
      "metadata": {
        "id": "7t4bGJuvEnRx",
        "colab": {
          "base_uri": "https://localhost:8080/"
        },
        "outputId": "dad34653-e592-4633-d295-4a077d7d42d9"
      },
      "execution_count": 46,
      "outputs": [
        {
          "output_type": "stream",
          "name": "stdout",
          "text": [
            "there are 3 apples and 3 oranges\n"
          ]
        }
      ]
    },
    {
      "cell_type": "markdown",
      "source": [
        "#### **f-string 문법**\n",
        "\n",
        "\n",
        "Python 3.6 이상의 버전부터 f-string 문법을 사용할 수 있게 되었습니다. 문자열 앞에 접두사 `f`를 붙이고 문장내에 변수를 중괄호 `{}`로 처리합니다. 그리고 어떤 변수가 들어갈지를 중괄호 `{}` 안에 바로 작성해줍니다. \n",
        "\n",
        " \n",
        "\n",
        "```\n",
        "a = '3'\n",
        "b = 'apples'\n",
        "c = 'oranges'\n",
        "s = f'there are {a} {b} and {a} {c}'\n",
        "print(s)\n",
        "```\n"
      ],
      "metadata": {
        "id": "bYUxh00NFHWZ"
      }
    },
    {
      "cell_type": "code",
      "source": [
        "a = '3'\n",
        "b = 'apples'\n",
        "c = 'oranges'\n",
        "s = f'there are {a} {b} and {a} {c}'\n",
        "print(s)"
      ],
      "metadata": {
        "id": "N1XFYDRfFHWZ",
        "colab": {
          "base_uri": "https://localhost:8080/"
        },
        "outputId": "2c17a55f-5c11-41ba-8201-55f5e24e23bd"
      },
      "execution_count": 47,
      "outputs": [
        {
          "output_type": "stream",
          "name": "stdout",
          "text": [
            "there are 3 apples and 3 oranges\n"
          ]
        }
      ]
    },
    {
      "cell_type": "markdown",
      "source": [
        "### (4) 인덱싱과 슬라이싱\n",
        "\n",
        "\n"
      ],
      "metadata": {
        "id": "OW5u5aPEIGIP"
      }
    },
    {
      "cell_type": "markdown",
      "source": [
        "#### **인덱싱 (indexing)**\n",
        "\n",
        "문자열의 인덱싱(indexing) 이란 주어진 문자열의 특정 값의 위치를 가리키는 것입니다. 파이썬은 `0`부터 시작함을 유의하세요. 아래 그림과 같이 첫번째 문자는 `0`번째 index를 가지고 순차적으로 증가합니다. \n",
        "\n",
        "![](https://github.com/yebiny/SkillTreePython/blob/main/imgs/2-2-1.PNG?raw=true)\n",
        "\n",
        "* 양수 인덱스 : 양수 값에 위치한 문자를 인덱싱합니다.\n",
        "\n",
        "```\n",
        "a = 'nice day!'\n",
        "print(a[5])\n",
        "```"
      ],
      "metadata": {
        "id": "CiCymDWPIJyd"
      }
    },
    {
      "cell_type": "code",
      "source": [
        "a = 'nice day!'\n",
        "print(a[5])"
      ],
      "metadata": {
        "id": "3zLNBfeRFATW",
        "colab": {
          "base_uri": "https://localhost:8080/"
        },
        "outputId": "055ccf71-45af-442a-ba35-9ba7a3690ba8"
      },
      "execution_count": 48,
      "outputs": [
        {
          "output_type": "stream",
          "name": "stdout",
          "text": [
            "d\n"
          ]
        }
      ]
    },
    {
      "cell_type": "markdown",
      "source": [
        "* 음수 인덱스 : 마지막 문자는 -1 이고 마지막에서 두번째는 -2 가 됩니다. \n",
        "\n",
        "```\n",
        "a = 'nice day!'\n",
        "print(a[-1])\n",
        "print(a[-4])\n",
        "```"
      ],
      "metadata": {
        "id": "vOiUFzc3IQOj"
      }
    },
    {
      "cell_type": "code",
      "source": [
        "a = 'nice day!'\n",
        "print(a[-1])\n",
        "print(a[-4])"
      ],
      "metadata": {
        "id": "GoQLluZSIOpI",
        "colab": {
          "base_uri": "https://localhost:8080/"
        },
        "outputId": "5c75c513-cbda-4a0c-e880-d8329faacfa9"
      },
      "execution_count": 49,
      "outputs": [
        {
          "output_type": "stream",
          "name": "stdout",
          "text": [
            "!\n",
            "d\n"
          ]
        }
      ]
    },
    {
      "cell_type": "markdown",
      "source": [
        "#### **슬라이싱 (Slicing)**\n",
        "\n",
        "문자열의 슬라이싱(Slicing) 은 문자열 내의 특정 구간을 잘라내는 것입니다. 슬라이싱에서의 순서는 인덱싱과 마찬가지로 0부터 시작합니다. 하지만 슬라이싱의 인덱스는 문자열의 위치를 가리키는게 아니라 문자열 사이사이의 칸막이를 가리키는 것으로 이해하셔야 헷갈리지 않습니다. 아래 그림을 참고하세요.\n",
        "\n",
        "![](https://github.com/yebiny/SkillTreePython/blob/main/imgs/2-2-2.PNG?raw=true)\n",
        "\n",
        "*  `a[start:end]` : 문자열 `a`의 `start` 부터 `end`까지 구간을 슬라이싱합니다.\n",
        "\n",
        "```\n",
        "a = 'nice day!'\n",
        "print(a[1:4])\n",
        "```"
      ],
      "metadata": {
        "id": "HkFYQ6riIswz"
      }
    },
    {
      "cell_type": "code",
      "source": [
        "a = 'nice day!'\n",
        "print(a[1:4])"
      ],
      "metadata": {
        "id": "CuP424IgIT5Q",
        "colab": {
          "base_uri": "https://localhost:8080/"
        },
        "outputId": "1f9c42b0-3cb1-4cf1-8c90-ec2f870dffb3"
      },
      "execution_count": 50,
      "outputs": [
        {
          "output_type": "stream",
          "name": "stdout",
          "text": [
            "ice\n"
          ]
        }
      ]
    },
    {
      "cell_type": "markdown",
      "source": [
        "만약  `start` 나 `end` 값을 적지 않으면 어떻게 될까요?\n",
        "\n",
        "```\n",
        "a = 'nice day!'\n",
        "print(a[:4])\n",
        "```\n",
        "\n",
        "`start` 값을 적지 않았지만 자동으로 `0`으로 인식하여 슬라이싱 합니다. 반대로 `end` 값을 적지 않으면 마지막(칸막이)을 뜻하는 `-1`이 인식됩니다."
      ],
      "metadata": {
        "id": "CG4gOxN8Iznp"
      }
    },
    {
      "cell_type": "code",
      "source": [
        "a = 'nice day!'\n",
        "print(a[:4]) # start의 기본값은 0"
      ],
      "metadata": {
        "id": "uaoZZQFIIyZ2",
        "colab": {
          "base_uri": "https://localhost:8080/"
        },
        "outputId": "c48d35cc-4e9e-489f-9850-863d59079a41"
      },
      "execution_count": 53,
      "outputs": [
        {
          "output_type": "stream",
          "name": "stdout",
          "text": [
            "nice\n"
          ]
        }
      ]
    },
    {
      "cell_type": "code",
      "source": [
        "print(a[4:])\n",
        "print(a[:5]) # end의 기본값은 끝"
      ],
      "metadata": {
        "colab": {
          "base_uri": "https://localhost:8080/"
        },
        "id": "pLGKfP6gOoFC",
        "outputId": "59e87f2d-fb1e-4fae-e2f2-f0b05ed8dd71"
      },
      "execution_count": 55,
      "outputs": [
        {
          "output_type": "stream",
          "name": "stdout",
          "text": [
            " day!\n",
            "nice \n"
          ]
        }
      ]
    },
    {
      "cell_type": "markdown",
      "source": [
        "\n",
        "따라서 아래 코드는 처음부터 끝까지 슬라이싱 하라는 것과 동일합니다. \n",
        "\n",
        "```\n",
        "a = 'nice day!'\n",
        "print(a[:])\n",
        "```\n",
        "\n",
        "\n"
      ],
      "metadata": {
        "id": "W5j566GxI4hc"
      }
    },
    {
      "cell_type": "code",
      "source": [
        "a = 'nice day!'\n",
        "print(a[:])\n"
      ],
      "metadata": {
        "id": "L9vlbxXuI2Fd",
        "colab": {
          "base_uri": "https://localhost:8080/"
        },
        "outputId": "107bf420-4094-439b-da02-62313903b110"
      },
      "execution_count": 52,
      "outputs": [
        {
          "output_type": "stream",
          "name": "stdout",
          "text": [
            "nice day!\n"
          ]
        }
      ]
    },
    {
      "cell_type": "markdown",
      "source": [
        "[* start : end : step]\n",
        "\n",
        "a[::2] 형식. step 만큼 이동하면서 해당하는 것을 가져 오는데, 앞의 꼴은 인덱스 값 0 부터 2만큼 이동한 후 값을 가져오고,\n",
        "a[1::3] 이라면 인덱스 값 1부터 부터 3만큼 이동한 후 해당 인덱스 값을 가져온다."
      ],
      "metadata": {
        "id": "3lEh9UMRWe1t"
      }
    },
    {
      "cell_type": "code",
      "source": [
        "a = 'abcabcabcabc'\n",
        "print(a[::4])"
      ],
      "metadata": {
        "colab": {
          "base_uri": "https://localhost:8080/"
        },
        "id": "i43zHveRWqSM",
        "outputId": "4af4409d-dbe4-48f6-f197-da95fd4e6b82"
      },
      "execution_count": 99,
      "outputs": [
        {
          "output_type": "stream",
          "name": "stdout",
          "text": [
            "abc\n"
          ]
        }
      ]
    },
    {
      "cell_type": "markdown",
      "source": [
        "### (5) 문자열 연산\n",
        "\n",
        "문자열도 수치자료형처럼 몇가지 연산이 가능합니다. 더하기 `+`와 곱셈 `*`을 사용할 수 있습니다.\n"
      ],
      "metadata": {
        "id": "I8LnkqP8KsaZ"
      }
    },
    {
      "cell_type": "markdown",
      "source": [
        "\n",
        "#### **더하기**\n",
        "\n",
        "* `a+b` : 문자열 `a`와 문자열 `b`를 하나의 문자열로 변환합니다.\n",
        "\n",
        "```\n",
        "a = 'nice'\n",
        "b = 'day!'\n",
        "print(a+b)\n",
        "```\n"
      ],
      "metadata": {
        "id": "8aUbNRGiKdE9"
      }
    },
    {
      "cell_type": "code",
      "source": [
        "a = 'nice '\n",
        "b = 'day!'\n",
        "print(a+b)"
      ],
      "metadata": {
        "id": "--dLtQdXKSb2",
        "colab": {
          "base_uri": "https://localhost:8080/"
        },
        "outputId": "f85949aa-f120-448f-ca1a-6a6d5c79b922"
      },
      "execution_count": 59,
      "outputs": [
        {
          "output_type": "stream",
          "name": "stdout",
          "text": [
            "nice day!\n"
          ]
        }
      ]
    },
    {
      "cell_type": "markdown",
      "source": [
        "#### **곱하기**\n",
        "\n",
        "* `a*b` 문자열 `a`를 정수 `b`번 반복합니다. \n",
        "\n",
        "```\n",
        "a = 'nice'\n",
        "b = 'day!'\n",
        "print(a*3+b)\n",
        "```"
      ],
      "metadata": {
        "id": "kPmXu9HrKkak"
      }
    },
    {
      "cell_type": "code",
      "source": [
        "print(a * 3 + b)"
      ],
      "metadata": {
        "id": "j029NDxLKjNQ",
        "colab": {
          "base_uri": "https://localhost:8080/"
        },
        "outputId": "9cc4e1e1-80d1-4192-bcbe-8f9c05382cef"
      },
      "execution_count": 60,
      "outputs": [
        {
          "output_type": "stream",
          "name": "stdout",
          "text": [
            "nice nice nice day!\n"
          ]
        }
      ]
    },
    {
      "cell_type": "markdown",
      "source": [
        "### (6) 문자열 메서드\n",
        "\n",
        "\n",
        "아래 표와 같이 문자열 메서드는 아주 다양합니다. 여기서는 자주 쓰이는 몇가지 함수만 간단히 배워보도록 합니다. 만약 코드를 작성하면서 더 다양한 문자열 메서드가 필요할 경우엔 표를 참고하고 해당 함수를 검색해보고 사용방법을 익혀가는 것도 좋습니다.\n",
        "\n",
        "*소개되는 것은 중요하니 외워둘 것*\n",
        "\n",
        "|종류|함수|\n",
        "|--|--|\n",
        "|string calculation| `len()`, `min()`, `max()`, `count()`|\n",
        "|encoding/decoding| `encode()`, `decode()`|\n",
        "|string search|`startswith()`, `endswith()`, `find()`, `rfind()`, `index()`, `rindex()`|\n",
        "|number/character|`isalnum()`, `isalpha()`, `isdigit()`, `isnumeric()`, `isdecimal()`|\n",
        "|lower/upper| `islower()`, `isupper()`, `lower()`, `upper()`, `swapcase()`, `istitle()`, `title()`, `capitalize()`|\n",
        "|space/strip| `isstrip()`, `rstrip()`, `strip()`, `isspace()`, `center()`|\n",
        "|split/ join / fill | `split()`, `splitlines()`, `replace()`, `join()`, `zfill()`, `ljust()`, `rjust()`|\n"
      ],
      "metadata": {
        "id": "TqG0SPsMKybG"
      }
    },
    {
      "cell_type": "markdown",
      "source": [
        "#### **String calculation**\n",
        "\n",
        "* `len(x)` : 문자열 `x`의 **길이**를 반환합니다.\n",
        "\n",
        "```\n",
        "x  = 'abcde'\n",
        "print(len(x))\n",
        "```\n"
      ],
      "metadata": {
        "id": "ubTi__L8K6dR"
      }
    },
    {
      "cell_type": "code",
      "source": [
        "x = 'abcde'\n",
        "print(len(x))"
      ],
      "metadata": {
        "id": "33I4_rM3Ktv1",
        "colab": {
          "base_uri": "https://localhost:8080/"
        },
        "outputId": "4b4c1659-d22b-443d-9548-1d232a5711f6"
      },
      "execution_count": 61,
      "outputs": [
        {
          "output_type": "stream",
          "name": "stdout",
          "text": [
            "5\n"
          ]
        }
      ]
    },
    {
      "cell_type": "markdown",
      "source": [
        "* `max(x)` : 문자열 `x`의 **최대값**을 반환합니다.\n",
        "\n",
        "\n",
        "문자열의 정렬 순서는 **기호-숫자-대문자-소문자** 입니다. 먼저 정렬 되는 문자가 최소값으로, 나중에 정렬되는 값이 최대값이 됩니다.\n",
        "\n",
        "\n",
        "```\n",
        "x  = 'abcde'\n",
        "print(max(x))\n",
        "```"
      ],
      "metadata": {
        "id": "0xOIdn0SK-vM"
      }
    },
    {
      "cell_type": "code",
      "source": [
        "x  = 'abcde'\n",
        "print(max(x)) "
      ],
      "metadata": {
        "id": "KbxFJGLbK9Rn",
        "colab": {
          "base_uri": "https://localhost:8080/"
        },
        "outputId": "20ed29d2-21b4-4186-f1ea-9a45b8d27c68"
      },
      "execution_count": 62,
      "outputs": [
        {
          "output_type": "stream",
          "name": "stdout",
          "text": [
            "e\n"
          ]
        }
      ]
    },
    {
      "cell_type": "markdown",
      "source": [
        "#### **String search**\n",
        "\n",
        "* `x.startswith(w)`:  문자열 `x`가 특정 문자 `w`로 **시작되는지** 여부를 확인합니다.\n",
        "\n",
        "```\n",
        "a = 'abcde'\n",
        "print(a.startswith('abc'))\n",
        "```\n"
      ],
      "metadata": {
        "id": "9-mHMeV2NQvv"
      }
    },
    {
      "cell_type": "code",
      "source": [
        "a = 'abcde'\n",
        "print(a.startswith('abc'))"
      ],
      "metadata": {
        "id": "2jJJRswKNSaZ",
        "colab": {
          "base_uri": "https://localhost:8080/"
        },
        "outputId": "337940cf-4c6a-4e0f-de45-7cdeec4bc879"
      },
      "execution_count": 63,
      "outputs": [
        {
          "output_type": "stream",
          "name": "stdout",
          "text": [
            "True\n"
          ]
        }
      ]
    },
    {
      "cell_type": "markdown",
      "source": [
        "* `x.endswith(w)`:  문자열 `x`가 특정 문자 `w`로 **끝나는지 **여부를 확인합니다.\n",
        "\n",
        "```\n",
        "a = 'abcde'\n",
        "print(a.endswith('abc'))\n",
        "```\n"
      ],
      "metadata": {
        "id": "BkimuFv2NSeV"
      }
    },
    {
      "cell_type": "code",
      "source": [
        "a = 'abcde'\n",
        "print(a.endswith('abc'))"
      ],
      "metadata": {
        "id": "o7cggDDmNM2l",
        "colab": {
          "base_uri": "https://localhost:8080/"
        },
        "outputId": "f24432fe-8681-4903-f966-af86e24aa404"
      },
      "execution_count": 64,
      "outputs": [
        {
          "output_type": "stream",
          "name": "stdout",
          "text": [
            "False\n"
          ]
        }
      ]
    },
    {
      "cell_type": "markdown",
      "source": [
        "#### **Lower/upper**\n",
        "\n",
        "* `x.lower()` : 문자열 `x`의 모든 알파벳을 **소문자**로 변환합니다.\n",
        "\n",
        "```\n",
        "a = 'ABCDE'\n",
        "print(a.lower())\n",
        "```"
      ],
      "metadata": {
        "id": "P9dFMBGmNc_Q"
      }
    },
    {
      "cell_type": "code",
      "source": [
        "a = 'ABCDE'\n",
        "print(a.lower())"
      ],
      "metadata": {
        "id": "v-hdqCgUNXDe",
        "colab": {
          "base_uri": "https://localhost:8080/"
        },
        "outputId": "c914ca34-5ba0-4778-fb62-99d7d85ac701"
      },
      "execution_count": 66,
      "outputs": [
        {
          "output_type": "stream",
          "name": "stdout",
          "text": [
            "abcde\n"
          ]
        }
      ]
    },
    {
      "cell_type": "markdown",
      "source": [
        "* `x.upper()` : 문자열 `x`의 모든 알파벳을 **대문자**로 변환합니다.\n",
        "\n",
        "```\n",
        "a = 'abcde'\n",
        "print(a.upper())\n",
        "```"
      ],
      "metadata": {
        "id": "WVWQ5PVSNhcQ"
      }
    },
    {
      "cell_type": "code",
      "source": [
        "a = 'abcde'\n",
        "print(a.upper())"
      ],
      "metadata": {
        "id": "bQPMKC2tNgbF",
        "colab": {
          "base_uri": "https://localhost:8080/"
        },
        "outputId": "c833d94a-34bf-4b56-c0ea-1f0a8e1a8198"
      },
      "execution_count": 67,
      "outputs": [
        {
          "output_type": "stream",
          "name": "stdout",
          "text": [
            "ABCDE\n"
          ]
        }
      ]
    },
    {
      "cell_type": "markdown",
      "source": [
        "* `x.capitalize()` : 문자열 `x`의 **첫글자**를 **대문자**로 변환합니다.\n",
        "\n",
        "```\n",
        "a = 'abcde'\n",
        "print(a.capitalize())\n",
        "```"
      ],
      "metadata": {
        "id": "FMYVrryXNkfm"
      }
    },
    {
      "cell_type": "code",
      "source": [
        "a = 'abcde'\n",
        "print(a.capitalize())"
      ],
      "metadata": {
        "id": "49oaOV42NjiH",
        "colab": {
          "base_uri": "https://localhost:8080/"
        },
        "outputId": "3f94a366-4473-4a80-eab3-ff82181ce54c"
      },
      "execution_count": 68,
      "outputs": [
        {
          "output_type": "stream",
          "name": "stdout",
          "text": [
            "Abcde\n"
          ]
        }
      ]
    },
    {
      "cell_type": "markdown",
      "source": [
        "#### **split/join/replace**\n",
        "\n"
      ],
      "metadata": {
        "id": "9XBv4jlpNoTe"
      }
    },
    {
      "cell_type": "markdown",
      "source": [
        "* `x.split(sep=w)` : 문자열 `x`를 문자열 `w` 를 기준으로 분할하여 리스트 형태로 반환합니다. `sep` 의 디폴트 값은 '` `' (공백) 입니다.\n",
        "\n",
        "이 때 `리스트` 라는 타입은 아직 배우지 않았습니다. 파이썬의 여러가지 자료형 중 하나이며 이에 대한 자세한 내용은 다음 시간에 배우도록 합니다. \n",
        "\n",
        "```\n",
        "a ='nice day!'\n",
        "print(a.split())\n",
        "```"
      ],
      "metadata": {
        "id": "8wuaAaywN5hP"
      }
    },
    {
      "cell_type": "code",
      "source": [
        "a ='nice day!'\n",
        "print(a.split(sep='e')) #이러면 e는 없어진다"
      ],
      "metadata": {
        "id": "POE--Jr0NnaF",
        "colab": {
          "base_uri": "https://localhost:8080/"
        },
        "outputId": "5707ab70-c84c-412f-841e-d8918ac0941b"
      },
      "execution_count": 73,
      "outputs": [
        {
          "output_type": "stream",
          "name": "stdout",
          "text": [
            "['nic', ' day!']\n"
          ]
        }
      ]
    },
    {
      "cell_type": "markdown",
      "source": [
        "* `w.join(l)` : 리스트 `l`의 값들을 문자열로 변환합니다. 변환 시 값 사이에 문자열 `w`를 끼어 넣습니다.\n",
        "\n",
        "```\n",
        "l = ['nice', 'day!']\n",
        "print(' '.join(a))\n",
        "```"
      ],
      "metadata": {
        "id": "v66Jjj_AN6tG"
      }
    },
    {
      "cell_type": "code",
      "source": [
        "l = ['nice', 'day!']\n",
        "print(' '.join(l))"
      ],
      "metadata": {
        "id": "qca8pvnfN-kN",
        "colab": {
          "base_uri": "https://localhost:8080/"
        },
        "outputId": "9c70a3e3-2498-462c-f40e-6699873b2d25"
      },
      "execution_count": 74,
      "outputs": [
        {
          "output_type": "stream",
          "name": "stdout",
          "text": [
            "nice day!\n"
          ]
        }
      ]
    },
    {
      "cell_type": "markdown",
      "source": [
        "* `a.replace(w1, w2)` :  문자열 `a` 에 포함된 문자열 `w1`을 새로운 문자열 `w2`로 변경합니다. \n",
        "\n",
        "```\n",
        "a = 'nice day!'\n",
        "print(a.replace('nice', 'good'))\n",
        "```"
      ],
      "metadata": {
        "id": "qEtziwNZN9_u"
      }
    },
    {
      "cell_type": "code",
      "source": [
        "a = 'nice day!'\n",
        "print(a.replace('nice', 'good'))"
      ],
      "metadata": {
        "id": "cc0zT0VJNr7H",
        "colab": {
          "base_uri": "https://localhost:8080/"
        },
        "outputId": "ea6cf8d0-8484-4697-e635-042a4afc3ae7"
      },
      "execution_count": 71,
      "outputs": [
        {
          "output_type": "stream",
          "name": "stdout",
          "text": [
            "good day!\n"
          ]
        }
      ]
    },
    {
      "cell_type": "markdown",
      "source": [
        "## 문제풀이\n",
        "---\n"
      ],
      "metadata": {
        "id": "8x1cuwCDOE6N"
      }
    },
    {
      "cell_type": "markdown",
      "source": [
        "**예제 01**\n",
        "\n",
        "아래 문장을 출력하는 코드를 작성하세요\n",
        "\n",
        "```\n",
        "/menu/ \"Americano\" : 1000\n",
        "```\n"
      ],
      "metadata": {
        "id": "ZRBYoVIVOFiZ"
      }
    },
    {
      "cell_type": "code",
      "source": [
        "print('/menu/ \"Americano\" : 1000')"
      ],
      "metadata": {
        "id": "MAVicogJOBj9",
        "colab": {
          "base_uri": "https://localhost:8080/"
        },
        "outputId": "bfd0c2d8-9901-42be-9419-5995ab5a4991"
      },
      "execution_count": 75,
      "outputs": [
        {
          "output_type": "stream",
          "name": "stdout",
          "text": [
            "/menu/ \"Americano\" : 1000\n"
          ]
        }
      ]
    },
    {
      "cell_type": "markdown",
      "source": [
        "**예제 02**\n",
        "\n",
        "아래 문장을 출력하는 코드를 **이스케이프 코드**를 사용하여 작성하세요\n",
        "\n",
        "```\n",
        "/menu/\n",
        "\"Americano\" : 1000\n",
        "\"Latte\" : 2000\n",
        "\"Ade\" : 2500\n",
        "```"
      ],
      "metadata": {
        "id": "XiTpBd3EOI29"
      }
    },
    {
      "cell_type": "code",
      "source": [
        "print('/menu/\\n \"Americano\" : 1000 \\n \"Latte\" : 2000 \\n \"Ade\" : 2500')"
      ],
      "metadata": {
        "id": "hQWq7giVOLDN",
        "colab": {
          "base_uri": "https://localhost:8080/"
        },
        "outputId": "e95e1161-a532-4098-cc96-c0b726bc8f8f"
      },
      "execution_count": 77,
      "outputs": [
        {
          "output_type": "stream",
          "name": "stdout",
          "text": [
            "/menu/\n",
            " \"Americano\" : 1000 \n",
            " \"Latte\" : 2000 \n",
            " \"Ade\" : 2500\n"
          ]
        }
      ]
    },
    {
      "cell_type": "markdown",
      "source": [
        "**예제 03**\n",
        "\n",
        "아래 문장을 출력하는 코드를 이스케이프 코드를 **사용하지 않고** 작성하세요\n",
        "\n",
        "```\n",
        "/menu/\n",
        "\"Americano\" : 1000\n",
        "\"Latte\" : 2000\n",
        "\"Ade\" : 2500\n",
        "```"
      ],
      "metadata": {
        "id": "TL9BXZKdOJ2R"
      }
    },
    {
      "cell_type": "code",
      "source": [
        "print('''\n",
        "/menu/ \n",
        "\"Americano\" : 1000  \n",
        "\"Latte\" : 2000  \n",
        "\"Ade\" : 2500\n",
        "''')"
      ],
      "metadata": {
        "id": "20X88hqdOLYF",
        "colab": {
          "base_uri": "https://localhost:8080/"
        },
        "outputId": "c84828cb-4873-4c08-d530-30f345f2942d"
      },
      "execution_count": 78,
      "outputs": [
        {
          "output_type": "stream",
          "name": "stdout",
          "text": [
            "\n",
            "/menu/ \n",
            "\"Americano\" : 1000  \n",
            "\"Latte\" : 2000  \n",
            "\"Ade\" : 2500\n",
            "\n"
          ]
        }
      ]
    },
    {
      "cell_type": "markdown",
      "source": [
        "**예제 04**\n",
        "\n",
        "변수 `num`과 `menu`가 아래와 같이 바인딩 되어 있습니다. **문자열 연산**을 이용해서 코드를 작성하세요\n",
        "\n",
        "```\n",
        ">> num = 3\n",
        ">> menu = americano\n",
        ">> # 코드작성\n",
        "3 americano please.\n",
        "```"
      ],
      "metadata": {
        "id": "6Lhqf_OwOMll"
      }
    },
    {
      "cell_type": "code",
      "source": [
        "num = '3 '\n",
        "menu = 'americano'\n",
        "order = num + menu\n",
        "print(order, 'please.')"
      ],
      "metadata": {
        "id": "sZpNXFJ9ONMf",
        "colab": {
          "base_uri": "https://localhost:8080/"
        },
        "outputId": "9a9990af-a4dc-48d6-aaad-5306477897fa"
      },
      "execution_count": 81,
      "outputs": [
        {
          "output_type": "stream",
          "name": "stdout",
          "text": [
            "3 americano please.\n"
          ]
        }
      ]
    },
    {
      "cell_type": "markdown",
      "source": [
        "**예제 05**\n",
        "\n",
        "변수 `num`과 `menu`가 아래와 같이 바인딩 되어 있습니다. **`%` 포맷팅**을 이용해서 코드를 작성하세요\n",
        "\n",
        "```\n",
        ">> num = 3\n",
        ">> menu = americano\n",
        ">> # 코드작성\n",
        "3 americano please.\n",
        "```"
      ],
      "metadata": {
        "id": "zh2HpYNEONgY"
      }
    },
    {
      "cell_type": "code",
      "source": [
        "print('%s %s please.'%(num, menu))"
      ],
      "metadata": {
        "id": "NA-xF7dROPo9",
        "colab": {
          "base_uri": "https://localhost:8080/"
        },
        "outputId": "077e0c9d-3507-41f4-ab8c-8691061912e0"
      },
      "execution_count": 82,
      "outputs": [
        {
          "output_type": "stream",
          "name": "stdout",
          "text": [
            "3  americano please.\n"
          ]
        }
      ]
    },
    {
      "cell_type": "markdown",
      "source": [
        "**예제 06**\n",
        "\n",
        "`예제 05` 문제를  **`.format()` 포맷팅** 을 이용해서 코드를 작성하세요\n"
      ],
      "metadata": {
        "id": "XQQ4qM7XORNP"
      }
    },
    {
      "cell_type": "code",
      "source": [
        "print('{} {} please.'.format(num, menu))"
      ],
      "metadata": {
        "id": "7swQ-a-COWWm",
        "colab": {
          "base_uri": "https://localhost:8080/"
        },
        "outputId": "a7a98f97-181a-4c61-ae9d-12a234c6b004"
      },
      "execution_count": 83,
      "outputs": [
        {
          "output_type": "stream",
          "name": "stdout",
          "text": [
            "3  americano please.\n"
          ]
        }
      ]
    },
    {
      "cell_type": "markdown",
      "source": [
        "**예제 07**\n",
        "\n",
        "`예제 05` 문제를  **`f-string` 문법** 을 이용해서 코드를 작성하세요\n"
      ],
      "metadata": {
        "id": "aH1WhRrtOYqP"
      }
    },
    {
      "cell_type": "code",
      "source": [
        "print(f'{num} {menu} please.')"
      ],
      "metadata": {
        "id": "Srb82g7TOYqQ",
        "colab": {
          "base_uri": "https://localhost:8080/"
        },
        "outputId": "2158b936-c4cf-48b5-8d0d-947877cf8edb"
      },
      "execution_count": 84,
      "outputs": [
        {
          "output_type": "stream",
          "name": "stdout",
          "text": [
            "3  americano please.\n"
          ]
        }
      ]
    },
    {
      "cell_type": "markdown",
      "source": [
        "**예제 08**\n",
        "\n",
        "다음 코드를 실행해보세요. 오류가 나는지 쓰고, 그 이유를 서술하세요.\n",
        "\n",
        "```\n",
        "color = 'red'\n",
        "w = '%i apples'%color\n",
        "print(w)\n",
        "```"
      ],
      "metadata": {
        "id": "QR5ZQDJDOiQ9"
      }
    },
    {
      "cell_type": "code",
      "source": [
        "print('%i 와 color는 자료형이 달라서. 문자형이므로 %s를 사용해야 함')"
      ],
      "metadata": {
        "id": "YbRl_5dhOizV",
        "colab": {
          "base_uri": "https://localhost:8080/"
        },
        "outputId": "49cf5815-8ede-4c5f-c442-d80c3113245c"
      },
      "execution_count": 89,
      "outputs": [
        {
          "output_type": "stream",
          "name": "stdout",
          "text": [
            "%i 와 color는 자료형이 달라서. 문자형이므로 %s를 사용해야 함\n"
          ]
        }
      ]
    },
    {
      "cell_type": "markdown",
      "source": [
        "**예제 09**\n",
        "\n",
        "다음 코드를 실행해보세요. 오류가 나는지 쓰고, 그 이유를 서술하세요.\n",
        "\n",
        "```\n",
        "num = 5\n",
        "w = '%f apples'%num\n",
        "print(w)\n",
        "```"
      ],
      "metadata": {
        "id": "VQO77CJPOv_y"
      }
    },
    {
      "cell_type": "code",
      "source": [
        "print('%f 와 num는 자료형이 달라서. 정수형이므로 %d를 사용해야 함')"
      ],
      "metadata": {
        "id": "feupkLYHOz9M",
        "colab": {
          "base_uri": "https://localhost:8080/"
        },
        "outputId": "6a8041b8-440b-4512-bf08-b41791d4df28"
      },
      "execution_count": 90,
      "outputs": [
        {
          "output_type": "stream",
          "name": "stdout",
          "text": [
            "%f 와 num는 자료형이 달라서. 정수형이므로 %d를 사용해야 함\n"
          ]
        }
      ]
    },
    {
      "cell_type": "markdown",
      "source": [
        "\n",
        "**예제 10**\n",
        "\n",
        "`a`가 바인딩한 문자열의 첫번째와 마지막 문자를 출력하세요\n",
        "```\n",
        "a = 'Birthday'\n",
        "```\n"
      ],
      "metadata": {
        "id": "2GYjJcAuRn_n"
      }
    },
    {
      "cell_type": "code",
      "source": [
        "a = 'Birthday'\n",
        "fir_num = a[:1]\n",
        "last_num = a[7:]\n",
        "print(fir_num , last_num)"
      ],
      "metadata": {
        "id": "Q5gjeqAsRocT",
        "colab": {
          "base_uri": "https://localhost:8080/"
        },
        "outputId": "90ac0d1e-bbe8-40cd-a87a-da76ead900ab"
      },
      "execution_count": 105,
      "outputs": [
        {
          "output_type": "stream",
          "name": "stdout",
          "text": [
            "B y\n"
          ]
        }
      ]
    },
    {
      "cell_type": "markdown",
      "source": [
        "**예제 11**\n",
        "\n",
        "`a`가 바인딩한 문자열의 뒤 3자리만 출력하세요\n",
        "\n",
        "```\n",
        "a = 'Birthday'\n",
        "```\n"
      ],
      "metadata": {
        "id": "iMrG4iPURpm6"
      }
    },
    {
      "cell_type": "code",
      "source": [
        "print(a[-3:])"
      ],
      "metadata": {
        "id": "00VaouHfRqG8",
        "colab": {
          "base_uri": "https://localhost:8080/"
        },
        "outputId": "60916966-e1bd-4119-d2d4-ecdd412bff45"
      },
      "execution_count": 107,
      "outputs": [
        {
          "output_type": "stream",
          "name": "stdout",
          "text": [
            "day\n"
          ]
        }
      ]
    },
    {
      "cell_type": "markdown",
      "source": [
        "**예제 12**\n",
        "\n",
        "`a`가 바인딩한 문자열에서 `2`만 출력하세요\n",
        "\n",
        "\n",
        "```\n",
        "a = '123123123'\n",
        "```"
      ],
      "metadata": {
        "id": "Bhh_pmZ4RrVE"
      }
    },
    {
      "cell_type": "code",
      "source": [
        "a = '123123123'\n",
        "print(a[1::3])"
      ],
      "metadata": {
        "id": "i_fbxMUiRry3",
        "colab": {
          "base_uri": "https://localhost:8080/"
        },
        "outputId": "fef0ed4d-c59a-4d66-d153-b6d826d785ec"
      },
      "execution_count": 109,
      "outputs": [
        {
          "output_type": "stream",
          "name": "stdout",
          "text": [
            "222\n"
          ]
        }
      ]
    },
    {
      "cell_type": "markdown",
      "source": [
        "**예제 13**\n",
        "\n",
        "문자열을 입력하면 거꾸로 출력하는 코드를 작성하세요\n",
        "\n",
        "```\n",
        ">> Enter sentence : hello\n",
        "he said, olleh\n",
        "```"
      ],
      "metadata": {
        "id": "qmqSfVlgRr6O"
      }
    },
    {
      "cell_type": "code",
      "source": [
        "sentence = input(\"Enter sentence : \")\n",
        "print('he said,', sentence[::-1])"
      ],
      "metadata": {
        "id": "ft49uqD3Rt69",
        "colab": {
          "base_uri": "https://localhost:8080/"
        },
        "outputId": "7b192141-41de-45b8-9cc8-a430845dd77c"
      },
      "execution_count": 111,
      "outputs": [
        {
          "output_type": "stream",
          "name": "stdout",
          "text": [
            "Enter sentence : hello\n",
            "he said, olleh\n"
          ]
        }
      ]
    },
    {
      "cell_type": "markdown",
      "source": [
        "**예제 14**\n",
        "\n",
        "다음과 같이  `input()` 함수를 이용해 변수를 적용하여 문장을 출력하는 코드를 작성하세요\n",
        "\n",
        "* 예시 1\n",
        "\n",
        "```\n",
        ">> how's the day? : nice\n",
        "It's nice day!\n",
        "```\n",
        "\n",
        "* 예시 2\n",
        "\n",
        "```\n",
        ">> how's the day? : sunny\n",
        "It's sunny day!\n",
        "```"
      ],
      "metadata": {
        "id": "zBsIZKl3O3XF"
      }
    },
    {
      "cell_type": "code",
      "source": [
        "today = input(\"how'the day ? : \")\n",
        "print(\"it's\", today , 'day!')"
      ],
      "metadata": {
        "id": "2gQPfgVpO4cU",
        "colab": {
          "base_uri": "https://localhost:8080/"
        },
        "outputId": "ee3057be-d0f7-4817-cb6f-d099a7da028d"
      },
      "execution_count": 113,
      "outputs": [
        {
          "output_type": "stream",
          "name": "stdout",
          "text": [
            "how'the day ? : nice\n",
            "it's nice day!\n"
          ]
        }
      ]
    },
    {
      "cell_type": "markdown",
      "source": [
        "**예제 15**\n",
        "\n",
        "문자열을 입력하면 끝에서 2개 문자만 출력하는 \n",
        "코드를 작성하세요\n",
        "\n",
        "* 예시 1\n",
        "\n",
        "```{.python}\n",
        ">> Enter sentence : hello\n",
        "last 2  : lo\n",
        "```\n",
        "\n",
        "* 예시 2 \n",
        "\n",
        "```\n",
        ">> Enter sentence : nice day!\n",
        "last 2 : y!\n",
        "```"
      ],
      "metadata": {
        "id": "MbDaWjEbRxgv"
      }
    },
    {
      "cell_type": "code",
      "source": [
        "sentence_2 = input(\"Enter sentence : \")\n",
        "print('last 2 :', sentence_2[-2:])"
      ],
      "metadata": {
        "colab": {
          "base_uri": "https://localhost:8080/"
        },
        "id": "tB23r6khaWG5",
        "outputId": "dcd150f3-5d45-4c33-eb37-bc644b075c87"
      },
      "execution_count": 115,
      "outputs": [
        {
          "output_type": "stream",
          "name": "stdout",
          "text": [
            "Enter sentence : nice day!\n",
            "last 2 : y!\n"
          ]
        }
      ]
    },
    {
      "cell_type": "markdown",
      "source": [
        "**예제 16**\n",
        "\n",
        "아래 코드 결과를 예상해보고 직접 실행해보세요.\n",
        "\n",
        "```\n",
        "a = ''\n",
        "a = a+'what'\n",
        "a = a+'?'\n",
        "print(a)\n",
        "```"
      ],
      "metadata": {
        "id": "WHv2vcFKR9FU"
      }
    },
    {
      "cell_type": "code",
      "source": [
        "print('a = what?')"
      ],
      "metadata": {
        "id": "M-fdJu1gRx9j",
        "colab": {
          "base_uri": "https://localhost:8080/"
        },
        "outputId": "1ab22a1c-491a-49da-b2b9-7628d70c0e29"
      },
      "execution_count": 117,
      "outputs": [
        {
          "output_type": "stream",
          "name": "stdout",
          "text": [
            "a = what?\n"
          ]
        }
      ]
    },
    {
      "cell_type": "markdown",
      "source": [
        "**예제 17**\n",
        "\n",
        "아래 바인딩된 값 `a`, `b`를 이용해 아래와 같이 출력해보세요(**문자열 연산**을 이용하세요)\n",
        "```\n",
        ">> a = 'me'\n",
        ">> b = 'you'\n",
        ">> # 코드작성\n",
        "meyouyouyouyouyou\n",
        "```\n"
      ],
      "metadata": {
        "id": "49-zJvQaSABn"
      }
    },
    {
      "cell_type": "code",
      "source": [
        "a = 'me'\n",
        "b = 'you'\n",
        "print(a + b * 4)"
      ],
      "metadata": {
        "id": "u6XeJo7jSA49",
        "colab": {
          "base_uri": "https://localhost:8080/"
        },
        "outputId": "ef979489-0c36-459e-c023-f19b3cbba3e1"
      },
      "execution_count": 118,
      "outputs": [
        {
          "output_type": "stream",
          "name": "stdout",
          "text": [
            "meyouyouyouyou\n"
          ]
        }
      ]
    },
    {
      "cell_type": "markdown",
      "source": [
        "\n",
        "**예제 18**\n",
        "\n",
        "아래 바인딩된 값 `a`, `b`를 이용해 아래와 같이 출력해보세요(**문자열 연산**을 이용하세요)\n",
        "```\n",
        ">> a = 'me'\n",
        ">> b = 'you'\n",
        ">> # 코드작성\n",
        "youmeyoumeyoumeyoumeyoumeyoumeyoumeyoume\n",
        "```"
      ],
      "metadata": {
        "id": "-VADZMxcSCgq"
      }
    },
    {
      "cell_type": "code",
      "source": [
        "new_a_b = 8 * (b + a)\n",
        "print(new_a_b)"
      ],
      "metadata": {
        "id": "mnrvtva0SDI0",
        "colab": {
          "base_uri": "https://localhost:8080/"
        },
        "outputId": "056b9c36-0d37-4b02-8b75-5764985b23c8"
      },
      "execution_count": 122,
      "outputs": [
        {
          "output_type": "stream",
          "name": "stdout",
          "text": [
            "youmeyoumeyoumeyoumeyoumeyoumeyoumeyoume\n"
          ]
        }
      ]
    },
    {
      "cell_type": "markdown",
      "source": [
        "**예제 19**\n",
        "\n",
        "코드번호는 숫자가 나열된 문자열의 **길이** 곱하기 **최대값**으로 만들어집니다.\n",
        "코드번호를 생성하는 코드를 작성하세요\n",
        "\n",
        "```\n",
        ">> 숫자를 입력하세요 : 123456\n",
        "코드번호는 36 입니다.\n",
        "```"
      ],
      "metadata": {
        "id": "RAxXJ4S4SErN"
      }
    },
    {
      "cell_type": "code",
      "source": [
        "num = input(\"숫자를 입력하세요 : \")\n",
        "len_num = len(num)\n",
        "max_num = max(num)\n",
        "new_code = int(len_num) * int(max_num)\n",
        "print('코드 번호는', new_code, '입니다')"
      ],
      "metadata": {
        "id": "59mTGYRqSFd8",
        "colab": {
          "base_uri": "https://localhost:8080/"
        },
        "outputId": "1754bd00-a751-4118-a3e1-87cc93be8701"
      },
      "execution_count": 127,
      "outputs": [
        {
          "output_type": "stream",
          "name": "stdout",
          "text": [
            "숫자를 입력하세요 : 123456\n",
            "코드 번호는 36 입니다\n"
          ]
        }
      ]
    },
    {
      "cell_type": "markdown",
      "source": [
        "**예제 20**\n",
        "\n",
        "파일들의 이름이 아래와 같이 바인딩 되어 있습니다. 확장자가 파이썬 `.py`로 끝나는 파일인지 확인하는 코드를 작성하세요\n",
        "\n",
        "```\n",
        "a = 'test.py'\n",
        "b = 'train.py'\n",
        "c = 'img.jpg'\n",
        "```\n"
      ],
      "metadata": {
        "id": "jroYBZMjSGxF"
      }
    },
    {
      "cell_type": "code",
      "source": [
        "a = 'test.py'\n",
        "b = 'train.py'\n",
        "c = 'img.jpg'\n",
        "print(a.endswith('.py'), b.endswith('.py'), c.endswith('.py'))"
      ],
      "metadata": {
        "id": "XMWt5kqnSHot",
        "colab": {
          "base_uri": "https://localhost:8080/"
        },
        "outputId": "9681b23e-43d8-4b67-a97a-fa901cd0c7dc"
      },
      "execution_count": 131,
      "outputs": [
        {
          "output_type": "stream",
          "name": "stdout",
          "text": [
            "True True False\n"
          ]
        }
      ]
    },
    {
      "cell_type": "markdown",
      "source": [
        "**예제 21**\n",
        "\n",
        "아래 문자열을 **대문자**로 변경하세요\n",
        "\n",
        "```\n",
        "a = 'my_little_cat'\n",
        "```"
      ],
      "metadata": {
        "id": "iqBg4JWWSI7Z"
      }
    },
    {
      "cell_type": "code",
      "source": [
        "a = 'my_little_cat'\n",
        "print(a.upper())"
      ],
      "metadata": {
        "id": "g09gZVsSSJlE",
        "colab": {
          "base_uri": "https://localhost:8080/"
        },
        "outputId": "8c6a0517-045d-4f5b-c732-e3deadc71270"
      },
      "execution_count": 132,
      "outputs": [
        {
          "output_type": "stream",
          "name": "stdout",
          "text": [
            "MY_LITTLE_CAT\n"
          ]
        }
      ]
    },
    {
      "cell_type": "markdown",
      "source": [
        "**예제 22**\n",
        "\n",
        "아래 문자열의 **첫글자만 대문자**로 변경하세요\n",
        "\n",
        "\n",
        "```\n",
        "a = 'my_little_cat'\n",
        "\n",
        "```"
      ],
      "metadata": {
        "id": "PZ880dpkS882"
      }
    },
    {
      "cell_type": "code",
      "source": [
        "print(a.capitalize())"
      ],
      "metadata": {
        "id": "V5IPhBgdS9p1",
        "colab": {
          "base_uri": "https://localhost:8080/"
        },
        "outputId": "8d83c667-2890-43db-b55f-559f047f5abf"
      },
      "execution_count": 133,
      "outputs": [
        {
          "output_type": "stream",
          "name": "stdout",
          "text": [
            "My_little_cat\n"
          ]
        }
      ]
    },
    {
      "cell_type": "markdown",
      "source": [
        "**예제 23**\n",
        "\n",
        "금액이 아래와 같이 바인딩되어 있습니다. 쉼표`,`를 **제거 후** `int` 값으로 **변환**하세요\n",
        "\n",
        "```\n",
        "a = '542,322,000'\n",
        "```"
      ],
      "metadata": {
        "id": "rW1cjC4KS-ph"
      }
    },
    {
      "cell_type": "code",
      "source": [
        "a = '542,322,000'\n",
        "del_1 = (a.split(sep = ','))\n",
        "del_2 = ''.join(del_1)\n",
        "del_fin = int(del_2)\n",
        "print(type(del_fin))"
      ],
      "metadata": {
        "id": "9xGbH5aoS_M1",
        "colab": {
          "base_uri": "https://localhost:8080/"
        },
        "outputId": "c4d78262-4b7f-42e2-fcc4-68a4fdd7d120"
      },
      "execution_count": 140,
      "outputs": [
        {
          "output_type": "stream",
          "name": "stdout",
          "text": [
            "<class 'int'>\n"
          ]
        }
      ]
    },
    {
      "cell_type": "markdown",
      "source": [
        "**예제 24**\n",
        "\n",
        "`a`가 바인딩한 문자열에서 언더바 `_` 기준으로 단어를 나누어 **리스트에 저장**하세요.\n",
        "\n",
        "```\n",
        "a = 'today_is_my_birthday'\n",
        "```\n"
      ],
      "metadata": {
        "id": "sj2UCAFlTBBR"
      }
    },
    {
      "cell_type": "code",
      "source": [
        "a = 'today_is_my_birthday'\n",
        "print(a.split('_'))"
      ],
      "metadata": {
        "id": "PYVbWMYKTBh1",
        "colab": {
          "base_uri": "https://localhost:8080/"
        },
        "outputId": "2b9223be-d8d9-4d69-d3f1-c2d6f7438a0f"
      },
      "execution_count": 142,
      "outputs": [
        {
          "output_type": "stream",
          "name": "stdout",
          "text": [
            "['today', 'is', 'my', 'birthday']\n"
          ]
        }
      ]
    },
    {
      "cell_type": "markdown",
      "source": [
        "**예제 25**\n",
        "\n",
        "휴대폰번호가 문자열로 저장이 되어있습니다. 이를 **번호 형식으로 변환**하는 코드를 작성하세요\n",
        "\n",
        "\n",
        "|번호|번호 형식 변환|\n",
        "|--|--|\n",
        "|'010,1234,5678'|'010-1234-5678'|\n",
        "|'010,3333,3333'|'010-3333-3333'|\n"
      ],
      "metadata": {
        "id": "4dKNxXGsTDDu"
      }
    },
    {
      "cell_type": "code",
      "source": [
        "phone_num = '010,1234,5678'\n",
        "phone_num2 = '010,3333,3333'\n",
        "\n",
        "print(phone_num.replace(',' , '-') , phone_num2.replace(',' , '-'))"
      ],
      "metadata": {
        "id": "-FESRkNhTD0E",
        "colab": {
          "base_uri": "https://localhost:8080/"
        },
        "outputId": "2cf08dcd-1eac-480f-8bcd-0c71992ded7b"
      },
      "execution_count": 143,
      "outputs": [
        {
          "output_type": "stream",
          "name": "stdout",
          "text": [
            "010-1234-5678 010-3333-3333\n"
          ]
        }
      ]
    },
    {
      "cell_type": "code",
      "source": [
        ""
      ],
      "metadata": {
        "id": "1S5VVggbepJY"
      },
      "execution_count": null,
      "outputs": []
    }
  ]
}