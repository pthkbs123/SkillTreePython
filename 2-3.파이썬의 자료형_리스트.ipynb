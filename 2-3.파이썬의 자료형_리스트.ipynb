{
  "nbformat": 4,
  "nbformat_minor": 0,
  "metadata": {
    "colab": {
      "name": "2-3.파이썬의 자료형_리스트.ipynb",
      "provenance": [],
      "collapsed_sections": [],
      "include_colab_link": true
    },
    "kernelspec": {
      "name": "python3",
      "display_name": "Python 3"
    },
    "language_info": {
      "name": "python"
    }
  },
  "cells": [
    {
      "cell_type": "markdown",
      "metadata": {
        "id": "view-in-github",
        "colab_type": "text"
      },
      "source": [
        "<a href=\"https://colab.research.google.com/github/pthkbs123/SkillTreePython/blob/main/2-3.%ED%8C%8C%EC%9D%B4%EC%8D%AC%EC%9D%98%20%EC%9E%90%EB%A3%8C%ED%98%95_%EB%A6%AC%EC%8A%A4%ED%8A%B8.ipynb\" target=\"_parent\"><img src=\"https://colab.research.google.com/assets/colab-badge.svg\" alt=\"Open In Colab\"/></a>"
      ]
    },
    {
      "cell_type": "markdown",
      "source": [
        "# 2-3.파이썬의 자료형:리스트\n",
        "---\n",
        "* 날짜: 2022-03-30\n",
        "* 이름: 박태현\n"
      ],
      "metadata": {
        "id": "kB5IciXEm6o4"
      }
    },
    {
      "cell_type": "markdown",
      "source": [
        "## 개념정리\n",
        "---\n",
        "\n",
        "리스트 자료형은 파이썬의 다양한 군집자료형 중의 하나입니다."
      ],
      "metadata": {
        "id": "4iN8NFzHRJ2D"
      }
    },
    {
      "cell_type": "markdown",
      "source": [
        "### (1) 생성\n"
      ],
      "metadata": {
        "id": "MAM8MDnfw68b"
      }
    },
    {
      "cell_type": "markdown",
      "source": [
        "* `[ ]` 기호를 통해 빈 리스트를 생성합니다.\n",
        "\n",
        "```\n",
        "a = []\n",
        "print(a, type(a) )\n",
        "```\n",
        "\n",
        "\n",
        "\n",
        "\n",
        "\n"
      ],
      "metadata": {
        "id": "UKlkHH0IRL5h"
      }
    },
    {
      "cell_type": "code",
      "source": [
        "a = []\n",
        "print(a, type(a) )"
      ],
      "metadata": {
        "id": "6UKRU-Uvw2YB",
        "colab": {
          "base_uri": "https://localhost:8080/"
        },
        "outputId": "0a446d90-8c23-4148-e765-7c493b8cca2f"
      },
      "execution_count": 1,
      "outputs": [
        {
          "output_type": "stream",
          "name": "stdout",
          "text": [
            "[] <class 'list'>\n"
          ]
        }
      ]
    },
    {
      "cell_type": "markdown",
      "source": [
        "#### **리스트의 요소**\n",
        "\n",
        "리스트의 요소는 문자열 뿐만 아니라 또 다른 리스트, 수치 자료형 등 다양한 요소들을 포함할 수 있습니다. 리스트 안의 요소들은 통일 하지 않아도 유효합니다.\n",
        "\n",
        "```\n",
        "a = [1, \"a\", True, [1,2,3]]\n",
        "print(a, type(a))\n",
        "```"
      ],
      "metadata": {
        "id": "-YRAYwSTw84i"
      }
    },
    {
      "cell_type": "code",
      "source": [
        "a = [1, \"a, b\", True, [1,2,3]] #리스트 안의 리스트도 가능\n",
        "print(a, type(a))"
      ],
      "metadata": {
        "id": "bjRDe1Jjw_Lp",
        "colab": {
          "base_uri": "https://localhost:8080/"
        },
        "outputId": "1d6c8d1b-6516-4935-9baa-6975403f3ddc"
      },
      "execution_count": 6,
      "outputs": [
        {
          "output_type": "stream",
          "name": "stdout",
          "text": [
            "[1, 'a, b', True, [1, 2, 3]] <class 'list'>\n"
          ]
        }
      ]
    },
    {
      "cell_type": "markdown",
      "source": [
        "### (2) 수정과 삭제\n",
        "\n",
        "리스트의 값을 수정하거나 삭제할 수 있습니다.\n",
        "\n"
      ],
      "metadata": {
        "id": "MSdELflJxC6Z"
      }
    },
    {
      "cell_type": "markdown",
      "source": [
        "#### **수정**\n",
        "\n",
        "```\n",
        "a = [1,2,3,4]\n",
        "a[0] = \"a\"\n",
        "print(a)\n",
        "```"
      ],
      "metadata": {
        "id": "yCHmayZ4xIhY"
      }
    },
    {
      "cell_type": "code",
      "source": [
        "a = [1,2,3,4]\n",
        "a[2] = \"c\"\n",
        "print(a)"
      ],
      "metadata": {
        "id": "x-m2MhD0xAoi",
        "colab": {
          "base_uri": "https://localhost:8080/"
        },
        "outputId": "93b54e7c-8cdb-48e7-adcd-7ed1d3445667"
      },
      "execution_count": 10,
      "outputs": [
        {
          "output_type": "stream",
          "name": "stdout",
          "text": [
            "[1, 2, 'c', 4]\n"
          ]
        }
      ]
    },
    {
      "cell_type": "markdown",
      "source": [
        "#### **삭제**\n",
        "\n",
        "\n",
        "```\n",
        "a = [1,2,3,4]\n",
        "del a[0]\n",
        "print(a)\n",
        "```\n"
      ],
      "metadata": {
        "id": "1RHkw6tVxKNi"
      }
    },
    {
      "cell_type": "code",
      "source": [
        "a = [1,2,3,4]\n",
        "del a[0]\n",
        "print(a)"
      ],
      "metadata": {
        "id": "lWVjQHe7xMxu",
        "colab": {
          "base_uri": "https://localhost:8080/"
        },
        "outputId": "d53040cf-fee4-4fc3-a820-7546a42c4848"
      },
      "execution_count": 12,
      "outputs": [
        {
          "output_type": "stream",
          "name": "stdout",
          "text": [
            "[2, 3, 4]\n"
          ]
        }
      ]
    },
    {
      "cell_type": "markdown",
      "source": [
        "\n",
        "### (3) 인덱싱과 슬라이싱\n",
        "\n",
        "앞서 문자열 자료형에서 이미 한 것과 마찬가지로 인덱싱과 슬라이싱 기능을 사용할 수 있습니다. 인덱싱과 슬라이싱에 사용되는 방식은 문자열 자료형과 동일합니다.\n"
      ],
      "metadata": {
        "id": "FTjQm5R9xQES"
      }
    },
    {
      "cell_type": "markdown",
      "source": [
        "\n",
        "#### **인덱싱**\n",
        "\n",
        "```\n",
        "a = [1,2,3,4,5]\n",
        "print(a[0]) # 인덱싱\n",
        "```\n"
      ],
      "metadata": {
        "id": "NCTA1LtHxPb2"
      }
    },
    {
      "cell_type": "code",
      "source": [
        "print(a[0])"
      ],
      "metadata": {
        "id": "oJbf8dNCxUtz",
        "colab": {
          "base_uri": "https://localhost:8080/"
        },
        "outputId": "b1f32de2-34da-4cc2-814b-d0ae4bb65116"
      },
      "execution_count": 17,
      "outputs": [
        {
          "output_type": "stream",
          "name": "stdout",
          "text": [
            "1\n"
          ]
        }
      ]
    },
    {
      "cell_type": "markdown",
      "source": [
        "\n",
        "#### **슬라이싱**\n",
        "\n",
        "```\n",
        "print(a[:2]) # 슬라이싱\n",
        "```\n"
      ],
      "metadata": {
        "id": "IZWvcVEuxT17"
      }
    },
    {
      "cell_type": "code",
      "source": [
        "print(a[:2])"
      ],
      "metadata": {
        "id": "hTN9WKApxYgW",
        "colab": {
          "base_uri": "https://localhost:8080/"
        },
        "outputId": "d7b4d278-7ad8-4df8-b9ae-2df382384975"
      },
      "execution_count": 14,
      "outputs": [
        {
          "output_type": "stream",
          "name": "stdout",
          "text": [
            "[1, 2]\n"
          ]
        }
      ]
    },
    {
      "cell_type": "markdown",
      "source": [
        "### (4) 리스트의 연산\n",
        "\n",
        "리스트의 연산은 `+`(더하기)와 `*`(곱하기) 만 사용할 수 있습니다. 이 때 **더하기는 리스트끼리의 덧셈**만 가능하며, **곱하기는 리스트와 정수값의 곱**만 가능함을 주의해야 합니다. 리스트끼리의 덧셈 결과는 두 리스트를 이어 붙인 리스트가 되고 리스트와 정수의 곱은 리스트의 정수크기만큼 이어붙인 리스트가 됩니다.\n"
      ],
      "metadata": {
        "id": "oAGI3wesxbPQ"
      }
    },
    {
      "cell_type": "markdown",
      "source": [
        "#### **더하기**\n",
        "\n",
        "```\n",
        "a = [1,2,3,4,5]\n",
        "b = [6,7,8,9,10]\n",
        "c = 2\n",
        "print(a+b) \n",
        "```"
      ],
      "metadata": {
        "id": "6I4qd2rvxc2a"
      }
    },
    {
      "cell_type": "code",
      "source": [
        "a = [1,2,3,4,5]\n",
        "b = [6,7,8,9,10]\n",
        "print(a+b) "
      ],
      "metadata": {
        "id": "Hne6R5ljxZCi",
        "colab": {
          "base_uri": "https://localhost:8080/"
        },
        "outputId": "ef81e377-c197-41bf-8d2c-78954ec3a1b6"
      },
      "execution_count": 15,
      "outputs": [
        {
          "output_type": "stream",
          "name": "stdout",
          "text": [
            "[1, 2, 3, 4, 5, 6, 7, 8, 9, 10]\n"
          ]
        }
      ]
    },
    {
      "cell_type": "markdown",
      "source": [
        "#### **곱하기**\n",
        "\n",
        "```\n",
        "a = [1,2,3,4,5]\n",
        "b = [6,7,8,9,10]\n",
        "c = 2\n",
        "print(a*c)\n",
        "```"
      ],
      "metadata": {
        "id": "f9alJe6Bxe-Y"
      }
    },
    {
      "cell_type": "code",
      "source": [
        "c = 2\n",
        "print(a*c)"
      ],
      "metadata": {
        "id": "317mmmOwxgPQ",
        "colab": {
          "base_uri": "https://localhost:8080/"
        },
        "outputId": "f4862aa9-2a7b-4f43-94ae-7a6fd78d99c2"
      },
      "execution_count": 18,
      "outputs": [
        {
          "output_type": "stream",
          "name": "stdout",
          "text": [
            "[1, 2, 3, 4, 5, 1, 2, 3, 4, 5]\n"
          ]
        }
      ]
    },
    {
      "cell_type": "markdown",
      "source": [
        "### (5) 리스트 메소드\n",
        "\n",
        "지난번 문자열 메소드와 마찬가지로 리스트에도 다양한 내장함수 및 메소드가 존재합니다. \n",
        "\n",
        "메소드는 전부 알아두는 것이 좋다.\n",
        "\n",
        "|| 종류|\n",
        "|--|--|\n",
        "|내장함수| `len()`, `max()`, `min()`, `sum()`, `list()`|\n",
        "|메소드| `.append()`, `.extend()`, `.count()`, `.index()`, `.insert()`, `.pop()`, `.remove()`, `.reverse()`, `.sort()`\n"
      ],
      "metadata": {
        "id": "L8rS3TL5xki9"
      }
    },
    {
      "cell_type": "markdown",
      "source": [
        "####  **내장함수**\n",
        "\n",
        "* `len()`: 길이를 구합니다.\n",
        "* `max()`: 최대값을 구합니다.\n",
        "* `min()`: 최소값을 구합니다.\n",
        "* `sum()`: 모든값을 더합니다.\n",
        "\n",
        "```\n",
        "a = [1,2,3,4]\n",
        "print(len(a))\n",
        "print(max(a))\n",
        "print(min(a))\n",
        "print(sum(a))\n",
        "```\n"
      ],
      "metadata": {
        "id": "-ESG0psbxmvd"
      }
    },
    {
      "cell_type": "code",
      "source": [
        "a = [1,2,3,4]\n",
        "print(len(a))\n",
        "print(max(a))\n",
        "print(min(a))\n",
        "print(sum(a))\n",
        "print(list(a))"
      ],
      "metadata": {
        "id": "AcjAp6Ukxiyk",
        "colab": {
          "base_uri": "https://localhost:8080/"
        },
        "outputId": "dacb7367-5d73-40ef-ba28-3293852c1327"
      },
      "execution_count": 20,
      "outputs": [
        {
          "output_type": "stream",
          "name": "stdout",
          "text": [
            "4\n",
            "4\n",
            "1\n",
            "10\n",
            "[1, 2, 3, 4]\n"
          ]
        }
      ]
    },
    {
      "cell_type": "markdown",
      "source": [
        "#### **메소드 : 추가**\n",
        "\n",
        "append와 extend는 굉장히 중요\n",
        "\n",
        "* `append(obj)` : obj 추가 \n",
        "* `extend(seq)` : seq 이어붙이기\n",
        "* `insert(index, obj)` : index 위치에 obj 삽입\n",
        "\n",
        "```\n",
        "a = [1,2,3]\n",
        "b = [4]\n",
        "\n",
        "a.extend(b)\n",
        "print(a)\n",
        "a.append(5)\n",
        "print(a)\n",
        "a.insert(5,6)\n",
        "print(a)\n",
        "```"
      ],
      "metadata": {
        "id": "dwO3tPrNxo7h"
      }
    },
    {
      "cell_type": "code",
      "source": [
        "a = [1,2,3]\n",
        "b = [4]\n",
        "\n",
        "a.extend(b)\n",
        "print(a)\n",
        "a.append(5)\n",
        "print(a)\n",
        "a.append([7,8])\n",
        "print(a)\n",
        "a.insert(5,6) #insert(index, obj)라는 점 중요\n",
        "print(a)\n",
        "a.append([9])\n",
        "print(a)\n",
        "a.extend([10]) # 덧셈의 형태로 추가가 된다.\n",
        "print(a)\n",
        "\n",
        "a.insert(5,5.5)\n",
        "print(a)"
      ],
      "metadata": {
        "id": "XBNxGsFixsDD",
        "colab": {
          "base_uri": "https://localhost:8080/"
        },
        "outputId": "9a3598de-4236-4389-9636-874def3ce6aa"
      },
      "execution_count": 39,
      "outputs": [
        {
          "output_type": "stream",
          "name": "stdout",
          "text": [
            "[1, 2, 3, 4]\n",
            "[1, 2, 3, 4, 5]\n",
            "[1, 2, 3, 4, 5, [7, 8]]\n",
            "[1, 2, 3, 4, 5, 6, [7, 8]]\n",
            "[1, 2, 3, 4, 5, 6, [7, 8], [9]]\n",
            "[1, 2, 3, 4, 5, 6, [7, 8], [9], 10]\n",
            "[1, 2, 3, 4, 5, 5.5, 6, [7, 8], [9], 10]\n"
          ]
        }
      ]
    },
    {
      "cell_type": "markdown",
      "source": [
        "#### **메소드: 제거**\n",
        "\n",
        "* `remove(obj)` : obj 제거 (중복시 앞순서부터 제거)\n",
        "* `pop()` : 마지막 요소제거\n",
        "\n",
        "```\n",
        "a = [1,2,3,2,5]\n",
        "a.remove(1) \n",
        "print(a)\n",
        "a.remove(2)\n",
        "print(a)\n",
        "a.pop()\n",
        "print(a)\n",
        "```"
      ],
      "metadata": {
        "id": "wbYoRsLHx1JU"
      }
    },
    {
      "cell_type": "code",
      "source": [
        "a = [1,2,3,2,5]\n",
        "\n",
        "a.remove(1) \n",
        "print(a)\n",
        "a.remove(2)\n",
        "print(a)\n",
        "a.pop()\n",
        "print(a)"
      ],
      "metadata": {
        "id": "J51ImmkWxxNR",
        "colab": {
          "base_uri": "https://localhost:8080/"
        },
        "outputId": "30e92902-cdd3-40e2-f481-012066c4a880"
      },
      "execution_count": 40,
      "outputs": [
        {
          "output_type": "stream",
          "name": "stdout",
          "text": [
            "[2, 3, 2, 5]\n",
            "[3, 2, 5]\n",
            "[3, 2]\n"
          ]
        }
      ]
    },
    {
      "cell_type": "markdown",
      "source": [
        "#### **메소드: 기타**\n",
        "\n",
        "* `count(obj)` : obj 개수 카운트\n",
        "* `index(obj)` : obj 위치 인덱싱 (중복시 앞순서부터)\n",
        "* `reverse()`: 거꾸로\n",
        "* `sort()`: 정렬\n",
        "\n",
        "```\n",
        "a = [2,2,1,3,3,3]\n",
        "print(a.count(3))\n",
        "print(a.index(2))\n",
        "\n",
        "a.reverse()\n",
        "print(a)\n",
        "a.sort()\n",
        "print(a)\n",
        "```"
      ],
      "metadata": {
        "id": "6pUP1VVvx5Ai"
      }
    },
    {
      "cell_type": "code",
      "source": [
        "a = [2,2,1,3,3,3]\n",
        "print(a.count(3))\n",
        "print(a.index(1))\n",
        "\n",
        "a.reverse()\n",
        "print(a)\n",
        "a.sort()\n",
        "print(a)"
      ],
      "metadata": {
        "id": "NTtbXHSwx3YM",
        "colab": {
          "base_uri": "https://localhost:8080/"
        },
        "outputId": "b4bcaf33-622d-4350-dcab-57999a579271"
      },
      "execution_count": 42,
      "outputs": [
        {
          "output_type": "stream",
          "name": "stdout",
          "text": [
            "3\n",
            "2\n",
            "[3, 3, 3, 1, 2, 2]\n",
            "[1, 2, 2, 3, 3, 3]\n"
          ]
        }
      ]
    },
    {
      "cell_type": "markdown",
      "source": [
        "### (6) 다중리스트\n",
        "\n",
        "리스트 안에 리스트가 존재할 수 있습니다. 복잡한 리스트 이더라도 특정 요소에 접근이 가능해야 합니다. \n",
        "\n",
        "앞서 배운대로 `a[0]`과 `a[1]`에 해당하는 요소는 무엇일까요? 생각해보고 코드를 작성해 확인해 봅시다.\n",
        "\n",
        "```\n",
        "a = [[1,2,3], [4,5,6]]\n",
        "a[0], a[1]\n",
        "```\n"
      ],
      "metadata": {
        "id": "J0IbBer2x9uS"
      }
    },
    {
      "cell_type": "code",
      "source": [
        "a = [[1,2,3], [4,5,6]]\n",
        "print(a[0], a[1])"
      ],
      "metadata": {
        "id": "0lajZYAWyAqd",
        "colab": {
          "base_uri": "https://localhost:8080/"
        },
        "outputId": "6014b5e7-4cd8-4b71-a20c-e49f8157e5a3"
      },
      "execution_count": 46,
      "outputs": [
        {
          "output_type": "stream",
          "name": "stdout",
          "text": [
            "[1, 2, 3] [4, 5, 6]\n"
          ]
        }
      ]
    },
    {
      "cell_type": "markdown",
      "source": [
        "\n",
        "a[0]과 a[1] 자체가 하나의 리스트 입니다. 그렇다면 각 리스트에 다시 인덱싱을 하여 원하는 요소를 얻을 수 있겠네요. 3과 4를 아래와 같이 인덱싱 할 수 있습니다.\n",
        "\n",
        "```\n",
        "a = [[1,2,3], [4,5,6]]\n",
        "a[0][-1], a[1][0]\n",
        "```"
      ],
      "metadata": {
        "id": "pay-DD8Bx__x"
      }
    },
    {
      "cell_type": "code",
      "source": [
        "print(a[0][-1], a[1][0])"
      ],
      "metadata": {
        "id": "ZI01D1Yfx7_5",
        "colab": {
          "base_uri": "https://localhost:8080/"
        },
        "outputId": "d7184e5d-f838-4b74-a4bc-52d847b79039"
      },
      "execution_count": 45,
      "outputs": [
        {
          "output_type": "stream",
          "name": "stdout",
          "text": [
            "3 4\n"
          ]
        }
      ]
    },
    {
      "cell_type": "markdown",
      "source": [
        "## 문제풀이\n",
        "---\n",
        "\n",
        "**예제 01**\n",
        "\n",
        "과일메뉴가 다음과 같습니다. 리스트로 작성하세요\n",
        "\n",
        "|과일|\n",
        "|--|\n",
        "사과\n",
        "바나나\n",
        "감자\n",
        "메론\n",
        "복숭아\n",
        "딸기\n"
      ],
      "metadata": {
        "id": "10dgCNxtyEOB"
      }
    },
    {
      "cell_type": "code",
      "source": [
        "fruit = ['사과', '바나나', '감자', '메론', '복숭아', '딸기']\n",
        "print(fruit)"
      ],
      "metadata": {
        "id": "WelbZYpXyC1b",
        "colab": {
          "base_uri": "https://localhost:8080/"
        },
        "outputId": "00646997-e7a7-4f3b-ff44-f276f281d560"
      },
      "execution_count": 47,
      "outputs": [
        {
          "output_type": "stream",
          "name": "stdout",
          "text": [
            "['사과', '바나나', '감자', '메론', '복숭아', '딸기']\n"
          ]
        }
      ]
    },
    {
      "cell_type": "markdown",
      "source": [
        "**예제 02**\n",
        "\n",
        "위에서 만든 리스트에 \"포도\"를 추가하세요\n",
        "\n"
      ],
      "metadata": {
        "id": "DNXAH9h-yKOy"
      }
    },
    {
      "cell_type": "code",
      "source": [
        "fruit.append('포도')\n",
        "print(fruit)"
      ],
      "metadata": {
        "id": "R0TMuejgyKeB",
        "colab": {
          "base_uri": "https://localhost:8080/"
        },
        "outputId": "90e62435-e887-469b-cbaf-19f76af3c9fa"
      },
      "execution_count": 49,
      "outputs": [
        {
          "output_type": "stream",
          "name": "stdout",
          "text": [
            "['사과', '바나나', '감자', '메론', '복숭아', '딸기', '포도']\n"
          ]
        }
      ]
    },
    {
      "cell_type": "markdown",
      "source": [
        "**예제 03**\n",
        "\n",
        "\"감자\"가 잘못 들어가 있었습니다. \"감자\"를 삭제하세요\n"
      ],
      "metadata": {
        "id": "9LxnIJV_yNPZ"
      }
    },
    {
      "cell_type": "code",
      "source": [
        "fruit.remove('감자')\n",
        "print(fruit)"
      ],
      "metadata": {
        "id": "tcyCWxxHyNcR",
        "colab": {
          "base_uri": "https://localhost:8080/"
        },
        "outputId": "8ce31620-73d7-4647-9f17-3c944f98eeb3"
      },
      "execution_count": 50,
      "outputs": [
        {
          "output_type": "stream",
          "name": "stdout",
          "text": [
            "['사과', '바나나', '메론', '복숭아', '딸기', '포도']\n"
          ]
        }
      ]
    },
    {
      "cell_type": "markdown",
      "source": [
        "**예제 04**\n",
        "\n",
        "\"복숭아\"와 \"딸기\" 사이에 \"레몬\"을 추가하세요"
      ],
      "metadata": {
        "id": "NtqOdnqNyOVU"
      }
    },
    {
      "cell_type": "code",
      "source": [
        "fruit.insert(4, '레몬')\n",
        "print(fruit)"
      ],
      "metadata": {
        "id": "jUjMe-rCyOj5",
        "colab": {
          "base_uri": "https://localhost:8080/"
        },
        "outputId": "24600869-e604-444d-fd04-b3460564ff31"
      },
      "execution_count": 51,
      "outputs": [
        {
          "output_type": "stream",
          "name": "stdout",
          "text": [
            "['사과', '바나나', '메론', '복숭아', '레몬', '딸기', '포도']\n"
          ]
        }
      ]
    },
    {
      "cell_type": "markdown",
      "source": [
        "**예제 05**\n",
        "\n",
        "최종적으로 만든 리스트 순서는 아래와 같습니다. \n",
        "\n",
        "* 리스트 순서: 사과, 바나나, 메론, 복숭아, 레몬, 딸기, 포도\n",
        "\n",
        "사용자가 리스트 안의 과일을 입력하면 입력한 과일이 몇번째에 있는지 알려주는 코드를 작성하세요\n",
        "\n",
        "```\n",
        ">> 0\n",
        "0 번째 과일은 사과 입니다.\n",
        ">>3\n",
        "3 번째 과일은 복숭아 입니다.\n",
        "```"
      ],
      "metadata": {
        "id": "T1ALK6vnyP0V"
      }
    },
    {
      "cell_type": "code",
      "source": [
        "i = 0\n",
        "while(i < 2):\n",
        "  index = int(input())\n",
        "  print(index, '번째 과일은', fruit[index], '입니다.')\n",
        "  i += 1"
      ],
      "metadata": {
        "id": "_AYhewpsyQFt",
        "colab": {
          "base_uri": "https://localhost:8080/"
        },
        "outputId": "e1d8f4c6-ed0f-4216-a744-d790d8570708"
      },
      "execution_count": 59,
      "outputs": [
        {
          "output_type": "stream",
          "name": "stdout",
          "text": [
            "0\n",
            "0 번째 과일은 사과 입니다.\n",
            "3\n",
            "3 번째 과일은 복숭아 입니다.\n"
          ]
        }
      ]
    },
    {
      "cell_type": "markdown",
      "source": [
        "**예제 06**\n",
        "\n",
        "리스트가 아래와 같이 정의되어 있습니다. `num_list`를 정의하세요\n",
        "\n",
        "```\n",
        "num_list = [1,2,3,4,5,6,7,8,9,10]\n",
        "```\n"
      ],
      "metadata": {
        "id": "YUaU-1pfyRUC"
      }
    },
    {
      "cell_type": "code",
      "source": [
        "num_list = [1,2,3,4,5,6,7,8,9,10]\n"
      ],
      "metadata": {
        "id": "Xqcfar_hySO1"
      },
      "execution_count": 60,
      "outputs": []
    },
    {
      "cell_type": "markdown",
      "source": [
        "**예제 07**\n",
        "\n",
        "`num_list` 의 짝수 값만 슬라이싱 해서 `num_list1` 로 바인딩 하고 출력하세요."
      ],
      "metadata": {
        "id": "bH5e_QRmySVB"
      }
    },
    {
      "cell_type": "code",
      "source": [
        "num_list1 = num_list[1::2]\n",
        "print(num_list1)"
      ],
      "metadata": {
        "id": "TEPXLwiryS7Z",
        "colab": {
          "base_uri": "https://localhost:8080/"
        },
        "outputId": "812f2d56-5b78-4104-db2f-f696b2f7f4fb"
      },
      "execution_count": 66,
      "outputs": [
        {
          "output_type": "stream",
          "name": "stdout",
          "text": [
            "[2, 4, 6, 8, 10]\n"
          ]
        }
      ]
    },
    {
      "cell_type": "markdown",
      "source": [
        "**예제 08**\n",
        "\n",
        "`num_list` 의 홀수 값만 슬라이싱 해서 `num_list2` 로 바인딩 하고 출력하세요."
      ],
      "metadata": {
        "id": "Jqvl4MAcyTCC"
      }
    },
    {
      "cell_type": "code",
      "source": [
        "num_list2 = num_list[::2]\n",
        "print(num_list2)"
      ],
      "metadata": {
        "id": "KdHo2kBfyUD1",
        "colab": {
          "base_uri": "https://localhost:8080/"
        },
        "outputId": "a427e98a-4f15-4641-c8bf-12c4dc421a42"
      },
      "execution_count": 67,
      "outputs": [
        {
          "output_type": "stream",
          "name": "stdout",
          "text": [
            "[1, 3, 5, 7, 9]\n"
          ]
        }
      ]
    },
    {
      "cell_type": "markdown",
      "source": [
        "**예제 09**\n",
        "\n",
        "`num_list` 의 3의 배수만 슬라이싱 해서 `num_list3` 으로 바인딩 하고 출력하세요.\n"
      ],
      "metadata": {
        "id": "XJxjxXw4yUIn"
      }
    },
    {
      "cell_type": "code",
      "source": [
        "num_list3 = num_list[2::3]\n",
        "print(num_list3)"
      ],
      "metadata": {
        "id": "5D97VwoMyVUZ",
        "colab": {
          "base_uri": "https://localhost:8080/"
        },
        "outputId": "3fc7574b-bd6b-4f5c-cf29-1409e07dcb34"
      },
      "execution_count": 69,
      "outputs": [
        {
          "output_type": "stream",
          "name": "stdout",
          "text": [
            "[3, 6, 9]\n"
          ]
        }
      ]
    },
    {
      "cell_type": "markdown",
      "source": [
        "**예제 10**\n",
        "\n",
        "`num_list1` 과 `num_list2` 를 합쳐 `num_list4`으로 바인딩하세요"
      ],
      "metadata": {
        "id": "B-QcwLaRyVbR"
      }
    },
    {
      "cell_type": "code",
      "source": [
        "num_list4 = num_list1 + num_list2\n",
        "print(num_list4)"
      ],
      "metadata": {
        "id": "uL_e6MSIyWf9",
        "colab": {
          "base_uri": "https://localhost:8080/"
        },
        "outputId": "7d7776a6-80ea-4068-98d9-3c17f1cdae6a"
      },
      "execution_count": 78,
      "outputs": [
        {
          "output_type": "stream",
          "name": "stdout",
          "text": [
            "[2, 4, 6, 8, 10, 1, 3, 5, 7, 9]\n"
          ]
        }
      ]
    },
    {
      "cell_type": "markdown",
      "source": [
        "**예제 11**\n",
        "\n",
        "`num_list4` 을 오름차순으로 정렬하세요"
      ],
      "metadata": {
        "id": "av3wiMDXyWmp"
      }
    },
    {
      "cell_type": "code",
      "source": [
        "num_list4.sort()\n",
        "print(num_list4)"
      ],
      "metadata": {
        "id": "tZsgqq-ZyXu5",
        "colab": {
          "base_uri": "https://localhost:8080/"
        },
        "outputId": "3800029e-27b4-4b34-8f8e-13306d654680"
      },
      "execution_count": 79,
      "outputs": [
        {
          "output_type": "stream",
          "name": "stdout",
          "text": [
            "[1, 2, 3, 4, 5, 6, 7, 8, 9, 10]\n"
          ]
        }
      ]
    },
    {
      "cell_type": "markdown",
      "source": [
        "**예제 12**\n",
        "\n",
        "리스트가 아래와 같이 정의되어 있습니다. 문자열로 바꿔 출력하는 코드를 두 줄만 써서 작성하세요\n",
        "\n",
        "```\n",
        ">> my_list = [\"a\", \"b\", \"c\", \"d\"]\n",
        ">> # 코드작성 (join 사용)\n",
        ">> # 코드작성 (print 사용)\n",
        "a and b and c and d\n",
        "```"
      ],
      "metadata": {
        "id": "cuUqINKNyX0l"
      }
    },
    {
      "cell_type": "code",
      "source": [
        "my_list = [\"a\", \"b\", \"c\", \"d\"]\n",
        "my_list2 = \" and \".join(my_list)\n",
        "print(my_list2)"
      ],
      "metadata": {
        "id": "pBc-WbyqyY8L",
        "colab": {
          "base_uri": "https://localhost:8080/"
        },
        "outputId": "f9caed29-7935-448a-afe8-14785a852559"
      },
      "execution_count": 82,
      "outputs": [
        {
          "output_type": "stream",
          "name": "stdout",
          "text": [
            "a and b and c and d\n"
          ]
        }
      ]
    },
    {
      "cell_type": "markdown",
      "source": [
        "\n",
        "**예제 13**\n",
        "\n",
        "사용자가 문자열을 입력하면 리스트로 변환하는 코드를 작성하세요\n",
        "\n",
        "|예시| 결과|\n",
        "--|--\n",
        "`a,b`| `[a,b]`\n",
        "`a,c,d,f,q`| `[a,c,d,f,q]`\n",
        "`d,c,a,b`| `[d,c,a,b]`"
      ],
      "metadata": {
        "id": "GSJutIluyZDE"
      }
    },
    {
      "cell_type": "code",
      "source": [
        "word = input(\"insert word : \")\n",
        "word_list = []\n",
        "word_list.append(word)\n",
        "print(word_list)"
      ],
      "metadata": {
        "id": "JUBVY2PFyad2",
        "colab": {
          "base_uri": "https://localhost:8080/"
        },
        "outputId": "f2d7b00b-61b0-4ce5-894e-42ed301d5bbc"
      },
      "execution_count": 84,
      "outputs": [
        {
          "output_type": "stream",
          "name": "stdout",
          "text": [
            "insert word : d,c,a,b\n",
            "['d,c,a,b']\n"
          ]
        }
      ]
    },
    {
      "cell_type": "markdown",
      "source": [
        "**예제 14**\n",
        "\n",
        "사용자가 문자열을 입력하면 오름차순으로 정렬한 리스트를 출력하는 코드를 작성하세요\n",
        "\n",
        "|예시| 결과|\n",
        "--|--\n",
        "`a,b`| `[\"a\",\"b\"]`\n",
        "`a,c,d,f,e`| `[\"a\",\"c\",\"d\",\"e\",\"f\"]`\n",
        "`d,c,a,b`| `[\"a\", \"b\", \"c\", \"d\"]`"
      ],
      "metadata": {
        "id": "va1QjSuKyajf"
      }
    },
    {
      "cell_type": "code",
      "source": [
        "word_list = list(input(\"insert word : \").split(',')) \n",
        "# 리스트 선언할때 list(input())을 사용. split()으로 각각 저장되게끔.\n",
        "word_list.sort()\n",
        "print(word_list)"
      ],
      "metadata": {
        "id": "2GqE1YNfyb6Y",
        "colab": {
          "base_uri": "https://localhost:8080/"
        },
        "outputId": "d252f520-58fd-44a1-e672-e1b291ab357c"
      },
      "execution_count": 115,
      "outputs": [
        {
          "output_type": "stream",
          "name": "stdout",
          "text": [
            "insert word : d,c,a,b\n",
            "['a', 'b', 'c', 'd']\n"
          ]
        }
      ]
    },
    {
      "cell_type": "markdown",
      "source": [
        "\n",
        "**예제 15**\n",
        "\n",
        "사용자가 문자열을 입력하면 문자열을 뒤집은 리스트를 출력하는 코드를 작성하세요\n",
        "\n",
        "|예시| 결과|\n",
        "--|--\n",
        "`a,b`| `[\"b\",\"a\"]`\n",
        "`a,c,d,f,e`| `[\"e\",\"f\",\"d\",\"c\",\"a\"]`\n",
        "`d,c,a,b`| `[\"b\", \"a\", \"c\", \"d\"]`"
      ],
      "metadata": {
        "id": "yQydjxf2ycAb"
      }
    },
    {
      "cell_type": "code",
      "source": [
        "word_list = list(input(\"insert word : \").split(','))\n",
        "word_list.reverse()\n",
        "print(word_list)"
      ],
      "metadata": {
        "id": "0XFr13DEyc9M",
        "colab": {
          "base_uri": "https://localhost:8080/"
        },
        "outputId": "70c307ef-5a2f-4601-8cef-ad5f964f6e10"
      },
      "execution_count": 93,
      "outputs": [
        {
          "output_type": "stream",
          "name": "stdout",
          "text": [
            "insert word : d,c,a,b\n",
            "['b', 'a', 'c', 'd']\n"
          ]
        }
      ]
    },
    {
      "cell_type": "markdown",
      "source": [
        "**예제 16**\n",
        "\n",
        "\n",
        "사용자가 문자열을 입력하면 내림차순으로 정렬한 리스트를 출력하는 코드를 작성하세요\n",
        "\n",
        "|예시| 결과|\n",
        "--|--\n",
        "`a,b`| `[\"b\",\"a\"]`\n",
        "`a,c,d,f,e`| `[\"f\",\"e\",\"d\",\"c\",\"a\"]`\n",
        "`d,c,a.b`| `[\"d\", \"c\", \"b\", \"a\"]`"
      ],
      "metadata": {
        "id": "7RtmhPClydCL"
      }
    },
    {
      "cell_type": "code",
      "source": [
        "word_list = list(input(\"insert word : \").split(','))\n",
        "word_list.sort(reverse = True)\n",
        "print(word_list)"
      ],
      "metadata": {
        "id": "ZPz3gvrNyeDX",
        "colab": {
          "base_uri": "https://localhost:8080/"
        },
        "outputId": "812b9ce8-da57-4079-9a36-6539a0b1888c"
      },
      "execution_count": 95,
      "outputs": [
        {
          "output_type": "stream",
          "name": "stdout",
          "text": [
            "insert word : a,c,d,f,e\n",
            "['f', 'e', 'd', 'c', 'a']\n"
          ]
        }
      ]
    },
    {
      "cell_type": "markdown",
      "source": [
        "**예제 17**\n",
        "\n",
        "기말고사 점수가 아래와 같습니다. score를 정의하세요\n",
        "\n",
        "```\n",
        "score = [80,20,30,50,20,20,100,90]\n",
        "```\n"
      ],
      "metadata": {
        "id": "CDXGDE6pyeH0"
      }
    },
    {
      "cell_type": "code",
      "source": [
        "score = [80,20,30,50,20,20,100,90]"
      ],
      "metadata": {
        "id": "pnZC_F8KyfJv"
      },
      "execution_count": 96,
      "outputs": []
    },
    {
      "cell_type": "markdown",
      "source": [
        "**예제 18**\n",
        "\n",
        "기말고사 점수의 최저점수와 최고점수를 구하는 코드를 작성하세요"
      ],
      "metadata": {
        "id": "eIHyjLuEyfUE"
      }
    },
    {
      "cell_type": "code",
      "source": [
        "print('최고 점수는', max(score), '점, 최저 점수는', min(score), '점')"
      ],
      "metadata": {
        "id": "z5Tahx1RygUO",
        "colab": {
          "base_uri": "https://localhost:8080/"
        },
        "outputId": "8f7e202d-9d45-4538-e55b-5ab0237e3402"
      },
      "execution_count": 100,
      "outputs": [
        {
          "output_type": "stream",
          "name": "stdout",
          "text": [
            "최고 점수는 100 점, 최저 점수는 20 점\n"
          ]
        }
      ]
    },
    {
      "cell_type": "markdown",
      "source": [
        "**예제 19**\n",
        "\n",
        "기말고사 점수의 평균을 구하는 코드를 작성하세요"
      ],
      "metadata": {
        "id": "Dzo9toUeygYN"
      }
    },
    {
      "cell_type": "code",
      "source": [
        "sum_score = sum(score)\n",
        "print('평균 점수는', sum_score / len(score) )"
      ],
      "metadata": {
        "id": "-D_dExStyhf3",
        "colab": {
          "base_uri": "https://localhost:8080/"
        },
        "outputId": "ea675f7d-ffd3-4672-8e53-c2090fa4bc35"
      },
      "execution_count": 114,
      "outputs": [
        {
          "output_type": "stream",
          "name": "stdout",
          "text": [
            "평균 점수는 51.25\n"
          ]
        }
      ]
    },
    {
      "cell_type": "markdown",
      "source": [
        "**예제 20**\n",
        "\n",
        "아파트 층이 다음과 같습니다. 리스트로 저장하세요 (이 리스트의 길이는 4입니다(층별) 각 층별 안에 3개의 호수가 들어갑니다.)\n",
        "\n",
        "\n",
        "```\n",
        "|401|402|403|\n",
        "|301|302|303|\n",
        "|201|202|203|\n",
        "|101|102|103|\n",
        "```\n"
      ],
      "metadata": {
        "id": "ZyLrkr52yhli"
      }
    },
    {
      "cell_type": "code",
      "source": [
        "floor = [ [101,102,103], [201,202,203], [301,302,303], [401,402,403] ]\n",
        "\n",
        "\n",
        "#floor = [\n",
        "#  [101,102,103]\n",
        "#  [201,202,203]\n",
        "#  [301,302,303]\n",
        "#  [401,402,403]\n",
        "#]\n",
        "#으로 직관적으로 표현하는 것도 가능\n"
      ],
      "metadata": {
        "id": "ISoOLbXeyik2"
      },
      "execution_count": 116,
      "outputs": []
    },
    {
      "cell_type": "markdown",
      "source": [
        "**예제 21**\n",
        "\n",
        "이 리스트의 길이를 출력하고 길이가 4인지 확인하세요"
      ],
      "metadata": {
        "id": "dXnc8Z0dyiqf"
      }
    },
    {
      "cell_type": "code",
      "source": [
        "print(len(floor))"
      ],
      "metadata": {
        "id": "KaUWU20Nyjww",
        "colab": {
          "base_uri": "https://localhost:8080/"
        },
        "outputId": "9ca0e297-ad16-4e9b-c56a-0086b28d046e"
      },
      "execution_count": 118,
      "outputs": [
        {
          "output_type": "stream",
          "name": "stdout",
          "text": [
            "4\n"
          ]
        }
      ]
    },
    {
      "cell_type": "markdown",
      "source": [
        "**예제 22**\n",
        "\n",
        "`[401,402,403]` 을 출력하세요"
      ],
      "metadata": {
        "id": "EFGvpPuny_DM"
      }
    },
    {
      "cell_type": "code",
      "source": [
        "print(floor[-1:])"
      ],
      "metadata": {
        "id": "8bn_8vsZy-tj",
        "colab": {
          "base_uri": "https://localhost:8080/"
        },
        "outputId": "b908f653-e013-44f7-811f-35cc29a44336"
      },
      "execution_count": 117,
      "outputs": [
        {
          "output_type": "stream",
          "name": "stdout",
          "text": [
            "[[401, 402, 403]]\n"
          ]
        }
      ]
    },
    {
      "cell_type": "markdown",
      "source": [
        "\n",
        "\n",
        "**예제 23**\n",
        "\n",
        "`202`를 출력하세요"
      ],
      "metadata": {
        "id": "zs6lSM8zyj3O"
      }
    },
    {
      "cell_type": "code",
      "source": [
        "print(floor[1][1])"
      ],
      "metadata": {
        "id": "ZGY-lH56ymeE",
        "colab": {
          "base_uri": "https://localhost:8080/"
        },
        "outputId": "2198ff71-efaa-456d-90cc-2a4a7743e91c"
      },
      "execution_count": 107,
      "outputs": [
        {
          "output_type": "stream",
          "name": "stdout",
          "text": [
            "202\n"
          ]
        }
      ]
    },
    {
      "cell_type": "markdown",
      "source": [
        "**예제 24**\n",
        "\n",
        "`303`호를 출력하세요"
      ],
      "metadata": {
        "id": "RlXMDPe9ymlq"
      }
    },
    {
      "cell_type": "code",
      "source": [
        "print(floor[2][2])"
      ],
      "metadata": {
        "id": "k9RZeqdWynss",
        "colab": {
          "base_uri": "https://localhost:8080/"
        },
        "outputId": "702c1c74-d4ba-435d-e45b-9e270858a6a7"
      },
      "execution_count": 108,
      "outputs": [
        {
          "output_type": "stream",
          "name": "stdout",
          "text": [
            "303\n"
          ]
        }
      ]
    }
  ]
}