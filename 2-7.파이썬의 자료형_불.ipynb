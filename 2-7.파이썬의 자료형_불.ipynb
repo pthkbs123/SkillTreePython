{
  "nbformat": 4,
  "nbformat_minor": 0,
  "metadata": {
    "colab": {
      "name": "2-7.파이썬의 자료형_불.ipynb",
      "provenance": [],
      "collapsed_sections": [],
      "include_colab_link": true
    },
    "kernelspec": {
      "name": "python3",
      "display_name": "Python 3"
    },
    "language_info": {
      "name": "python"
    }
  },
  "cells": [
    {
      "cell_type": "markdown",
      "metadata": {
        "id": "view-in-github",
        "colab_type": "text"
      },
      "source": [
        "<a href=\"https://colab.research.google.com/github/pthkbs123/SkillTreePython/blob/main/2-7.%ED%8C%8C%EC%9D%B4%EC%8D%AC%EC%9D%98%20%EC%9E%90%EB%A3%8C%ED%98%95_%EB%B6%88.ipynb\" target=\"_parent\"><img src=\"https://colab.research.google.com/assets/colab-badge.svg\" alt=\"Open In Colab\"/></a>"
      ]
    },
    {
      "cell_type": "markdown",
      "source": [
        "# 2-7.파이썬의 자료형:불 \n",
        "---\n",
        "* 날짜: 2022-03-30\n",
        "* 이름: 박태현"
      ],
      "metadata": {
        "id": "kB5IciXEm6o4"
      }
    },
    {
      "cell_type": "markdown",
      "source": [
        "## 개념정리\n",
        "---\n",
        "\n"
      ],
      "metadata": {
        "id": "4iN8NFzHRJ2D"
      }
    },
    {
      "cell_type": "markdown",
      "source": [
        "### **(1) 생성**\n",
        "\n",
        "불 자료형은 단 두가지의 값, `True`와 `False`만을 가지고 있습니다. \n",
        "\n",
        "* True\n",
        "\n",
        "```\n",
        "bool_t = True\n",
        "print(bool_t, type(bool_t))\n",
        "```"
      ],
      "metadata": {
        "id": "MAM8MDnfw68b"
      }
    },
    {
      "cell_type": "code",
      "source": [
        "bool_t = True\n",
        "print(bool_t, type(bool_t))"
      ],
      "metadata": {
        "id": "-A_CdM3VvJwE",
        "colab": {
          "base_uri": "https://localhost:8080/"
        },
        "outputId": "2f0f0a6d-e580-4d43-d15e-31b8d479a18a"
      },
      "execution_count": 1,
      "outputs": [
        {
          "output_type": "stream",
          "name": "stdout",
          "text": [
            "True <class 'bool'>\n"
          ]
        }
      ]
    },
    {
      "cell_type": "markdown",
      "source": [
        "* False\n",
        "\n",
        "```\n",
        "bool_f = False\n",
        "print(bool_f, type(bool_f))\n",
        "```"
      ],
      "metadata": {
        "id": "ve0Q78levM7y"
      }
    },
    {
      "cell_type": "code",
      "source": [
        "bool_f = False\n",
        "print(bool_f, type(bool_f))"
      ],
      "metadata": {
        "id": "oL0peiU6vNLW",
        "colab": {
          "base_uri": "https://localhost:8080/"
        },
        "outputId": "9b275f51-5f65-4f64-a140-e551c86572f2"
      },
      "execution_count": 2,
      "outputs": [
        {
          "output_type": "stream",
          "name": "stdout",
          "text": [
            "False <class 'bool'>\n"
          ]
        }
      ]
    },
    {
      "cell_type": "markdown",
      "source": [
        "### **(2) 비교연산자**\n",
        "\n",
        "보통 불 자료형은 참과 거짓을 판단할 때 사용 합니다. 비교연산자를 통해 데이터 간의 관계를 판별하고 이를 불 자료형으로 저장할 수 있습니다.\n",
        "\n",
        "|설명|코드|\n",
        "|--|--|\n",
        "|같다|`==`|\n",
        "|다르다|`!=`|\n",
        "|크다/작다|`<`/`>`|\n",
        "|크거나 같다/작거나 같다|`<=`/`>=`|\n"
      ],
      "metadata": {
        "id": "RSd2HMOPvXJX"
      }
    },
    {
      "cell_type": "markdown",
      "source": [
        "```\n",
        "a = 10\n",
        "b = 10\n",
        "c = 20\n",
        "```"
      ],
      "metadata": {
        "id": "lChKfbz6vghh"
      }
    },
    {
      "cell_type": "code",
      "source": [
        "a = 10\n",
        "b = 10\n",
        "c = 20"
      ],
      "metadata": {
        "id": "Iql1vi-uvhyX"
      },
      "execution_count": 3,
      "outputs": []
    },
    {
      "cell_type": "markdown",
      "source": [
        "\n",
        "#### **같다**\n",
        "\n",
        "* `==`\n",
        "\n",
        "```\n",
        "print(a==b)\n",
        "print(a==c)\n",
        "```"
      ],
      "metadata": {
        "id": "sb_fMnF4vZ8M"
      }
    },
    {
      "cell_type": "code",
      "source": [
        "print(a==b)\n",
        "print(a==c)"
      ],
      "metadata": {
        "id": "WJk0qA7FvOJn",
        "colab": {
          "base_uri": "https://localhost:8080/"
        },
        "outputId": "760f5fa7-6b16-4821-c95c-357ab22d49e7"
      },
      "execution_count": 4,
      "outputs": [
        {
          "output_type": "stream",
          "name": "stdout",
          "text": [
            "True\n",
            "False\n"
          ]
        }
      ]
    },
    {
      "cell_type": "markdown",
      "source": [
        "#### **다르다**\n",
        "\n",
        "* `!=`\n",
        "\n",
        "```\n",
        "print(a!=b)\n",
        "print(a!=c)\n",
        "```"
      ],
      "metadata": {
        "id": "Ko2-jAkLvcr9"
      }
    },
    {
      "cell_type": "code",
      "source": [
        "print(a!=b)\n",
        "print(a!=c)"
      ],
      "metadata": {
        "id": "Q0OHkDldvbMe",
        "colab": {
          "base_uri": "https://localhost:8080/"
        },
        "outputId": "4c4eb569-3b55-4bfd-f34a-067672a70b9d"
      },
      "execution_count": 5,
      "outputs": [
        {
          "output_type": "stream",
          "name": "stdout",
          "text": [
            "False\n",
            "True\n"
          ]
        }
      ]
    },
    {
      "cell_type": "markdown",
      "source": [
        "#### **크다/작다**\n",
        "\n",
        "* `>`\n",
        "* `<`\n",
        "\n",
        "```\n",
        "print(a>c)\n",
        "print(a<c)\n",
        "```"
      ],
      "metadata": {
        "id": "8xA_skATvpnF"
      }
    },
    {
      "cell_type": "code",
      "source": [
        "print(a>c)\n",
        "print(a<c)"
      ],
      "metadata": {
        "id": "LjhSc6J6vlf9",
        "colab": {
          "base_uri": "https://localhost:8080/"
        },
        "outputId": "c23f3e70-5fab-426f-c164-0570e7161d88"
      },
      "execution_count": 6,
      "outputs": [
        {
          "output_type": "stream",
          "name": "stdout",
          "text": [
            "False\n",
            "True\n"
          ]
        }
      ]
    },
    {
      "cell_type": "markdown",
      "source": [
        "#### **크거나 같다/작다**\n",
        "\n",
        "* `>=`\n",
        "* `<=`\n",
        "\n",
        "```\n",
        "print(a>=c)\n",
        "print(a<=c)\n",
        "```"
      ],
      "metadata": {
        "id": "0H5UpFNqvstu"
      }
    },
    {
      "cell_type": "code",
      "source": [
        "print(a>=c)\n",
        "print(a<=c)"
      ],
      "metadata": {
        "id": "j6g27kAyvrb4",
        "colab": {
          "base_uri": "https://localhost:8080/"
        },
        "outputId": "ac6938a1-5603-4936-def5-734f22edb943"
      },
      "execution_count": 7,
      "outputs": [
        {
          "output_type": "stream",
          "name": "stdout",
          "text": [
            "False\n",
            "True\n"
          ]
        }
      ]
    },
    {
      "cell_type": "markdown",
      "source": [
        "###  **(3) Identity 연산자**\n",
        "\n",
        "|설명|코드|\n",
        "|--|--|\n",
        "|(메모리주소가)같다|`is`|\n",
        "|(메모리주소가)다르다|`is not`|\n",
        "\n",
        "`Identity` 라고 하는 것은 두 변수가 같은 메모리 주소를 가리키는 것을 일컫습니다. 아래와 같이 세개의 값 `a`, `b`, `c`가 숫자 10으로 바인딩 되어 있습니다.\n",
        "\n",
        "```\n",
        "a = 10\n",
        "b = 10.0\n",
        "```\n"
      ],
      "metadata": {
        "id": "eF4oulf5vwEJ"
      }
    },
    {
      "cell_type": "code",
      "source": [
        "a = 10\n",
        "b = 10.0"
      ],
      "metadata": {
        "id": "ktyXZcurvuCY"
      },
      "execution_count": 8,
      "outputs": []
    },
    {
      "cell_type": "markdown",
      "source": [
        "\n",
        "#### **(메모리주소가) 같을 때**\n",
        "\n",
        "*  `is`\n",
        "\n",
        "\n",
        "`a==b` 는 `True` 이고 `a is b` 는 `False`임을 확인할 수 있습니다. `a`와 `b` 모두 값 자체는 `10`으로 동일하기 때문에 `a==b`는 `True` 값을 가지지만, `a`는 `int`이고 `b`는 `float` 자료형이기 때문에 `a is b`의 결과는 `False` 입니다.\n",
        "\n",
        "```\n",
        "print(a==b) # a, b 의 값이 같은지 판별\n",
        "print(a is b) # a, b 가 같은 메모리 주소에 있는지 판별\n",
        "```\n"
      ],
      "metadata": {
        "id": "9Yv_CuPOv0J8"
      }
    },
    {
      "cell_type": "code",
      "source": [
        "print(a==b) # a, b 의 값이 같은지 판별\n",
        "print(a is b) # a, b 가 같은 메모리 주소에 있는지 판별\n",
        "\n",
        "print(a is a) # 메모리 주소가 같으니 True"
      ],
      "metadata": {
        "id": "uHpcb8vwvyYd",
        "colab": {
          "base_uri": "https://localhost:8080/"
        },
        "outputId": "280a4bf9-f4a1-4012-9489-2b59b06d8f3f"
      },
      "execution_count": 11,
      "outputs": [
        {
          "output_type": "stream",
          "name": "stdout",
          "text": [
            "True\n",
            "False\n",
            "True\n"
          ]
        }
      ]
    },
    {
      "cell_type": "markdown",
      "source": [
        "#### **(메모리주소가) 다를 때**\n",
        "\n",
        "* `is not`\n",
        "\n",
        "\n",
        "반대의 경우입니다. `!=` 를 사용할 때는  `True`이고 `is not`은 `True` 입니다.  \n",
        "\n",
        "```\n",
        "print(a!=b)  # a, b 의 값이 다른지 판별\n",
        "print(a is not b) # a, b 가 다른 메모리 주소에 있는지 판별\n",
        "```\n"
      ],
      "metadata": {
        "id": "D-5lT6Rjv_TJ"
      }
    },
    {
      "cell_type": "code",
      "source": [
        "print(a!=b)  # a, b 의 값이 다른지 판별\n",
        "print(a is not b) # a, b 가 다른 메모리 주소에 있는지 판별"
      ],
      "metadata": {
        "id": "ZRtzSicOgYfQ",
        "colab": {
          "base_uri": "https://localhost:8080/"
        },
        "outputId": "84873bca-a06d-44d2-c739-dd535028dff5"
      },
      "execution_count": 12,
      "outputs": [
        {
          "output_type": "stream",
          "name": "stdout",
          "text": [
            "False\n",
            "True\n"
          ]
        }
      ]
    },
    {
      "cell_type": "markdown",
      "source": [
        "### **(4) 논리연산자**\n",
        "\n",
        "\n"
      ],
      "metadata": {
        "id": "Pepzbg-WwErt"
      }
    },
    {
      "cell_type": "markdown",
      "source": [
        "#### **`and` 연산자**\n",
        "\n",
        "* `and` : 모두 `True`여야 `True`, 그 외엔 `False`\n",
        "\n",
        "|A|B| 결과 |\n",
        "|--|--|--|\n",
        "|False|False|False| \n",
        "|False|True|False| \n",
        "|True|False|False| \n",
        "|True|True|True| \n",
        "\n",
        "```\n",
        "a = True\n",
        "b = False\n",
        "print(a and b)\n",
        "```"
      ],
      "metadata": {
        "id": "mmKaSILLxix2"
      }
    },
    {
      "cell_type": "code",
      "source": [
        "a = True\n",
        "b = False\n",
        "print(a and b)\n",
        "\n",
        "n = 10\n",
        "a = n > 5\n",
        "b = n < 20\n",
        "print(a and b)"
      ],
      "metadata": {
        "id": "c3a1U92Tv9je",
        "colab": {
          "base_uri": "https://localhost:8080/"
        },
        "outputId": "d2cf2799-b867-4352-e1de-30b94bc1d8e5"
      },
      "execution_count": 19,
      "outputs": [
        {
          "output_type": "stream",
          "name": "stdout",
          "text": [
            "False\n",
            "True\n"
          ]
        }
      ]
    },
    {
      "cell_type": "markdown",
      "source": [
        "#### **`or` 연산자**\n",
        "\n",
        "* `or` : 모두 `False`여야 `False`, 그 외엔 `True`\n",
        "\n",
        "|A|B| 결과 |\n",
        "|--|--|--|\n",
        "|False|False|False| \n",
        "|False|True|True| \n",
        "|True|False|True| \n",
        "|True|True|True| \n",
        "\n",
        "```\n",
        "a = True\n",
        "b = False\n",
        "print(a or b)\n",
        "```\n"
      ],
      "metadata": {
        "id": "YhxIRN0swIMk"
      }
    },
    {
      "cell_type": "code",
      "source": [
        "a = True\n",
        "b = False\n",
        "print(a or b)"
      ],
      "metadata": {
        "id": "FKszLHP8wGq4",
        "colab": {
          "base_uri": "https://localhost:8080/"
        },
        "outputId": "297440f0-806e-45b8-d425-698b91a4a51b"
      },
      "execution_count": 14,
      "outputs": [
        {
          "output_type": "stream",
          "name": "stdout",
          "text": [
            "True\n"
          ]
        }
      ]
    },
    {
      "cell_type": "markdown",
      "source": [
        "#### **`not` 연산자**\n",
        "\n",
        "* `not` : 반대\n",
        "\n",
        "|A|결과 |\n",
        "|--|--|\n",
        "|False|True| \n",
        "|False|False|\n",
        "\n",
        "```\n",
        "a = True\n",
        "print(not a)\n",
        "```"
      ],
      "metadata": {
        "id": "tPQXQ820wKx6"
      }
    },
    {
      "cell_type": "code",
      "source": [
        "a = True\n",
        "print(not a)"
      ],
      "metadata": {
        "id": "TN8hYesmwJR3",
        "colab": {
          "base_uri": "https://localhost:8080/"
        },
        "outputId": "7c168bbd-6324-4e44-c167-284878a3a0d0"
      },
      "execution_count": 15,
      "outputs": [
        {
          "output_type": "stream",
          "name": "stdout",
          "text": [
            "False\n"
          ]
        }
      ]
    },
    {
      "cell_type": "markdown",
      "source": [
        "### **(5) 자료형의 True/False**\n",
        "\n",
        "|값\t|자료형|\tTrue OR False |\n",
        "|--|--|--|\n",
        "\"hi\"|\tstr\t|True\n",
        "\"\"\t|str\t|False\n",
        "[1,2,3]\t|list|\tTrue\n",
        "[]|\tlist\t|False\n",
        "(1,2,3)\t|tuple|\tTrue\n",
        "()|\ttuple|\tFalse\n",
        "{}|\tdictionary|\tFalse\n",
        "1\t|int|\tTrue\n",
        "0\t|int|\tFalse\n"
      ],
      "metadata": {
        "id": "f6ZwYMcQwMq1"
      }
    },
    {
      "cell_type": "markdown",
      "source": [
        "#### **문자**\n",
        "\n",
        "문자가 하나라도 포함되어 있으면 `True` 입니다.\n",
        "\n",
        "```\n",
        "print(bool(\"abc\"))\n",
        "print(bool(\"\"))\n",
        "```\n"
      ],
      "metadata": {
        "id": "iu9Qsd9SwPRp"
      }
    },
    {
      "cell_type": "code",
      "source": [
        "print(bool(\"abc\"))\n",
        "print(bool(\"\"))"
      ],
      "metadata": {
        "id": "cADkAygFwLlw",
        "colab": {
          "base_uri": "https://localhost:8080/"
        },
        "outputId": "52efd5f8-e8ff-4b25-94ae-0d5622f91490"
      },
      "execution_count": 16,
      "outputs": [
        {
          "output_type": "stream",
          "name": "stdout",
          "text": [
            "True\n",
            "False\n"
          ]
        }
      ]
    },
    {
      "cell_type": "markdown",
      "source": [
        "\n",
        "#### **리스트/튜플/딕셔너리**\n",
        "\n",
        "리스트(튜플/딕셔너리)에 하나라도 포함되어 있으면 `True` 입니다\n",
        "\n",
        "```\n",
        "print(bool([1,2]))\n",
        "print(bool([]))\n",
        "```"
      ],
      "metadata": {
        "id": "RCxgNv7HwTTH"
      }
    },
    {
      "cell_type": "code",
      "source": [
        "print(bool([1,2]))\n",
        "print(bool([]))"
      ],
      "metadata": {
        "id": "1zj7UJIxwRr1",
        "colab": {
          "base_uri": "https://localhost:8080/"
        },
        "outputId": "cdf10f9b-5427-44d9-e327-8afae2f34b26"
      },
      "execution_count": 17,
      "outputs": [
        {
          "output_type": "stream",
          "name": "stdout",
          "text": [
            "True\n",
            "False\n"
          ]
        }
      ]
    },
    {
      "cell_type": "markdown",
      "source": [
        "#### **수치자료형**\n",
        "\n",
        "0일때만 `False` 입니다.\n",
        "\n",
        "```\n",
        "print(bool(10))\n",
        "print(bool(-10))\n",
        "print(bool(0))\n",
        "```"
      ],
      "metadata": {
        "id": "ckclBKQAwXkd"
      }
    },
    {
      "cell_type": "code",
      "source": [
        "print(bool(10))\n",
        "print(bool(-10))\n",
        "print(bool(0))"
      ],
      "metadata": {
        "id": "sWhI9ZRXwWSt",
        "colab": {
          "base_uri": "https://localhost:8080/"
        },
        "outputId": "a09af5e6-c9c1-48dc-b54a-cec8b3821f6d"
      },
      "execution_count": 18,
      "outputs": [
        {
          "output_type": "stream",
          "name": "stdout",
          "text": [
            "True\n",
            "True\n",
            "False\n"
          ]
        }
      ]
    },
    {
      "cell_type": "markdown",
      "source": [
        "## 문제풀이\n",
        "---"
      ],
      "metadata": {
        "id": "EOKHJNE_wdPo"
      }
    },
    {
      "cell_type": "markdown",
      "source": [
        "\n",
        "\n",
        "**예제 01**\n",
        "\n",
        "아래 결과를 예측하세요\n",
        "\n",
        "```\n",
        "bool(\"안녕\")\n",
        "```"
      ],
      "metadata": {
        "id": "eLhnxNGawcKi"
      }
    },
    {
      "cell_type": "code",
      "source": [
        "print('True')"
      ],
      "metadata": {
        "id": "W1SP3TtVwe7_",
        "colab": {
          "base_uri": "https://localhost:8080/"
        },
        "outputId": "c3bf5a66-6dfb-41e4-feb4-130e1b616f65"
      },
      "execution_count": 20,
      "outputs": [
        {
          "output_type": "stream",
          "name": "stdout",
          "text": [
            "True\n"
          ]
        }
      ]
    },
    {
      "cell_type": "markdown",
      "source": [
        "**예제 02**\n",
        "\n",
        "아래 결과를 예측하세요\n",
        "\n",
        "```\n",
        "bool(\"\")\n",
        "```"
      ],
      "metadata": {
        "id": "xGNJ9y5Wwf54"
      }
    },
    {
      "cell_type": "code",
      "source": [
        "print('False')"
      ],
      "metadata": {
        "id": "gHzUxS0Lwgzz",
        "colab": {
          "base_uri": "https://localhost:8080/"
        },
        "outputId": "01d9b6c0-92fe-4363-f8d4-e37fb8e9c5b1"
      },
      "execution_count": 24,
      "outputs": [
        {
          "output_type": "stream",
          "name": "stdout",
          "text": [
            "False\n"
          ]
        }
      ]
    },
    {
      "cell_type": "markdown",
      "source": [
        "**예제 03**\n",
        "\n",
        "아래 결과를 예측하세요\n",
        "\n",
        "\n",
        "```\n",
        "bool([2,4,6])\n",
        "```"
      ],
      "metadata": {
        "id": "Tg2gHNY3wgAR"
      }
    },
    {
      "cell_type": "code",
      "source": [
        "print('True')"
      ],
      "metadata": {
        "id": "vOJSteeUwiKM",
        "colab": {
          "base_uri": "https://localhost:8080/"
        },
        "outputId": "13ae7c14-c32b-487a-988e-abcb9ac9f50f"
      },
      "execution_count": 22,
      "outputs": [
        {
          "output_type": "stream",
          "name": "stdout",
          "text": [
            "True\n"
          ]
        }
      ]
    },
    {
      "cell_type": "markdown",
      "source": [
        "**예제 04**\n",
        "\n",
        "\n",
        "아래 결과를 예측하세요\n",
        "\n",
        "\n",
        "```\n",
        "bool([0])\n",
        "```"
      ],
      "metadata": {
        "id": "uwujor7AwiRX"
      }
    },
    {
      "cell_type": "code",
      "source": [
        "print('True')"
      ],
      "metadata": {
        "id": "5XzG9e4lwjZp",
        "colab": {
          "base_uri": "https://localhost:8080/"
        },
        "outputId": "1f333bfe-beab-4367-fe30-abe08cd88048"
      },
      "execution_count": 25,
      "outputs": [
        {
          "output_type": "stream",
          "name": "stdout",
          "text": [
            "True\n"
          ]
        }
      ]
    },
    {
      "cell_type": "markdown",
      "source": [
        "**예제 05**\n",
        "\n",
        " 아래 결과를 예측하세요\n",
        "\n",
        "\n",
        "```\n",
        "bool(0)\n",
        "```"
      ],
      "metadata": {
        "id": "l1mgEeerwjep"
      }
    },
    {
      "cell_type": "code",
      "source": [
        "print('False')"
      ],
      "metadata": {
        "id": "UZby3aNmwkd7",
        "colab": {
          "base_uri": "https://localhost:8080/"
        },
        "outputId": "81c0e09f-228c-4614-8f6c-490b5989e41b"
      },
      "execution_count": 26,
      "outputs": [
        {
          "output_type": "stream",
          "name": "stdout",
          "text": [
            "False\n"
          ]
        }
      ]
    },
    {
      "cell_type": "markdown",
      "source": [
        "**예제 06**\n",
        "\n",
        " 아래 결과를 예측하세요\n",
        "\n",
        "\n",
        "```\n",
        "bool(1)\n",
        "```"
      ],
      "metadata": {
        "id": "PpUlq1KWwkio"
      }
    },
    {
      "cell_type": "code",
      "source": [
        "print('True')"
      ],
      "metadata": {
        "id": "A9rPYh0pwlca",
        "colab": {
          "base_uri": "https://localhost:8080/"
        },
        "outputId": "084ee637-9525-424b-c3c3-a0496880246c"
      },
      "execution_count": 29,
      "outputs": [
        {
          "output_type": "stream",
          "name": "stdout",
          "text": [
            "True\n"
          ]
        }
      ]
    },
    {
      "cell_type": "markdown",
      "source": [
        "**예제 07**\n",
        "\n",
        "아래 결과를 예측하세요\n",
        "\n",
        "```\n",
        "bool([1])\n",
        "```"
      ],
      "metadata": {
        "id": "yxuynfU6wlgX"
      }
    },
    {
      "cell_type": "code",
      "source": [
        "print('True')"
      ],
      "metadata": {
        "id": "hwyvS1cywmil",
        "colab": {
          "base_uri": "https://localhost:8080/"
        },
        "outputId": "1756e6b5-3c59-4300-afbb-4305839e20cc"
      },
      "execution_count": 30,
      "outputs": [
        {
          "output_type": "stream",
          "name": "stdout",
          "text": [
            "True\n"
          ]
        }
      ]
    },
    {
      "cell_type": "markdown",
      "source": [
        "**예제 08**\n",
        "\n",
        " 아래 결과를 예측하세요\n",
        "\n",
        "```\n",
        " print(3==5)\n",
        "```\n"
      ],
      "metadata": {
        "id": "C8gQteDmwmnT"
      }
    },
    {
      "cell_type": "code",
      "source": [
        "print('False')"
      ],
      "metadata": {
        "id": "vTdk0nAMwobn",
        "colab": {
          "base_uri": "https://localhost:8080/"
        },
        "outputId": "4229740c-1956-4e3e-93de-850a85a2873d"
      },
      "execution_count": 31,
      "outputs": [
        {
          "output_type": "stream",
          "name": "stdout",
          "text": [
            "False\n"
          ]
        }
      ]
    },
    {
      "cell_type": "markdown",
      "source": [
        "**예제 09**\n",
        "\n",
        "아래 결과를 예측하세요\n",
        "```\n",
        " print(3<5)\n",
        "```"
      ],
      "metadata": {
        "id": "pV4o_x-LwohH"
      }
    },
    {
      "cell_type": "code",
      "source": [
        "print('True')"
      ],
      "metadata": {
        "id": "iEHsL_jtwp_U",
        "colab": {
          "base_uri": "https://localhost:8080/"
        },
        "outputId": "69843426-ae40-4f89-f5f0-41d0d0499053"
      },
      "execution_count": 32,
      "outputs": [
        {
          "output_type": "stream",
          "name": "stdout",
          "text": [
            "True\n"
          ]
        }
      ]
    },
    {
      "cell_type": "markdown",
      "source": [
        "**예제 10**\n",
        "\n",
        " 아래 결과를 예측하세요\n",
        "\n",
        "```\n",
        "x = 4\n",
        "print(1<x<5)\n",
        "```\n"
      ],
      "metadata": {
        "id": "pWIRx-BBwqHk"
      }
    },
    {
      "cell_type": "code",
      "source": [
        "print('True')"
      ],
      "metadata": {
        "id": "Ye-UEjJpwrLb",
        "colab": {
          "base_uri": "https://localhost:8080/"
        },
        "outputId": "d6cd7b89-4cf8-405f-99e7-63f8867e2550"
      },
      "execution_count": 33,
      "outputs": [
        {
          "output_type": "stream",
          "name": "stdout",
          "text": [
            "True\n"
          ]
        }
      ]
    },
    {
      "cell_type": "markdown",
      "source": [
        "\n",
        "**예제 11**\n",
        "\n",
        "아래 결과를 예측하세요\n",
        "\n",
        "```\n",
        "print ((3 == 3) and (4 != 3))\n",
        "```"
      ],
      "metadata": {
        "id": "Q12O-j1bwrfQ"
      }
    },
    {
      "cell_type": "code",
      "source": [
        "print('True')"
      ],
      "metadata": {
        "id": "CtRh6aFXwsdd",
        "colab": {
          "base_uri": "https://localhost:8080/"
        },
        "outputId": "24a09f78-485d-4cb1-cc35-1edc9e72a3c3"
      },
      "execution_count": 34,
      "outputs": [
        {
          "output_type": "stream",
          "name": "stdout",
          "text": [
            "True\n"
          ]
        }
      ]
    },
    {
      "cell_type": "markdown",
      "source": [
        "\n",
        "**예제 12**\n",
        "\n",
        "아래 결과를 예측하세요\n",
        "\n",
        "```\n",
        "'a' in 'abc'\n",
        "```\n"
      ],
      "metadata": {
        "id": "rUiji_6nwshi"
      }
    },
    {
      "cell_type": "code",
      "source": [
        "print('False')"
      ],
      "metadata": {
        "id": "ZxDpZkC_wtj7",
        "colab": {
          "base_uri": "https://localhost:8080/"
        },
        "outputId": "5bdb51df-4c65-4b4f-acbd-2cfc138b0a6c"
      },
      "execution_count": 35,
      "outputs": [
        {
          "output_type": "stream",
          "name": "stdout",
          "text": [
            "False\n"
          ]
        }
      ]
    },
    {
      "cell_type": "markdown",
      "source": [
        "**예제 13**\n",
        "\n",
        "\n",
        "아래 결과를 예측하세요\n",
        "\n",
        "```\n",
        "'a' in ['d','b','c']\n",
        "```\n"
      ],
      "metadata": {
        "id": "lJ_bWq0Fwtow"
      }
    },
    {
      "cell_type": "code",
      "source": [
        "print('False')"
      ],
      "metadata": {
        "id": "E0whSkKFwvF9",
        "colab": {
          "base_uri": "https://localhost:8080/"
        },
        "outputId": "133f1f1e-a7e4-4b92-bb66-1ea28e00cbf1"
      },
      "execution_count": 37,
      "outputs": [
        {
          "output_type": "stream",
          "name": "stdout",
          "text": [
            "False\n"
          ]
        }
      ]
    },
    {
      "cell_type": "markdown",
      "source": [
        "**예제 14**\n",
        "\n",
        "\n",
        "아래 결과를 예측하세요\n",
        "\n",
        "```\n",
        "'a' not in ['a','b','c']\n",
        "```"
      ],
      "metadata": {
        "id": "fyRztNmYwvKN"
      }
    },
    {
      "cell_type": "code",
      "source": [
        "print('True')"
      ],
      "metadata": {
        "id": "6-1cfkVxwwSl",
        "colab": {
          "base_uri": "https://localhost:8080/"
        },
        "outputId": "2654c0e5-2700-4112-d3bf-41e037534d26"
      },
      "execution_count": 38,
      "outputs": [
        {
          "output_type": "stream",
          "name": "stdout",
          "text": [
            "True\n"
          ]
        }
      ]
    },
    {
      "cell_type": "markdown",
      "source": [
        "**예제 15**\n",
        "\n",
        "아래 결과를 예측하세요\n",
        "\n",
        "```\n",
        "'a' not in 'abc'\n",
        "```"
      ],
      "metadata": {
        "id": "Lwx6We67wwYz"
      }
    },
    {
      "cell_type": "code",
      "source": [
        "print('True')"
      ],
      "metadata": {
        "id": "tprm6Yrdwy1p",
        "colab": {
          "base_uri": "https://localhost:8080/"
        },
        "outputId": "6f706dd6-d70d-4221-90ff-36325bc2f23e"
      },
      "execution_count": 39,
      "outputs": [
        {
          "output_type": "stream",
          "name": "stdout",
          "text": [
            "True\n"
          ]
        }
      ]
    },
    {
      "cell_type": "markdown",
      "source": [
        "**예제 16**\n",
        "\n",
        "아래 결과가 나오도록 코드를 작성하세요\n",
        "\n",
        "\n",
        "```\n",
        ">> a = #코드를작성하세요\n",
        ">> b = #코드를작성하세요\n",
        ">> a and b\n",
        "True\n",
        "```"
      ],
      "metadata": {
        "id": "M7tF0Uzdwy6W"
      }
    },
    {
      "cell_type": "code",
      "source": [
        "a = 1 < 2\n",
        "b = 3 < 4\n",
        "a and b"
      ],
      "metadata": {
        "id": "gltL5ievw0G9",
        "colab": {
          "base_uri": "https://localhost:8080/"
        },
        "outputId": "86f7732c-50f1-46e6-a134-6abdcc6729bc"
      },
      "execution_count": 40,
      "outputs": [
        {
          "output_type": "execute_result",
          "data": {
            "text/plain": [
              "True"
            ]
          },
          "metadata": {},
          "execution_count": 40
        }
      ]
    },
    {
      "cell_type": "markdown",
      "source": [
        "\n",
        "**예제 17**\n",
        "\n",
        "아래 결과가 나오도록 코드를 작성하세요\n",
        "\n",
        "\n",
        "```\n",
        ">> a = #코드를작성하세요\n",
        ">> b = #코드를작성하세요\n",
        ">> a or b\n",
        "False\n",
        "```"
      ],
      "metadata": {
        "id": "hK8VBKPdw0Ml"
      }
    },
    {
      "cell_type": "code",
      "source": [
        "a = 4 < 3\n",
        "b = 2 < 1\n",
        "a or b"
      ],
      "metadata": {
        "id": "uGeaGOPew1Nw",
        "colab": {
          "base_uri": "https://localhost:8080/"
        },
        "outputId": "6f06e634-365a-45ef-fa9d-3f6d73bfad8e"
      },
      "execution_count": 41,
      "outputs": [
        {
          "output_type": "execute_result",
          "data": {
            "text/plain": [
              "False"
            ]
          },
          "metadata": {},
          "execution_count": 41
        }
      ]
    },
    {
      "cell_type": "code",
      "source": [
        ""
      ],
      "metadata": {
        "id": "fYpmfCHBykV-"
      },
      "execution_count": null,
      "outputs": []
    }
  ]
}