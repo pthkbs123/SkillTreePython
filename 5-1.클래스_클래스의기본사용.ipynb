{
  "nbformat": 4,
  "nbformat_minor": 0,
  "metadata": {
    "colab": {
      "name": "5-1.클래스_클래스의기본사용.ipynb",
      "provenance": [],
      "collapsed_sections": [],
      "include_colab_link": true
    },
    "kernelspec": {
      "name": "python3",
      "display_name": "Python 3"
    },
    "language_info": {
      "name": "python"
    }
  },
  "cells": [
    {
      "cell_type": "markdown",
      "metadata": {
        "id": "view-in-github",
        "colab_type": "text"
      },
      "source": [
        "<a href=\"https://colab.research.google.com/github/pthkbs123/SkillTreePython/blob/main/5-1.%ED%81%B4%EB%9E%98%EC%8A%A4_%ED%81%B4%EB%9E%98%EC%8A%A4%EC%9D%98%EA%B8%B0%EB%B3%B8%EC%82%AC%EC%9A%A9.ipynb\" target=\"_parent\"><img src=\"https://colab.research.google.com/assets/colab-badge.svg\" alt=\"Open In Colab\"/></a>"
      ]
    },
    {
      "cell_type": "markdown",
      "metadata": {
        "id": "jgFAOz-Tw1VI"
      },
      "source": [
        "5-1.클래스:클래스의 기본 사용\n",
        "---\n",
        "* 날짜: 2022-04-06\n",
        "* 이름: 박태현\n"
      ]
    },
    {
      "cell_type": "markdown",
      "metadata": {
        "id": "roC8A6Ro6THT"
      },
      "source": [
        "## 개념정리\n",
        "---\n",
        "\n"
      ]
    },
    {
      "cell_type": "markdown",
      "source": [
        "프로그래밍 언어는 크게 두가지 실행 방식으로 나뉠수 있습니다.\n",
        "\n",
        "* **절차지향적 코드**\n",
        "  - 위에서부터 아래로 순서대로 코드가 진행된다.\n",
        "  - ex) c++는 절차지향만을 사용\n",
        "\n",
        "* **객체지향적 코드**\n",
        "  - 객체지향은 객체를 만들어서 이 객체를 언제, 어디서든, 몇개든 사용할 수 있도록 하는 것\n",
        "  - ex) 자바, 파이썬 등\n",
        "\n"
      ],
      "metadata": {
        "id": "Ee54frgJYOr8"
      }
    },
    {
      "cell_type": "markdown",
      "metadata": {
        "id": "4azv1P74n23k"
      },
      "source": [
        "###**(1) 정의**\n",
        "\n",
        "클래스는 아래와 같이 정의 할 수 있습니다. \n",
        "\n",
        "\n",
        "```\n",
        "class Student:\n",
        "    pass\n",
        "```\n",
        "\n"
      ]
    },
    {
      "cell_type": "code",
      "metadata": {
        "id": "myVCV-mSn23l"
      },
      "source": [
        "class Student:\n",
        "    pass"
      ],
      "execution_count": 1,
      "outputs": []
    },
    {
      "cell_type": "markdown",
      "source": [
        "클래스를 만들어 놓으면 틀만 만들어 놓은것과 같습니다. 이제 틀을 이용하여 인스턴스를 만들어 봅시다. "
      ],
      "metadata": {
        "id": "7jJg3FA2iRtY"
      }
    },
    {
      "cell_type": "markdown",
      "metadata": {
        "id": "KCOmBjQRn23l"
      },
      "source": [
        "###**(2) 인스턴스 생성**\n",
        "\n",
        "인스턴스란 위에서 만든 클래스라는 틀을 이용해 똑같은 일을 하는 함수들을 찍어내는 것을 말합니다. Student 클래스의 인스턴스를 생성하고 이를 me 라는 변수로 바인딩합시다.\n",
        "\n",
        "```\n",
        "me = Student()\n",
        "```\n",
        "\n"
      ]
    },
    {
      "cell_type": "code",
      "metadata": {
        "id": "HJi-ra_wn23l"
      },
      "source": [
        "me = Student()"
      ],
      "execution_count": 2,
      "outputs": []
    },
    {
      "cell_type": "markdown",
      "source": [
        "이제부터는 `me`라는 객체를 이용해서 클래스 내부의 여러가지 기능을 사용할 수 있습니다. 하지만 우리가 방금 만든 `Student`라는 클래스는 아무런 기능을 하지 않습니다. 기능을 할 수 있도록 클래스 내부에 속성을 추가해 봅시다. "
      ],
      "metadata": {
        "id": "ZkrmiFLzlWzX"
      }
    },
    {
      "cell_type": "markdown",
      "metadata": {
        "id": "QZ3_evMHn23l"
      },
      "source": [
        "###**(3) 속성**"
      ]
    },
    {
      "cell_type": "markdown",
      "source": [
        "#### **초기화 메서드**\n",
        "\n",
        "\n",
        "`__init__` 메서드는 초기화 메서드입니다. 클래스가 생성되면 `__init__` 메서드가 자동적으로 실행되며 클래스의 값을 지정된 값으로 초기화 합니다. 이 때 값은 인스턴스를 만들 때 넣어준 인자로 만듭니다. \n",
        "\n",
        "`Student` 클래스에 이를 이용해 초기값을 세팅해 봅시다. 학생의 이름과 수강 과목, 그리고 레벨을 정의합시다. 이름과 수강 과목은 인스턴스를 생성할 때 입려개하도록 하고, 레벨은 0부터 시작하도록 합시다.\n",
        "\n",
        "\n",
        "```\n",
        "class Student():\n",
        "    def __init__(self, name, subject):\n",
        "      self.name = name\n",
        "      self.subject = subject\n",
        "      self.level = 0\n",
        "\n",
        "me = Student(\"김모모\", \"기초반\")\n",
        "\n",
        "```"
      ],
      "metadata": {
        "id": "PDR3CtnZoUj1"
      }
    },
    {
      "cell_type": "markdown",
      "metadata": {
        "id": "P3KmS4awqk6E"
      },
      "source": [
        "* 클래스 생성"
      ]
    },
    {
      "cell_type": "code",
      "metadata": {
        "id": "tUKx8JbCqk6F"
      },
      "source": [
        "class Student():\n",
        "    def __init__(self, name, subject):\n",
        "      self.name = name\n",
        "      self.subject = subject\n",
        "      self.level = 0\n"
      ],
      "execution_count": 4,
      "outputs": []
    },
    {
      "cell_type": "markdown",
      "metadata": {
        "id": "NUcDQ1mUqk6F"
      },
      "source": [
        "* 인스턴스 생성"
      ]
    },
    {
      "cell_type": "code",
      "metadata": {
        "id": "KKAusE2Hqk6F"
      },
      "source": [
        "me = Student(\"김모모\", \"기초반\")"
      ],
      "execution_count": 5,
      "outputs": []
    },
    {
      "cell_type": "markdown",
      "metadata": {
        "id": "qjwD6iv4n23m"
      },
      "source": [
        "####**인스턴스 속성 접근**\n",
        "\n",
        "위에서 생성한 인스턴스의 속성들 name, subject, level에 접근하고 출력합니다. \n",
        "```\n",
        "me.name, me.subject, me.level\n",
        "```"
      ]
    },
    {
      "cell_type": "code",
      "metadata": {
        "id": "7tuZarTSn23m",
        "colab": {
          "base_uri": "https://localhost:8080/"
        },
        "outputId": "fc796c6a-c808-4dff-ed33-40cf2f223696"
      },
      "source": [
        "me.name, me.subject, me.level"
      ],
      "execution_count": 6,
      "outputs": [
        {
          "output_type": "execute_result",
          "data": {
            "text/plain": [
              "('김모모', '기초반', 0)"
            ]
          },
          "metadata": {},
          "execution_count": 6
        }
      ]
    },
    {
      "cell_type": "markdown",
      "metadata": {
        "id": "p0QGxnV3n23m"
      },
      "source": [
        "###**(4) 클래스 메서드**\n",
        "\n",
        "class 안에서 메서드를 추가 할 수 있습니다. Student 클래스 안에 인사를 출력하는 `introduce` 메서드를 추가해보겠습니다. \n",
        "클래스 안에 메서드를 만들 때는 기본적으로 메서드 안에 `self`가 들어가야 합니다. \n",
        "\n",
        "```\n",
        "# 클래스 생성\n",
        "class Student():\n",
        "    def __init__(self, name, subject):\n",
        "      self.name = name\n",
        "      self.subject = subject\n",
        "      self.level = 0\n",
        "\n",
        "    def introduce(self):\n",
        "      print(f\"안녕하세요. {self.subject} 수업을 듣는 {self.name} 입니다.\")\n",
        "\n",
        "# 인스턴스 생성\n",
        "me = Student(\"김모모\", \"기초반\")\n",
        "\n",
        "# 메서드 실행\n",
        "me.introduce()\n",
        "```"
      ]
    },
    {
      "cell_type": "markdown",
      "metadata": {
        "id": "7st1KEFjn23m"
      },
      "source": [
        "* 클래스 생성"
      ]
    },
    {
      "cell_type": "code",
      "metadata": {
        "id": "9X7zV8mln23m"
      },
      "source": [
        "class Student():\n",
        "    def __init__(self, name, subject):\n",
        "      self.name = name\n",
        "      self.subject = subject\n",
        "      self.level = 0\n",
        "\n",
        "    def introduce(self):\n",
        "      print(f\"안녕하세요. {self.subject} 수업을 듣는 {self.name} 입니다.\")"
      ],
      "execution_count": 7,
      "outputs": []
    },
    {
      "cell_type": "markdown",
      "metadata": {
        "id": "ESSI1NKon23m"
      },
      "source": [
        "* 인스턴스 생성"
      ]
    },
    {
      "cell_type": "code",
      "metadata": {
        "id": "zYkKsuupn23m"
      },
      "source": [
        "me = Student(\"김모모\", \"기초반\")"
      ],
      "execution_count": 8,
      "outputs": []
    },
    {
      "cell_type": "markdown",
      "metadata": {
        "id": "jKNKPdlon23m"
      },
      "source": [
        "* `introduct()` 메서드 실행"
      ]
    },
    {
      "cell_type": "code",
      "source": [
        "me.introduce()"
      ],
      "metadata": {
        "id": "aR_cJ1LTnpHk",
        "colab": {
          "base_uri": "https://localhost:8080/"
        },
        "outputId": "c348bf86-9755-4a99-cd19-26d9ffc76758"
      },
      "execution_count": 9,
      "outputs": [
        {
          "output_type": "stream",
          "name": "stdout",
          "text": [
            "안녕하세요. 기초반 수업을 듣는 김모모 입니다.\n"
          ]
        }
      ]
    },
    {
      "cell_type": "markdown",
      "source": [
        "#### **또다른 인스턴스 생성**\n",
        "\n",
        "앞서 클래스 자체는 틀이고 인스턴스는 그 틀에서 찍어낸 함수와 같다 했습니다. `me`라는 인스턴스 말고 `you`라는 인스턴스를 생성해 봅시다. \n",
        "\n",
        "* 인스턴스 생성\n",
        "\n",
        "```\n",
        "you = Student(\"김학생\", \"수반\")\n",
        "\n",
        "```"
      ],
      "metadata": {
        "id": "b-Sq8YL-s8Oy"
      }
    },
    {
      "cell_type": "code",
      "source": [
        "you = Student('김학생', '수반')"
      ],
      "metadata": {
        "id": "-lnmBLFRbFbl"
      },
      "execution_count": 10,
      "outputs": []
    },
    {
      "cell_type": "markdown",
      "source": [
        "* introduce() 메서드 실행\n",
        "\n",
        "```\n",
        "you.introuduce()\n",
        "```"
      ],
      "metadata": {
        "id": "2q47vsMfvTYM"
      }
    },
    {
      "cell_type": "code",
      "source": [
        "you.introduce()"
      ],
      "metadata": {
        "id": "XogKQrBHvQ_-",
        "colab": {
          "base_uri": "https://localhost:8080/"
        },
        "outputId": "e055a7cc-df3d-4161-8b14-5dba97571013"
      },
      "execution_count": 11,
      "outputs": [
        {
          "output_type": "stream",
          "name": "stdout",
          "text": [
            "안녕하세요. 수반 수업을 듣는 김학생 입니다.\n"
          ]
        }
      ]
    },
    {
      "cell_type": "markdown",
      "source": [
        "#### **메서드에 입력변수 추가하기**\n",
        "\n",
        "이번에는 클래스에 레벨을 올리는 `levelup` 메서드를 추가해봅시다. 이 메서드에는 레벨을 얼만큼 올릴지를 인풋으로 받을 겁니다. \n",
        "\n",
        "```\n",
        "# 클래스 생성\n",
        "class Student():\n",
        "    def __init__(self, name, subject):\n",
        "      self.name = name\n",
        "      self.subject = subject\n",
        "      self.level = 0\n",
        "\n",
        "    def introduce(self):\n",
        "      print(f\"안녕하세요. {self.subject} 수업을 듣는 {self.name} 입니다.\")\n",
        "\n",
        "    def levelup(self, l)\n",
        "      level_before = self.level\n",
        "      self.level = self.level+l\n",
        "      print(f\"{level_before}에서 {self.level}로 레벨업 했습니다.\")\n",
        "\n",
        "# 인스턴스 생성\n",
        "me = Student(\"김모모\", \"기초반\")\n",
        "\n",
        "# 메서드 실행\n",
        "me.introduce()\n",
        "\n",
        "```"
      ],
      "metadata": {
        "id": "J1CXlJND_9tJ"
      }
    },
    {
      "cell_type": "markdown",
      "metadata": {
        "id": "CsYlr8M-A9Sr"
      },
      "source": [
        "* 클래스 생성"
      ]
    },
    {
      "cell_type": "code",
      "metadata": {
        "id": "6L8J9AwLA9Ss"
      },
      "source": [
        "class Student():\n",
        "    def __init__(self, name, subject):\n",
        "      self.name = name\n",
        "      self.subject = subject\n",
        "      self.level = 0\n",
        "\n",
        "    def introduce(self):\n",
        "      print(f\"안녕하세요. {self.subject} 수업을 듣는 {self.name} 입니다.\")\n",
        "\n",
        "    def levelup(self, l) : # 얼마나 레벨을 올릴지\n",
        "      level_before = self.level\n",
        "      self.level = self.level+l\n",
        "      print(f\"{self.name}는 {level_before}에서 {self.level}로 레벨업 했습니다.\")"
      ],
      "execution_count": 31,
      "outputs": []
    },
    {
      "cell_type": "markdown",
      "metadata": {
        "id": "5NI7YvkWA9Ss"
      },
      "source": [
        "* 인스턴스 생성"
      ]
    },
    {
      "cell_type": "code",
      "metadata": {
        "id": "KLPvCX4YA9Ss"
      },
      "source": [
        "me = Student(\"김모모\", \"기초반\")\n",
        "you = Student('박모모', '수반')"
      ],
      "execution_count": 32,
      "outputs": []
    },
    {
      "cell_type": "markdown",
      "metadata": {
        "id": "areIEkhtA9Ss"
      },
      "source": [
        "* `levelup()` 메서드 실행\n",
        "\n",
        "`levelup` 메서드는 `level_step` 이라는 변수를 필요로 합니다. 따라서 몇레벨을 업할 것인지 적어줍니다."
      ]
    },
    {
      "cell_type": "code",
      "source": [
        "me.levelup(5)\n",
        "you.levelup(3)"
      ],
      "metadata": {
        "id": "eFB8RWhTA9Ss",
        "colab": {
          "base_uri": "https://localhost:8080/"
        },
        "outputId": "068448c3-7a8c-48a4-a3cc-24ca236dfbe5"
      },
      "execution_count": 36,
      "outputs": [
        {
          "output_type": "stream",
          "name": "stdout",
          "text": [
            "김모모는 5에서 10로 레벨업 했습니다.\n",
            "박모모는 3에서 6로 레벨업 했습니다.\n"
          ]
        }
      ]
    },
    {
      "cell_type": "markdown",
      "source": [
        "* `self.level` 값 확인\n",
        "\n",
        "level 초기 값을 0으로 설정했습니다. levelup 메서드를 이용하여 level 이라는 속성값을 변경하였으니 이를 확인해 봅시다."
      ],
      "metadata": {
        "id": "Wo9d9vi6EIP9"
      }
    },
    {
      "cell_type": "code",
      "source": [
        "me.level # __init__에 있는 level을 확인"
      ],
      "metadata": {
        "id": "VdIrwqXNvllc",
        "colab": {
          "base_uri": "https://localhost:8080/"
        },
        "outputId": "5b9d6f31-a8a1-40b3-a69f-73de8ff8face"
      },
      "execution_count": 37,
      "outputs": [
        {
          "output_type": "execute_result",
          "data": {
            "text/plain": [
              "10"
            ]
          },
          "metadata": {},
          "execution_count": 37
        }
      ]
    },
    {
      "cell_type": "code",
      "source": [
        ""
      ],
      "metadata": {
        "id": "45vJW9EFsnHO"
      },
      "execution_count": null,
      "outputs": []
    },
    {
      "cell_type": "markdown",
      "source": [
        "## 문제풀이\n",
        "\n"
      ],
      "metadata": {
        "id": "u-Cy_ATTtF_n"
      }
    },
    {
      "cell_type": "code",
      "source": [
        "import random \n",
        "\n",
        "class 인생게임() :\n",
        "  def __init__(self, nickname) :\n",
        "    self.nickname = nickname\n",
        "    self.money = 10000\n",
        "    self.age = 20\n",
        "    self.skill = {'요리':0, '청소':0, '수학':1}\n",
        "\n",
        "  def lotto(self) :\n",
        "    # 로또 번호 3개 뽑기, 비용은 -2000\n",
        "    # 1개 맞출 떄 마다 ~~\n",
        "    lotto_list = []\n",
        "    lotto_num = random.randint(1,10)\n",
        "    for i in range(3) :\n",
        "      while lotto_num in lotto_list:\n",
        "        lotto_num = random.randint(1,10)\n",
        "      lotto_list.append(lotto_num)\n",
        "\n",
        "    print(f'{lotto_list}')\n",
        "\n",
        "    before_money = self.money\n",
        "    self.money = self.money - 2000\n",
        "\n",
        "    input_num = input('입력 : ')\n",
        "    my_choice_num = list(map(int,str(input_num)))\n",
        "    \n",
        "    for i in my_choice_num :\n",
        "      if i in lotto_list :\n",
        "        self.money = self.money + 1000\n",
        "    \n",
        "    print(f'로또를 사고 난 후 내 돈은 {self.money}원이 되었습니다!')\n",
        "\n",
        "    if before_money <= self.money :\n",
        "      print(f'{self.nickname}은 {self.money - before_money}원을 벌었습니다!  ')\n",
        "    else :\n",
        "      print(f'{self.nickname}는 {before_money - self.money}원을 잃었습니다...')\n",
        "\n",
        "\n",
        "  def learn(self,skill,learning) : # 학원 가서 공부하면 레벨업\n",
        "    before_skill = self.skill[skill]\n",
        "    self.skill[skill] += learning\n",
        "\n",
        "    after_learn = self.skill[skill]\n",
        "    print(f' {self.nickname}은 {learning}시간 공부해서 {skill}의 스킬이 {before_skill}에서 { after_learn }가 되었습니다! ')\n",
        "\n",
        "  def work(self) : # 알바해서 돈을 벌기\n",
        "\n",
        "    work_time = int(input('일 할 시간을 정하세요 : '))\n",
        "    work_money = work_time * 9160\n",
        "    self.money += work_money\n",
        "\n",
        "    print(f'{self.nickname}은 {work_time}시간 일해서 {work_money}원을 벌었습니다! ')\n",
        "    print(f'{self.nickname}은 지금 {self.money}원을 가지고 있습니다! ')\n",
        "\n",
        "  def new_skill(self, want_skill ) : # 새로운 스킬 등록\n",
        "    running_time = int(input('몇 시간 공부하시겠습니까 : '))\n",
        "\n",
        "    if running_time >= 3 : \n",
        "      self.skill[want_skill] = 0\n",
        "      print(f'{self.nickname}은 {running_time}만큼 공부하여 {want_skill}을 습득하였습니다! ')\n",
        "      print(f'{self.nickname}의 현재 스킬은 {self.skill}입니다. ')\n",
        "    else :\n",
        "      print('노력이 부족하여 스킬을 얻지 못했습니다...')\n",
        "      print(f'{self.nickname}의 현재 스킬은 {self.skill}입니다. ')\n",
        "    \n",
        "    \n",
        "\n",
        "me = 인생게임('abc')"
      ],
      "metadata": {
        "id": "BM0vLxmMtKyG"
      },
      "execution_count": 127,
      "outputs": []
    },
    {
      "cell_type": "code",
      "source": [
        "me.lotto()"
      ],
      "metadata": {
        "colab": {
          "base_uri": "https://localhost:8080/"
        },
        "id": "Pq8bZGC15eJA",
        "outputId": "96acf4f6-ee63-4918-a49b-32e2cad783f9"
      },
      "execution_count": 128,
      "outputs": [
        {
          "output_type": "stream",
          "name": "stdout",
          "text": [
            "[8, 2, 9]\n",
            "입력 : 829\n",
            "로또를 사고 난 후 내 돈은 11000원이 되었습니다!\n",
            "abc은 1000원을 벌었습니다!  \n"
          ]
        }
      ]
    },
    {
      "cell_type": "code",
      "source": [
        "me.lotto()"
      ],
      "metadata": {
        "colab": {
          "base_uri": "https://localhost:8080/"
        },
        "id": "chidO3AS6MFp",
        "outputId": "248bbdcb-4ca2-4c71-d36f-c128e01af6b2"
      },
      "execution_count": 129,
      "outputs": [
        {
          "output_type": "stream",
          "name": "stdout",
          "text": [
            "[1, 9, 7]\n",
            "입력 : 245\n",
            "로또를 사고 난 후 내 돈은 9000원이 되었습니다!\n",
            "abc는 2000원을 잃었습니다...\n"
          ]
        }
      ]
    },
    {
      "cell_type": "code",
      "source": [
        "me.learn('청소',5)"
      ],
      "metadata": {
        "colab": {
          "base_uri": "https://localhost:8080/"
        },
        "id": "Fx18VhdM0qSX",
        "outputId": "bc90ff3c-359c-40ee-aa74-f158f989ddb5"
      },
      "execution_count": 130,
      "outputs": [
        {
          "output_type": "stream",
          "name": "stdout",
          "text": [
            " abc은 5시간 공부해서 청소의 스킬이 0에서 5가 되었습니다! \n"
          ]
        }
      ]
    },
    {
      "cell_type": "code",
      "source": [
        "me.work()"
      ],
      "metadata": {
        "colab": {
          "base_uri": "https://localhost:8080/"
        },
        "id": "2kdL9EXx1U0A",
        "outputId": "9635cd26-bb7d-47dc-faed-b227800318d5"
      },
      "execution_count": 131,
      "outputs": [
        {
          "output_type": "stream",
          "name": "stdout",
          "text": [
            "일 할 시간을 정하세요 : 5\n",
            "abc은 5시간 일해서 45800원을 벌었습니다! \n",
            "abc은 지금 54800원을 가지고 있습니다! \n"
          ]
        }
      ]
    },
    {
      "cell_type": "code",
      "source": [
        "me.new_skill('영어')"
      ],
      "metadata": {
        "colab": {
          "base_uri": "https://localhost:8080/"
        },
        "id": "qpXP91Ob2vkg",
        "outputId": "4098d965-411d-4876-c22f-1a7a9bb41035"
      },
      "execution_count": 133,
      "outputs": [
        {
          "output_type": "stream",
          "name": "stdout",
          "text": [
            "몇 시간 공부하시겠습니까 : 3\n",
            "abc은 3만큼 공부하여 영어을 습득하였습니다! \n",
            "abc의 현재 스킬은 {'요리': 0, '청소': 5, '수학': 1, '영어': 0}입니다. \n"
          ]
        }
      ]
    },
    {
      "cell_type": "code",
      "source": [
        "me.new_skill('과학')"
      ],
      "metadata": {
        "colab": {
          "base_uri": "https://localhost:8080/"
        },
        "id": "3p5qn6XK5JAS",
        "outputId": "0c81fc4a-893b-4456-c866-d58225ed1de8"
      },
      "execution_count": 134,
      "outputs": [
        {
          "output_type": "stream",
          "name": "stdout",
          "text": [
            "몇 시간 공부하시겠습니까 : 1\n",
            "노력이 부족하여 스킬을 얻지 못했습니다...\n",
            "abc의 현재 스킬은 {'요리': 0, '청소': 5, '수학': 1, '영어': 0}입니다. \n"
          ]
        }
      ]
    },
    {
      "cell_type": "code",
      "source": [
        ""
      ],
      "metadata": {
        "id": "Ks4IJXie5Ru4"
      },
      "execution_count": null,
      "outputs": []
    }
  ]
}