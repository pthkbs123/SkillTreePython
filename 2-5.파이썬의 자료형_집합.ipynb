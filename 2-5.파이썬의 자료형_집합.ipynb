{
  "nbformat": 4,
  "nbformat_minor": 0,
  "metadata": {
    "colab": {
      "name": "2-5.파이썬의 자료형_집합.ipynb",
      "provenance": [],
      "collapsed_sections": [],
      "include_colab_link": true
    },
    "kernelspec": {
      "name": "python3",
      "display_name": "Python 3"
    },
    "language_info": {
      "name": "python"
    }
  },
  "cells": [
    {
      "cell_type": "markdown",
      "metadata": {
        "id": "view-in-github",
        "colab_type": "text"
      },
      "source": [
        "<a href=\"https://colab.research.google.com/github/pthkbs123/SkillTreePython/blob/main/2-5.%ED%8C%8C%EC%9D%B4%EC%8D%AC%EC%9D%98%20%EC%9E%90%EB%A3%8C%ED%98%95_%EC%A7%91%ED%95%A9.ipynb\" target=\"_parent\"><img src=\"https://colab.research.google.com/assets/colab-badge.svg\" alt=\"Open In Colab\"/></a>"
      ]
    },
    {
      "cell_type": "markdown",
      "source": [
        "# 2-5.파이썬의 자료형:집합 \n",
        "---\n",
        "* 날짜: 2022-03-31\n",
        "* 이름: 박태현"
      ],
      "metadata": {
        "id": "kB5IciXEm6o4"
      }
    },
    {
      "cell_type": "markdown",
      "source": [
        "## 개념정리\n",
        "---\n",
        "\n",
        "\n",
        "수학에서 쓰이는 집합의 개념과 비슷하게 파이썬에서도 집합 (set) 을 사용할 수 있습니다. "
      ],
      "metadata": {
        "id": "4iN8NFzHRJ2D"
      }
    },
    {
      "cell_type": "markdown",
      "source": [
        "### **(1) 생성**\n",
        "\n",
        "괄호 `{ }` 를 통해서 집합을 생성 할 수 있습니다. \n",
        "\n",
        "```\n",
        "a = {1,2,3}\n",
        "type(a)\n",
        "```"
      ],
      "metadata": {
        "id": "MAM8MDnfw68b"
      }
    },
    {
      "cell_type": "code",
      "source": [
        "a = {1,2,3}\n",
        "type(a)"
      ],
      "metadata": {
        "id": "GcyrxnDviDbz",
        "colab": {
          "base_uri": "https://localhost:8080/"
        },
        "outputId": "a20d5c52-8f28-4b97-e04f-67fdeb307691"
      },
      "execution_count": null,
      "outputs": [
        {
          "output_type": "execute_result",
          "data": {
            "text/plain": [
              "set"
            ]
          },
          "metadata": {},
          "execution_count": 1
        }
      ]
    },
    {
      "cell_type": "markdown",
      "source": [
        "#### **집합의 요소**\n",
        "\n",
        "집합의 요소로는 문자열, 수치자료형, 튜플이 가능합니다. \n",
        "\n",
        "```\n",
        "a = {'a', 1, 0.5, (2,3)}\n",
        "print(a)\n",
        "```"
      ],
      "metadata": {
        "id": "U6_8nueJiDlL"
      }
    },
    {
      "cell_type": "code",
      "source": [
        "a = {'a', 1, 0.5, (2,3)}\n",
        "print(a)"
      ],
      "metadata": {
        "id": "RU88pe1yiGVH",
        "colab": {
          "base_uri": "https://localhost:8080/"
        },
        "outputId": "f8edec0c-c1a5-44bd-8984-79b3e9dd32df"
      },
      "execution_count": null,
      "outputs": [
        {
          "output_type": "stream",
          "name": "stdout",
          "text": [
            "{0.5, 1, 'a', (2, 3)}\n"
          ]
        }
      ]
    },
    {
      "cell_type": "markdown",
      "source": [
        "\n",
        "`bool` 자료형 유의\n",
        "\n",
        "```\n",
        "a = {'a', 1, 0.5, (2,3), True}\n",
        "print(a)\n",
        "```"
      ],
      "metadata": {
        "id": "o11x3vZLiIuL"
      }
    },
    {
      "cell_type": "code",
      "source": [
        "a = {'a', 1, 0.5, (2,3), True}\n",
        "print(a)"
      ],
      "metadata": {
        "id": "Y3bS0uiKiI8X",
        "colab": {
          "base_uri": "https://localhost:8080/"
        },
        "outputId": "0d0ead3d-1f14-4243-bcd2-8b3bf6c60683"
      },
      "execution_count": null,
      "outputs": [
        {
          "output_type": "stream",
          "name": "stdout",
          "text": [
            "{0.5, 1, 'a', (2, 3)}\n"
          ]
        }
      ]
    },
    {
      "cell_type": "markdown",
      "source": [
        "다른 군집 자료형 (리스트, 딕셔너리, 집합) 등은 에러 메시지가 뜹니다. \n",
        " \n",
        "```\n",
        "a = {'a', 1, 0.5, (2,3), [1,2]}\n",
        "print(a)\n",
        "```"
      ],
      "metadata": {
        "id": "don0VECoiNyT"
      }
    },
    {
      "cell_type": "code",
      "source": [
        " = {'a', 1, 0.5, (2,3), [1,2]}\n",
        "print(a)"
      ],
      "metadata": {
        "id": "zOi241MJiMPv",
        "colab": {
          "base_uri": "https://localhost:8080/",
          "height": 137
        },
        "outputId": "093fa22e-c76c-4042-b27f-5904ba28a224"
      },
      "execution_count": null,
      "outputs": [
        {
          "output_type": "error",
          "ename": "SyntaxError",
          "evalue": "ignored",
          "traceback": [
            "\u001b[0;36m  File \u001b[0;32m\"<ipython-input-4-9902ea6f92e5>\"\u001b[0;36m, line \u001b[0;32m1\u001b[0m\n\u001b[0;31m    = {'a', 1, 0.5, (2,3), [1,2]}\u001b[0m\n\u001b[0m    ^\u001b[0m\n\u001b[0;31mSyntaxError\u001b[0m\u001b[0;31m:\u001b[0m invalid syntax\n"
          ]
        }
      ]
    },
    {
      "cell_type": "markdown",
      "source": [
        "### **(2) 집합의 특징**\n",
        "\n",
        "다른 군집자료형(문자열, 리스트, 튜플, 딕셔너리)과 다른 집합만의 특징은 두가지가 있습니다.\n",
        "\n",
        "* 중복을 불허용\n",
        "* 순서가 없음"
      ],
      "metadata": {
        "id": "CjyNzVr4jG2e"
      }
    },
    {
      "cell_type": "markdown",
      "source": [
        "#### **중복불허용**\n",
        "\n",
        "집합에는 중복되는 값이 존재 하지 않습니다. 따라서 아래와 같이 초기값으로 중복된 요소를 넣더라도 중복값은 자동적으로 제거됩니다. \n",
        "\n",
        "```\n",
        "a = {1,2,2,2,3}\n",
        "print(a)\n",
        "```"
      ],
      "metadata": {
        "id": "pljO0lepjKDT"
      }
    },
    {
      "cell_type": "code",
      "source": [
        "a = {1,2,2,2,3}\n",
        "print(a)"
      ],
      "metadata": {
        "id": "HKTb0NaAiPwH",
        "colab": {
          "base_uri": "https://localhost:8080/"
        },
        "outputId": "df04acbb-494d-4586-a372-fdf537cc031d"
      },
      "execution_count": null,
      "outputs": [
        {
          "output_type": "stream",
          "name": "stdout",
          "text": [
            "{1, 2, 3}\n"
          ]
        }
      ]
    },
    {
      "cell_type": "markdown",
      "source": [
        "이러한 특징을 가지고 있기 때문에 다른 군집 자료형에 대해 중복을 제거하기 위해 집합으로 바꾸기도 합니다. \n",
        "\n",
        "```\n",
        "a_list = [1,2,3,2]\n",
        "a = set(a_list)\n",
        "a_list = list(a)\n",
        "print(a_list)\n",
        "```"
      ],
      "metadata": {
        "id": "lx7A3mBmjN_U"
      }
    },
    {
      "cell_type": "code",
      "source": [
        "a_list = [1,2,3,2,2,3,2,3,2,3,2,2,2,3,3]\n",
        "print(a_list)\n",
        "a = set(a_list)\n",
        "a_list = list(a)\n",
        "print(a_list)"
      ],
      "metadata": {
        "id": "eRDREQWHjMYY",
        "colab": {
          "base_uri": "https://localhost:8080/"
        },
        "outputId": "fc0e64b5-f0ea-4a35-8c32-6dcd77b8d8d2"
      },
      "execution_count": null,
      "outputs": [
        {
          "output_type": "stream",
          "name": "stdout",
          "text": [
            "[1, 2, 3, 2, 2, 3, 2, 3, 2, 3, 2, 2, 2, 3, 3]\n",
            "[1, 2, 3]\n"
          ]
        }
      ]
    },
    {
      "cell_type": "markdown",
      "source": [
        "#### **순서없음**\n",
        "\n",
        "집합에는 순서 개념이 없습니다. 따라서 군집 자료형을 집합으로 만드는 순간 자동으로 정렬됩니다.\n",
        "\n",
        "```\n",
        "a = {3,2,1}\n",
        "print(a)\n",
        "```"
      ],
      "metadata": {
        "id": "MXueNG18jQt5"
      }
    },
    {
      "cell_type": "code",
      "source": [
        "a = {3,2,1}\n",
        "print(a)"
      ],
      "metadata": {
        "id": "ezV3TvM9jPJW",
        "colab": {
          "base_uri": "https://localhost:8080/"
        },
        "outputId": "efd3faed-785c-4505-c3ce-13d8ee94e444"
      },
      "execution_count": null,
      "outputs": [
        {
          "output_type": "stream",
          "name": "stdout",
          "text": [
            "{1, 2, 3}\n"
          ]
        }
      ]
    },
    {
      "cell_type": "markdown",
      "source": [
        "집합 자료형에는 순서가 없기 때문에 인덱싱과 슬라이싱을 사용 할 수 없습니다. \n",
        "\n",
        "\n",
        "```\n",
        "a = {1,2,3,4}\n",
        "a[0]\n",
        "```"
      ],
      "metadata": {
        "id": "iUERHQD4jUPy"
      }
    },
    {
      "cell_type": "code",
      "source": [
        "a = {1,2,3,4}\n",
        "a[0]"
      ],
      "metadata": {
        "id": "6TBShyXDjS3m",
        "colab": {
          "base_uri": "https://localhost:8080/",
          "height": 193
        },
        "outputId": "bdfc7f8c-34e7-42a7-8d23-0f476e037c60"
      },
      "execution_count": null,
      "outputs": [
        {
          "output_type": "error",
          "ename": "TypeError",
          "evalue": "ignored",
          "traceback": [
            "\u001b[0;31m---------------------------------------------------------------------------\u001b[0m",
            "\u001b[0;31mTypeError\u001b[0m                                 Traceback (most recent call last)",
            "\u001b[0;32m<ipython-input-8-c3b52472fc16>\u001b[0m in \u001b[0;36m<module>\u001b[0;34m()\u001b[0m\n\u001b[1;32m      1\u001b[0m \u001b[0ma\u001b[0m \u001b[0;34m=\u001b[0m \u001b[0;34m{\u001b[0m\u001b[0;36m1\u001b[0m\u001b[0;34m,\u001b[0m\u001b[0;36m2\u001b[0m\u001b[0;34m,\u001b[0m\u001b[0;36m3\u001b[0m\u001b[0;34m,\u001b[0m\u001b[0;36m4\u001b[0m\u001b[0;34m}\u001b[0m\u001b[0;34m\u001b[0m\u001b[0;34m\u001b[0m\u001b[0m\n\u001b[0;32m----> 2\u001b[0;31m \u001b[0ma\u001b[0m\u001b[0;34m[\u001b[0m\u001b[0;36m0\u001b[0m\u001b[0;34m]\u001b[0m\u001b[0;34m\u001b[0m\u001b[0;34m\u001b[0m\u001b[0m\n\u001b[0m",
            "\u001b[0;31mTypeError\u001b[0m: 'set' object is not subscriptable"
          ]
        }
      ]
    },
    {
      "cell_type": "markdown",
      "source": [
        "### **(3) 집합의 연산**\n",
        "\n",
        "리스트나 튜플과 달리 집합은 `+` 나 * 연산이 불가능 합니다. 하지만 수학적 집합 개념과 마찬가지로 교집합, 합집합 차집합의 연산을 할 수 있습니다. \n"
      ],
      "metadata": {
        "id": "WtdWHrXmjWoj"
      }
    },
    {
      "cell_type": "markdown",
      "source": [
        "\n",
        "#### **교집합**\n",
        "\n",
        "집합 `a`와 집합 `B`의 교집합을 구합니다. 참고로 `&`기호는 대부분의 언어에서 `and` 를 뜻합니다. \n",
        "\n",
        "* `a&b`  \n",
        "* `a.intersection(b)` \n",
        "\n",
        "\n",
        "```\n",
        "a = {1,2,3}\n",
        "b = {3,4,5}\n",
        "\n",
        "print(a & b, a.intersection(b), b.intersection(a))\n",
        "```"
      ],
      "metadata": {
        "id": "vM_yxOEljZiQ"
      }
    },
    {
      "cell_type": "code",
      "source": [
        "a = {1,2,3}\n",
        "b = {3,4,5}\n",
        "\n",
        "print(a & b, a.intersection(b), b.intersection(a)) # 반환값도 집합으로 나옴"
      ],
      "metadata": {
        "id": "qw6BYQxhjVP2",
        "colab": {
          "base_uri": "https://localhost:8080/"
        },
        "outputId": "9b52e94d-5094-43b1-96ec-5551d807de47"
      },
      "execution_count": null,
      "outputs": [
        {
          "output_type": "stream",
          "name": "stdout",
          "text": [
            "{3} {3} {3}\n"
          ]
        }
      ]
    },
    {
      "cell_type": "markdown",
      "source": [
        "#### **합집합**\n",
        "\n",
        "집합 `a`와 집합 `B`의 합집합을 구합니다. 참고로 `|`기호는 대부분의 언어에서 `or` 를 뜻합니다. \n",
        "\n",
        "* `a|b`  \n",
        "* `a.union(b)` \n",
        "\n",
        "```\n",
        "a = set([1,2,3])\n",
        "b = set([3,4,5])\n",
        "a | b, a.union(b), b.union(a) # a U b\n",
        "```"
      ],
      "metadata": {
        "id": "ur-Z2CmSjg_o"
      }
    },
    {
      "cell_type": "code",
      "source": [
        "a = set([1,2,3])\n",
        "b = set([3,4,5])\n",
        "a | b, a.union(b), b.union(a) # a U b"
      ],
      "metadata": {
        "id": "Q_z2_tTnjfTr",
        "colab": {
          "base_uri": "https://localhost:8080/"
        },
        "outputId": "3c288f1c-b3fe-482e-c032-be88e7b03743"
      },
      "execution_count": null,
      "outputs": [
        {
          "output_type": "execute_result",
          "data": {
            "text/plain": [
              "({1, 2, 3, 4, 5}, {1, 2, 3, 4, 5}, {1, 2, 3, 4, 5})"
            ]
          },
          "metadata": {},
          "execution_count": 11
        }
      ]
    },
    {
      "cell_type": "markdown",
      "source": [
        "#### **차집합**\n",
        "\n",
        "집합 `a`와 집합 `B`의 차집합을 구합니다.\n",
        "\n",
        "* `a-b`\n",
        "* `a.difference(b)`\n",
        "\n",
        "```\n",
        "a = set([1,2,3])\n",
        "b = set([3,4,5])\n",
        "print( a-b, a.difference(b) )\n",
        "print( b-a, b.difference(a) )\n",
        "```"
      ],
      "metadata": {
        "id": "QFxU957kjk00"
      }
    },
    {
      "cell_type": "code",
      "source": [
        "a = set([1,2,3])\n",
        "b = set([3,4,5])\n",
        "print( a-b, a.difference(b) )\n",
        "print( b-a, b.difference(a) )"
      ],
      "metadata": {
        "id": "0yL7BXWOjiLv",
        "colab": {
          "base_uri": "https://localhost:8080/"
        },
        "outputId": "3fd4c8b7-5c31-45a1-b6c7-c8aca653b27f"
      },
      "execution_count": null,
      "outputs": [
        {
          "output_type": "stream",
          "name": "stdout",
          "text": [
            "{1, 2} {1, 2}\n",
            "{4, 5} {4, 5}\n"
          ]
        }
      ]
    },
    {
      "cell_type": "markdown",
      "source": [
        "### **(4) 관련 메서드**\n",
        "\n"
      ],
      "metadata": {
        "id": "aglgdX2Qjoi1"
      }
    },
    {
      "cell_type": "markdown",
      "source": [
        "#### **내장함수**\n",
        "\n",
        "다른 군집 자료형과 마찬가지로 내장함수를 사용할 수 있습니다.\n",
        "\n",
        "* `len()`: 길이를 구합니다.\n",
        "* `max()`: 최대값을 구합니다.\n",
        "* `min()`: 최소값을 구합니다.\n",
        "* `sum()`: 모든값을 더합니다.\n",
        "\n",
        "```\n",
        "a = {1,2,3,5}\n",
        "len(a), max(a), min(a), sum(a)\n",
        "```"
      ],
      "metadata": {
        "id": "2WWtO6sojr1d"
      }
    },
    {
      "cell_type": "code",
      "source": [
        "a = {1,2,3,5}\n",
        "len(a), max(a), min(a), sum(a)"
      ],
      "metadata": {
        "id": "ZHBd1xUJjnDQ",
        "colab": {
          "base_uri": "https://localhost:8080/"
        },
        "outputId": "0795b274-d382-4f3d-aa09-e2d51f46bccd"
      },
      "execution_count": null,
      "outputs": [
        {
          "output_type": "execute_result",
          "data": {
            "text/plain": [
              "(4, 5, 1, 11)"
            ]
          },
          "metadata": {},
          "execution_count": 13
        }
      ]
    },
    {
      "cell_type": "markdown",
      "source": [
        "* `set()`: 집합 자료형으로 변환합니다.\n",
        "\n",
        "```\n",
        "a = [1,2,2,2,3,4,4]\n",
        "set(a)\n",
        "```"
      ],
      "metadata": {
        "id": "h1xYZ6FSjvxD"
      }
    },
    {
      "cell_type": "code",
      "source": [
        "a = [1,2,2,2,3,4,4]\n",
        "set(a)"
      ],
      "metadata": {
        "id": "6js5DFWMjtnw",
        "colab": {
          "base_uri": "https://localhost:8080/"
        },
        "outputId": "464d9970-8d79-4ff2-ac46-86a826396ff0"
      },
      "execution_count": null,
      "outputs": [
        {
          "output_type": "execute_result",
          "data": {
            "text/plain": [
              "{1, 2, 3, 4}"
            ]
          },
          "metadata": {},
          "execution_count": 14
        }
      ]
    },
    {
      "cell_type": "markdown",
      "source": [
        "\n",
        "#### **기타 메서드**\n",
        "\n",
        "*  `a.add(b)` : 집합 `a` 에 요소 `b`를 추가합니다.\n",
        "\n",
        "리스트의 `append()` 기능과 유사합니다. 집합에 값을 하나 추가합니다. 다만 `append()`는 마지막에 값이 추가되는거와 달리 집합에서는 정렬된 위치에 값이 추가됩니다.\n",
        "\n",
        "```\n",
        "a ={1,2,3,5}\n",
        "a.add(4)\n",
        "print(a)\n",
        "```\n"
      ],
      "metadata": {
        "id": "_2N1aJN4j0D9"
      }
    },
    {
      "cell_type": "code",
      "source": [
        "a ={1,2,3,5}\n",
        "a.add(4)\n",
        "print(a)"
      ],
      "metadata": {
        "id": "iy-fvWdWjzKS",
        "colab": {
          "base_uri": "https://localhost:8080/"
        },
        "outputId": "681b17e3-f75b-40af-889d-db3fccf66140"
      },
      "execution_count": null,
      "outputs": [
        {
          "output_type": "stream",
          "name": "stdout",
          "text": [
            "{1, 2, 3, 4, 5}\n"
          ]
        }
      ]
    },
    {
      "cell_type": "markdown",
      "source": [
        "* `a.update([b, c, ..])` : 집합 `a`에 여러개의 요소를 추가합니다.\n",
        "\n",
        "```\n",
        "a = {1,2,3,5}\n",
        "a.update([6,7,8])\n",
        "print(a)\n",
        "```\n"
      ],
      "metadata": {
        "id": "uc9fJRL4j74a"
      }
    },
    {
      "cell_type": "code",
      "source": [
        "a = {1,2,3,5}\n",
        "a.update([6,7,8])\n",
        "print(a)"
      ],
      "metadata": {
        "id": "T5nvduiKj4Pn",
        "colab": {
          "base_uri": "https://localhost:8080/"
        },
        "outputId": "40868c90-b0fa-452e-97b9-49a94dbccdb2"
      },
      "execution_count": null,
      "outputs": [
        {
          "output_type": "stream",
          "name": "stdout",
          "text": [
            "{1, 2, 3, 5, 6, 7, 8}\n"
          ]
        }
      ]
    },
    {
      "cell_type": "markdown",
      "source": [
        "* `a.remove(b)` : 집합 `a`에서 요소 `b`를 제거합니다.\n",
        "\n",
        "```\n",
        "a = {1,2,3,5}\n",
        "a.remove(2)\n",
        "print(a)\n",
        "```\n"
      ],
      "metadata": {
        "id": "34MpBFWsj_gM"
      }
    },
    {
      "cell_type": "code",
      "source": [
        "a = {1,2,3,5}\n",
        "a.remove(2)\n",
        "print(a)"
      ],
      "metadata": {
        "id": "zgbJdLQqj-GA",
        "colab": {
          "base_uri": "https://localhost:8080/"
        },
        "outputId": "26a418da-6149-4335-81f6-c9aa9c9cc604"
      },
      "execution_count": null,
      "outputs": [
        {
          "output_type": "stream",
          "name": "stdout",
          "text": [
            "{1, 3, 5}\n"
          ]
        }
      ]
    },
    {
      "cell_type": "markdown",
      "source": [
        "만약 `a`에 포함되어 있지 않은 요소를 제거하면 에러 메시지가 뜹니다.\n",
        "\n",
        "```\n",
        "a = {1,2,3,5}\n",
        "a.remove(4)\n",
        "print(a)\n",
        "```\n"
      ],
      "metadata": {
        "id": "RVd-1YE9kC3R"
      }
    },
    {
      "cell_type": "code",
      "source": [
        "a = {1,2,3,5}\n",
        "a.remove(4)\n",
        "print(a)"
      ],
      "metadata": {
        "id": "sMprlxDhkBI4",
        "colab": {
          "base_uri": "https://localhost:8080/",
          "height": 211
        },
        "outputId": "05243290-3231-4650-cf68-2e041c9b773c"
      },
      "execution_count": null,
      "outputs": [
        {
          "output_type": "error",
          "ename": "KeyError",
          "evalue": "ignored",
          "traceback": [
            "\u001b[0;31m---------------------------------------------------------------------------\u001b[0m",
            "\u001b[0;31mKeyError\u001b[0m                                  Traceback (most recent call last)",
            "\u001b[0;32m<ipython-input-18-4c9059c89bf7>\u001b[0m in \u001b[0;36m<module>\u001b[0;34m()\u001b[0m\n\u001b[1;32m      1\u001b[0m \u001b[0ma\u001b[0m \u001b[0;34m=\u001b[0m \u001b[0;34m{\u001b[0m\u001b[0;36m1\u001b[0m\u001b[0;34m,\u001b[0m\u001b[0;36m2\u001b[0m\u001b[0;34m,\u001b[0m\u001b[0;36m3\u001b[0m\u001b[0;34m,\u001b[0m\u001b[0;36m5\u001b[0m\u001b[0;34m}\u001b[0m\u001b[0;34m\u001b[0m\u001b[0;34m\u001b[0m\u001b[0m\n\u001b[0;32m----> 2\u001b[0;31m \u001b[0ma\u001b[0m\u001b[0;34m.\u001b[0m\u001b[0mremove\u001b[0m\u001b[0;34m(\u001b[0m\u001b[0;36m4\u001b[0m\u001b[0;34m)\u001b[0m\u001b[0;34m\u001b[0m\u001b[0;34m\u001b[0m\u001b[0m\n\u001b[0m\u001b[1;32m      3\u001b[0m \u001b[0mprint\u001b[0m\u001b[0;34m(\u001b[0m\u001b[0ma\u001b[0m\u001b[0;34m)\u001b[0m\u001b[0;34m\u001b[0m\u001b[0;34m\u001b[0m\u001b[0m\n",
            "\u001b[0;31mKeyError\u001b[0m: 4"
          ]
        }
      ]
    },
    {
      "cell_type": "markdown",
      "source": [
        "## 문제풀이\n",
        "---\n",
        "\n"
      ],
      "metadata": {
        "id": "jKvwT4LbkHNv"
      }
    },
    {
      "cell_type": "markdown",
      "source": [
        "**예제 01**\n",
        "\n",
        "부분 집합 A,B,C가 아래와 같습니다. 집합 A,B,C를 정의하세요\n",
        "\n",
        "```\n",
        "A = {1,2,3,5}\n",
        "B = {1,2,3,4}\n",
        "C = {1,3,4,6}\n",
        "```"
      ],
      "metadata": {
        "id": "TtahL9hvkJNg"
      }
    },
    {
      "cell_type": "code",
      "source": [
        "A = {1,2,3,5}\n",
        "B = {1,2,3,4}\n",
        "C = {1,3,4,6}"
      ],
      "metadata": {
        "id": "xt26w28CkEcY"
      },
      "execution_count": null,
      "outputs": []
    },
    {
      "cell_type": "markdown",
      "source": [
        "**예제 02**\n",
        "\n",
        "다음을 계산하세요.\n",
        "\n",
        "$$ A \\cup C$$ \n"
      ],
      "metadata": {
        "id": "3jDdurvlkL93"
      }
    },
    {
      "cell_type": "code",
      "source": [
        "A & C"
      ],
      "metadata": {
        "id": "rwpLPktSkMO2",
        "colab": {
          "base_uri": "https://localhost:8080/"
        },
        "outputId": "b70d1362-2c2b-485f-ec21-914db35ae181"
      },
      "execution_count": null,
      "outputs": [
        {
          "output_type": "execute_result",
          "data": {
            "text/plain": [
              "{1, 3}"
            ]
          },
          "metadata": {},
          "execution_count": 20
        }
      ]
    },
    {
      "cell_type": "markdown",
      "source": [
        "**예제 03**\n",
        "\n",
        "다음을 계산하세요.\n",
        "\n",
        "$$ A-(B \\cap C)$$ \n"
      ],
      "metadata": {
        "id": "ZvybbZ5gkRp6"
      }
    },
    {
      "cell_type": "code",
      "source": [
        "A - (B | C)"
      ],
      "metadata": {
        "id": "9v1qHbjYkS3O",
        "colab": {
          "base_uri": "https://localhost:8080/"
        },
        "outputId": "44a23c0e-56d3-4c11-c4d8-a962094d4df0"
      },
      "execution_count": null,
      "outputs": [
        {
          "output_type": "execute_result",
          "data": {
            "text/plain": [
              "{5}"
            ]
          },
          "metadata": {},
          "execution_count": 21
        }
      ]
    },
    {
      "cell_type": "markdown",
      "source": [
        "**예제 04**\n",
        "\n",
        "다음을 계산하세요.\n",
        "\n",
        "$$ (A-B) \\cup (B \\cup C)$$"
      ],
      "metadata": {
        "id": "zI0EYfOkkU1l"
      }
    },
    {
      "cell_type": "code",
      "source": [
        "(A - B) & (B & C) "
      ],
      "metadata": {
        "id": "P7aeASLKkWSo",
        "colab": {
          "base_uri": "https://localhost:8080/"
        },
        "outputId": "c40731fe-13ba-48a2-d314-7890c8f826b1"
      },
      "execution_count": null,
      "outputs": [
        {
          "output_type": "execute_result",
          "data": {
            "text/plain": [
              "set()"
            ]
          },
          "metadata": {},
          "execution_count": 22
        }
      ]
    },
    {
      "cell_type": "markdown",
      "source": [
        "**예제 05**\n",
        "\n",
        "아래 결과의 모든 요소의 개수를 구하세요\n",
        "\n",
        "$$(A \\cap B) \\cup (B \\cap C) $$"
      ],
      "metadata": {
        "id": "-f1gEYBLkXlX"
      }
    },
    {
      "cell_type": "code",
      "source": [
        "(A | B) & (B | C)"
      ],
      "metadata": {
        "id": "wcA5NdS1kYSn",
        "colab": {
          "base_uri": "https://localhost:8080/"
        },
        "outputId": "f62039bd-c5cc-4221-b53f-05a7777e8fb6"
      },
      "execution_count": null,
      "outputs": [
        {
          "output_type": "execute_result",
          "data": {
            "text/plain": [
              "{1, 2, 3, 4}"
            ]
          },
          "metadata": {},
          "execution_count": 23
        }
      ]
    },
    {
      "cell_type": "markdown",
      "source": [
        "\n",
        "**예제 06**\n",
        "\n",
        "아래 결과의 모든 요소의 합을 구하세요\n",
        "\n",
        "$$(B - A) \\cup (A \\cup C) $$"
      ],
      "metadata": {
        "id": "--90FvFjkZe3"
      }
    },
    {
      "cell_type": "code",
      "source": [
        "(B - A) & (A & C)"
      ],
      "metadata": {
        "id": "M7j_wBpNkaPI",
        "colab": {
          "base_uri": "https://localhost:8080/"
        },
        "outputId": "6a154edf-178e-42c7-ef10-8067a39690ce"
      },
      "execution_count": null,
      "outputs": [
        {
          "output_type": "execute_result",
          "data": {
            "text/plain": [
              "set()"
            ]
          },
          "metadata": {},
          "execution_count": 24
        }
      ]
    },
    {
      "cell_type": "markdown",
      "source": [
        "**예제 07**\n",
        "\n",
        "집합 `S` 가 아래와 같이 정의되어 있을 때 짝수를 제거하고 출력하세요.\n",
        "\n",
        "```\n",
        "S = {1,3,4,5,7,9,10}\n",
        "```"
      ],
      "metadata": {
        "id": "t_rpQcD6lNPF"
      }
    },
    {
      "cell_type": "code",
      "source": [
        "S = {1,3,4,5,7,9,10}\n",
        "\n",
        "S = list(S)\n",
        "\n",
        "for i in S : \n",
        "  if i % 2 == 0 :\n",
        "    S.remove(i)\n",
        "\n",
        "S = set(S)\n",
        "\n",
        "print(S)\n"
      ],
      "metadata": {
        "id": "rCsrdC08lNHj",
        "colab": {
          "base_uri": "https://localhost:8080/"
        },
        "outputId": "c8f7d27d-1e26-4a8a-adf3-aa0a9ecfbbcc"
      },
      "execution_count": null,
      "outputs": [
        {
          "output_type": "stream",
          "name": "stdout",
          "text": [
            "{1, 3, 5, 7, 9}\n"
          ]
        }
      ]
    },
    {
      "cell_type": "markdown",
      "source": [
        "**예제 08**\n",
        "\n",
        "`예제 07` 에서 얻은 `S`에 15까지의 모든 홀수를 추가하고 출력하세요.\n"
      ],
      "metadata": {
        "id": "RIu3NAg9ltsS"
      }
    },
    {
      "cell_type": "code",
      "source": [
        "S = list(S)\n",
        "\n",
        "i = 1\n",
        "\n",
        "while i < 16 :\n",
        "  if i % 2 != 0 :\n",
        "    S.append(i)\n",
        "  i += 1\n",
        "\n",
        "S = set(S)\n",
        "\n",
        "print(S)"
      ],
      "metadata": {
        "id": "Sfi0cZj-ltsS",
        "colab": {
          "base_uri": "https://localhost:8080/"
        },
        "outputId": "ededdbec-19d5-44a1-b0b1-715955d7a7f3"
      },
      "execution_count": null,
      "outputs": [
        {
          "output_type": "stream",
          "name": "stdout",
          "text": [
            "{1, 3, 5, 7, 9, 11, 13, 15}\n"
          ]
        }
      ]
    },
    {
      "cell_type": "markdown",
      "source": [
        "**예제 09**\n",
        "\n",
        "아래와 같이 리스트가 정의되어 있습니다. 이 리스트에 포함된 숫자의 종류는 몇개인지 구하는 코드를 작성하세요\n",
        "\n",
        "```\n",
        "long_list = [5,3,2,3,4,3,4,5,6,67,7,5,3,4,32,24,42,5,6,8,5,5,5,5,3,3,3,56,3,3,6,7,5,8,8,7,34,55,682,232,7,87,8,5,4,32,12,21,2,2,5,4,5,355,2]\n",
        "```"
      ],
      "metadata": {
        "id": "gCewjsGckb6Q"
      }
    },
    {
      "cell_type": "code",
      "source": [
        "long_list = [5,3,2,3,4,3,4,5,6,67,7,5,3,4,32,24,42,5,6,8,5,5,5,5,3,3,3,56,3,3,6,7,5,8,8,7,34,55,682,232,7,87,8,5,4,32,12,21,2,2,5,4,5,355,2]\n",
        "\n",
        "\n",
        "long_list = set(long_list)\n",
        "print(len(long_list))\n",
        "\n",
        "long_list = list(long_list)\n",
        "long_list.sort()\n",
        "print(long_list)"
      ],
      "metadata": {
        "id": "dGeKh_i5kcZJ",
        "colab": {
          "base_uri": "https://localhost:8080/"
        },
        "outputId": "702a4a52-b000-4edc-cd59-49268bee86f3"
      },
      "execution_count": null,
      "outputs": [
        {
          "output_type": "stream",
          "name": "stdout",
          "text": [
            "20\n",
            "[2, 3, 4, 5, 6, 7, 8, 12, 21, 24, 32, 34, 42, 55, 56, 67, 87, 232, 355, 682]\n"
          ]
        }
      ]
    },
    {
      "cell_type": "markdown",
      "source": [
        "**예제 10**\n",
        "\n",
        "사용자가 정수 `n`을 입력하면 위에서 정의한 리스트에서 `n`번째로 큰 숫자를 출력하는 코드를 작성하세요 (0번째부터 시작, 중복 없이 `n`번째 큰 숫자를 출력합니다.)\n",
        "\n",
        "```\n",
        ">> n을 입력하세요:3  \n",
        "3 번째 작은 숫자는 9 입니다.\n",
        "```\n",
        "\n",
        "```\n",
        ">> n을 입력하세요:5  \n",
        "5 번째 작은 숫자는 20 입니다.\n",
        "```\n"
      ],
      "metadata": {
        "id": "M1GU1Hd3kenw"
      }
    },
    {
      "cell_type": "code",
      "source": [
        "n = int(input('n을 입력하세요 : '))\n",
        "\n",
        "long_list.sort(reverse = True) # 역순 정렬\n",
        "# long_list = sorted(long_list, reverse = True) 역순 정렬. 위와 동일\n",
        "print(n, '번째 작은 숫자는', long_list[n], '입니다')"
      ],
      "metadata": {
        "id": "alRaEWpQke4Q",
        "colab": {
          "base_uri": "https://localhost:8080/"
        },
        "outputId": "c1520dde-0ca7-4286-d62a-9f9626882ce9"
      },
      "execution_count": null,
      "outputs": [
        {
          "output_type": "stream",
          "name": "stdout",
          "text": [
            "n을 입력하세요 : 0\n",
            "0 번째 작은 숫자는 682 입니다\n"
          ]
        }
      ]
    },
    {
      "cell_type": "code",
      "source": [
        ""
      ],
      "metadata": {
        "id": "aZhLkJjzqieP"
      },
      "execution_count": null,
      "outputs": []
    }
  ]
}