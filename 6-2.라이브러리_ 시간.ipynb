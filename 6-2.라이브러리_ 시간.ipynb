{
  "nbformat": 4,
  "nbformat_minor": 0,
  "metadata": {
    "colab": {
      "name": "6-2.라이브러리_ 시간.ipynb",
      "provenance": [],
      "collapsed_sections": [],
      "include_colab_link": true
    },
    "kernelspec": {
      "name": "python3",
      "display_name": "Python 3"
    },
    "language_info": {
      "name": "python"
    }
  },
  "cells": [
    {
      "cell_type": "markdown",
      "metadata": {
        "id": "view-in-github",
        "colab_type": "text"
      },
      "source": [
        "<a href=\"https://colab.research.google.com/github/pthkbs123/SkillTreePython/blob/main/6-2.%EB%9D%BC%EC%9D%B4%EB%B8%8C%EB%9F%AC%EB%A6%AC_%20%EC%8B%9C%EA%B0%84.ipynb\" target=\"_parent\"><img src=\"https://colab.research.google.com/assets/colab-badge.svg\" alt=\"Open In Colab\"/></a>"
      ]
    },
    {
      "cell_type": "markdown",
      "metadata": {
        "id": "jgFAOz-Tw1VI"
      },
      "source": [
        "# 6-2.라이브러리: 시간\n",
        "---\n",
        "* 날짜: 2022-04-04\n",
        "* 이름: 박태현\n"
      ]
    },
    {
      "cell_type": "markdown",
      "metadata": {
        "id": "roC8A6Ro6THT"
      },
      "source": [
        "## 개념정리\n",
        "---\n",
        "\n",
        "시간과 관련된 프로그램은 아주 많습니다. 이를 위해 유용한 라이브러리인 `time` 과 `calendar`을 알아봅니다. 두 라이브러리에는 시간 관련 함수가 굉장히 많습니다. 그 중 자주 사용되는 함수 몇가지 위주로 공부해봅니다.\n"
      ]
    },
    {
      "cell_type": "markdown",
      "metadata": {
        "id": "H2HY9CbXvBoB"
      },
      "source": [
        "### **(1) 라이브러리 임포트 : `time`**\n",
        "\n",
        "아래와 같이 `time` 모듈을 `import` 해줍니다.\n",
        "\n",
        "```\n",
        "import time\n",
        "```\n"
      ]
    },
    {
      "cell_type": "code",
      "metadata": {
        "id": "5mAKOlI-vBoD"
      },
      "source": [
        "import time"
      ],
      "execution_count": null,
      "outputs": []
    },
    {
      "cell_type": "markdown",
      "source": [
        "### **(2) 기본 사용 : `time`**\n"
      ],
      "metadata": {
        "id": "7tKI5oCovsJ5"
      }
    },
    {
      "cell_type": "markdown",
      "metadata": {
        "id": "UdnlqgsIvBoD"
      },
      "source": [
        "#### **시간확인**\n",
        "\n"
      ]
    },
    {
      "cell_type": "markdown",
      "metadata": {
        "id": "SjGX5RIJu7SG"
      },
      "source": [
        "* `time.time`\n",
        "\n",
        "`time.time()`은 UTC(Universal Time Coordinated 협정 세계 표준시)를 사용하여 1970년 1월 1일 0시 0분 0초를 기준으로 현재 시간을 초 단위로 돌려줍니다. 따라서 이 함수를 써서는 정확한 시간을 이해하기 힘듭니다. \n",
        "\n",
        "```\n",
        "time.time()\n",
        "```\n",
        "\n"
      ]
    },
    {
      "cell_type": "code",
      "metadata": {
        "id": "gERBDDc8u7SJ",
        "colab": {
          "base_uri": "https://localhost:8080/"
        },
        "outputId": "6e555f0d-77f0-4bed-9298-4c4a38781a07"
      },
      "source": [
        "time.time()"
      ],
      "execution_count": null,
      "outputs": [
        {
          "output_type": "execute_result",
          "data": {
            "text/plain": [
              "1649051101.6253114"
            ]
          },
          "metadata": {},
          "execution_count": 5
        }
      ]
    },
    {
      "cell_type": "markdown",
      "metadata": {
        "id": "zD6gfuVD3xwx"
      },
      "source": [
        "* `time.ctime` \n",
        "\n",
        "현재 시간을 알아보기 쉬운 문자열 형식으로 반환합니다.\n",
        "\n",
        "```\n",
        "t = time.ctime()\n",
        "print(t)\n",
        "print(type(t))\n",
        "\n",
        "```\n",
        "\n"
      ]
    },
    {
      "cell_type": "code",
      "metadata": {
        "id": "OaowHk_83leh",
        "colab": {
          "base_uri": "https://localhost:8080/"
        },
        "outputId": "79aa7daf-2f96-4437-f2ed-73932b3022a1"
      },
      "source": [
        "t = time.ctime()\n",
        "print(t)\n",
        "print(type(t))"
      ],
      "execution_count": null,
      "outputs": [
        {
          "output_type": "stream",
          "name": "stdout",
          "text": [
            "Mon Apr  4 05:46:03 2022\n",
            "<class 'str'>\n"
          ]
        }
      ]
    },
    {
      "cell_type": "markdown",
      "metadata": {
        "id": "DJsRofyYwcCG"
      },
      "source": [
        "#### **시간조절**\n",
        "\n"
      ]
    },
    {
      "cell_type": "markdown",
      "metadata": {
        "id": "ZywpY9IBwcCM"
      },
      "source": [
        "* `time.sleep`\n",
        "\n",
        "`time.sleep`은 코드를 일정 시간동안 멈출 수 있습니다. 주로 반복문 내에서 시간 간격을 두고 실행하고 싶을 때 쓰입니다.\n",
        "\n",
        "```\n",
        "for i in range(10):\n",
        "    print(i)\n",
        "    time.sleep(1)\n",
        "```\n",
        "\n"
      ]
    },
    {
      "cell_type": "code",
      "metadata": {
        "id": "M3D3N6rewcCM",
        "colab": {
          "base_uri": "https://localhost:8080/"
        },
        "outputId": "ef636138-4e35-4d17-a656-031cc3614342"
      },
      "source": [
        "for i in range(5):\n",
        "    print(i)\n",
        "    time.sleep(1)"
      ],
      "execution_count": null,
      "outputs": [
        {
          "output_type": "stream",
          "name": "stdout",
          "text": [
            "0\n",
            "1\n",
            "2\n",
            "3\n",
            "4\n"
          ]
        }
      ]
    },
    {
      "cell_type": "markdown",
      "metadata": {
        "id": "a3YlZx2lOstl"
      },
      "source": [
        "### **(3) 라이브러리 임포트(import) : `calendar`**\n",
        "\n",
        "\n",
        "```\n",
        "import calendar\n",
        "```\n"
      ]
    },
    {
      "cell_type": "code",
      "metadata": {
        "id": "-KkhR9yaOstm"
      },
      "source": [
        "import calendar"
      ],
      "execution_count": null,
      "outputs": []
    },
    {
      "cell_type": "markdown",
      "source": [
        "### **(4) 기본 사용 : `calendar`**"
      ],
      "metadata": {
        "id": "x4b6XE2IwWCR"
      }
    },
    {
      "cell_type": "markdown",
      "metadata": {
        "id": "u0q6rzI-PA6i"
      },
      "source": [
        "#### **달력 보기**\n",
        "\n"
      ]
    },
    {
      "cell_type": "markdown",
      "metadata": {
        "id": "y6imlv3cPA6i"
      },
      "source": [
        "* `calendar.prmonth`\n",
        "\n",
        "`calendar.prmonth`는 연도와 월을 입력하면 해당 월의 달력을 출력해줍니다.\n",
        "\n",
        "```\n",
        "calendar.prmonth(연도, 월)\n",
        "```\n",
        "\n"
      ]
    },
    {
      "cell_type": "code",
      "metadata": {
        "id": "ofTbeRnIPA6j",
        "colab": {
          "base_uri": "https://localhost:8080/"
        },
        "outputId": "a5ab989b-fde6-4817-dd2e-f02bc843348c"
      },
      "source": [
        "calendar.prmonth(2022, 4)"
      ],
      "execution_count": null,
      "outputs": [
        {
          "output_type": "stream",
          "name": "stdout",
          "text": [
            "     April 2022\n",
            "Mo Tu We Th Fr Sa Su\n",
            "             1  2  3\n",
            " 4  5  6  7  8  9 10\n",
            "11 12 13 14 15 16 17\n",
            "18 19 20 21 22 23 24\n",
            "25 26 27 28 29 30\n"
          ]
        }
      ]
    },
    {
      "cell_type": "markdown",
      "metadata": {
        "id": "BFHm6JKmPc2r"
      },
      "source": [
        "#### **날짜 반환**\n",
        "\n"
      ]
    },
    {
      "cell_type": "markdown",
      "metadata": {
        "id": "TfxqY2sIPc2s"
      },
      "source": [
        "* `calendar.weekday`\n",
        "\n",
        "`weekday` 함수는 연도, 월, 일을 입력하면 0에서 6까지의 정수 반환합니다. 각 숫자는 월요일 부터 일요일을 의미합니다. \n",
        "\n",
        "```\n",
        "정수 = calendar.weekday(연도, 월, 일)\n",
        "# 정수값은 0~6 이며, 월~일을 의미\n",
        "```\n",
        "\n"
      ]
    },
    {
      "cell_type": "code",
      "metadata": {
        "id": "dAgIvgfVPc2t",
        "colab": {
          "base_uri": "https://localhost:8080/"
        },
        "outputId": "99a8fdde-6076-4349-e030-474dc95de60e"
      },
      "source": [
        "calendar.weekday(2022, 4, 4)"
      ],
      "execution_count": null,
      "outputs": [
        {
          "output_type": "execute_result",
          "data": {
            "text/plain": [
              "0"
            ]
          },
          "metadata": {},
          "execution_count": 19
        }
      ]
    },
    {
      "cell_type": "markdown",
      "metadata": {
        "id": "5niolBqHPVLj"
      },
      "source": [
        "* `calendar.monthrange()`\n",
        "\n",
        "`calendar.monthrange`는 연도와 월을 입력하면 이달이 무슨 요일인지,그리고 며칠까지 있는지를 튜플 형태로 출력합니다. \n",
        "\n",
        "```\n",
        "첫번째요일, 일수 = calendar.monthrange(연도, 월)\n",
        "```\n",
        "\n"
      ]
    },
    {
      "cell_type": "code",
      "metadata": {
        "id": "nMGHfL0fPVLj",
        "colab": {
          "base_uri": "https://localhost:8080/"
        },
        "outputId": "6454d6c8-4cb5-4dc6-d364-bb1d084a67c6"
      },
      "source": [
        "calendar.monthrange(2022, 4)"
      ],
      "execution_count": null,
      "outputs": [
        {
          "output_type": "execute_result",
          "data": {
            "text/plain": [
              "(4, 30)"
            ]
          },
          "metadata": {},
          "execution_count": 20
        }
      ]
    },
    {
      "cell_type": "markdown",
      "metadata": {
        "id": "Iflmv_G4M7Qs"
      },
      "source": [
        "## 예제\n",
        "---"
      ]
    },
    {
      "cell_type": "markdown",
      "metadata": {
        "id": "d9o7kBXoNlE3"
      },
      "source": [
        "**예제 01**\n",
        "\n",
        "타이머를 만듭시다. 이 타이머는 10초 단위로 알림을 하고 10 부터는 카운트 합니다. (실제로 초단위의 타이머를 만듭니다.)\n",
        "\n",
        "```\n",
        ">> 타이머(60)\n",
        "60\n",
        "50\n",
        "40\n",
        "30\n",
        "20\n",
        "10\n",
        "9!\n",
        "8!\n",
        "7!\n",
        "6!\n",
        "5!\n",
        "4!\n",
        "3!\n",
        "2!\n",
        "1!\n",
        "삐빅\n",
        "```\n",
        "\n",
        "\n",
        ">>\n",
        "\n"
      ]
    },
    {
      "cell_type": "code",
      "metadata": {
        "id": "Gwir0bafNlE9",
        "colab": {
          "base_uri": "https://localhost:8080/"
        },
        "outputId": "50f57d0d-cd3c-449f-d713-9e79b7045e3e"
      },
      "source": [
        "def 타이머 (a) :\n",
        "\n",
        "  while a > 0:\n",
        "    time.sleep(1)\n",
        "\n",
        "    if a % 10 == 0 :\n",
        "      print(a)\n",
        "    if a < 10 :\n",
        "      print(f'{a}!')\n",
        "    a -= 1\n",
        "\n",
        "\n",
        "  print('삐빅')\n",
        "\n",
        "타이머(60)"
      ],
      "execution_count": null,
      "outputs": [
        {
          "output_type": "stream",
          "name": "stdout",
          "text": [
            "60\n",
            "50\n",
            "40\n",
            "30\n",
            "20\n",
            "10\n",
            "9!\n",
            "8!\n",
            "7!\n",
            "6!\n",
            "5!\n",
            "4!\n",
            "3!\n",
            "2!\n",
            "1!\n",
            "삐빅\n"
          ]
        }
      ]
    },
    {
      "cell_type": "markdown",
      "metadata": {
        "id": "xjss54fvOD3D"
      },
      "source": [
        "**예제 02**\n",
        "\n",
        "시간을 알려주는 챗봇을 만들어 봅시다. 사용자가 입력한 문장에서 다음과 같은 문장이 있으면 그에 따른 대답을 합니다.\n",
        "\n",
        "단어|대답|\n",
        "--|--\n",
        "몇시| 시간 출력\n",
        "몇분| 분 출력\n",
        "무슨요일| 요일 출력\n",
        "몇월| 월 출력\n",
        "며칠or 몇일 | 일 출력\n",
        "그만 | 종료\n",
        "\n",
        "```\n",
        ">> 시리()\n",
        ">> 질문해주세요: 지금몇시니?\n",
        "지금은 8시 입니다.\n",
        ">> 질문해주세요: 오늘 무슨요일이야\n",
        "오늘은 금요일 입니다.\n",
        ">> 질문해주세요: 그만\n",
        "종료되었습니다.\n",
        "```\n",
        "\n",
        "\n",
        ">>\n",
        "\n"
      ]
    },
    {
      "cell_type": "code",
      "metadata": {
        "id": "R-XoEQc7OG1T",
        "colab": {
          "base_uri": "https://localhost:8080/"
        },
        "outputId": "e1c2da2f-bb67-40ea-a646-d35643c4ece6"
      },
      "source": [
        "def 시리 () :\n",
        "\n",
        "  now = time.localtime()\n",
        "  data_dict = {0: '월요일', 1:'화요일', 2:'수요일', 3:'목요일', 4:'금요일', 5:'토요일', 6:'일요일'}\n",
        "\n",
        "  today_week = calendar.weekday(now.tm_year, now.tm_mon, now.tm_mday)\n",
        "\n",
        "  while True : \n",
        "    inp_sen = input('질문해주세요 : ')\n",
        "\n",
        "    if '몇시' in inp_sen :\n",
        "      print(f'지금은 {now.tm_hour + 9}시 입니다')\n",
        "    \n",
        "    if '몇분' in inp_sen :\n",
        "      print(f'지금은 {now.tm_min}분 입니다')\n",
        "\n",
        "    if '무슨요일' in inp_sen :\n",
        "      print(f'지금은 {data_dict[today_week]} 입니다')\n",
        "    \n",
        "    if '몇월' in inp_sen:\n",
        "      print(f'지금은 {now.tm_mon}월 입니다')\n",
        "\n",
        "    if '몇일' in inp_sen or '며칠' in inp_sen:\n",
        "      print(f'지금은 {now.tm_mday}일 입니다')\n",
        "\n",
        "    if inp_sen in '그만' :\n",
        "      print('종료되었습니다.')\n",
        "      break\n",
        "\n",
        "시리()\n"
      ],
      "execution_count": null,
      "outputs": [
        {
          "output_type": "stream",
          "name": "stdout",
          "text": [
            "질문해주세요 : 몇시야\n",
            "지금은 15시 입니다\n",
            "질문해주세요 : 몇분이야\n",
            "지금은 15분 입니다\n",
            "질문해주세요 : 무슨요일이야\n",
            "지금은 월요일 입니다\n",
            "질문해주세요 : 몇월이야\n",
            "지금은 4월 입니다\n",
            "질문해주세요 : 며칠이야\n",
            "지금은 4일 입니다\n",
            "질문해주세요 : 그만\n",
            "종료되었습니다.\n"
          ]
        }
      ]
    },
    {
      "cell_type": "markdown",
      "metadata": {
        "id": "X2rC9t0WQfsi"
      },
      "source": [
        "**예제 03**\n",
        "\n",
        "2000년부터 2020년까지 각 해의 날짜의 수를 구하세요\n",
        "\n",
        "```\n",
        "2000년의 날짜는 총 ~~~일 입니다.\n",
        "2001년의 날짜는 총 ~~~일 입니다.\n",
        "...\n",
        "\n",
        "2020년의 날짜는 총 ~~~일 입니다.\n",
        "```"
      ]
    },
    {
      "cell_type": "code",
      "metadata": {
        "id": "3319F20DQfsl",
        "colab": {
          "base_uri": "https://localhost:8080/"
        },
        "outputId": "1b053117-f987-422f-df64-88ee7f43a220"
      },
      "source": [
        "i = 2000\n",
        "\n",
        "while i <= 2020 :\n",
        "\n",
        "  sum = 0\n",
        "  k = 1\n",
        "\n",
        "  for x in range(12) : \n",
        "    sum += calendar.monthrange(i+1, k)[1]\n",
        "    k += 1\n",
        "\n",
        "  print(f'{i}년의 날짜는 총 {sum}일 입니다')\n",
        "  \n",
        "  i += 1"
      ],
      "execution_count": null,
      "outputs": [
        {
          "output_type": "stream",
          "name": "stdout",
          "text": [
            "2000년의 날짜는 총 365일 입니다\n",
            "2001년의 날짜는 총 365일 입니다\n",
            "2002년의 날짜는 총 365일 입니다\n",
            "2003년의 날짜는 총 366일 입니다\n",
            "2004년의 날짜는 총 365일 입니다\n",
            "2005년의 날짜는 총 365일 입니다\n",
            "2006년의 날짜는 총 365일 입니다\n",
            "2007년의 날짜는 총 366일 입니다\n",
            "2008년의 날짜는 총 365일 입니다\n",
            "2009년의 날짜는 총 365일 입니다\n",
            "2010년의 날짜는 총 365일 입니다\n",
            "2011년의 날짜는 총 366일 입니다\n",
            "2012년의 날짜는 총 365일 입니다\n",
            "2013년의 날짜는 총 365일 입니다\n",
            "2014년의 날짜는 총 365일 입니다\n",
            "2015년의 날짜는 총 366일 입니다\n",
            "2016년의 날짜는 총 365일 입니다\n",
            "2017년의 날짜는 총 365일 입니다\n",
            "2018년의 날짜는 총 365일 입니다\n",
            "2019년의 날짜는 총 366일 입니다\n",
            "2020년의 날짜는 총 365일 입니다\n"
          ]
        }
      ]
    },
    {
      "cell_type": "markdown",
      "metadata": {
        "id": "A7pDCvOJQ6LD"
      },
      "source": [
        "**예제 04**\n",
        "\n",
        "아래형식으로 문자열을 입력했을 때 달력과 요일을 알려주는 코드를 작성하세요. 연도를 쓰지 않으면 올해의 연도가 자동으로 나오게 하세요\n",
        "\n",
        "\n",
        "\n",
        "```\n",
        ">> 날짜를 입력하세요: 2015/12/1\n",
        "   December 2015\n",
        "Mo Tu We Th Fr Sa Su\n",
        "    1  2  3  4  5  6\n",
        " 7  8  9 10 11 12 13\n",
        "14 15 16 17 18 19 20\n",
        "21 22 23 24 25 26 27\n",
        "28 29 30 31\n",
        "* 2015년 12월 1일은 화요일이네요!\n",
        "\n",
        ">> 날짜를 입력하세요: 12/1\n",
        "   December 2021\n",
        "Mo Tu We Th Fr Sa Su\n",
        "       1  2  3  4  5\n",
        " 6  7  8  9 10 11 12\n",
        "13 14 15 16 17 18 19\n",
        "20 21 22 23 24 25 26\n",
        "27 28 29 30 31\n",
        "* 2021년 12월 1일은 수요일이네요!\n",
        "\n",
        ">> 날짜를 입력하세요: 1\n",
        "* 입력형식오류\n",
        "\n",
        "```\n",
        "\n",
        "\n",
        "\n"
      ]
    },
    {
      "cell_type": "code",
      "metadata": {
        "id": "XFWcOHrRQ6LE",
        "colab": {
          "base_uri": "https://localhost:8080/"
        },
        "outputId": "8857b631-569d-4fa6-dd10-f64ca27596a4"
      },
      "source": [
        "while True :\n",
        "\n",
        "  now = input('날짜를 입력하세요 : ').split('/')\n",
        "\n",
        "  if len(now) <= 1 :\n",
        "    print('* 입력형식오류')\n",
        "    \n",
        "    break\n",
        "\n",
        "  elif len(now[0]) < 4 :\n",
        "    a = 2022\n",
        "    b = int(now[0])\n",
        "    c = int(now[1])\n",
        "\n",
        "  else :\n",
        "    a = int(now[0])\n",
        "    b = int(now[1])\n",
        "    c = int(now[2])\n",
        "\n",
        "\n",
        "  data_dict = {0: '월요일', 1:'화요일', 2:'수요일', 3:'목요일', 4:'금요일', 5:'토요일', 6:'일요일'}\n",
        "  today_week = calendar.weekday(a, b, c)\n",
        "\n",
        "  calendar.prmonth(a, b)\n",
        "\n",
        "  print(f'* {a}년 {b}월 {c}일은 {data_dict[today_week]}이네요! ')\n",
        "\n",
        "  break\n"
      ],
      "execution_count": null,
      "outputs": [
        {
          "output_type": "stream",
          "name": "stdout",
          "text": [
            "날짜를 입력하세요 : 12/11\n",
            "   December 2022\n",
            "Mo Tu We Th Fr Sa Su\n",
            "          1  2  3  4\n",
            " 5  6  7  8  9 10 11\n",
            "12 13 14 15 16 17 18\n",
            "19 20 21 22 23 24 25\n",
            "26 27 28 29 30 31\n",
            "* 2022년 12월 11일은 일요일이네요! \n"
          ]
        }
      ]
    },
    {
      "cell_type": "code",
      "source": [
        ""
      ],
      "metadata": {
        "id": "MVU72u8GkAVt"
      },
      "execution_count": null,
      "outputs": []
    }
  ]
}