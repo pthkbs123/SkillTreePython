{
  "nbformat": 4,
  "nbformat_minor": 0,
  "metadata": {
    "colab": {
      "name": "3.함수.ipynb",
      "provenance": [],
      "collapsed_sections": [],
      "include_colab_link": true
    },
    "kernelspec": {
      "name": "python3",
      "display_name": "Python 3"
    },
    "language_info": {
      "name": "python"
    }
  },
  "cells": [
    {
      "cell_type": "markdown",
      "metadata": {
        "id": "view-in-github",
        "colab_type": "text"
      },
      "source": [
        "<a href=\"https://colab.research.google.com/github/pthkbs123/SkillTreePython/blob/main/3.%ED%95%A8%EC%88%98.ipynb\" target=\"_parent\"><img src=\"https://colab.research.google.com/assets/colab-badge.svg\" alt=\"Open In Colab\"/></a>"
      ]
    },
    {
      "cell_type": "markdown",
      "source": [
        "# 3. 함수\n",
        "---\n",
        "* 날짜: 2022-03-31\n",
        "* 이름: 박태현"
      ],
      "metadata": {
        "id": "kB5IciXEm6o4"
      }
    },
    {
      "cell_type": "markdown",
      "source": [
        "## 개념정리\n",
        "---\n"
      ],
      "metadata": {
        "id": "4iN8NFzHRJ2D"
      }
    },
    {
      "cell_type": "markdown",
      "source": [
        "### **(1) 기본 사용**\n",
        "\n",
        "\n",
        "함수는 아래와 같이 정의 할 수 있습니다. 함수의 이름을 선언한 후 이름 아래에 코드를 작성합니다. 아래 코드에서 함수의 이름은`plus`이고 이 함수는 `plus`를 출력하는 함수입니다. \n",
        "\n",
        "\n",
        "```\n",
        "def plus():\n",
        "  print('plus')\n",
        "```\n",
        "\n",
        "코드를 작성하고 셸을 실행하세요. 아무런 일도 일어나지 않습니다. 우리는 함수를 `정의`만 했을 뿐 아직 실행하지 않았습니다.\n"
      ],
      "metadata": {
        "id": "MAM8MDnfw68b"
      }
    },
    {
      "cell_type": "code",
      "source": [
        "def plus():\n",
        "  print('plus')"
      ],
      "metadata": {
        "id": "mtAw3UNponv3"
      },
      "execution_count": 1,
      "outputs": []
    },
    {
      "cell_type": "markdown",
      "source": [
        "### **(2) 실행**\n",
        "\n",
        "\n",
        "\n",
        "함수를 실행하기 위해서는 함수의 이름과 괄호를 써줍니다.\n",
        "\n",
        "```\n",
        "plus()\n",
        "```\n",
        "\n"
      ],
      "metadata": {
        "id": "gaTRb9qYopc_"
      }
    },
    {
      "cell_type": "code",
      "source": [
        "plus()"
      ],
      "metadata": {
        "id": "aN-Mr7VMoqeN",
        "colab": {
          "base_uri": "https://localhost:8080/"
        },
        "outputId": "c441858a-1161-4c8f-b473-98ce2243b169"
      },
      "execution_count": 2,
      "outputs": [
        {
          "output_type": "stream",
          "name": "stdout",
          "text": [
            "plus\n"
          ]
        }
      ]
    },
    {
      "cell_type": "markdown",
      "source": [
        "### **(3) 매개변수와 인수**\n",
        "\n",
        "매개변수와 인수는 함수의 인풋이라고 볼 수 있습니다. 파이썬 함수에는 인풋과 아웃풋이 존재하지 않을 수도 있고, 하나 또는 그 이상도 가능합니다. \n"
      ],
      "metadata": {
        "id": "D2DPCKvuopYy"
      }
    },
    {
      "cell_type": "markdown",
      "source": [
        "#### **매개변수 (parameter)**\n",
        "\n",
        "매개변수(parameter)는 함수를 정의할 때 입력하는 파라미터 입니다. 함수 정의시 괄호 안에 아래와 같이 작성합니다. 아래 함수에서 매개변수는 `input`과 `input2`에 해당합니다.\n",
        "\n",
        "```\n",
        "def plus(input1, input2):\n",
        "  print('plus', input1, input2)\n",
        "```\n"
      ],
      "metadata": {
        "id": "sZpxCwOWqT7t"
      }
    },
    {
      "cell_type": "code",
      "source": [
        "def plus(input1, input2):\n",
        "  print('plus', input1, input2)"
      ],
      "metadata": {
        "id": "sUDgnWmbqWX_"
      },
      "execution_count": 8,
      "outputs": []
    },
    {
      "cell_type": "markdown",
      "source": [
        "#### **인수 (argument)**\n",
        "\n",
        "이제 이 함수는 매개변수 두개, 즉 인풋으로 두개의 값을  필요로 합니다. 인수(argument)란 이 함수를 실행할 때 필요로 하는 파라미터 입니다. 아래 코드에서는 함수를 실행하고 있고 이때 인수로 1과 2가 들어갑니다.\n",
        "\n",
        "```\n",
        "plus(1, 2)\n",
        "```"
      ],
      "metadata": {
        "id": "cQfhMFjbqWeT"
      }
    },
    {
      "cell_type": "code",
      "source": [
        "plus(1, 2)"
      ],
      "metadata": {
        "id": "FdfMHSbvqZdK",
        "colab": {
          "base_uri": "https://localhost:8080/"
        },
        "outputId": "1e7f5715-4127-4729-8f8c-685cb5de5c1e"
      },
      "execution_count": 9,
      "outputs": [
        {
          "output_type": "stream",
          "name": "stdout",
          "text": [
            "plus 1 2\n"
          ]
        }
      ]
    },
    {
      "cell_type": "markdown",
      "source": [
        "### **(4) 함수의 반환**\n",
        "\n",
        "함수에는 인풋과 마찬가지로 아웃풋도 존재합니다. 만약 함수를 통해 반환하는 값을 원한다면 `return` 을 이용합니다.\n",
        "\n",
        "```\n",
        "def plus(input1, input2):\n",
        "  plus_value = input1+input2\n",
        "  return plus_value\n",
        "```\n"
      ],
      "metadata": {
        "id": "XJc026HEqbNX"
      }
    },
    {
      "cell_type": "code",
      "source": [
        "def plus(input1, input2):\n",
        "  plus_value = input1+input2\n",
        "  return plus_value"
      ],
      "metadata": {
        "id": "Wti0TzI2qaGf"
      },
      "execution_count": 10,
      "outputs": []
    },
    {
      "cell_type": "markdown",
      "source": [
        "이제 이 함수는 `plus_value` 을 반환합니다. 이 함수를 사용한 후 `plus_value`라는 값을 바인딩하려면 아래와 같이 적어줍니다.\n",
        "\n",
        "```\n",
        "a = plus(5, 5)\n",
        "print(a)\n",
        "```"
      ],
      "metadata": {
        "id": "s1II1HFdqf5X"
      }
    },
    {
      "cell_type": "code",
      "source": [
        "a = plus(5, 5)\n",
        "print(a, type(a))"
      ],
      "metadata": {
        "id": "c9HL3cwPqe0X",
        "colab": {
          "base_uri": "https://localhost:8080/"
        },
        "outputId": "4bc43e33-1325-4f85-f883-815731999470"
      },
      "execution_count": 12,
      "outputs": [
        {
          "output_type": "stream",
          "name": "stdout",
          "text": [
            "10 <class 'int'>\n"
          ]
        }
      ]
    },
    {
      "cell_type": "markdown",
      "source": [
        "#### **여러개의 반환**\n",
        "\n",
        "여러개의 반환 값을 원한다면 아래와 같이 작성합니다.\n",
        "\n",
        "```\n",
        "def plus_minus(input1, input2):\n",
        "  plus_value = input1+input2\n",
        "  minus_value = input1-input2\n",
        "  return plus_value, minus_value\n",
        "```"
      ],
      "metadata": {
        "id": "rVGVIl5vqiZd"
      }
    },
    {
      "cell_type": "code",
      "source": [
        "def plus_minus(input1, input2):\n",
        "  plus_value = input1+input2\n",
        "  minus_value = input1-input2\n",
        "  return plus_value, minus_value"
      ],
      "metadata": {
        "id": "QTeSZkH-qgsu"
      },
      "execution_count": 19,
      "outputs": []
    },
    {
      "cell_type": "markdown",
      "source": [
        "함수를 사용할 때는 아래와 같이 써줍니다.\n",
        "\n",
        "```\n",
        "a = plus_minus(5, 5)\n",
        "print(a)\n",
        "```"
      ],
      "metadata": {
        "id": "yqITb4FcqmEf"
      }
    },
    {
      "cell_type": "code",
      "source": [
        "a = plus_minus(5, 5)\n",
        "print(a)"
      ],
      "metadata": {
        "id": "9rJEadzxqlRw",
        "colab": {
          "base_uri": "https://localhost:8080/"
        },
        "outputId": "1f5c3fbf-3f7b-436f-89e4-066ad53391ba"
      },
      "execution_count": 20,
      "outputs": [
        {
          "output_type": "stream",
          "name": "stdout",
          "text": [
            "(10, 0)\n"
          ]
        }
      ]
    },
    {
      "cell_type": "markdown",
      "source": [
        "이 때 `a` 의 값이 튜플 형식으로 지정되어 있는 것을 볼 수 있습니다. 반환값을 여러개의 변수로 바인딩 하고 싶으면 아래와 같이 작성해줍니다. \n",
        "\n",
        "```\n",
        "a_pi, a_mi = plus_minus(5,5)\n",
        "print(a_pi)\n",
        "print(a_mi)\n",
        "```\n",
        "\n"
      ],
      "metadata": {
        "id": "cbLQp5KWqpmQ"
      }
    },
    {
      "cell_type": "code",
      "source": [
        "a_pi, a_mi = plus_minus(5,5)\n",
        "print(a_pi)\n",
        "print(a_mi)"
      ],
      "metadata": {
        "id": "bVBWRHM8qn1P",
        "colab": {
          "base_uri": "https://localhost:8080/"
        },
        "outputId": "eac2d1b3-0374-4111-a40a-5f93bd7bf18f"
      },
      "execution_count": 21,
      "outputs": [
        {
          "output_type": "stream",
          "name": "stdout",
          "text": [
            "10\n",
            "0\n"
          ]
        }
      ]
    },
    {
      "cell_type": "markdown",
      "source": [
        "### **(5) 여러가지 매개변수**\n"
      ],
      "metadata": {
        "id": "I2nXtSe1qvFh"
      }
    },
    {
      "cell_type": "markdown",
      "source": [
        "#### **디폴트 값이 있는 매개변수**\n",
        "\n",
        "특정 인수의 디폴드 값을 아래와 같이 지정 할 수 있습니다.\n",
        "\n",
        "```\n",
        "def plus(input1, input2, bias=0):\n",
        "  print(input1+input2+bias)\n",
        "```"
      ],
      "metadata": {
        "id": "2Nq7NkdLqvMF"
      }
    },
    {
      "cell_type": "code",
      "source": [
        "def plus(input1, input2, bias=0):\n",
        "  print(input1+input2+bias)"
      ],
      "metadata": {
        "id": "A9V9N606qreB"
      },
      "execution_count": 28,
      "outputs": []
    },
    {
      "cell_type": "markdown",
      "source": [
        "이 때 디폴트 값이 있는 매개변수는 항상 마지막에 작성해야 하며 그렇지 않으면 에러 메시지가 출력됩니다.\n",
        "\n",
        "\n",
        "```\n",
        "def plus(input1, bias=0, input2):\n",
        "  print(input1+input2+bias)\n",
        "```"
      ],
      "metadata": {
        "id": "hhMDtFogq2PE"
      }
    },
    {
      "cell_type": "code",
      "source": [
        "def plus(input1, bias=0, input2):\n",
        "  print(input1+input2+bias)"
      ],
      "metadata": {
        "id": "rZCE2F15q1In",
        "colab": {
          "base_uri": "https://localhost:8080/",
          "height": 137
        },
        "outputId": "15128ca2-2911-4068-8e0e-3caddcf2d7b4"
      },
      "execution_count": 23,
      "outputs": [
        {
          "output_type": "error",
          "ename": "SyntaxError",
          "evalue": "ignored",
          "traceback": [
            "\u001b[0;36m  File \u001b[0;32m\"<ipython-input-23-950ef9985c72>\"\u001b[0;36m, line \u001b[0;32m1\u001b[0m\n\u001b[0;31m    def plus(input1, bias=0, input2):\u001b[0m\n\u001b[0m            ^\u001b[0m\n\u001b[0;31mSyntaxError\u001b[0m\u001b[0;31m:\u001b[0m non-default argument follows default argument\n"
          ]
        }
      ]
    },
    {
      "cell_type": "markdown",
      "source": [
        "\n",
        "디폴트로 매개변수를 지정했다면 함수를 실행할 때 인수를 입력하지 않아도 디폴트값이 작동됩니다. 아래 함수에서 `bias`값이 디폴트값인 0으로 작동합니다. \n",
        "\n",
        "```\n",
        "plus(1, 3)\n",
        "```\n"
      ],
      "metadata": {
        "id": "7SZm0zoPq5LZ"
      }
    },
    {
      "cell_type": "code",
      "source": [
        "plus(1, 3)"
      ],
      "metadata": {
        "id": "JPnFtvMxq3Zp",
        "colab": {
          "base_uri": "https://localhost:8080/"
        },
        "outputId": "418b1f77-a3c1-4d5b-e14c-b2b1e190ccf6"
      },
      "execution_count": 29,
      "outputs": [
        {
          "output_type": "stream",
          "name": "stdout",
          "text": [
            "4\n"
          ]
        }
      ]
    },
    {
      "cell_type": "markdown",
      "source": [
        "디폴트값을 조정 하고 싶다면 아래와 같이 함수를 작성합니다.\n",
        "\n",
        "```\n",
        "plus(1, 3, bias=1)\n",
        "```\n"
      ],
      "metadata": {
        "id": "o_p948MDq8hR"
      }
    },
    {
      "cell_type": "code",
      "source": [
        "plus(1, 3, bias=1)"
      ],
      "metadata": {
        "id": "EP_Y1x5jq7N3",
        "colab": {
          "base_uri": "https://localhost:8080/"
        },
        "outputId": "488b23a4-67eb-4a56-b298-f11d7de24846"
      },
      "execution_count": 25,
      "outputs": [
        {
          "output_type": "stream",
          "name": "stdout",
          "text": [
            "5\n"
          ]
        }
      ]
    },
    {
      "cell_type": "markdown",
      "source": [
        "#### **정해지지 않은 개수의 인풋 받기** \n",
        "\n",
        "\n",
        "인풋의 개수가 지정되어 있지 않는 함수를 만들어야 할 때가 있습니다. 이를 해결하기 위해서는 두가지 방법이 있습니다. \n",
        "\n",
        "\n",
        "* `args`\n",
        "\n",
        "`args`를 사용시에는 앞에 별 하나 `*` 를 붙입니다. 인풋을 몇개든 상관없이 받아 `args` 라는 변수로 반환합니다. \n",
        "\n",
        "\n",
        "```\n",
        "def many_input(*args):\n",
        "  print(args)\n",
        "\n",
        "many_input(1,2,3,4)\n",
        "```"
      ],
      "metadata": {
        "id": "S7CEd14Kq-zs"
      }
    },
    {
      "cell_type": "code",
      "source": [
        "def many_input(*args):\n",
        "  print(args)\n",
        "\n",
        "many_input(1,2,3,4)"
      ],
      "metadata": {
        "id": "P45CzJ6_q9vg",
        "colab": {
          "base_uri": "https://localhost:8080/"
        },
        "outputId": "90ace5b1-5144-4a1e-8498-3f0a48088c71"
      },
      "execution_count": 31,
      "outputs": [
        {
          "output_type": "stream",
          "name": "stdout",
          "text": [
            "(1, 2, 3, 4)\n"
          ]
        }
      ]
    },
    {
      "cell_type": "markdown",
      "source": [
        "\n",
        "* `kwargs`\n",
        "\n",
        "`kwargs`를 사용시에는 앞에 별 두개 `**` 를 붙입니다. `key`와 `value`를 함께 받아 `kwargs`라는 이름의 딕셔너리를 반환합니다. . \n",
        "\n",
        "```\n",
        "def my_func(**kwargs):\n",
        "  print(kwargs)\n",
        "\n",
        "my_func(a=1, b=2, c=3)\n",
        "```\n"
      ],
      "metadata": {
        "id": "03ZXBFQ-rJm7"
      }
    },
    {
      "cell_type": "code",
      "source": [
        "def my_func(**kwargs):\n",
        "  print(kwargs)\n",
        "\n",
        "my_func(a=1, b=2, c=3)"
      ],
      "metadata": {
        "id": "MqjVQcjMrGin",
        "colab": {
          "base_uri": "https://localhost:8080/"
        },
        "outputId": "8dc92ecd-552e-4497-a380-15b095061ac1"
      },
      "execution_count": 27,
      "outputs": [
        {
          "output_type": "stream",
          "name": "stdout",
          "text": [
            "{'a': 1, 'b': 2, 'c': 3}\n"
          ]
        }
      ]
    },
    {
      "cell_type": "markdown",
      "source": [
        "\n",
        "### **(6) 지역변수와 전역변수**\n",
        "\n",
        "`전역변수`는 프로그램 전체에서 사용되는 변수이고 `지역변수`는 특정 코드 블록 내에서만 사용되는 변수입니다. 함수 내에서 코드를 작성하고 변수를 지정하면 지역변수가 생성됩니다. 아래 코드에서 처음 선언된  `a`,`b`,`c`는 전역변수이고 함수내에 있는 `a`,`b`,`c`는 지역변수입니다. 함수내의 a,b,c,d는 전역변수에 영향을 미치지 않습니다. \n",
        "\n",
        "```\n",
        "a = 1\n",
        "b = 1\n",
        "c = 1\n",
        "\n",
        "def my_func(a, b):\n",
        "  c = a+b\n",
        "  d = a-b\n",
        "  return c\n",
        "\n",
        "my_out = my_func(5,5)\n",
        "print(a,b,c)\n",
        "```"
      ],
      "metadata": {
        "id": "yajec2TZxmGP"
      }
    },
    {
      "cell_type": "code",
      "source": [
        "a = 1\n",
        "b = 1\n",
        "c = 1\n",
        "\n",
        "def my_func(a, b):\n",
        "  c = a+b\n",
        "  d = a-b\n",
        "  return c\n",
        "\n",
        "my_out = my_func(5,5)\n",
        "print(a,b,c)"
      ],
      "metadata": {
        "id": "beqPrLnUxkIf",
        "colab": {
          "base_uri": "https://localhost:8080/"
        },
        "outputId": "5aa173ec-7ece-4fdf-ec7e-97db8810ec08"
      },
      "execution_count": 40,
      "outputs": [
        {
          "output_type": "stream",
          "name": "stdout",
          "text": [
            "1 1 1\n"
          ]
        }
      ]
    },
    {
      "cell_type": "markdown",
      "source": [
        "함수 실행시에는 반환 값이 전역변수로 지정됩니다.\n",
        "\n",
        "```\n",
        "c = my_func(5,5)\n",
        "print(a,b,c)\n",
        "```\n"
      ],
      "metadata": {
        "id": "hOeGWRv_xqJJ"
      }
    },
    {
      "cell_type": "code",
      "source": [
        "c = my_func(5,5)\n",
        "print(a,b,c)"
      ],
      "metadata": {
        "id": "v1MFcQ6ZxpUH",
        "colab": {
          "base_uri": "https://localhost:8080/"
        },
        "outputId": "1321d277-50a1-427b-deba-f8adbfe0a1ae"
      },
      "execution_count": 33,
      "outputs": [
        {
          "output_type": "stream",
          "name": "stdout",
          "text": [
            "1 1 10\n"
          ]
        }
      ]
    },
    {
      "cell_type": "markdown",
      "source": [
        "함수내에서 선언했던 모든 변수들은 함수 밖에서 실행되지 않습니다.\n",
        "\n",
        "```\n",
        "print(d)\n",
        "```"
      ],
      "metadata": {
        "id": "KsiQATG9xr_-"
      }
    },
    {
      "cell_type": "code",
      "source": [
        "print(d)"
      ],
      "metadata": {
        "id": "izP8b1B5xsvR",
        "colab": {
          "base_uri": "https://localhost:8080/",
          "height": 174
        },
        "outputId": "41fed1ec-3f7b-46f7-ea64-47bcc87224c6"
      },
      "execution_count": 34,
      "outputs": [
        {
          "output_type": "error",
          "ename": "NameError",
          "evalue": "ignored",
          "traceback": [
            "\u001b[0;31m---------------------------------------------------------------------------\u001b[0m",
            "\u001b[0;31mNameError\u001b[0m                                 Traceback (most recent call last)",
            "\u001b[0;32m<ipython-input-34-85549cb1de5f>\u001b[0m in \u001b[0;36m<module>\u001b[0;34m()\u001b[0m\n\u001b[0;32m----> 1\u001b[0;31m \u001b[0mprint\u001b[0m\u001b[0;34m(\u001b[0m\u001b[0md\u001b[0m\u001b[0;34m)\u001b[0m\u001b[0;34m\u001b[0m\u001b[0;34m\u001b[0m\u001b[0m\n\u001b[0m",
            "\u001b[0;31mNameError\u001b[0m: name 'd' is not defined"
          ]
        }
      ]
    },
    {
      "cell_type": "markdown",
      "source": [
        "#### **함수 내에서 전역변수 설정하기**\n",
        "\n",
        "* `global`\n",
        "\n",
        "만약 함수내 지역변수를 전역변수로 지정하고 싶다면 `global` 을 사용합니다.\n",
        "\n",
        "```\n",
        "def my_func(a, b):\n",
        "  global d\n",
        "  c = a+b\n",
        "  d = a-b\n",
        "  return c\n",
        "\n",
        "print(d)\n",
        "```\n"
      ],
      "metadata": {
        "id": "P2x721rGxvix"
      }
    },
    {
      "cell_type": "code",
      "source": [
        "def my_func(a, b):\n",
        "  global d\n",
        "  c = a+b\n",
        "  d = a-b\n",
        "  return c\n",
        "\n",
        "print(d)"
      ],
      "metadata": {
        "id": "FasjPCKAxrnv",
        "colab": {
          "base_uri": "https://localhost:8080/"
        },
        "outputId": "388f4079-f84e-40f3-d0f7-7fa5f717f597"
      },
      "execution_count": 41,
      "outputs": [
        {
          "output_type": "stream",
          "name": "stdout",
          "text": [
            "-1\n"
          ]
        }
      ]
    },
    {
      "cell_type": "markdown",
      "source": [
        "여전히 에러가 뜨나요? `global`을 사용할 때는 주의사항이 있습니다. 생성한 함수를 실행을 해야 `global` 값이 적용됩니다.\n",
        "```\n",
        "my_func(1,2)\n",
        "print(d)\n",
        "```"
      ],
      "metadata": {
        "id": "G4l2cJGxyJdQ"
      }
    },
    {
      "cell_type": "code",
      "source": [
        "my_func(1,2)\n",
        "print(d)"
      ],
      "metadata": {
        "id": "RZrpTa17xttw",
        "colab": {
          "base_uri": "https://localhost:8080/"
        },
        "outputId": "1ebbd597-3334-407d-cf77-544d292e7584"
      },
      "execution_count": 42,
      "outputs": [
        {
          "output_type": "stream",
          "name": "stdout",
          "text": [
            "-1\n"
          ]
        }
      ]
    },
    {
      "cell_type": "markdown",
      "source": [
        "## 문제 풀이\n",
        "---"
      ],
      "metadata": {
        "id": "QZaG85aOyhDc"
      }
    },
    {
      "cell_type": "markdown",
      "source": [
        "\n",
        "\n",
        "**예제 01**\n",
        "\n",
        "정수 n 을 받아서 python!을 n번 반복해서 출력하는 함수 `call_python()` 을 작성하세요\n",
        "\n",
        "```\n",
        "call_python(4)\n",
        "```"
      ],
      "metadata": {
        "id": "bnO7hxUJygQy"
      }
    },
    {
      "cell_type": "code",
      "source": [
        "def call_python(n):\n",
        "  call = 'python!'\n",
        "  return print( n * call )\n",
        "\n",
        "call_python(4)"
      ],
      "metadata": {
        "id": "SqNDqJ5XyMty",
        "colab": {
          "base_uri": "https://localhost:8080/"
        },
        "outputId": "3ba0ee16-0b52-4107-b967-b7440a1b22de"
      },
      "execution_count": 43,
      "outputs": [
        {
          "output_type": "stream",
          "name": "stdout",
          "text": [
            "python!python!python!python!\n"
          ]
        }
      ]
    },
    {
      "cell_type": "markdown",
      "source": [
        "**예제 02**\n",
        "\n",
        "아래 이차함수를 파이썬 함수로 구현하세요\n",
        "\n",
        "\n",
        "$y = x^2 + 2x -1$"
      ],
      "metadata": {
        "id": "88qQp7O9yjg-"
      }
    },
    {
      "cell_type": "code",
      "source": [
        "def second (x) :\n",
        "  return x*x + 2*x - 1"
      ],
      "metadata": {
        "id": "3AjXYRf4yj-x"
      },
      "execution_count": 44,
      "outputs": []
    },
    {
      "cell_type": "markdown",
      "source": [
        "**예제 03**\n",
        "\n",
        "삼각형의 넓이를 구하는 식은 아래와 같습니다. 함수로 구현하세요\n",
        "\n",
        "$ a = width · height · 0.5$\n"
      ],
      "metadata": {
        "id": "PCXgawYjykDQ"
      }
    },
    {
      "cell_type": "code",
      "source": [
        "def tri(width, height) :\n",
        "  return width * height * 0.5"
      ],
      "metadata": {
        "id": "z5UdFfWbylVS"
      },
      "execution_count": 45,
      "outputs": []
    },
    {
      "cell_type": "markdown",
      "source": [
        "\n",
        "**예제 04**\n",
        "\n",
        "문자열 s와 정수 n 을 입력하면 문자열의 n번째와 n-1번째 문자가 출력되는 함수 `split_string()` 을 작성하세요\n",
        "\n",
        "* 예시\n",
        "```\n",
        ">> split_string(\"코스모스\", 1)\n",
        "스코\n",
        "```\n",
        "\n",
        "* 예시\n",
        "```\n",
        ">> split_string(\"충분히긴문자\", 5)\n",
        "자문\n",
        "```\n"
      ],
      "metadata": {
        "id": "csqMSp6Nylib"
      }
    },
    {
      "cell_type": "code",
      "source": [
        "def split_string(s, n):\n",
        "\n",
        "  print(f'{s[n]}{s[n-1]}')\n",
        "\n",
        "split_string('충분히긴문자',5)"
      ],
      "metadata": {
        "id": "8ZgkxmeSynXP",
        "colab": {
          "base_uri": "https://localhost:8080/"
        },
        "outputId": "d0490e38-5d56-46d9-dfb6-d8cd4e414a97"
      },
      "execution_count": 52,
      "outputs": [
        {
          "output_type": "stream",
          "name": "stdout",
          "text": [
            "자문\n"
          ]
        }
      ]
    },
    {
      "cell_type": "markdown",
      "source": [
        "**예제 05**\n",
        "\n",
        "물건의 할인가는 가격의 70%입니다. 물건의 원래가격 d를 인풋으로하고 할인가를 아웃풋으로 하는 함수 `cal_sale()`을 작성하세요\n",
        "\n",
        "* 예시\n",
        "```\n",
        ">> 할인가 = cal_up_low(100)\n",
        ">> print(할인가)\n",
        "70\n",
        "```"
      ],
      "metadata": {
        "id": "kNl46OS1yncT"
      }
    },
    {
      "cell_type": "code",
      "source": [
        "def cal_sale(d):\n",
        "\n",
        "  discount = d * (7/10)\n",
        "  return print( int(discount) )\n",
        "\n",
        "cal_sale(100)"
      ],
      "metadata": {
        "id": "9MtLyDnLy35w",
        "colab": {
          "base_uri": "https://localhost:8080/"
        },
        "outputId": "1f8fa004-9859-4d23-ecee-9dc9c09d275f"
      },
      "execution_count": 54,
      "outputs": [
        {
          "output_type": "stream",
          "name": "stdout",
          "text": [
            "70\n"
          ]
        }
      ]
    },
    {
      "cell_type": "markdown",
      "source": [
        "**예제 06**\n",
        "\n",
        "리스트 a가 주어지면 a의 평균이 몇인지 출력하는 함수를 구현하세요\n",
        "\n",
        "* 예시\n",
        "```\n",
        ">> cal_mean([1,2,3])\n",
        "평균은 2 입니다. \n",
        "```\n",
        "\n",
        "* 예시\n",
        "```\n",
        ">> cal_mean([1,2,3,4,5])\n",
        "평균은 3 입니다. \n",
        "```\n"
      ],
      "metadata": {
        "id": "iA6rQROhy5He"
      }
    },
    {
      "cell_type": "code",
      "source": [
        "def cal_mean(a):\n",
        "  sum(a)\n",
        "  return print(f'평균은 {int(sum(a) / len(a))} 입니다. ')\n",
        "\n",
        "cal_mean([1,2,3])"
      ],
      "metadata": {
        "id": "mAzL6XCVy7on",
        "colab": {
          "base_uri": "https://localhost:8080/"
        },
        "outputId": "273a65da-c606-42b3-bfb6-1d35976a8fda"
      },
      "execution_count": 56,
      "outputs": [
        {
          "output_type": "stream",
          "name": "stdout",
          "text": [
            "평균은 2 입니다. \n"
          ]
        }
      ]
    },
    {
      "cell_type": "markdown",
      "source": [
        "**예제 07**\n",
        "\n",
        "\n",
        "리스트 a가 주어지면 a의 평균이 몇인지 출력하는 함수를 구현하세요\n",
        "\n",
        "* 예시\n",
        "```\n",
        ">> cal_mean(1,2,3)\n",
        "평균은 2 입니다. \n",
        "```\n",
        "* 예시\n",
        "```\n",
        ">> cal_mean(1,2,3,4,5)\n",
        "평균은 3 입니다. \n",
        "```\n",
        "\n"
      ],
      "metadata": {
        "id": "o96WO90vzJxn"
      }
    },
    {
      "cell_type": "code",
      "source": [
        "def cal_mean(*gras):\n",
        "\n",
        "  a = sum(gras)\n",
        "  return print(f'평균은 {int(a / len(gras))} 입니다. ')\n",
        "\n",
        "cal_mean(1,2,3)"
      ],
      "metadata": {
        "id": "IVYvnDEszJxo",
        "colab": {
          "base_uri": "https://localhost:8080/"
        },
        "outputId": "58172a87-a823-4521-8192-199386a28a2c"
      },
      "execution_count": 67,
      "outputs": [
        {
          "output_type": "stream",
          "name": "stdout",
          "text": [
            "평균은 2 입니다. \n"
          ]
        }
      ]
    },
    {
      "cell_type": "markdown",
      "source": [
        "\n",
        "**예제 08**\n",
        "\n",
        "\n",
        "무작위 숫자들을 입력하면 최소값, 최대값을 반환하는 함수`numbers()`를 작성하세요. \n",
        "\n",
        "* 예시\n",
        "```\n",
        ">> mn, mx = numbers(1,3,2,1,1)\n",
        ">> print(mn, mx)\n",
        "1 3\n",
        "```\n"
      ],
      "metadata": {
        "id": "lGF7nVBezSPn"
      }
    },
    {
      "cell_type": "code",
      "source": [
        "def numbers(*gras) :\n",
        "  mn = min(gras)\n",
        "  mx = max(gras)\n",
        "\n",
        "  return mn, mx\n",
        "\n",
        "mn, mx = numbers(1,3,2,1,1)\n",
        "print(mn, mx)"
      ],
      "metadata": {
        "id": "H3rAyjJQzSx4",
        "colab": {
          "base_uri": "https://localhost:8080/"
        },
        "outputId": "42f3e061-7f93-444f-ccc9-528c89acb0c1"
      },
      "execution_count": 58,
      "outputs": [
        {
          "output_type": "stream",
          "name": "stdout",
          "text": [
            "1 3\n"
          ]
        }
      ]
    },
    {
      "cell_type": "markdown",
      "source": [
        "\n",
        "**예제 09**\n",
        "\n",
        "길동이는 아래와 같이 코드를 작성하였으나 실행하자 에러 메시지가 떴습니다.  코드의 문제를 설명하세요\n",
        "\n",
        "```\n",
        "def my_func():\n",
        "  aa = 1\n",
        "  bb = 2\n",
        "  cc = 3\n",
        "  return aa+bb+cc\n",
        "\n",
        "o = my_func()\n",
        "print(o,aa,bb,cc)\n",
        "```"
      ],
      "metadata": {
        "id": "dPoJjFdkzaY2"
      }
    },
    {
      "cell_type": "code",
      "source": [
        "def my_func():\n",
        "  aa = 1\n",
        "  bb = 2\n",
        "  cc = 3\n",
        "  return aa+bb+cc\n",
        "\n",
        "o = my_func()\n",
        "# print(o,aa,bb,cc)\n",
        "\n",
        "print(' 전역변수와 지역변수를 혼동해서 ')"
      ],
      "metadata": {
        "id": "j3PLJinMzbeX",
        "colab": {
          "base_uri": "https://localhost:8080/"
        },
        "outputId": "424b975e-285f-4339-b3d7-2f261cd3cc20"
      },
      "execution_count": 70,
      "outputs": [
        {
          "output_type": "stream",
          "name": "stdout",
          "text": [
            " 전역변수와 지역변수를 혼동해서 \n"
          ]
        }
      ]
    },
    {
      "cell_type": "markdown",
      "source": [
        "**예제 10**\n",
        "\n",
        "에러가 뜨지 않도록 위의 함수 `my_func()`를 수정하세요\n",
        "\n"
      ],
      "metadata": {
        "id": "hexc4vsEzcXB"
      }
    },
    {
      "cell_type": "code",
      "source": [
        "def my_func():\n",
        "  global aa \n",
        "  aa = 1\n",
        "  global bb\n",
        "  bb = 2\n",
        "  global cc\n",
        "  cc = 3\n",
        "  # global을 사용할 떄는 global 부터 선언한 후 \n",
        "  return aa+bb+cc\n",
        "\n",
        "o = my_func()\n",
        "print(o,aa,bb,cc)\n"
      ],
      "metadata": {
        "id": "WF7PeJEIzoBq",
        "colab": {
          "base_uri": "https://localhost:8080/"
        },
        "outputId": "b0f83d37-b1b3-43e7-b6d3-96e1c23ba117"
      },
      "execution_count": 73,
      "outputs": [
        {
          "output_type": "stream",
          "name": "stdout",
          "text": [
            "6 1 2 3\n"
          ]
        }
      ]
    },
    {
      "cell_type": "code",
      "source": [
        ""
      ],
      "metadata": {
        "id": "_ysOOleEn8zn"
      },
      "execution_count": null,
      "outputs": []
    }
  ]
}