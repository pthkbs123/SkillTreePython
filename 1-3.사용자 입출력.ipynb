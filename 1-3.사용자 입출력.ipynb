{
  "nbformat": 4,
  "nbformat_minor": 0,
  "metadata": {
    "colab": {
      "name": "1-3.사용자 입출력.ipynb",
      "provenance": [],
      "collapsed_sections": [],
      "include_colab_link": true
    },
    "kernelspec": {
      "name": "python3",
      "display_name": "Python 3"
    },
    "language_info": {
      "name": "python"
    }
  },
  "cells": [
    {
      "cell_type": "markdown",
      "metadata": {
        "id": "view-in-github",
        "colab_type": "text"
      },
      "source": [
        "<a href=\"https://colab.research.google.com/github/pthkbs123/SkillTreePython/blob/main/1-3.%EC%82%AC%EC%9A%A9%EC%9E%90%20%EC%9E%85%EC%B6%9C%EB%A0%A5.ipynb\" target=\"_parent\"><img src=\"https://colab.research.google.com/assets/colab-badge.svg\" alt=\"Open In Colab\"/></a>"
      ]
    },
    {
      "cell_type": "markdown",
      "source": [
        "# 1-3. 변수 선언하기\n",
        "---\n",
        "* 날짜: 2022-03-29\n",
        "* 이름: 박태현"
      ],
      "metadata": {
        "id": "kB5IciXEm6o4"
      }
    },
    {
      "cell_type": "markdown",
      "source": [
        "## 개념정리\n",
        "---\n",
        "\n",
        "\n",
        "사용자에게서 변수를 얻어서 그에 맞는 프로그램을 짜고 싶다면 입력기능이 필요합니다. 또한 원하는 기능을 실행 후 결과물을 확인하고 싶다면 출력기능이 필요합니다. 이번시간에서는 파이썬의 입출력기능을 알아보도록 합니다.\n",
        "\n"
      ],
      "metadata": {
        "id": "4iN8NFzHRJ2D"
      }
    },
    {
      "cell_type": "markdown",
      "source": [
        "### **(1) 입력**\n",
        "\n",
        "\n",
        "\n"
      ],
      "metadata": {
        "id": "UKlkHH0IRL5h"
      }
    },
    {
      "cell_type": "markdown",
      "source": [
        "사용자의 입력을 파이썬의 `input()` 함수를 이용해서 받을 수 있습니다. 아래 코드를 실행하면 사용자의 입력을 받는 창이 나타납니다.\n",
        "\n",
        "```\n",
        "input()\n",
        "```\n",
        "\n"
      ],
      "metadata": {
        "id": "opbfNksrAq4P"
      }
    },
    {
      "cell_type": "code",
      "source": [
        "input()"
      ],
      "metadata": {
        "id": "MMZ81oTLAsnC",
        "colab": {
          "base_uri": "https://localhost:8080/",
          "height": 54
        },
        "outputId": "59c6ead8-b1d2-43c1-eaef-73b581cb59b7"
      },
      "execution_count": null,
      "outputs": [
        {
          "name": "stdout",
          "output_type": "stream",
          "text": [
            "input\n"
          ]
        },
        {
          "output_type": "execute_result",
          "data": {
            "text/plain": [
              "'input'"
            ],
            "application/vnd.google.colaboratory.intrinsic+json": {
              "type": "string"
            }
          },
          "metadata": {},
          "execution_count": 2
        }
      ]
    },
    {
      "cell_type": "markdown",
      "source": [
        "#### **설명 추가**\n",
        "\n",
        "입력을 받을 때 설명을 추가해주고 싶다면 아래와 같이 함수의 괄호 안에 문자열을 삽입합니다.\n",
        "```\n",
        "input(\"이름을 입력하세요:\")\n",
        "```"
      ],
      "metadata": {
        "id": "W5qe6MfoAr0T"
      }
    },
    {
      "cell_type": "code",
      "source": [
        "input(\"이름을 입력하세요\")"
      ],
      "metadata": {
        "id": "cZ-eUn5WAs-f",
        "colab": {
          "base_uri": "https://localhost:8080/",
          "height": 54
        },
        "outputId": "0328d867-0d01-4e4c-b09c-fbdc87275c0c"
      },
      "execution_count": null,
      "outputs": [
        {
          "name": "stdout",
          "output_type": "stream",
          "text": [
            "이름을 입력하세요python\n"
          ]
        },
        {
          "output_type": "execute_result",
          "data": {
            "text/plain": [
              "'python'"
            ],
            "application/vnd.google.colaboratory.intrinsic+json": {
              "type": "string"
            }
          },
          "metadata": {},
          "execution_count": 3
        }
      ]
    },
    {
      "cell_type": "markdown",
      "source": [
        "#### **바인딩**\n",
        "\n",
        "`input()` 함수로 받은 값을 바인딩 하여 저장할 수 있습니다.\n",
        "```\n",
        "my_name = input('이름을 입력하세요:')\n",
        "```\n"
      ],
      "metadata": {
        "id": "6e0WFOgKBIXo"
      }
    },
    {
      "cell_type": "code",
      "source": [
        "my_name = input('이름을 입력하세요 : ')"
      ],
      "metadata": {
        "id": "21s6EP4QFU6s",
        "colab": {
          "base_uri": "https://localhost:8080/"
        },
        "outputId": "68ff7d5e-3924-4406-cb0c-b953bfdc4d8d"
      },
      "execution_count": null,
      "outputs": [
        {
          "name": "stdout",
          "output_type": "stream",
          "text": [
            "이름을 입력하세요 : python\n"
          ]
        }
      ]
    },
    {
      "cell_type": "markdown",
      "source": [
        "\n",
        "위에서 선언한 `my_name`을 확인해 봅시다.\n",
        "\n",
        "```\n",
        "my_name, type(my_name)\n",
        "```\n",
        "\n"
      ],
      "metadata": {
        "id": "Fi-eRFJ_Dbog"
      }
    },
    {
      "cell_type": "code",
      "source": [
        "my_name, type(my_name)"
      ],
      "metadata": {
        "id": "XYu0SS3pFd5V",
        "colab": {
          "base_uri": "https://localhost:8080/"
        },
        "outputId": "7524b1e7-deb4-49c5-9c55-cbc73bdc509c"
      },
      "execution_count": null,
      "outputs": [
        {
          "output_type": "execute_result",
          "data": {
            "text/plain": [
              "('python', str)"
            ]
          },
          "metadata": {},
          "execution_count": 5
        }
      ]
    },
    {
      "cell_type": "markdown",
      "source": [
        "\n",
        "`input()` 함수로 바인딩한 값은 모두 `문자열(str)` 임을 주의합니다. \n",
        "```\n",
        "my_age = input(\"나이를 입력하세요: \")\n",
        "type(my_age)\n",
        "```"
      ],
      "metadata": {
        "id": "3Cr--Bt7DcZ3"
      }
    },
    {
      "cell_type": "code",
      "source": [
        "my_age = input(\"나이를 입력하세요: \")\n",
        "my_age, type(my_age)"
      ],
      "metadata": {
        "id": "ond0nWOBRNlE",
        "colab": {
          "base_uri": "https://localhost:8080/"
        },
        "outputId": "d882ac88-5eec-4de8-a219-f33fb5537a42"
      },
      "execution_count": null,
      "outputs": [
        {
          "name": "stdout",
          "output_type": "stream",
          "text": [
            "나이를 입력하세요: 20\n"
          ]
        },
        {
          "output_type": "execute_result",
          "data": {
            "text/plain": [
              "('20', str)"
            ]
          },
          "metadata": {},
          "execution_count": 7
        }
      ]
    },
    {
      "cell_type": "markdown",
      "source": [
        "### **(2) 출력**\n",
        "---\n"
      ],
      "metadata": {
        "id": "sRuCgcK-JvNK"
      }
    },
    {
      "cell_type": "markdown",
      "source": [
        "* `print()` : 원하는 값을 출력 할 수 있습니다. \n",
        "\n",
        "```\n",
        "print(2)\n",
        "```\n"
      ],
      "metadata": {
        "id": "DTfxz37ERNu5"
      }
    },
    {
      "cell_type": "code",
      "source": [
        ""
      ],
      "metadata": {
        "id": "a7CnXb5sRf9R"
      },
      "execution_count": null,
      "outputs": []
    },
    {
      "cell_type": "markdown",
      "source": [
        "문자 또한 출력 할 수 있습니다.\n",
        "\n",
        "```\n",
        "print(\"hello\")\n",
        "print('world')\n",
        "```\n"
      ],
      "metadata": {
        "id": "hP1Dg3r-RgFG"
      }
    },
    {
      "cell_type": "code",
      "source": [
        "print(\"hello\")\n",
        "print('world')"
      ],
      "metadata": {
        "id": "_ZNiNuDdROf4",
        "colab": {
          "base_uri": "https://localhost:8080/"
        },
        "outputId": "16be9ef1-68bf-46dc-de06-cf120b7198e4"
      },
      "execution_count": null,
      "outputs": [
        {
          "output_type": "stream",
          "name": "stdout",
          "text": [
            "hello\n",
            "world\n"
          ]
        }
      ]
    },
    {
      "cell_type": "markdown",
      "source": [
        "여러개의 인풋을 함께 쉼표(  `,`  )를 이용해 출력할 수 있습니다.\n",
        "\n",
        "```\n",
        "print(5,  \"apples\")\n",
        "```"
      ],
      "metadata": {
        "id": "mZpdPQfzKCY-"
      }
    },
    {
      "cell_type": "code",
      "source": [
        "print(5,  \"apples\")"
      ],
      "metadata": {
        "id": "AIZD4839KB1R",
        "colab": {
          "base_uri": "https://localhost:8080/"
        },
        "outputId": "90467678-5e27-4cd1-b4da-8a2e648908ef"
      },
      "execution_count": null,
      "outputs": [
        {
          "output_type": "stream",
          "name": "stdout",
          "text": [
            "5 apples\n"
          ]
        }
      ]
    },
    {
      "cell_type": "markdown",
      "source": [
        "#### **옵션**\n",
        "\n",
        "* `sep` : 출력하는 값들 사이를 어떤 값으로 채울지 지정할 수 있습니다. 디폴트 값은 스페이스(' ') 입니다.\n",
        "\n",
        "```\n",
        "print(\"Hello\", \"world\", 1, 2, 3, sep='*')\n",
        "```\n",
        "\n"
      ],
      "metadata": {
        "id": "NBoLmg06ROrn"
      }
    },
    {
      "cell_type": "code",
      "source": [
        "print(\"Hello\", \"world\", 1,2,3, sep='*')"
      ],
      "metadata": {
        "id": "W3O4k_RPKF7g",
        "colab": {
          "base_uri": "https://localhost:8080/"
        },
        "outputId": "c3844915-2d82-4346-ded5-bc273ea9d642"
      },
      "execution_count": null,
      "outputs": [
        {
          "output_type": "stream",
          "name": "stdout",
          "text": [
            "Hello*world*1*2*3\n"
          ]
        }
      ]
    },
    {
      "cell_type": "markdown",
      "source": [
        "* `end` : 문장이 끝날 때 어떤 문자로 끝날 지 지정해 줍니다. 기본값은 줄바꿈(`\\`) 입니다.\n",
        "\n",
        "```\n",
        "print(\"Hello\", \"world\", 1, 2, 3, end='*')\n",
        "```"
      ],
      "metadata": {
        "id": "-kjP5YIuKGMl"
      }
    },
    {
      "cell_type": "code",
      "source": [
        "print(\"Hello\", \"world\", 1, 2, 3, end='*')"
      ],
      "metadata": {
        "id": "FiKhVqs4RX1Q",
        "colab": {
          "base_uri": "https://localhost:8080/"
        },
        "outputId": "65ec8288-218e-409c-e6a1-e842d43f2098"
      },
      "execution_count": null,
      "outputs": [
        {
          "output_type": "stream",
          "name": "stdout",
          "text": [
            "Hello world 1 2 3*"
          ]
        }
      ]
    },
    {
      "cell_type": "code",
      "source": [
        "print(\"Hello\", end = '.')\n",
        "print(\"world\")"
      ],
      "metadata": {
        "colab": {
          "base_uri": "https://localhost:8080/"
        },
        "id": "KxORPJ0oS0rh",
        "outputId": "89c74c20-ec71-4fe1-e032-5ed15c8c9aa3"
      },
      "execution_count": null,
      "outputs": [
        {
          "output_type": "stream",
          "name": "stdout",
          "text": [
            "Hello.world\n"
          ]
        }
      ]
    },
    {
      "cell_type": "markdown",
      "source": [
        "## 문제풀이\n",
        "---"
      ],
      "metadata": {
        "id": "JPZeQrxgxJJF"
      }
    },
    {
      "cell_type": "markdown",
      "source": [
        "**예제 01**\n",
        "\n",
        "아래와 같이 직업을 입력하는 코드를 작성하세요\n",
        "\n",
        "```\n",
        ">> 직업을 입력하세요: \n",
        "```"
      ],
      "metadata": {
        "id": "4Hptj9hUxPr3"
      }
    },
    {
      "cell_type": "code",
      "source": [
        "input(\"직업을 입력하세요: \")"
      ],
      "metadata": {
        "id": "yvAcIx4L8Zwt",
        "colab": {
          "base_uri": "https://localhost:8080/",
          "height": 54
        },
        "outputId": "66ad683c-b03a-4d32-ef68-7ac5b045e03f"
      },
      "execution_count": null,
      "outputs": [
        {
          "name": "stdout",
          "output_type": "stream",
          "text": [
            "직업을 입력하세요: 학생\n"
          ]
        },
        {
          "output_type": "execute_result",
          "data": {
            "text/plain": [
              "'학생'"
            ],
            "application/vnd.google.colaboratory.intrinsic+json": {
              "type": "string"
            }
          },
          "metadata": {},
          "execution_count": 8
        }
      ]
    },
    {
      "cell_type": "markdown",
      "source": [
        "\n",
        "**예제 02**\n",
        "\n",
        "아래와 같이 직업을 입력하면 소개글을 출력하는 코드를 작성하세요\n",
        "\n",
        "\n",
        "```\n",
        ">> 직업을 입력하세요: \n",
        ">> 당신의 직업은 강사 입니다.\n",
        "```\n"
      ],
      "metadata": {
        "id": "S6NDuF_TxNsj"
      }
    },
    {
      "cell_type": "code",
      "source": [
        "job = input(\"직업을 입력하세요 : \")\n",
        "print(\"당신의 직업은\" , job , \"입니다.\")"
      ],
      "metadata": {
        "id": "IUQi5TpfxLwc",
        "colab": {
          "base_uri": "https://localhost:8080/"
        },
        "outputId": "8f5eda53-b94c-432c-b8cd-107dce637ade"
      },
      "execution_count": null,
      "outputs": [
        {
          "output_type": "stream",
          "name": "stdout",
          "text": [
            "직업을 입력하세요 : 강사\n",
            "당신의 직업은 강사 입니다.\n"
          ]
        }
      ]
    },
    {
      "cell_type": "markdown",
      "source": [
        "**예제 03**\n",
        "\n",
        "아래와 같이 직업을 입력하면 소개글을 출력하는 코드를 작성하세요\n",
        "\n",
        "```\n",
        ">> 직업을 입력하세요: \n",
        ">> 당신의 직업은 '강사' 입니다.\n",
        "```"
      ],
      "metadata": {
        "id": "stz9gemAxRNI"
      }
    },
    {
      "cell_type": "code",
      "source": [
        "job = input(\"직업을 입력하세요 : \")\n",
        "print(\"당신의 직업은 \" , \"'\" + job , \"' \" , \"입니다.\")"
      ],
      "metadata": {
        "id": "pBWMoVPC8aJ8",
        "colab": {
          "base_uri": "https://localhost:8080/"
        },
        "outputId": "10ce37b9-32d2-458d-8bd8-071cdfe913d2"
      },
      "execution_count": null,
      "outputs": [
        {
          "output_type": "stream",
          "name": "stdout",
          "text": [
            "직업을 입력하세요 : 강사\n",
            "당신의 직업은  '강사 '  입니다.\n"
          ]
        }
      ]
    },
    {
      "cell_type": "markdown",
      "source": [
        "**예제 04**\n",
        "\n",
        "아래와 같이 좋아하는 숫자를 출력하는 코드를 작성하세요\n",
        "\n",
        "```\n",
        ">> 내가 좋아하는 숫자: 7 \n",
        ">> 내가 좋아하는 숫자는 7 이다.\n",
        "```"
      ],
      "metadata": {
        "id": "107E31VkzTfm"
      }
    },
    {
      "cell_type": "code",
      "source": [
        "job = input(\"내가 좋아하는 숫자: \")\n",
        "print(\"내가 좋아하는 숫자는\", job, \"이다.\")"
      ],
      "metadata": {
        "id": "Hx0Ag-aAzTfm",
        "colab": {
          "base_uri": "https://localhost:8080/"
        },
        "outputId": "8a94d801-c551-438f-ebb7-3ddeaba4421c"
      },
      "execution_count": null,
      "outputs": [
        {
          "output_type": "stream",
          "name": "stdout",
          "text": [
            "내가 좋아하는 숫자: 7\n",
            "내가 좋아하는 숫자는 7 이다.\n"
          ]
        }
      ]
    },
    {
      "cell_type": "markdown",
      "source": [
        "**예제 04**\n",
        "\n",
        "아래와 같이 코드를 작성하였는데 오류가 떴습니다. 이유를 설명하세요.\n",
        "\n",
        "```\n",
        "my_num = input(\"내가 좋아하는 숫자: \") \n",
        "print(my_num+10)\n",
        "```"
      ],
      "metadata": {
        "id": "optdPkAtzgjt"
      }
    },
    {
      "cell_type": "code",
      "source": [
        "x = \"input은 문자열로 저장되는데, 문자열에 + 를 했기 때문\""
      ],
      "metadata": {
        "id": "4ioxaMK0zgjt"
      },
      "execution_count": null,
      "outputs": []
    },
    {
      "cell_type": "markdown",
      "source": [
        "**예제 05**\n",
        "\n",
        "화면에 아래 문장을 출력하세요.\n",
        "\n",
        "```\n",
        "nice day!\n",
        "```"
      ],
      "metadata": {
        "id": "BKug_5lN7NAS"
      }
    },
    {
      "cell_type": "code",
      "source": [
        "print(\"nice day!\")"
      ],
      "metadata": {
        "id": "4kuhxl6K8aiO",
        "colab": {
          "base_uri": "https://localhost:8080/"
        },
        "outputId": "b3e930a0-f53f-46bc-bb9c-58a8ba24a156"
      },
      "execution_count": null,
      "outputs": [
        {
          "output_type": "stream",
          "name": "stdout",
          "text": [
            "nice day!\n"
          ]
        }
      ]
    },
    {
      "cell_type": "markdown",
      "source": [
        "\n",
        "**예제 06**\n",
        "\n",
        "아래 출력이 나오도록 `#코드작성` 부분을 채워 넣으세요  (코드 한줄로 완성하세요) \n",
        "\n",
        "```\n",
        ">> w1 = \"hello\"\n",
        ">> w2 = \"python\"\n",
        ">> w3 = 2\n",
        ">> #코드작성\n",
        ">> hello! python 2\n",
        "```"
      ],
      "metadata": {
        "id": "gqns5it27OZk"
      }
    },
    {
      "cell_type": "code",
      "source": [
        "w1 = \"hello\"\n",
        "w2 = \"python\"\n",
        "w3 = 2\n",
        "print(w1, \"!\",' ',w2,' ',w3, sep = '')"
      ],
      "metadata": {
        "id": "HdB-Ptk58jNc",
        "colab": {
          "base_uri": "https://localhost:8080/"
        },
        "outputId": "c3beb6b8-82ea-469b-aa33-9876382000e9"
      },
      "execution_count": null,
      "outputs": [
        {
          "output_type": "stream",
          "name": "stdout",
          "text": [
            "hello! python 2\n"
          ]
        }
      ]
    },
    {
      "cell_type": "markdown",
      "source": [
        "**예제 07**\n",
        "\n",
        "아래 출력이 나오도록 `#코드작성` 부분을 채워 넣으세요  (코드 한줄로 완성하세요) \n",
        "\n",
        "```\n",
        ">> w1 = '나의'\n",
        ">> w2 = '살던'\n",
        ">> w3 = '고향은'\n",
        ">> #코드작성\n",
        "나의~살던~고향은~\n",
        "```"
      ],
      "metadata": {
        "id": "ImHI8rZa7Ri2"
      }
    },
    {
      "cell_type": "code",
      "source": [
        "w1 = '나의'\n",
        "w2 = '살던'\n",
        "w3 = '고향은'\n",
        "print(w1, \"~\", w2, \"~\", w3, \"~\", sep = '')"
      ],
      "metadata": {
        "id": "drP2EGod8jh3",
        "colab": {
          "base_uri": "https://localhost:8080/"
        },
        "outputId": "bfd7bd93-b79d-4a06-8c99-85ef404f65c2"
      },
      "execution_count": null,
      "outputs": [
        {
          "output_type": "stream",
          "name": "stdout",
          "text": [
            "나의~살던~고향은~\n"
          ]
        }
      ]
    },
    {
      "cell_type": "markdown",
      "source": [
        "**예제 08**\n",
        "\n",
        "아래 출력이 나오도록 `#코드작성` 부분을 채워 넣으세요 \n",
        "\n",
        "```\n",
        ">> w1 = '나의'\n",
        ">> w2 = '살던'\n",
        ">> w3 = '고향은'\n",
        ">> print(w1, end=#코드작성)\n",
        ">> print(w2, end=#코드작성)\n",
        ">> print(w3, end=#코드작성)\n",
        "나의 살던 고향은~\n",
        "```"
      ],
      "metadata": {
        "id": "IrIAl7T67TuF"
      }
    },
    {
      "cell_type": "code",
      "source": [
        "print(w1, end = ' ')\n",
        "print(w2, end = ' ')\n",
        "print(w3, end = '~')"
      ],
      "metadata": {
        "id": "TeaQAuiM8j3T",
        "colab": {
          "base_uri": "https://localhost:8080/"
        },
        "outputId": "8166ca80-6b80-4484-fbf5-19b742d6d0f2"
      },
      "execution_count": null,
      "outputs": [
        {
          "output_type": "stream",
          "name": "stdout",
          "text": [
            "나의 살던 고향은~"
          ]
        }
      ]
    },
    {
      "cell_type": "markdown",
      "source": [
        "**예제 09**\n",
        "\n",
        "아래 출력이 나오도록 `#코드작성` 부분을 채워 넣으세요  (코드 한줄로 완성하세요) \n",
        "\n",
        "```\n",
        ">> w1 = '나의'\n",
        ">> w2 = '살던'\n",
        ">> w3 = '고향은'\n",
        ">> #코드작성\n",
        "나의**살던**고향은\n",
        "```\n"
      ],
      "metadata": {
        "id": "-Uw0J0yZ8WC8"
      }
    },
    {
      "cell_type": "code",
      "source": [
        "print(w1, w2, w3, sep = \"**\")"
      ],
      "metadata": {
        "id": "uxf3akTY8kOg",
        "colab": {
          "base_uri": "https://localhost:8080/"
        },
        "outputId": "8bb73338-12cd-4da8-be4e-32b68ab0cf70"
      },
      "execution_count": null,
      "outputs": [
        {
          "output_type": "stream",
          "name": "stdout",
          "text": [
            "나의**살던**고향은\n"
          ]
        }
      ]
    },
    {
      "cell_type": "markdown",
      "source": [
        "**예제 10**\n",
        "\n",
        "아래 출력이 나오도록  `#코드작성` 부분을 채워 넣으세요 (코드 한줄로 완성하세요) \n",
        "\n",
        "```\n",
        ">> w1 = '나의'\n",
        ">> w2 = '살던'\n",
        ">> w3 = '고향은'\n",
        ">> #코드작성\n",
        "나의  \n",
        "살던    \n",
        "고향은  \n",
        "```"
      ],
      "metadata": {
        "id": "2mg9MMwq8W9Y"
      }
    },
    {
      "cell_type": "code",
      "source": [
        "print(w1, w2, w3, sep = \"\\n\")"
      ],
      "metadata": {
        "id": "AVd52M5n8kkS",
        "colab": {
          "base_uri": "https://localhost:8080/"
        },
        "outputId": "17330ac5-9fdc-4070-a7a8-6efb9cdc57c3"
      },
      "execution_count": null,
      "outputs": [
        {
          "output_type": "stream",
          "name": "stdout",
          "text": [
            "나의\n",
            "살던\n",
            "고향은\n"
          ]
        }
      ]
    },
    {
      "cell_type": "markdown",
      "source": [
        "**예제 11**\n",
        "\n",
        "아래 코드의 결과를 예측하고 그 이유를 해설하세요\n",
        "\n",
        "```\n",
        "print('hello python\")\n",
        "```\n"
      ],
      "metadata": {
        "id": "HtnfpWOF8YV_"
      }
    },
    {
      "cell_type": "code",
      "source": [
        "x = \" (')와 (\\\")이 달라서 \""
      ],
      "metadata": {
        "id": "FrRPaGaGj2qd"
      },
      "execution_count": null,
      "outputs": []
    },
    {
      "cell_type": "markdown",
      "source": [
        "**예제 12**\n",
        "\n",
        "아래와 같이 이름과 나이를 `input()`으로 받고 소개글을 출력하는 코드를 작성하세요\n",
        "\n",
        "```\n",
        ">> 이름 : 홍길동\n",
        ">> 나이: 20\n",
        "반갑습니다. 20살 홍길동 이라고 합니다. 잘 부탁드립니다!\n",
        "```"
      ],
      "metadata": {
        "id": "ZGtma_5Ej210"
      }
    },
    {
      "cell_type": "code",
      "source": [
        "name = input(\"이름 : \")\n",
        "age = input(\"나이 : \")\n",
        "print(\"반갑습니다.\", age + \"살\", name, \"이라고 합니다. 잘 부탁드립니다!\")"
      ],
      "metadata": {
        "id": "qEfBFeNRj9ho",
        "colab": {
          "base_uri": "https://localhost:8080/"
        },
        "outputId": "5dbe141b-a683-43f5-8da3-56c138e7edee"
      },
      "execution_count": null,
      "outputs": [
        {
          "output_type": "stream",
          "name": "stdout",
          "text": [
            "이름 : 홍길동\n",
            "나이 : 20\n",
            "반갑습니다. 20살 홍길동 이라고 합니다. 잘 부탁드립니다!\n"
          ]
        }
      ]
    },
    {
      "cell_type": "markdown",
      "source": [
        "**예제 13**\n",
        "\n",
        "아래와 같이 특정 메뉴를 고르는 코드를 작성하세요\n",
        "\n",
        "```\n",
        ">> 아메리카노    라떼   에스프레소\n",
        ">> 메뉴를 선택하세요 : 라떼\n",
        "라떼를 선택하였습니다.\n",
        "```\n"
      ],
      "metadata": {
        "id": "jXwMlnnAj9uz"
      }
    },
    {
      "cell_type": "code",
      "source": [
        "coffie = input()\n",
        "coffie = input(\"메뉴를 선택하세요 : \")\n",
        "print(coffie + \"를 선택하였습니다.\")"
      ],
      "metadata": {
        "id": "nK_NWWQ8kAPZ",
        "colab": {
          "base_uri": "https://localhost:8080/"
        },
        "outputId": "286e5f11-f45d-4236-c5d5-412159e96097"
      },
      "execution_count": null,
      "outputs": [
        {
          "output_type": "stream",
          "name": "stdout",
          "text": [
            "아메리카노   라떼   에스프레소\n",
            "메뉴를 선택하세요 : 라떼\n",
            "라떼를 선택하였습니다.\n"
          ]
        }
      ]
    },
    {
      "cell_type": "markdown",
      "source": [
        "\n",
        "**예제 14**\n",
        "\n",
        "아래와 같이 휴대폰 번호를 입력하면 전체 번호를 출력하는 코드를 작성하세요\n",
        "\n",
        "```\n",
        ">> 휴대폰 앞자리 : 010\n",
        ">> 휴대폰 중간자리: 1111\n",
        ">> 휴대폰 뒷자리: 1111\n",
        "제 번호는 010-1111-1111 입니다.\n",
        "```\n"
      ],
      "metadata": {
        "id": "QnVuK29mkBfo"
      }
    },
    {
      "cell_type": "code",
      "source": [
        "f_num = input(\"휴대폰 앞자리 : \")\n",
        "m_num = input(\"휴대폰 중간자리 : \")\n",
        "e_num = input(\"휴대폰 뒷자리  : \")\n",
        "print(\"제 번호는 %s-%s-%s 입니다\"%(f_num,m_num,e_num))"
      ],
      "metadata": {
        "id": "MTF9BCKnkGFN",
        "colab": {
          "base_uri": "https://localhost:8080/"
        },
        "outputId": "782c6054-eafa-41de-9da1-caf3f5ff6a74"
      },
      "execution_count": null,
      "outputs": [
        {
          "output_type": "stream",
          "name": "stdout",
          "text": [
            "휴대폰 앞자리 : 010\n",
            "휴대폰 중간자리 : 1111\n",
            "휴대폰 뒷자리  : 1111\n",
            "제 번호는 010-1111-1111 입니다\n"
          ]
        }
      ]
    },
    {
      "cell_type": "code",
      "source": [
        "f_num = input(\"휴대폰 앞자리 : \")\n",
        "m_num = input(\"휴대폰 중간자리 : \")\n",
        "e_num = input(\"휴대폰 뒷자리  : \")\n",
        "fin_num = f_num + \"-\" + m_num + \"-\" + e_num\n",
        "print(\"제 번호는\", fin_num, \"입니다\")"
      ],
      "metadata": {
        "colab": {
          "base_uri": "https://localhost:8080/"
        },
        "id": "ivw3LQ1QaMcK",
        "outputId": "ad23950c-f731-44e0-a336-d793dacce522"
      },
      "execution_count": null,
      "outputs": [
        {
          "output_type": "stream",
          "name": "stdout",
          "text": [
            "휴대폰 앞자리 : 010\n",
            "휴대폰 중간자리 : 1111\n",
            "휴대폰 뒷자리  : 1111\n",
            "제 번호는 010-1111-1111 입니다\n"
          ]
        }
      ]
    },
    {
      "cell_type": "markdown",
      "source": [
        "**예제 15**\n",
        "\n",
        "아래와 같이 두개의 값을 받아서 더하고 뺀 값을 알려주는 코드를 작성하세요\n",
        "\n",
        "```\n",
        ">> 첫번째 숫자를 입력하세요: 2\n",
        ">> 두번째 숫자를 입력하세요: 3\n",
        "두개의 숫자를 더한 값은 5 이고 뺀값은 -1 입니다.\n",
        "```"
      ],
      "metadata": {
        "id": "2h4D1hI1kIn-"
      }
    },
    {
      "cell_type": "code",
      "source": [
        "first_num = int(input(\"첫번째 숫자를 입력하세요 : \"))\n",
        "sec_num = int(input(\"두번째 숫자를 입력하세요 : \"))\n",
        "plus_num = first_num + sec_num\n",
        "sub_num = first_num - sec_num\n",
        "print(\"두개의 숫자를 더한 값은\", plus_num, \"이고 뺀값은\", sub_num, \"입니다.\")"
      ],
      "metadata": {
        "id": "zeG6ZZfqnuSM",
        "colab": {
          "base_uri": "https://localhost:8080/"
        },
        "outputId": "391c516e-1bcf-46ad-f981-0bb534e29ecc"
      },
      "execution_count": null,
      "outputs": [
        {
          "output_type": "stream",
          "name": "stdout",
          "text": [
            "첫번째 숫자를 입력하세요 : 2\n",
            "두번째 숫자를 입력하세요 : 3\n",
            "두개의 숫자를 더한 값은 5 이고 뺀값은 -1 입니다.\n"
          ]
        }
      ]
    },
    {
      "cell_type": "code",
      "source": [
        ""
      ],
      "metadata": {
        "id": "SFz7YIThZaOy"
      },
      "execution_count": null,
      "outputs": []
    },
    {
      "cell_type": "markdown",
      "source": [
        "print 사용시 띄어쓰기 지울 떄는 sep=''를 사용하자.\n",
        "ex) print(\"두개으\")"
      ],
      "metadata": {
        "id": "sDas-t8juPU1"
      }
    },
    {
      "cell_type": "code",
      "source": [
        ""
      ],
      "metadata": {
        "id": "UXEvaH7buYok"
      },
      "execution_count": null,
      "outputs": []
    }
  ]
}