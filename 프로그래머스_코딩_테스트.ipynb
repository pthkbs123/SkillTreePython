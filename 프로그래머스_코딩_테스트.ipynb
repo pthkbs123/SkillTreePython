{
  "nbformat": 4,
  "nbformat_minor": 0,
  "metadata": {
    "colab": {
      "name": "프로그래머스_코딩_테스트.ipynb",
      "provenance": [],
      "authorship_tag": "ABX9TyN0YIdaU9U2WHoXSGaev6BE",
      "include_colab_link": true
    },
    "kernelspec": {
      "name": "python3",
      "display_name": "Python 3"
    },
    "language_info": {
      "name": "python"
    }
  },
  "cells": [
    {
      "cell_type": "markdown",
      "metadata": {
        "id": "view-in-github",
        "colab_type": "text"
      },
      "source": [
        "<a href=\"https://colab.research.google.com/github/pthkbs123/SkillTreePython/blob/main/%ED%94%84%EB%A1%9C%EA%B7%B8%EB%9E%98%EB%A8%B8%EC%8A%A4_%EC%BD%94%EB%94%A9_%ED%85%8C%EC%8A%A4%ED%8A%B8.ipynb\" target=\"_parent\"><img src=\"https://colab.research.google.com/assets/colab-badge.svg\" alt=\"Open In Colab\"/></a>"
      ]
    },
    {
      "cell_type": "markdown",
      "source": [
        "# 해시 - 완주하지 못 한 선수\n",
        "\n",
        "**문제 설명**\n",
        "\n",
        "수많은 마라톤 선수들이 마라톤에 참여하였습니다. 단 한 명의 선수를 제외하고는 모든 선수가 마라톤을 완주하였습니다.\n",
        "\n",
        "마라톤에 참여한 선수들의 이름이 담긴 배열 participant와 완주한 선수들의 이름이 담긴 배열 completion이 주어질 때, 완주하지 못한 선수의 이름을 return 하도록 solution 함수를 작성해주세요.\n",
        "\n",
        "**제한사항**\n",
        "\n",
        "마라톤 경기에 참여한 선수의 수는 1명 이상 100,000명 이하입니다.\n",
        "completion의 길이는 participant의 길이보다 1 작습니다.\n",
        "참가자의 이름은 1개 이상 20개 이하의 알파벳 소문자로 이루어져 있습니다.\n",
        "참가자 중에는 동명이인이 있을 수 있습니다.\n"
      ],
      "metadata": {
        "id": "xYNBEExHgLBM"
      }
    },
    {
      "cell_type": "code",
      "execution_count": 103,
      "metadata": {
        "colab": {
          "base_uri": "https://localhost:8080/",
          "height": 35
        },
        "id": "7MkAvepBIcyh",
        "outputId": "929935a6-679c-4643-a1d8-fae66cb260dc"
      },
      "outputs": [
        {
          "output_type": "execute_result",
          "data": {
            "text/plain": [
              "'mislav'"
            ],
            "application/vnd.google.colaboratory.intrinsic+json": {
              "type": "string"
            }
          },
          "metadata": {},
          "execution_count": 103
        }
      ],
      "source": [
        "def solution(participant, completion):\n",
        "    \n",
        "    participant.sort()\n",
        "    completion.sort()\n",
        "    \n",
        "    completion.append(' ')\n",
        "    \n",
        "    for i in range(len(participant)): \n",
        "        \n",
        "        if i == len(completion) :\n",
        "            break\n",
        "        \n",
        "        if participant[i] != completion[i] :\n",
        "            answer = participant[i]\n",
        "            return answer\n",
        "            \n",
        "    answer = participant[0]\n",
        "    return answer\n",
        "    \n",
        "participant = [\"mislav\", \"stanko\", \"mislav\", \"ana\"]\n",
        "completion = [\"stanko\", \"ana\", \"mislav\"]\n",
        "\n",
        "solution(participant, completion)"
      ]
    },
    {
      "cell_type": "markdown",
      "source": [
        " 가장 문제되던 부분은 입력받은 리스트의 길이가 달라 여러모로 제약이 많았다.\n",
        "\n",
        "문제에서 완주하지 못 한 선수는 반드시 1명이므로, 짧은 쪽에 공백을 하나 추가해줘 해결했다.\n",
        " \n",
        " 그 다음으로 문제되던 부분은 효율성 테스트 부분인데, 반복문을 다수 사용하는 경우에도 오래 걸리지만 del과 remove 같은 경우 또한 걸리는 시간이 길어 해결법을 찾아야 했다.\n",
        "\n",
        " 우선 Sort를 한 후, for문으로 딱 주어진 길이만큼만 반복 되도록 하였고,\n",
        " 두 리스트를 비교할 때 값이 같은 경우엔 넘어가고 다른 경우를 리턴하게 하였는데 이때 동명이인 문제는 문제되지 않는다. 동명이인이라고 해도 sort를 하였기 때문에 비교하여 이름이 같으면 다음으로 넘어가고, 동명이인들이 모두 사라지고 난 후 이름이 달라지는 경우에는 완주하지 못 한 선수는 반드시 1명이므로 리턴값을 찾은 것 이기 때문이다."
      ],
      "metadata": {
        "id": "ewefGtiFgldM"
      }
    },
    {
      "cell_type": "code",
      "source": [
        "import collections\n",
        "\n",
        "def solution(participant, completion):\n",
        "    answer = collections.Counter(participant) - collections.Counter(completion)\n",
        "    return list(answer.keys())[0]"
      ],
      "metadata": {
        "id": "RNL1eBOgscFs"
      },
      "execution_count": null,
      "outputs": []
    },
    {
      "cell_type": "markdown",
      "source": [
        "콜렉션을 임포트하여 카운터를 이용한 경우. 카운터 객체는 빼기가 가능하므로 이를 이용하면 간단하게 처리할 수 있다.\n",
        "\n",
        "이 경우 시간 복잡도가 O(N) 이고, 내가 한 풀이의 경우 O(NlogN)이므로 이 쪽이 좀 더 빠르다."
      ],
      "metadata": {
        "id": "6iw8NHQ7siVE"
      }
    },
    {
      "cell_type": "code",
      "source": [
        "def solution(participant, completion):\n",
        "    answer = ''\n",
        "    temp = 0\n",
        "    dic = {}\n",
        "    for part in participant:\n",
        "        dic[hash(part)] = part\n",
        "        temp += hash(part)\n",
        "    for com in completion:\n",
        "        temp -= hash(com)\n",
        "    answer = dic[temp]\n",
        "\n",
        "    return answer"
      ],
      "metadata": {
        "id": "yE9ycBEWtADE"
      },
      "execution_count": null,
      "outputs": []
    },
    {
      "cell_type": "markdown",
      "source": [
        "출제 의도대로 해시를 이용한 경우. 찾아야 하는 사람이 1명이기에 사용할 수 있는 방법."
      ],
      "metadata": {
        "id": "PB9wGMCPtDBU"
      }
    },
    {
      "cell_type": "markdown",
      "source": [
        "# 정렬 - K번째 수\n",
        "\n",
        "**문제 설명**\n",
        "\n",
        "배열 array의 i번째 숫자부터 j번째 숫자까지 자르고 정렬했을 때, k번째에 있는 수를 구하려 합니다.\n",
        "\n",
        "예를 들어 array가 [1, 5, 2, 6, 3, 7, 4], i = 2, j = 5, k = 3이라면\n",
        "\n",
        "array의 2번째부터 5번째까지 자르면 [5, 2, 6, 3]입니다.\n",
        "1에서 나온 배열을 정렬하면 [2, 3, 5, 6]입니다.\n",
        "2에서 나온 배열의 3번째 숫자는 5입니다.\n",
        "배열 array, [i, j, k]를 원소로 가진 2차원 배열 commands가 매개변수로 주어질 때, commands의 모든 원소에 대해 앞서 설명한 연산을 적용했을 때 나온 결과를 배열에 담아 return 하도록 solution 함수를 작성해주세요.\n",
        "\n",
        "**입출력 예**\n",
        "\n",
        "array /\tcommands / return\n",
        "\n",
        "[1, 5, 2, 6, 3, 7, 4]\t[[2, 5, 3], [4, 4, 1], [1, 7, 3]]\t[5, 6, 3]\n",
        "\n",
        "**입출력 예 설명**\n",
        "\n",
        "[1, 5, 2, 6, 3, 7, 4]를 2번째부터 5번째까지 자른 후 정렬합니다. [2, 3, 5, 6]의 세 번째 숫자는 5입니다.\n",
        "\n",
        "[1, 5, 2, 6, 3, 7, 4]를 4번째부터 4번째까지 자른 후 정렬합니다. [6]의 첫 번째 숫자는 6입니다.\n",
        "\n",
        "[1, 5, 2, 6, 3, 7, 4]를 1번째부터 7번째까지 자릅니다. [1, 2, 3, 4, 5, 6, 7]의 세 번째 숫자는 3입니다."
      ],
      "metadata": {
        "id": "y8408Rv2q_Q0"
      }
    },
    {
      "cell_type": "code",
      "source": [
        "def solution(array, commands):\n",
        "    \n",
        "    answer = []\n",
        "    \n",
        "    for i in range(len(commands)) : \n",
        "        sorted_array = (array[commands[i][0]-1 : commands[i][1]])\n",
        "        sorted_array = sorted(sorted_array)\n",
        "        \n",
        "        answer.append(sorted_array[commands[i][2]-1])\n",
        "    \n",
        "    return answer"
      ],
      "metadata": {
        "id": "HHgvKkoLgKWk"
      },
      "execution_count": null,
      "outputs": []
    },
    {
      "cell_type": "markdown",
      "source": [
        "리스트의 인덱싱과 슬라이싱을 알면 굉장히 쉬운 문제. 범위를 지정해 줄 때 -1을 넣어줘야 하는 경우가 있으나 실행시켜서 확인해보면 금방 알 수 있다."
      ],
      "metadata": {
        "id": "9ID31qjFrRms"
      }
    },
    {
      "cell_type": "code",
      "source": [
        ""
      ],
      "metadata": {
        "id": "t9sG_j38sXit"
      },
      "execution_count": null,
      "outputs": []
    }
  ]
}