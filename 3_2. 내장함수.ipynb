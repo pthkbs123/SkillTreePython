{
  "nbformat": 4,
  "nbformat_minor": 0,
  "metadata": {
    "colab": {
      "name": "3-2.내장함수.ipynb의 사본",
      "provenance": [],
      "collapsed_sections": [],
      "include_colab_link": true
    },
    "kernelspec": {
      "name": "python3",
      "display_name": "Python 3"
    },
    "language_info": {
      "name": "python"
    }
  },
  "cells": [
    {
      "cell_type": "markdown",
      "metadata": {
        "id": "view-in-github",
        "colab_type": "text"
      },
      "source": [
        "<a href=\"https://colab.research.google.com/github/pthkbs123/SkillTreePython/blob/main/3_2.%20%EB%82%B4%EC%9E%A5%ED%95%A8%EC%88%98.ipynb\" target=\"_parent\"><img src=\"https://colab.research.google.com/assets/colab-badge.svg\" alt=\"Open In Colab\"/></a>"
      ]
    },
    {
      "cell_type": "markdown",
      "source": [
        "# 3-2. 내장함수 \n",
        "---\n",
        "* 날짜: 2022-04-01\n",
        "* 이름: 박태현"
      ],
      "metadata": {
        "id": "kB5IciXEm6o4"
      }
    },
    {
      "cell_type": "markdown",
      "source": [
        "## 개념정리\n",
        "---\n",
        "\n",
        "자료형을 배우면서 우리는 여러가지 내장함수에 대해서도 같이 배워봤습니다. 모든 값을 더하는 `sum()`, 최대값을 구하는 `max()`등 이제는 여러분이 친숙하게 알고 있는 이 함수들이 모두 파이썬에서 이미 만들어 놓은 내장함수 입니다. 내장 함수는 이 외에도 더 많습니다. 그 중에서도 우리가 아직 배우지 않았지만 중요한 함수 몇개를 추가로 배워보도록 하겠습니다. \n",
        "\n",
        "* `dir`\n",
        "* `eval`\n",
        "* `filter`\n",
        "* `map`\n",
        "* `lambda`"
      ],
      "metadata": {
        "id": "4iN8NFzHRJ2D"
      }
    },
    {
      "cell_type": "markdown",
      "source": [
        "### **(1) dir**\n",
        "\n",
        "이 함수는 각 자료형이 가지고 있는 변수나 함수를 보여줍니다. 우리는 앞에서 각 자료형들에 관련된 여러가지 함수들을 배워 봤습니다. \n",
        "\n",
        "예를 들어 딕셔너리 자료형에는 key 값을 얻는 `.keys` 나 value 값을 반환하는 `.values` 가 있었습니다. \n",
        "\n",
        "아래 코드를 실행하여 이를 확인해 봅시다. \n",
        "\n",
        "\n",
        "```\n",
        "my_dict = {1:'a', 2:'b'}\n",
        "dir(my_dict)\n",
        "```"
      ],
      "metadata": {
        "id": "MAM8MDnfw68b"
      }
    },
    {
      "cell_type": "code",
      "source": [
        "my_dict = {1:'a', 2:'b'}\n",
        "dir(my_dict)"
      ],
      "metadata": {
        "id": "Flo7sT5YV-7W",
        "colab": {
          "base_uri": "https://localhost:8080/"
        },
        "outputId": "e4cb8f38-d595-4d81-970c-ef9dee874dd9"
      },
      "execution_count": 1,
      "outputs": [
        {
          "output_type": "execute_result",
          "data": {
            "text/plain": [
              "['__class__',\n",
              " '__contains__',\n",
              " '__delattr__',\n",
              " '__delitem__',\n",
              " '__dir__',\n",
              " '__doc__',\n",
              " '__eq__',\n",
              " '__format__',\n",
              " '__ge__',\n",
              " '__getattribute__',\n",
              " '__getitem__',\n",
              " '__gt__',\n",
              " '__hash__',\n",
              " '__init__',\n",
              " '__init_subclass__',\n",
              " '__iter__',\n",
              " '__le__',\n",
              " '__len__',\n",
              " '__lt__',\n",
              " '__ne__',\n",
              " '__new__',\n",
              " '__reduce__',\n",
              " '__reduce_ex__',\n",
              " '__repr__',\n",
              " '__setattr__',\n",
              " '__setitem__',\n",
              " '__sizeof__',\n",
              " '__str__',\n",
              " '__subclasshook__',\n",
              " 'clear',\n",
              " 'copy',\n",
              " 'fromkeys',\n",
              " 'get',\n",
              " 'items',\n",
              " 'keys',\n",
              " 'pop',\n",
              " 'popitem',\n",
              " 'setdefault',\n",
              " 'update',\n",
              " 'values']"
            ]
          },
          "metadata": {},
          "execution_count": 1
        }
      ]
    },
    {
      "cell_type": "markdown",
      "source": [
        "### **(2) eval**\n",
        "\n",
        "* `eval(str)`\n",
        "\n",
        "\n",
        "이 함수는 문자열을 코드로 바꿔 줍니다. 예를 들어 봅시다. 문자열 '1+2'는 연산한 값이 아니라 문자 그대로의 집합일 뿐입니다. 이를 `eval` 함수에 넣어보겠습니다. \n",
        "\n",
        "```\n",
        "s = '1+2'\n",
        "eval(s)\n",
        "```"
      ],
      "metadata": {
        "id": "uZ17CgW8eJVQ"
      }
    },
    {
      "cell_type": "code",
      "source": [
        "s = '1+2'\n",
        "eval(s)"
      ],
      "metadata": {
        "id": "zpOgScbbeuzn",
        "colab": {
          "base_uri": "https://localhost:8080/"
        },
        "outputId": "e6d4a552-05c7-4242-d742-2cb9a474c5be"
      },
      "execution_count": 2,
      "outputs": [
        {
          "output_type": "execute_result",
          "data": {
            "text/plain": [
              "3"
            ]
          },
          "metadata": {},
          "execution_count": 2
        }
      ]
    },
    {
      "cell_type": "markdown",
      "source": [
        "보시다 시피 문자열이 코드로 변경되어 1+2 의 결과인 3이 나오는 것을 볼수 있습니다. `eval(s)`의 타입 또한 정수 자료형이 `int`가 됩니다. \n",
        "\n",
        "이 함수는 익혀두면 유용하게 쓰일 수 있습니다. 특히 사용자의 입력을 받아서 사용할 때는 대부분 문자열로 받게 되는데 이를 바로 코드화 시키기 유용합니다.\n",
        "\n",
        "```\n",
        "a = [1,2,3]\n",
        "s = input('a 를 입력하세요: ')\n",
        "eval(s)\n",
        "```"
      ],
      "metadata": {
        "id": "ztMwzdjbewBP"
      }
    },
    {
      "cell_type": "code",
      "source": [
        "a = [1,2,3]\n",
        "s = input('a 를 입력하세요: ')\n",
        "eval(s)"
      ],
      "metadata": {
        "id": "lUWIDhc9fOOH",
        "colab": {
          "base_uri": "https://localhost:8080/"
        },
        "outputId": "5c249d4e-af5a-4830-ca68-dbe37bbb52bd"
      },
      "execution_count": 6,
      "outputs": [
        {
          "name": "stdout",
          "output_type": "stream",
          "text": [
            "a 를 입력하세요: a\n"
          ]
        },
        {
          "output_type": "execute_result",
          "data": {
            "text/plain": [
              "[1, 2, 3]"
            ]
          },
          "metadata": {},
          "execution_count": 6
        }
      ]
    },
    {
      "cell_type": "markdown",
      "source": [
        "### **(3) filter**\n",
        "\n",
        "* `filter( function, sequence)`\n",
        "\n",
        "이 때 함수는 True 혹은 False를 반환합니다. 그리고 filter는 sequence 중 True 인 값만 반환합니다. 아래 예시를 봅시다.\n",
        "\n",
        "`odd` 함수는 홀수 인지 판별 하여 홀수면 `True`를 짝수면 `False`를 반환합니다.\n",
        "\n",
        "`filter` 함수는 리스트 값들 중 `True`값에 해당하는 홀수 값들만 반환합니다.\n",
        "\n",
        "```\n",
        "def upper3(x):\n",
        "  return x>3\n",
        "\n",
        "list(filter(upper3, [1,2,3,4,5]))\n",
        "```"
      ],
      "metadata": {
        "id": "Kam7Fd5xjNwI"
      }
    },
    {
      "cell_type": "code",
      "source": [
        "def upper3(x):\n",
        "  return x>3 # bool형으로만 \n",
        "\n",
        "list(filter(upper3, [1,2,3,4,5]))"
      ],
      "metadata": {
        "id": "Q81qumRmjif2",
        "colab": {
          "base_uri": "https://localhost:8080/"
        },
        "outputId": "75e79759-726e-457b-a3c0-b60447208036"
      },
      "execution_count": 7,
      "outputs": [
        {
          "output_type": "execute_result",
          "data": {
            "text/plain": [
              "[4, 5]"
            ]
          },
          "metadata": {},
          "execution_count": 7
        }
      ]
    },
    {
      "cell_type": "markdown",
      "source": [
        "### **(4) map**\n",
        "\n",
        "* `map( function, sequence)`\n",
        "\n",
        "군집자료형에 있는 요소들을 차례대로 함수 (def)에 넣고 반환 값을 리스트로 돌려줍니다. \n",
        "\n",
        "아래 코드를 실행해 위에서 배운 `filter`와 다른점이 무엇인지 살펴봅시다.\n",
        "\n",
        "```\n",
        "def upper3(x):\n",
        "  return x>3\n",
        "\n",
        "list(map(upper3, [1,2,3,4,5]))\n",
        "```"
      ],
      "metadata": {
        "id": "q_kivW39k3Rx"
      }
    },
    {
      "cell_type": "code",
      "source": [
        "def upper3(x):\n",
        "  return x>3\n",
        "\n",
        "list(map(upper3, [1,2,3,4,5]))"
      ],
      "metadata": {
        "id": "DD8a2PLuk3Ry",
        "colab": {
          "base_uri": "https://localhost:8080/"
        },
        "outputId": "378d2aa6-a526-4541-ef36-e5f3ed27d5d9"
      },
      "execution_count": 8,
      "outputs": [
        {
          "output_type": "execute_result",
          "data": {
            "text/plain": [
              "[False, False, False, True, True]"
            ]
          },
          "metadata": {},
          "execution_count": 8
        }
      ]
    },
    {
      "cell_type": "markdown",
      "source": [
        "`filter`함수는 `True`에 해당하는 **인풋**을 걸러서 반환하는 반면,\n",
        "\n",
        "`map`함수는 **아웃풋**을 모두 반환하는 것을 알 수 있습니다. \n",
        "\n",
        "`map`함수를 적절히 사용하면 복잡한 알고리즘도 간단히 표현할 수 있습니다. 아래는 리스트 각 요소들의 제곱값을 구하는 코드입니다. \n",
        "\n",
        "```\n",
        "def square(x):\n",
        "  return x**2\n",
        "\n",
        "list(map(square, [1,2,3]))\n",
        "```\n",
        "\n"
      ],
      "metadata": {
        "id": "GIwOb74ZsA5h"
      }
    },
    {
      "cell_type": "code",
      "source": [
        "def square(x):\n",
        "  return x**2\n",
        "\n",
        "list(map(square, [1,2,3]))"
      ],
      "metadata": {
        "id": "0JLCADhnNR_M",
        "colab": {
          "base_uri": "https://localhost:8080/"
        },
        "outputId": "8bd81e03-98a6-432e-89d6-da511acf6a46"
      },
      "execution_count": 9,
      "outputs": [
        {
          "output_type": "execute_result",
          "data": {
            "text/plain": [
              "[1, 4, 9]"
            ]
          },
          "metadata": {},
          "execution_count": 9
        }
      ]
    },
    {
      "cell_type": "markdown",
      "source": [
        "#### **lambda**\n",
        "\n",
        "`lammda` 는 원래 함수를 생성할 때 쓰이며 `def`와 동일한 역할을 합니다. 다만 `def`와 달리 보통 함수를 한줄로 간결하게 만들 때 사용합니다. `def`를 사용해야 할 정도로 복잡하지 않을 때 주로 쓰입니다. \n",
        "\n",
        "```\n",
        "def plus(a,b):\n",
        "  return a+b\n",
        "```\n",
        "\n",
        "위 함수는 아래와 완전히 동일합니다.\n",
        "\n",
        "```\n",
        "plus = lambda a, b:a+b\n",
        "```\n"
      ],
      "metadata": {
        "id": "GXNRWIyrwQSC"
      }
    },
    {
      "cell_type": "code",
      "source": [
        "def plus(a,b):\n",
        "  return a+b"
      ],
      "metadata": {
        "id": "ea55YTxiwKiS"
      },
      "execution_count": 10,
      "outputs": []
    },
    {
      "cell_type": "code",
      "source": [
        "plus = lambda a, b:a+b #완전히 동일"
      ],
      "metadata": {
        "id": "mv2Szhq_-19n"
      },
      "execution_count": 12,
      "outputs": []
    },
    {
      "cell_type": "markdown",
      "source": [
        "함수를 호출 할 때는 마찬가지로 함수이름 `plus`와 괄호를 함꼐 써줍니다.\n",
        "\n",
        "```\n",
        "plus(1,2)\n",
        "```"
      ],
      "metadata": {
        "id": "9aJBMu5HxAdy"
      }
    },
    {
      "cell_type": "code",
      "source": [
        "plus(1,2)"
      ],
      "metadata": {
        "id": "w8RmnGqLw6KJ",
        "colab": {
          "base_uri": "https://localhost:8080/"
        },
        "outputId": "9dd897e9-0485-40fa-f24f-2f58a0608a0c"
      },
      "execution_count": 14,
      "outputs": [
        {
          "output_type": "execute_result",
          "data": {
            "text/plain": [
              "3"
            ]
          },
          "metadata": {},
          "execution_count": 14
        }
      ]
    },
    {
      "cell_type": "markdown",
      "source": [
        "`lambda`는 특히 `map`과 함께 쓸 때 그 진가를 발휘합니다. \n",
        "`map`(`filter`도 마찬가지)의 특성상 함수를 항상 필요로 하는데 대부분의 경우 함수가 간단한 경우가 많습니다. \n",
        "\n",
        "위 예제 중 시퀀스의 제곱을 구하는 코드를 봅시다.\n",
        "\n",
        "```\n",
        "def square(x):\n",
        "  return x**2\n",
        "\n",
        "list(map(square, [1,2,3]))\n",
        "```\n",
        "\n",
        "이 코드는 `lambda`를 이용하면 아래와 같이 작성 할 수 있습니다.\n",
        "\n",
        "\n",
        "```\n",
        "square = lambda x: x**2\n",
        "list( map(square, [1,2,3]) )\n",
        "```"
      ],
      "metadata": {
        "id": "yMjg-0JgxYcz"
      }
    },
    {
      "cell_type": "code",
      "source": [
        "square = lambda x : x**2\n",
        "list( map(square, [1,2,3]) )"
      ],
      "metadata": {
        "id": "N8kM2Wr6xGp5",
        "colab": {
          "base_uri": "https://localhost:8080/"
        },
        "outputId": "48c34960-a056-424e-ac30-95c4fce75524"
      },
      "execution_count": 16,
      "outputs": [
        {
          "output_type": "execute_result",
          "data": {
            "text/plain": [
              "[1, 4, 9]"
            ]
          },
          "metadata": {},
          "execution_count": 16
        }
      ]
    },
    {
      "cell_type": "markdown",
      "source": [
        "함수를 바인딩 하지 않으면 아래와 같이 한줄로 작성하는 것도 가능합니다. \n",
        "\n",
        "```\n",
        "list( map(lambda x: x**2, [1,2,3]) )\n",
        "```"
      ],
      "metadata": {
        "id": "kU35j4XmyUd7"
      }
    },
    {
      "cell_type": "code",
      "source": [
        "list( map(lambda x: x**2, [1,2,3]) )\n"
      ],
      "metadata": {
        "id": "HoBGMstPyQPi",
        "colab": {
          "base_uri": "https://localhost:8080/"
        },
        "outputId": "68e6d42a-40ae-4e4f-9a59-3c3e9ed158ba"
      },
      "execution_count": 17,
      "outputs": [
        {
          "output_type": "execute_result",
          "data": {
            "text/plain": [
              "[1, 4, 9]"
            ]
          },
          "metadata": {},
          "execution_count": 17
        }
      ]
    },
    {
      "cell_type": "markdown",
      "source": [
        "`filter` 함수와도 함께 쓸 수 있습니다. 위에서 3보다 큰 숫자들만 반환하는 코드를 작성해 보았습니다.\n",
        "\n",
        "```\n",
        "def upper3(x):\n",
        "  return x>3\n",
        "\n",
        "list(filter(upper3, [1,2,3,4,5]))\n",
        "```\n",
        "\n",
        "이를 `lambda`를 사용해서 아래와 같이 한줄로 표현할 수 있습니다.\n",
        "\n",
        "```\n",
        "list(filter(lambda x: x>3, [1,2,3,4,5]))\n",
        "```"
      ],
      "metadata": {
        "id": "9HoW8Xtuv8in"
      }
    },
    {
      "cell_type": "code",
      "source": [
        "list(filter(lambda x : x > 3, [1,2,3,4,5]))"
      ],
      "metadata": {
        "id": "upgi0jxqwQx-",
        "colab": {
          "base_uri": "https://localhost:8080/"
        },
        "outputId": "f3684408-22a3-41a5-d742-c5237ecd4c36"
      },
      "execution_count": 19,
      "outputs": [
        {
          "output_type": "execute_result",
          "data": {
            "text/plain": [
              "[4, 5]"
            ]
          },
          "metadata": {},
          "execution_count": 19
        }
      ]
    },
    {
      "cell_type": "markdown",
      "source": [
        "## 문제 풀이\n",
        "---"
      ],
      "metadata": {
        "id": "vWphXr9jTAsO"
      }
    },
    {
      "cell_type": "markdown",
      "source": [
        "\n",
        "**예제 01**\n",
        "\n",
        "리스트 자료형에  관련된 변수 혹은 함수를 출력해 보세요.\n"
      ],
      "metadata": {
        "id": "u98zs4LITAyC"
      }
    },
    {
      "cell_type": "code",
      "source": [
        "my_list = []\n",
        "dir(my_list)"
      ],
      "metadata": {
        "id": "IiaxggF-TEit",
        "colab": {
          "base_uri": "https://localhost:8080/"
        },
        "outputId": "0ade037b-cdf8-4393-a663-5c2a456ba7e5"
      },
      "execution_count": 20,
      "outputs": [
        {
          "output_type": "execute_result",
          "data": {
            "text/plain": [
              "['__add__',\n",
              " '__class__',\n",
              " '__contains__',\n",
              " '__delattr__',\n",
              " '__delitem__',\n",
              " '__dir__',\n",
              " '__doc__',\n",
              " '__eq__',\n",
              " '__format__',\n",
              " '__ge__',\n",
              " '__getattribute__',\n",
              " '__getitem__',\n",
              " '__gt__',\n",
              " '__hash__',\n",
              " '__iadd__',\n",
              " '__imul__',\n",
              " '__init__',\n",
              " '__init_subclass__',\n",
              " '__iter__',\n",
              " '__le__',\n",
              " '__len__',\n",
              " '__lt__',\n",
              " '__mul__',\n",
              " '__ne__',\n",
              " '__new__',\n",
              " '__reduce__',\n",
              " '__reduce_ex__',\n",
              " '__repr__',\n",
              " '__reversed__',\n",
              " '__rmul__',\n",
              " '__setattr__',\n",
              " '__setitem__',\n",
              " '__sizeof__',\n",
              " '__str__',\n",
              " '__subclasshook__',\n",
              " 'append',\n",
              " 'clear',\n",
              " 'copy',\n",
              " 'count',\n",
              " 'extend',\n",
              " 'index',\n",
              " 'insert',\n",
              " 'pop',\n",
              " 'remove',\n",
              " 'reverse',\n",
              " 'sort']"
            ]
          },
          "metadata": {},
          "execution_count": 20
        }
      ]
    },
    {
      "cell_type": "markdown",
      "source": [
        "**예제 02**\n",
        "\n",
        "계산기를 만듭니다. 사용자는 `input()` 을 통해 계산식을 입력합니다.\n",
        "\n",
        "* 예시\n",
        "```\n",
        ">> 계산식을 쓰세요: 1+2*5\n",
        "1+2*5 의 결과는 11 입니다.\n",
        "```\n"
      ],
      "metadata": {
        "id": "cLDLKc-mzgTU"
      }
    },
    {
      "cell_type": "code",
      "source": [
        "inp = input('계산식을 쓰세요 : ')\n",
        "\n",
        "eval(inp)"
      ],
      "metadata": {
        "id": "ojaYTStqyiMq",
        "colab": {
          "base_uri": "https://localhost:8080/"
        },
        "outputId": "c837570b-9a80-4bac-ce71-4a4262e876af"
      },
      "execution_count": 22,
      "outputs": [
        {
          "name": "stdout",
          "output_type": "stream",
          "text": [
            "계산식을 쓰세요 : 1 * 3 * 5\n"
          ]
        },
        {
          "output_type": "execute_result",
          "data": {
            "text/plain": [
              "15"
            ]
          },
          "metadata": {},
          "execution_count": 22
        }
      ]
    },
    {
      "cell_type": "markdown",
      "source": [
        "**[정의] 03~06**\n",
        "\n",
        "아래와 같이 `long_list`를 정의하세요.\n",
        "\n",
        "```\n",
        "long_list = [5,3,2,3,4,3,4,5,6,67,7,5,3,4,32,24,42,5,6,8,5,5,5,5,3,3,3,56,3,3,6,7,5,8,8,7,34,55,682,232,7,87,8,5,4,32,12,21,2,2,5,4,5,355,2]\n",
        "```"
      ],
      "metadata": {
        "id": "tnlRsLpI80N1"
      }
    },
    {
      "cell_type": "code",
      "source": [
        "long_list = [5,3,2,3,4,3,4,5,6,67,7,5,3,4,32,24,42,5,6,8,5,5,5,5,3,3,3,56,3,3,6,7,5,8,8,7,34,55,682,232,7,87,8,5,4,32,12,21,2,2,5,4,5,355,2]"
      ],
      "metadata": {
        "id": "56zeG4e-80he"
      },
      "execution_count": 23,
      "outputs": []
    },
    {
      "cell_type": "markdown",
      "source": [
        "**예제 03**\n",
        "\n",
        "`long_list`에서 짝수값들만 뽑아서 `even_list`로 정의하세요. **코드 한줄로 작성하세요**\n",
        "\n"
      ],
      "metadata": {
        "id": "TichLlpb0TGr"
      }
    },
    {
      "cell_type": "code",
      "source": [
        "even_list = list( filter(lambda x : (x % 2 == 0), long_list))\n",
        "even_list"
      ],
      "metadata": {
        "id": "617Nl6Qs0TGr",
        "colab": {
          "base_uri": "https://localhost:8080/"
        },
        "outputId": "560d8c30-b7e3-472a-ed32-0e04a4f8d367"
      },
      "execution_count": 27,
      "outputs": [
        {
          "output_type": "execute_result",
          "data": {
            "text/plain": [
              "[2,\n",
              " 4,\n",
              " 4,\n",
              " 6,\n",
              " 4,\n",
              " 32,\n",
              " 24,\n",
              " 42,\n",
              " 6,\n",
              " 8,\n",
              " 56,\n",
              " 6,\n",
              " 8,\n",
              " 8,\n",
              " 34,\n",
              " 682,\n",
              " 232,\n",
              " 8,\n",
              " 4,\n",
              " 32,\n",
              " 12,\n",
              " 2,\n",
              " 2,\n",
              " 4,\n",
              " 2]"
            ]
          },
          "metadata": {},
          "execution_count": 27
        }
      ]
    },
    {
      "cell_type": "markdown",
      "source": [
        "**예제 04**\n",
        "\n",
        "`long_list`에서 5의 배수들만 뽑아서 `5_list`로 정의하세요. **코드 한줄로 작성하세요**\n"
      ],
      "metadata": {
        "id": "CmQQRzJx1bP8"
      }
    },
    {
      "cell_type": "code",
      "source": [
        "five_list = list( filter(lambda x : (x % 5 == 0), long_list) )\n",
        "five_list"
      ],
      "metadata": {
        "id": "Kfcpyx601bP8",
        "colab": {
          "base_uri": "https://localhost:8080/"
        },
        "outputId": "96e4c6bf-22f5-4a73-d87e-9348c1c525f0"
      },
      "execution_count": 34,
      "outputs": [
        {
          "output_type": "execute_result",
          "data": {
            "text/plain": [
              "[5, 5, 5, 5, 5, 5, 5, 5, 5, 55, 5, 5, 5, 355]"
            ]
          },
          "metadata": {},
          "execution_count": 34
        }
      ]
    },
    {
      "cell_type": "markdown",
      "source": [
        "**예제 05**\n",
        "\n",
        "`long_list`의 모든 요소에 각각 10을 곱한 값을 구하여 리스트로 반환하세요. **코드 한줄로 작성하세요**"
      ],
      "metadata": {
        "id": "Am34nZS913FT"
      }
    },
    {
      "cell_type": "code",
      "source": [
        "ten_list = list( map( lambda x : x * 10 , long_list) )\n",
        "ten_list"
      ],
      "metadata": {
        "id": "OyrK3jN113FU",
        "colab": {
          "base_uri": "https://localhost:8080/"
        },
        "outputId": "9f0bb0bb-84d0-4188-9c70-9c50ec0d6148"
      },
      "execution_count": 36,
      "outputs": [
        {
          "output_type": "execute_result",
          "data": {
            "text/plain": [
              "[50,\n",
              " 30,\n",
              " 20,\n",
              " 30,\n",
              " 40,\n",
              " 30,\n",
              " 40,\n",
              " 50,\n",
              " 60,\n",
              " 670,\n",
              " 70,\n",
              " 50,\n",
              " 30,\n",
              " 40,\n",
              " 320,\n",
              " 240,\n",
              " 420,\n",
              " 50,\n",
              " 60,\n",
              " 80,\n",
              " 50,\n",
              " 50,\n",
              " 50,\n",
              " 50,\n",
              " 30,\n",
              " 30,\n",
              " 30,\n",
              " 560,\n",
              " 30,\n",
              " 30,\n",
              " 60,\n",
              " 70,\n",
              " 50,\n",
              " 80,\n",
              " 80,\n",
              " 70,\n",
              " 340,\n",
              " 550,\n",
              " 6820,\n",
              " 2320,\n",
              " 70,\n",
              " 870,\n",
              " 80,\n",
              " 50,\n",
              " 40,\n",
              " 320,\n",
              " 120,\n",
              " 210,\n",
              " 20,\n",
              " 20,\n",
              " 50,\n",
              " 40,\n",
              " 50,\n",
              " 3550,\n",
              " 20]"
            ]
          },
          "metadata": {},
          "execution_count": 36
        }
      ]
    },
    {
      "cell_type": "markdown",
      "source": [
        "**예제 06**\n",
        "\n",
        "`long_list` 모든 요소가 각각 몇자리 숫자인지 구하여 리스트로 반환하세요. **코드 한줄로 작성하세요**"
      ],
      "metadata": {
        "id": "rrEa7yl-2M2r"
      }
    },
    {
      "cell_type": "code",
      "source": [
        "digit = list( map( lambda x : len(str(x)), long_list ) )\n",
        "digit"
      ],
      "metadata": {
        "id": "trTV-T7E2M2r",
        "colab": {
          "base_uri": "https://localhost:8080/"
        },
        "outputId": "61f59c57-8597-4b20-99ee-9708b3806014"
      },
      "execution_count": 39,
      "outputs": [
        {
          "output_type": "execute_result",
          "data": {
            "text/plain": [
              "[1,\n",
              " 1,\n",
              " 1,\n",
              " 1,\n",
              " 1,\n",
              " 1,\n",
              " 1,\n",
              " 1,\n",
              " 1,\n",
              " 2,\n",
              " 1,\n",
              " 1,\n",
              " 1,\n",
              " 1,\n",
              " 2,\n",
              " 2,\n",
              " 2,\n",
              " 1,\n",
              " 1,\n",
              " 1,\n",
              " 1,\n",
              " 1,\n",
              " 1,\n",
              " 1,\n",
              " 1,\n",
              " 1,\n",
              " 1,\n",
              " 2,\n",
              " 1,\n",
              " 1,\n",
              " 1,\n",
              " 1,\n",
              " 1,\n",
              " 1,\n",
              " 1,\n",
              " 1,\n",
              " 2,\n",
              " 2,\n",
              " 3,\n",
              " 3,\n",
              " 1,\n",
              " 2,\n",
              " 1,\n",
              " 1,\n",
              " 1,\n",
              " 2,\n",
              " 2,\n",
              " 2,\n",
              " 1,\n",
              " 1,\n",
              " 1,\n",
              " 1,\n",
              " 1,\n",
              " 3,\n",
              " 1]"
            ]
          },
          "metadata": {},
          "execution_count": 39
        }
      ]
    },
    {
      "cell_type": "markdown",
      "source": [
        "**예제 07**\n",
        "\n",
        "`map`과 `lambda`를 이용해 한줄의 코드로 구구단 5단을 출력해 보세요. 실행 결과는 아래와 같습니다.\n",
        "\n",
        "\n",
        "```\n",
        "['5 x 1 = 5',\n",
        " '5 x 2 = 10',\n",
        " '5 x 3 = 15',\n",
        " '5 x 4 = 20',\n",
        " '5 x 5 = 25',\n",
        " '5 x 6 = 30',\n",
        " '5 x 7 = 35',\n",
        " '5 x 8 = 40',\n",
        " '5 x 9 = 45']\n",
        "```"
      ],
      "metadata": {
        "id": "LD9mpZGw2iTt"
      }
    },
    {
      "cell_type": "code",
      "source": [
        "five_multy  = list( map( lambda x : f'5 x {x} = {5*x}', [1,2,3,4,5,6,7,8,9]))\n",
        "five_multy"
      ],
      "metadata": {
        "id": "vOUskhbD2iTu",
        "colab": {
          "base_uri": "https://localhost:8080/"
        },
        "outputId": "016f2309-ac2c-41b7-c749-b15ad45fb3a1"
      },
      "execution_count": 47,
      "outputs": [
        {
          "output_type": "execute_result",
          "data": {
            "text/plain": [
              "['5 x 1 = 5',\n",
              " '5 x 2 = 10',\n",
              " '5 x 3 = 15',\n",
              " '5 x 4 = 20',\n",
              " '5 x 5 = 25',\n",
              " '5 x 6 = 30',\n",
              " '5 x 7 = 35',\n",
              " '5 x 8 = 40',\n",
              " '5 x 9 = 45']"
            ]
          },
          "metadata": {},
          "execution_count": 47
        }
      ]
    },
    {
      "cell_type": "markdown",
      "source": [
        "**[정의] 08~10**\n",
        "\n",
        "아래와 같이 물건의 이름과 가격이 적힌 딕셔너리가 있습니다. \n",
        "```\n",
        "mart = {'a': ['apple', 1000], 'b': ['beer', 1200] , 'c' : ['cherry', 2000], 'd':['donut', 1500], 'e': ['egg', 500], 'f' : ['fish', 3000] }\n",
        "```"
      ],
      "metadata": {
        "id": "h_SXbGKc5PT0"
      }
    },
    {
      "cell_type": "code",
      "source": [
        "mart = {'a': ['apple', 1000], 'b': ['beer', 1200] , 'c' : ['cherry', 2000], 'd':['donut', 1500], 'e': ['egg', 500], 'f' : ['fish', 3000] }\n"
      ],
      "metadata": {
        "id": "YM87Yqe88TUc"
      },
      "execution_count": 37,
      "outputs": []
    },
    {
      "cell_type": "markdown",
      "source": [
        "**예제 08**\n",
        "\n",
        "가장 저렴한 값을 구하는 코드를 `map`과 `lambda`를 이용해 한줄로 작성하세요.\n"
      ],
      "metadata": {
        "id": "gmuKcuaw8UVN"
      }
    },
    {
      "cell_type": "code",
      "source": [
        "min(list( map( lambda x : mart[x][1], mart) ))"
      ],
      "metadata": {
        "id": "mRmXH7jT56SD",
        "colab": {
          "base_uri": "https://localhost:8080/"
        },
        "outputId": "c547161b-22db-46ac-b6cb-d6ba5805681f"
      },
      "execution_count": 89,
      "outputs": [
        {
          "output_type": "execute_result",
          "data": {
            "text/plain": [
              "500"
            ]
          },
          "metadata": {},
          "execution_count": 89
        }
      ]
    },
    {
      "cell_type": "markdown",
      "source": [
        "**예제 09**\n",
        "\n",
        "가격의 평균을 구하는 코드를 `map`과 `lambda`를 이용해 한줄로 작성하세요"
      ],
      "metadata": {
        "id": "fotQGh2f8iIN"
      }
    },
    {
      "cell_type": "code",
      "source": [
        "sum(list( map( lambda x : mart[x][1], mart))) / len(mart)"
      ],
      "metadata": {
        "id": "8ATN4dmV6cc7",
        "colab": {
          "base_uri": "https://localhost:8080/"
        },
        "outputId": "f8d861fa-f671-4f19-ccea-5bc7bc3f05bb"
      },
      "execution_count": 95,
      "outputs": [
        {
          "output_type": "execute_result",
          "data": {
            "text/plain": [
              "1533.3333333333333"
            ]
          },
          "metadata": {},
          "execution_count": 95
        }
      ]
    },
    {
      "cell_type": "markdown",
      "source": [
        "**예제 10**\n",
        "\n",
        "다음과 같은 출력을 하는 코드를 작성해보세요. 가능하다면 코드 한줄로 작성해 보세요.\n",
        "\n",
        "```\n",
        "a is apple, b is beer, c is cherry, d is donut, e is egg\n",
        "```\n",
        "\n",
        "`hint`\n",
        "  * `print`\n",
        "  * `join`\n",
        "  * `list`\n",
        "  * `map`\n",
        "  * `lambda`\n",
        "  * `.keys()`"
      ],
      "metadata": {
        "id": "Y7uHNJEbySNT"
      }
    },
    {
      "cell_type": "code",
      "source": [
        "print(', '.join(list(map(lambda x : f'{x} is {mart[x][0]}', mart))))"
      ],
      "metadata": {
        "id": "VzFuLsFdySNY",
        "colab": {
          "base_uri": "https://localhost:8080/"
        },
        "outputId": "946e6ab6-78d8-42ea-b25e-c8d37d94586b"
      },
      "execution_count": 121,
      "outputs": [
        {
          "output_type": "stream",
          "name": "stdout",
          "text": [
            "a is apple, b is beer, c is cherry, d is donut, e is egg, f is fish\n"
          ]
        }
      ]
    },
    {
      "cell_type": "code",
      "source": [
        ""
      ],
      "metadata": {
        "id": "2ORRSw23ajM8"
      },
      "execution_count": null,
      "outputs": []
    }
  ]
}