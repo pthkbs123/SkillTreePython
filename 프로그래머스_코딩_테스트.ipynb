{
  "nbformat": 4,
  "nbformat_minor": 0,
  "metadata": {
    "colab": {
      "name": "프로그래머스_코딩_테스트.ipynb",
      "provenance": [],
      "collapsed_sections": [],
      "authorship_tag": "ABX9TyNXAVINL5T3yYN+MTXJgbFZ",
      "include_colab_link": true
    },
    "kernelspec": {
      "name": "python3",
      "display_name": "Python 3"
    },
    "language_info": {
      "name": "python"
    }
  },
  "cells": [
    {
      "cell_type": "markdown",
      "metadata": {
        "id": "view-in-github",
        "colab_type": "text"
      },
      "source": [
        "<a href=\"https://colab.research.google.com/github/pthkbs123/SkillTreePython/blob/main/%ED%94%84%EB%A1%9C%EA%B7%B8%EB%9E%98%EB%A8%B8%EC%8A%A4_%EC%BD%94%EB%94%A9_%ED%85%8C%EC%8A%A4%ED%8A%B8.ipynb\" target=\"_parent\"><img src=\"https://colab.research.google.com/assets/colab-badge.svg\" alt=\"Open In Colab\"/></a>"
      ]
    },
    {
      "cell_type": "markdown",
      "source": [
        "# 해시 \n"
      ],
      "metadata": {
        "id": "xYNBEExHgLBM"
      }
    },
    {
      "cell_type": "markdown",
      "source": [
        "### **완주하지 못 한 선수**\n",
        "\n",
        "**문제 설명**\n",
        "\n",
        "수많은 마라톤 선수들이 마라톤에 참여하였습니다. 단 한 명의 선수를 제외하고는 모든 선수가 마라톤을 완주하였습니다.\n",
        "\n",
        "마라톤에 참여한 선수들의 이름이 담긴 배열 participant와 완주한 선수들의 이름이 담긴 배열 completion이 주어질 때, 완주하지 못한 선수의 이름을 return 하도록 solution 함수를 작성해주세요.\n",
        "\n",
        "**제한사항**\n",
        "\n",
        "마라톤 경기에 참여한 선수의 수는 1명 이상 100,000명 이하입니다.\n",
        "completion의 길이는 participant의 길이보다 1 작습니다.\n",
        "참가자의 이름은 1개 이상 20개 이하의 알파벳 소문자로 이루어져 있습니다.\n",
        "참가자 중에는 동명이인이 있을 수 있습니다.\n"
      ],
      "metadata": {
        "id": "do8vi4PyQ2TJ"
      }
    },
    {
      "cell_type": "code",
      "execution_count": null,
      "metadata": {
        "colab": {
          "base_uri": "https://localhost:8080/",
          "height": 35
        },
        "id": "7MkAvepBIcyh",
        "outputId": "929935a6-679c-4643-a1d8-fae66cb260dc"
      },
      "outputs": [
        {
          "output_type": "execute_result",
          "data": {
            "text/plain": [
              "'mislav'"
            ],
            "application/vnd.google.colaboratory.intrinsic+json": {
              "type": "string"
            }
          },
          "metadata": {},
          "execution_count": 103
        }
      ],
      "source": [
        "def solution(participant, completion):\n",
        "    \n",
        "    participant.sort()\n",
        "    completion.sort()\n",
        "    \n",
        "    completion.append(' ')\n",
        "    \n",
        "    for i in range(len(participant)): \n",
        "        \n",
        "        if i == len(completion) :\n",
        "            break\n",
        "        \n",
        "        if participant[i] != completion[i] :\n",
        "            answer = participant[i]\n",
        "            return answer\n",
        "            \n",
        "    answer = participant[0]\n",
        "    return answer\n",
        "    \n",
        "participant = [\"mislav\", \"stanko\", \"mislav\", \"ana\"]\n",
        "completion = [\"stanko\", \"ana\", \"mislav\"]\n",
        "\n",
        "solution(participant, completion)"
      ]
    },
    {
      "cell_type": "markdown",
      "source": [
        " 가장 문제되던 부분은 입력받은 리스트의 길이가 달라 여러모로 제약이 많았다.\n",
        "\n",
        "문제에서 완주하지 못 한 선수는 반드시 1명이므로, 짧은 쪽에 공백을 하나 추가해줘 해결했다.\n",
        " \n",
        " 그 다음으로 문제되던 부분은 효율성 테스트 부분인데, 반복문을 다수 사용하는 경우에도 오래 걸리지만 del과 remove 같은 경우 또한 걸리는 시간이 길어 해결법을 찾아야 했다.\n",
        "\n",
        " 우선 Sort를 한 후, for문으로 딱 주어진 길이만큼만 반복 되도록 하였고,\n",
        " 두 리스트를 비교할 때 값이 같은 경우엔 넘어가고 다른 경우를 리턴하게 하였는데 이때 동명이인 문제는 문제되지 않는다. 동명이인이라고 해도 sort를 하였기 때문에 비교하여 이름이 같으면 다음으로 넘어가고, 동명이인들이 모두 사라지고 난 후 이름이 달라지는 경우에는 완주하지 못 한 선수는 반드시 1명이므로 리턴값을 찾은 것 이기 때문이다."
      ],
      "metadata": {
        "id": "ewefGtiFgldM"
      }
    },
    {
      "cell_type": "code",
      "source": [
        "import collections\n",
        "\n",
        "def solution(participant, completion):\n",
        "    answer = collections.Counter(participant) - collections.Counter(completion)\n",
        "    return list(answer.keys())[0]"
      ],
      "metadata": {
        "id": "RNL1eBOgscFs"
      },
      "execution_count": null,
      "outputs": []
    },
    {
      "cell_type": "markdown",
      "source": [
        "콜렉션을 임포트하여 카운터를 이용한 경우. 카운터 객체는 빼기가 가능하므로 이를 이용하면 간단하게 처리할 수 있다.\n",
        "\n",
        "이 경우 시간 복잡도가 O(N) 이고, 내가 한 풀이의 경우 O(NlogN)이므로 이 쪽이 좀 더 빠르다."
      ],
      "metadata": {
        "id": "6iw8NHQ7siVE"
      }
    },
    {
      "cell_type": "code",
      "source": [
        "def solution(participant, completion):\n",
        "    answer = ''\n",
        "    temp = 0\n",
        "    dic = {}\n",
        "    for part in participant:\n",
        "        dic[hash(part)] = part\n",
        "        temp += hash(part)\n",
        "    for com in completion:\n",
        "        temp -= hash(com)\n",
        "    answer = dic[temp]\n",
        "\n",
        "    return answer"
      ],
      "metadata": {
        "id": "yE9ycBEWtADE"
      },
      "execution_count": null,
      "outputs": []
    },
    {
      "cell_type": "markdown",
      "source": [
        "출제 의도대로 해시를 이용한 경우. 찾아야 하는 사람이 1명이기에 사용할 수 있는 방법."
      ],
      "metadata": {
        "id": "PB9wGMCPtDBU"
      }
    },
    {
      "cell_type": "markdown",
      "source": [
        "### **전화 번호부**\n",
        "\n",
        "문제 설명\n",
        "전화번호부에 적힌 전화번호 중, 한 번호가 다른 번호의 접두어인 경우가 있는지 확인하려 합니다.\n",
        "\n",
        "전화번호가 다음과 같을 경우, 구조대 전화번호는 영석이의 전화번호의 접두사입니다.\n",
        "\n",
        "구조대 : 119\n",
        "\n",
        "박준영 : 97 674 223\n",
        "\n",
        "지영석 : 11 9552 4421\n",
        "\n",
        "전화번호부에 적힌 전화번호를 담은 배열 phone_book 이 solution 함수의 매개변수로 주어질 때, 어떤 번호가 다른 번호의 접두어인 경우가 있으면 false를 그렇지 않으면 true를 return 하도록 solution 함수를 작성해주세요.\n",
        "\n",
        "제한 사항\n",
        "\n",
        "phone_book의 길이는 1 이상 1,000,000 이하입니다.\n",
        "\n",
        "각 전화번호의 길이는 1 이상 20 이하입니다.\n",
        "\n",
        "같은 전화번호가 중복해서 들어있지 않습니다.\n",
        "\n",
        "입출력 예제\n",
        "\n",
        "phone_book\t/ return\n",
        "\n",
        "[\"119\", \"97674223\", \"1195524421\"]\t/ false\n",
        "\n",
        "[\"123\",\"456\",\"789\"] / true\n",
        "\n",
        "[\"12\",\"123\",\"1235\",\"567\",\"88\"] / false\n",
        "\n"
      ],
      "metadata": {
        "id": "5Hvj16RQQh6l"
      }
    },
    {
      "cell_type": "code",
      "source": [
        "def solution(phone_book):\n",
        "    answer = True\n",
        "    \n",
        "    phone_book.sort() # 정렬을 사용해 최대한 반복 횟수를 줄이기 위함.\n",
        "    \n",
        "    for i in range(len(phone_book[:-1])) : # i 번째와 i+1 번째를 비교 하기 때문에 [:-1]까지만\n",
        "        if phone_book[i] == phone_book[i+1][:len(phone_book[i])] :\n",
        "            answer = False\n",
        "            break\n",
        "    \n",
        "    return answer"
      ],
      "metadata": {
        "id": "q2vMG7-fRPtN"
      },
      "execution_count": null,
      "outputs": []
    },
    {
      "cell_type": "markdown",
      "source": [
        " 최초의 접근은 [0]번째를 새로운 answer_list에 담은 후 그것을 phone_book에 비교하는 방식을 사용 했으나, 샘플 데이터들의 예시가 첫 번째일 뿐 테스트 데이터들의 경우는 그렇지 않기에 오답 처리를 받았다.\n",
        "\n",
        " sort()를 사용하였으나 그래도 해결되지 않았기에, 접근 방식을 바꿔 phone_book의 i 번째와 i+1 번째를 직접 비교하여 해결하였다. 기존에는 인덱스가 범위를 벗어난다고 생각하여 사용 하지 않았지만 [:-1]를 하면 되지 않을까 하는 생각에 시험 해보니 원활하게 작동되어 적용한 후, 정답 처리를 받았다."
      ],
      "metadata": {
        "id": "mdsJjcc_Rp9-"
      }
    },
    {
      "cell_type": "code",
      "source": [
        "# 다른 사람의 풀이.\n",
        "def solution(clothes):\n",
        "    from collections import Counter\n",
        "    from functools import reduce\n",
        "    # 카운터와 리듀스를 import하여 사용\n",
        "\n",
        "    cnt = Counter([kind for name, kind in clothes])\n",
        "    answer = reduce(lambda x, y: x*(y+1), cnt.values(), 1) - 1 \n",
        "\n",
        "    return answer"
      ],
      "metadata": {
        "id": "SMURKmqr0vkK"
      },
      "execution_count": null,
      "outputs": []
    },
    {
      "cell_type": "markdown",
      "source": [
        "### **위장**\n",
        "\n",
        "**문제 설명**\n",
        "\n",
        "스파이들은 매일 다른 옷을 조합하여 입어 자신을 위장합니다.\n",
        "\n",
        "예를 들어 스파이가 가진 옷이 아래와 같고 오늘 스파이가 동그란 안경, 긴 코트, 파란색 티셔츠를 입었다면 다음날은 청바지를 추가로 입거나 동그란 안경 대신 검정 선글라스를 착용하거나 해야 합니다.\n",
        "\n",
        "종류\t이름\n",
        "\n",
        "얼굴\t동그란 안경, 검정 선글라스\n",
        "\n",
        "상의\t파란색 티셔츠\n",
        "\n",
        "하의\t청바지\n",
        "\n",
        "겉옷\t긴 코트\n",
        "\n",
        "스파이가 가진 의상들이 담긴 2차원 배열 clothes가 주어질 때 서로 다른 옷의 조합의 수를 return 하도록 solution 함수를 작성해주세요.\n",
        "\n",
        "**제한사항**\n",
        "\n",
        "clothes의 각 행은 [의상의 이름, 의상의 종류]로 이루어져 있습니다.\n",
        "\n",
        "스파이가 가진 의상의 수는 1개 이상 30개 이하입니다.\n",
        "\n",
        "같은 이름을 가진 의상은 존재하지 않습니다.\n",
        "\n",
        "clothes의 모든 원소는 문자열로 이루어져 있습니다.\n",
        "\n",
        "모든 문자열의 길이는 1 이상 20 이하인 자연수이고 알파벳 소문자 또는 '_' 로만 이루어져 있습니다.\n",
        "\n",
        "스파이는 하루에 최소 한 개의 의상은 입습니다.\n",
        "\n",
        "**입출력 예**\n",
        "\n",
        "clothes / return\n",
        "\n",
        "[[\"yellowhat\", \"headgear\"], [\"bluesunglasses\", \"eyewear\"], [\"green_turban\", \"headgear\"]] / 5\n",
        "\n",
        "[[\"crowmask\", \"face\"], [\"bluesunglasses\", \"face\"], [\"smoky_makeup\", \"face\"]] / 3"
      ],
      "metadata": {
        "id": "kjBZUKg1zEOr"
      }
    },
    {
      "cell_type": "code",
      "source": [
        "def solution(clothes):\n",
        "    answer = 1\n",
        "    answer_dic = {} \n",
        "    \n",
        "    \n",
        "    for i in range(len(clothes)) : \n",
        "        if clothes[i][-1] in answer_dic.keys() : # 만약 딕셔너리에 이미 존재하는 키를 찾았을 때\n",
        "            answer_dic[clothes[i][-1]] += 1 # 밸류를 += 1\n",
        "            \n",
        "        else : # 새로운 키를 찾았을 때\n",
        "            answer_dic[clothes[i][-1]] = 1 # 밸류 초기 값 1\n",
        "                        \n",
        "    for i in answer_dic.keys() : # 경우의 수 공식 적용\n",
        "        answer *= answer_dic[i] + 1 # 밸류 값에 +1 한 후 모두 곱한다\n",
        "        \n",
        "        if len(answer_dic.keys()) == 1 : # 예외인 키가 1개 뿐 일 때\n",
        "            answer = answer_dic[i] \n",
        "            return answer\n",
        "    \n",
        "    return answer - 1 # +1 한 후 곱한 값인 answer에 -1 을 하면 공식 적용 완료"
      ],
      "metadata": {
        "id": "M-rX83UOzgrT"
      },
      "execution_count": null,
      "outputs": []
    },
    {
      "cell_type": "markdown",
      "source": [
        "공식을 모를 때는 딕셔너리의 밸류에 해당하는 값들을 모두 넣으려고 했으나, 경우의 수 공식을 적용하면 훨씬 간단하게 해결 되는 것을 알고 의상 종류에 해당하는 의상이 몇 개인지를 밸류에 넣어서 수학적인 방법으로 해결."
      ],
      "metadata": {
        "id": "FejNSFlR0Q5i"
      }
    },
    {
      "cell_type": "markdown",
      "source": [
        "# 정렬 \n"
      ],
      "metadata": {
        "id": "y8408Rv2q_Q0"
      }
    },
    {
      "cell_type": "markdown",
      "source": [
        "### **K번째 수**\n",
        "\n",
        "**문제 설명**\n",
        "\n",
        "배열 array의 i번째 숫자부터 j번째 숫자까지 자르고 정렬했을 때, k번째에 있는 수를 구하려 합니다.\n",
        "\n",
        "예를 들어 array가 [1, 5, 2, 6, 3, 7, 4], i = 2, j = 5, k = 3이라면\n",
        "\n",
        "array의 2번째부터 5번째까지 자르면 [5, 2, 6, 3]입니다.\n",
        "1에서 나온 배열을 정렬하면 [2, 3, 5, 6]입니다.\n",
        "2에서 나온 배열의 3번째 숫자는 5입니다.\n",
        "배열 array, [i, j, k]를 원소로 가진 2차원 배열 commands가 매개변수로 주어질 때, commands의 모든 원소에 대해 앞서 설명한 연산을 적용했을 때 나온 결과를 배열에 담아 return 하도록 solution 함수를 작성해주세요.\n",
        "\n",
        "**입출력 예**\n",
        "\n",
        "array /\tcommands / return\n",
        "\n",
        "[1, 5, 2, 6, 3, 7, 4]\t[[2, 5, 3], [4, 4, 1], [1, 7, 3]]\t[5, 6, 3]\n",
        "\n",
        "**입출력 예 설명**\n",
        "\n",
        "[1, 5, 2, 6, 3, 7, 4]를 2번째부터 5번째까지 자른 후 정렬합니다. [2, 3, 5, 6]의 세 번째 숫자는 5입니다.\n",
        "\n",
        "[1, 5, 2, 6, 3, 7, 4]를 4번째부터 4번째까지 자른 후 정렬합니다. [6]의 첫 번째 숫자는 6입니다.\n",
        "\n",
        "[1, 5, 2, 6, 3, 7, 4]를 1번째부터 7번째까지 자릅니다. [1, 2, 3, 4, 5, 6, 7]의 세 번째 숫자는 3입니다."
      ],
      "metadata": {
        "id": "sXmPedYx9_Oi"
      }
    },
    {
      "cell_type": "code",
      "source": [
        "def solution(array, commands):\n",
        "    \n",
        "    answer = []\n",
        "    \n",
        "    for i in range(len(commands)) : \n",
        "        sorted_array = (array[commands[i][0]-1 : commands[i][1]])\n",
        "        sorted_array = sorted(sorted_array)\n",
        "        \n",
        "        answer.append(sorted_array[commands[i][2]-1])\n",
        "    \n",
        "    return answer"
      ],
      "metadata": {
        "id": "HHgvKkoLgKWk"
      },
      "execution_count": null,
      "outputs": []
    },
    {
      "cell_type": "markdown",
      "source": [
        "리스트의 인덱싱과 슬라이싱을 알면 굉장히 쉬운 문제. 범위를 지정해 줄 때 -1을 넣어줘야 하는 경우가 있으나 실행시켜서 확인해보면 금방 알 수 있다."
      ],
      "metadata": {
        "id": "9ID31qjFrRms"
      }
    },
    {
      "cell_type": "markdown",
      "source": [
        "### **가장 큰 수**\n",
        "\n",
        "**문제 설명**\n",
        "\n",
        "0 또는 양의 정수가 주어졌을 때, 정수를 이어 붙여 만들 수 있는 가장 큰 수를 알아내 주세요.\n",
        "\n",
        "예를 들어, 주어진 정수가 [6, 10, 2]라면 [6102, 6210, 1062, 1026, 2610, 2106]를 만들 수 있고, 이중 가장 큰 수는 6210입니다.\n",
        "\n",
        "0 또는 양의 정수가 담긴 배열 numbers가 매개변수로 주어질 때, 순서를 재배치하여 만들 수 있는 가장 큰 수를 문자열로 바꾸어 return 하도록 solution 함수를 작성해주세요.\n",
        "\n",
        "**제한 사항**\n",
        "\n",
        "numbers의 길이는 1 이상 100,000 이하입니다.\n",
        "\n",
        "numbers의 원소는 0 이상 1,000 이하입니다.\n",
        "\n",
        "정답이 너무 클 수 있으니 문자열로 바꾸어 return 합니다.\n",
        "\n",
        "**입출력 예**\n",
        "\n",
        "numbers\treturn\n",
        "[6, 10, 2]\t\"6210\"\n",
        "[3, 30, 34, 5, 9]\t\"9534330\""
      ],
      "metadata": {
        "id": "Qu3alJc3-HJh"
      }
    },
    {
      "cell_type": "code",
      "source": [
        "def solution(numbers):\n",
        "    input_list = list(map(str, numbers))\n",
        "    \n",
        "    input_list.sort(key = lambda x : x * 3, reverse=True) \n",
        "    \n",
        "    answer = ''\n",
        "    answer = answer.join(input_list)\n",
        "    \n",
        "    return str(int(answer))"
      ],
      "metadata": {
        "id": "qhcba2Ek-RXP"
      },
      "execution_count": null,
      "outputs": []
    }
  ]
}