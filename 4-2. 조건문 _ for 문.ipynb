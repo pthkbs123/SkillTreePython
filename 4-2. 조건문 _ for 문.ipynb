{
  "nbformat": 4,
  "nbformat_minor": 0,
  "metadata": {
    "colab": {
      "name": "4-2. 반복문 _ for 문.ipynb",
      "provenance": [],
      "collapsed_sections": [],
      "include_colab_link": true
    },
    "kernelspec": {
      "name": "python3",
      "display_name": "Python 3"
    },
    "language_info": {
      "name": "python"
    }
  },
  "cells": [
    {
      "cell_type": "markdown",
      "metadata": {
        "id": "view-in-github",
        "colab_type": "text"
      },
      "source": [
        "<a href=\"https://colab.research.google.com/github/pthkbs123/SkillTreePython/blob/main/4-2.%20%EC%A1%B0%EA%B1%B4%EB%AC%B8%20_%20for%20%EB%AC%B8.ipynb\" target=\"_parent\"><img src=\"https://colab.research.google.com/assets/colab-badge.svg\" alt=\"Open In Colab\"/></a>"
      ]
    },
    {
      "cell_type": "markdown",
      "source": [
        "# 4-2. 조건문 : for 문\n",
        "---\n",
        "* 날짜: 2022-04-01\n",
        "* 이름: 박태현"
      ],
      "metadata": {
        "id": "kB5IciXEm6o4"
      }
    },
    {
      "cell_type": "markdown",
      "source": [
        "## 개념정리\n",
        "---\n",
        "\n",
        "반복문은 특정 조건에 따라 반복문 코드 블럭 안의 내용을 반복합니다. 반복문을 잘 사용하면 100번 써야 할 일을 한번에 끝낼 수 있습니다. 반복문에는 `for문`과 `while문` 이 있습니다. 오늘 배울 `for문`은 처음부터 반복의 횟수를 정해줍니다. \n",
        "\n"
      ],
      "metadata": {
        "id": "4iN8NFzHRJ2D"
      }
    },
    {
      "cell_type": "markdown",
      "source": [
        "### **(1) 기본 사용**\n",
        "\n",
        "\n",
        "for문은 몇번 반복할 것인지 조건을 주고, 그 조건에 따라 for문 아래에 있는 코드가 실행됩니다.\n",
        "\n",
        "```\n",
        "for 조건: # 조건의 횟수만큼\n",
        "  코드1 # 이 코드들을 반복합니다.\n",
        "  코드2 # 이 코드들을 반복합니다.\n",
        "  ...\n",
        "```\n",
        "\n",
        "그럼 조건을 어떻게 주는지 알아봅시다.\n",
        "\n",
        "\n"
      ],
      "metadata": {
        "id": "MAM8MDnfw68b"
      }
    },
    {
      "cell_type": "markdown",
      "source": [
        "#### **군집자료형과 함께 쓰는 for문**\n",
        "\n",
        "군집자료형의 요소가 차례대로 `i` 에 바인딩 됩니다. `for문` 아래에서 `i`가 변수로 작동됩니다.  아래 예시에서 `i`는 모두 `1,2,3` 순으로 출력됩니다.  \n",
        "\n",
        "```\n",
        "for i in [1,2,3]:\n",
        "  print(\"i의 값은 : \", i)\n",
        "```"
      ],
      "metadata": {
        "id": "DHtQmH-R-4tp"
      }
    },
    {
      "cell_type": "code",
      "source": [
        "for i in [1,2,3]:\n",
        "  print(\"i의 값은 : \", i)"
      ],
      "metadata": {
        "id": "QhrqH2Yt-21m",
        "colab": {
          "base_uri": "https://localhost:8080/"
        },
        "outputId": "b827043d-4cd1-4a2d-f81b-73b101013f53"
      },
      "execution_count": 1,
      "outputs": [
        {
          "output_type": "stream",
          "name": "stdout",
          "text": [
            "i의 값은 :  1\n",
            "i의 값은 :  2\n",
            "i의 값은 :  3\n"
          ]
        }
      ]
    },
    {
      "cell_type": "markdown",
      "source": [
        "리스트가 아닌 튜플이나 문자열 등 다른 군집자료형도 같은 결과를 얻습니다.\n",
        "\n",
        "```\n",
        "for i in (1,2,3):\n",
        "  print(\"반복\", i)\n",
        "```"
      ],
      "metadata": {
        "id": "82JNaFiOCys3"
      }
    },
    {
      "cell_type": "code",
      "source": [
        "for i in (1,2,3):\n",
        "  print(\"반복\", i)"
      ],
      "metadata": {
        "id": "pp-RWxgdCxTm",
        "colab": {
          "base_uri": "https://localhost:8080/"
        },
        "outputId": "8145fa13-4105-471b-f54e-36b7b741c28c"
      },
      "execution_count": 2,
      "outputs": [
        {
          "output_type": "stream",
          "name": "stdout",
          "text": [
            "반복 1\n",
            "반복 2\n",
            "반복 3\n"
          ]
        }
      ]
    },
    {
      "cell_type": "markdown",
      "source": [
        "for문 내에서 변수가 필요 없으면 아래와 같이 언더바(_)로 표기하기도 합니다.\n",
        "\n",
        "```\n",
        "for _ in [1,2,3]:\n",
        "  print(\"i 값이 필요없는 반복\")\n",
        "```\n"
      ],
      "metadata": {
        "id": "6UC28ghYC0lv"
      }
    },
    {
      "cell_type": "code",
      "source": [
        "for _ in [1,2,3]:\n",
        "  print(\"i 값이 필요없는 반복\")"
      ],
      "metadata": {
        "id": "I4yAg6bDCzmd",
        "colab": {
          "base_uri": "https://localhost:8080/"
        },
        "outputId": "0c71a1e6-89a6-426e-a623-7a4e3a0817c3"
      },
      "execution_count": 3,
      "outputs": [
        {
          "output_type": "stream",
          "name": "stdout",
          "text": [
            "i 값이 필요없는 반복\n",
            "i 값이 필요없는 반복\n",
            "i 값이 필요없는 반복\n"
          ]
        }
      ]
    },
    {
      "cell_type": "markdown",
      "source": [
        "#### **range와 함께 쓰는 for문**\n",
        "\n",
        "\n",
        "굳이 군집자료형을 만들어 놓지 않아도 반복문을 쓸 수 있습니다. 이 때는 range를 이용하는데, range도 슬라이싱 과 마찬가지로 처음, 끝, 스텝이 존재합니다. \n",
        "\n",
        "* `range(n)`: `0`부터 `n-1` 까지 총 `n` 회 반복됩니다.\n",
        "\n",
        "```\n",
        "for i in range(3):\n",
        "  print(\"i의 값은 : \", i)\n",
        "```\n"
      ],
      "metadata": {
        "id": "4iqQ7RMZC37L"
      }
    },
    {
      "cell_type": "code",
      "source": [
        "for i in range(3):\n",
        "  print(\"i의 값은 : \", i)"
      ],
      "metadata": {
        "id": "VIbY94-2C1pQ",
        "colab": {
          "base_uri": "https://localhost:8080/"
        },
        "outputId": "e39d2ebd-2ecf-4b30-9062-da0162ba4b04"
      },
      "execution_count": 4,
      "outputs": [
        {
          "output_type": "stream",
          "name": "stdout",
          "text": [
            "i의 값은 :  0\n",
            "i의 값은 :  1\n",
            "i의 값은 :  2\n"
          ]
        }
      ]
    },
    {
      "cell_type": "markdown",
      "source": [
        "\n",
        "* `range(n, m)`: `n`부터 `m-1`까지 총 `m-n`회 반복됩니다.\n",
        "\n",
        "```\n",
        "for i in range(3, 6):\n",
        "  print(i)\n",
        "```\n"
      ],
      "metadata": {
        "id": "JrGY3LipC7__"
      }
    },
    {
      "cell_type": "code",
      "source": [
        "for i in range(3, 6):\n",
        "  print(i)"
      ],
      "metadata": {
        "id": "Per7lcYxC6am",
        "colab": {
          "base_uri": "https://localhost:8080/"
        },
        "outputId": "f228fe32-374b-4589-9755-18fe0c6800d7"
      },
      "execution_count": 5,
      "outputs": [
        {
          "output_type": "stream",
          "name": "stdout",
          "text": [
            "3\n",
            "4\n",
            "5\n"
          ]
        }
      ]
    },
    {
      "cell_type": "markdown",
      "source": [
        "\n",
        "* `range(n, m, s)`: `n`부터 `m-1`까지 `s`씩 건너뛰며 반복됩니다.\n",
        "\n",
        "```\n",
        "for i in range(3, 10, 2):\n",
        "  print(i)\n",
        "```\n"
      ],
      "metadata": {
        "id": "CEn0LJkdC9tN"
      }
    },
    {
      "cell_type": "code",
      "source": [
        "for i in range(1, 10, 2):\n",
        "  print(i)"
      ],
      "metadata": {
        "id": "alTQiW14C8ze",
        "colab": {
          "base_uri": "https://localhost:8080/"
        },
        "outputId": "f10a4e9a-017a-4e48-8d6f-bab8daedf6d9"
      },
      "execution_count": 8,
      "outputs": [
        {
          "output_type": "stream",
          "name": "stdout",
          "text": [
            "1\n",
            "3\n",
            "5\n",
            "7\n",
            "9\n"
          ]
        }
      ]
    },
    {
      "cell_type": "code",
      "source": [
        "for _ in range(5) : \n",
        "  print('hi')"
      ],
      "metadata": {
        "colab": {
          "base_uri": "https://localhost:8080/"
        },
        "id": "9C-8BMpahmxy",
        "outputId": "7350ab6e-49b6-4e4e-a28b-2fca0286b7e0"
      },
      "execution_count": 7,
      "outputs": [
        {
          "output_type": "stream",
          "name": "stdout",
          "text": [
            "hi\n",
            "hi\n",
            "hi\n",
            "hi\n",
            "hi\n"
          ]
        }
      ]
    },
    {
      "cell_type": "markdown",
      "source": [
        "### **(2) 함수와 함께 쓰는 for문**\n",
        "\n",
        "\n",
        "함수도 반복해서 실행시켜야 할 경우 for문을 통해서 작성할 수 있습니다.\n",
        "\n",
        "```\n",
        "def my_func(n):\n",
        "  print(n, \"을 출력하는 함수입니다\")\n",
        "\n",
        "for i in range(3):\n",
        "  my_func(i)\n",
        "```"
      ],
      "metadata": {
        "id": "uJyYo462C_rJ"
      }
    },
    {
      "cell_type": "code",
      "source": [
        "def my_func(n):\n",
        "  print(n, \"을 출력하는 함수입니다\")\n",
        "\n",
        "for i in range(3):\n",
        "  my_func(i)"
      ],
      "metadata": {
        "id": "AUXD8Wj1C-nd",
        "colab": {
          "base_uri": "https://localhost:8080/"
        },
        "outputId": "aed3b2e0-4c6e-4175-de1e-822c5752e472"
      },
      "execution_count": 9,
      "outputs": [
        {
          "output_type": "stream",
          "name": "stdout",
          "text": [
            "0 을 출력하는 함수입니다\n",
            "1 을 출력하는 함수입니다\n",
            "2 을 출력하는 함수입니다\n"
          ]
        }
      ]
    },
    {
      "cell_type": "markdown",
      "source": [
        "### **(3) if문과 함께 쓰는 for문**\n",
        "\n",
        "for문 아래에 조건을 주어 특정 변수가 입력될 때만 코드를 실행할 수 있습니다. \n",
        "\n",
        "```\n",
        "for i in range(3): # i는 0,1,2 세번 반복\n",
        "  print('i의 값은:', i) # 세번 이 코드를 실행\n",
        "  if i>0: # 세번 반복 중에 i가 0보다 크면\n",
        "    print('if문: i가 0보다 큽니다') # 이 코드를 실행\n",
        "```\n"
      ],
      "metadata": {
        "id": "69DKCow2DDbM"
      }
    },
    {
      "cell_type": "code",
      "source": [
        "for i in range(3): # i는 0,1,2 세번 반복\n",
        "  print('i의 값은:', i) # 세번 이 코드를 실행\n",
        "  if i>0: # 세번 반복 중에 i가 0보다 크면\n",
        "    print('if문: i가 0보다 큽니다') # 이 코드를 실행"
      ],
      "metadata": {
        "id": "UQFMVQ6eDBxF",
        "colab": {
          "base_uri": "https://localhost:8080/"
        },
        "outputId": "a751d5ed-e871-41a5-ffcb-c8ba4c9daf49"
      },
      "execution_count": 10,
      "outputs": [
        {
          "output_type": "stream",
          "name": "stdout",
          "text": [
            "i의 값은: 0\n",
            "i의 값은: 1\n",
            "if문: i가 0보다 큽니다\n",
            "i의 값은: 2\n",
            "if문: i가 0보다 큽니다\n"
          ]
        }
      ]
    },
    {
      "cell_type": "markdown",
      "source": [
        "#### 다음반복으로 건너뛰기\n",
        "\n",
        "* `continue`\n",
        "\n",
        "`for문` 안에서 `continue`를 만나면 즉시 다음 반복으로 넘어갑니다. `continue` 아래에 있는 `for문` 코드들은 진행되지 않습니다. \n",
        "\n",
        "```\n",
        "for i in range(5): # i는 0~4 반복\n",
        "  print(f'-----\\n{i}번째 루프 시작') # 반복해서 이 코드를 실행\n",
        "  if i>=2: # 만약 i가 2 이상이면\n",
        "    continue # 다음 반복으로 넘어간다.\n",
        "  print(f'{i}번째 루프 끝') # 반복해서 이 코드를 실행\n",
        "```\n"
      ],
      "metadata": {
        "id": "eM4qjvU4DHTs"
      }
    },
    {
      "cell_type": "code",
      "source": [
        "for i in range(5): # i는 0~4 반복\n",
        "  print(f'-----\\n{i}번째 루프 시작') # 반복해서 이 코드를 실행\n",
        "  if i>=2: # 만약 i가 2 이상이면\n",
        "    continue # 다음 반복으로 넘어간다.\n",
        "  print(f'{i}번째 루프 끝') # 반복해서 이 코드를 실행"
      ],
      "metadata": {
        "id": "Ykl1kjbDDGKv",
        "colab": {
          "base_uri": "https://localhost:8080/"
        },
        "outputId": "58eb6567-fd94-4f27-a0a2-3213d40d3d52"
      },
      "execution_count": 11,
      "outputs": [
        {
          "output_type": "stream",
          "name": "stdout",
          "text": [
            "-----\n",
            "0번째 루프 시작\n",
            "0번째 루프 끝\n",
            "-----\n",
            "1번째 루프 시작\n",
            "1번째 루프 끝\n",
            "-----\n",
            "2번째 루프 시작\n",
            "-----\n",
            "3번째 루프 시작\n",
            "-----\n",
            "4번째 루프 시작\n"
          ]
        }
      ]
    },
    {
      "cell_type": "markdown",
      "source": [
        "코드에서 `i`가 2이상일때 `continue`를 만나기 때문에 if문 바깥의 `(f'{i}번째 루프 끝')` 코드가 실행되지 않습니다. 그렇기 때문에 2번째 루프 부터는 끝이라는 출력이 보이지 않네요."
      ],
      "metadata": {
        "id": "_HLQ7huuDLl3"
      }
    },
    {
      "cell_type": "markdown",
      "source": [
        "#### **for문을 즉시 종료하기**  \n",
        "\n",
        "* `break`\n",
        "\n",
        "`for문` 안에서 `break` 을 만나면 즉시 `for문`이 종료됩니다. (모든 루프가 돌아가지 않았어도)\n",
        "\n",
        "```\n",
        "for i in range(5): # i는 0~4 반복\n",
        "  print(f'-----\\n{i}번째 루프 시작') # 반복해서 이 코드를 실행\n",
        "  if i>=2: # 만약 i가 2 이상이면\n",
        "    break # 즉시 for문 종료\n",
        "  print(f'{i}번째 루프 끝') # 반복해서 이 코드를 실행\n",
        "```"
      ],
      "metadata": {
        "id": "UFYB6MgHDM6D"
      }
    },
    {
      "cell_type": "code",
      "source": [
        "for i in range(5): # i는 0~4 반복\n",
        "  print(f'-----\\n{i}번째 루프 시작') # 반복해서 이 코드를 실행\n",
        "  if i>=2: # 만약 i가 2 이상이면\n",
        "    break # 즉시 for문 종료\n",
        "  print(f'{i}번째 루프 끝') # 반복해서 이 코드를 실행"
      ],
      "metadata": {
        "id": "iiI9RapDDJqQ",
        "colab": {
          "base_uri": "https://localhost:8080/"
        },
        "outputId": "9d4514bb-2fa8-43a1-8179-46f8b36a6fb1"
      },
      "execution_count": 12,
      "outputs": [
        {
          "output_type": "stream",
          "name": "stdout",
          "text": [
            "-----\n",
            "0번째 루프 시작\n",
            "0번째 루프 끝\n",
            "-----\n",
            "1번째 루프 시작\n",
            "1번째 루프 끝\n",
            "-----\n",
            "2번째 루프 시작\n"
          ]
        }
      ]
    },
    {
      "cell_type": "markdown",
      "source": [
        "`if문`의 조건을 만족하여 `break`을 만나는 순간 `for문`이 종료되고, 다음 루프가 실행조차 되지 않습니다. 따라서 2번째 루프가 시작된 후 다음 코드들은 보이지 않네요.\n"
      ],
      "metadata": {
        "id": "fbzgJuHCDS-G"
      }
    },
    {
      "cell_type": "markdown",
      "source": [
        "### **(4) for문을 더 효율적으로 사용하기**\n",
        "\n",
        "for문은 파이썬에서 아주 유용하게 사용되는 문법입니다. 그러다 보니 좀 더 효율적으로 사용하는 방법에 대해 알고 있는것이 매우 도움이 됩니다.\n"
      ],
      "metadata": {
        "id": "haxPKRHqFCgX"
      }
    },
    {
      "cell_type": "markdown",
      "source": [
        "\n",
        "#### **두개의 sequence를 함께 나열하기**\n",
        "\n",
        "* `zip`  \n",
        "\n",
        "`zip`을 이용해서 두개의 sequence를 순차적으로 함께 나타낼 수 있습니다. 사용 문법을 잘 숙지해 둡시다.\n",
        "\n",
        "```\n",
        "list1 = [\"A\",\"B\",\"C\"]\n",
        "list2 = [\"a\", \"b\", \"c\"]\n",
        "for i1, i2 in zip(list1,list2):\n",
        "  print(f'list1: {i1}, list2: {i2}')\n",
        "```\n"
      ],
      "metadata": {
        "id": "ALu7TgjkFEiN"
      }
    },
    {
      "cell_type": "code",
      "source": [
        "list1 = [\"A\",\"B\",\"C\"]\n",
        "list2 = [\"a\", \"b\", \"c\"]\n",
        "for i1, i2 in zip(list1,list2):\n",
        "  print(f'list1: {i1}, list2: {i2}')"
      ],
      "metadata": {
        "id": "JXYWpAdhDRFt",
        "colab": {
          "base_uri": "https://localhost:8080/"
        },
        "outputId": "106d0448-ffae-4988-fc36-6300f5dcd495"
      },
      "execution_count": 13,
      "outputs": [
        {
          "output_type": "stream",
          "name": "stdout",
          "text": [
            "list1: A, list2: a\n",
            "list1: B, list2: b\n",
            "list1: C, list2: c\n"
          ]
        }
      ]
    },
    {
      "cell_type": "markdown",
      "source": [
        "#### **순번을 함께 나열하기**\n",
        "\n",
        "* `enumerate`  \n",
        "\n",
        "`for문` 내에서 변수의 값은 항상 `sequence`에 의해서 정해집니다. 절대적인 순번(0, 1, 2, 등)을 같이 변수로 바인딩하고 싶다면 `enumerate`를 사용합니다. \n",
        "\n",
        "```\n",
        "list1 = [\"A\",\"B\",\"C\"]\n",
        "for idx, i in enumerate(list1):\n",
        "  print( f'idx: {idx}, i: {i}')\n",
        "```"
      ],
      "metadata": {
        "id": "Zz_c1lJYHP01"
      }
    },
    {
      "cell_type": "code",
      "source": [
        "list1 = [\"A\",\"B\",\"C\"]\n",
        "for idx, i in enumerate(list1):\n",
        "  print( f'idx: {idx}, i: {i}')"
      ],
      "metadata": {
        "id": "APDyAy_CFIan",
        "colab": {
          "base_uri": "https://localhost:8080/"
        },
        "outputId": "237005d0-77cd-4196-bc65-3db5aafb0810"
      },
      "execution_count": 14,
      "outputs": [
        {
          "output_type": "stream",
          "name": "stdout",
          "text": [
            "idx: 0, i: A\n",
            "idx: 1, i: B\n",
            "idx: 2, i: C\n"
          ]
        }
      ]
    },
    {
      "cell_type": "markdown",
      "source": [
        "### (5) 다중 for문\n",
        "\n",
        "for문 아래 for문을 또 추가 할 수 있습니다. 다만 다중 for문일 때 코드의 작동순서를 잘 파악할 필요가 있습니다. 삼중, 사중 for문도 구현은 가능합니다. 하지만 for문이 추가될때마다 계산량이 급격히 증가하기 때문에 되도록이면 이중 for문을 넘어가지 않는것이 좋습니다.\n",
        "\n",
        "```\n",
        "for i in range(3):\n",
        "  for j in range(3):\n",
        "    print(f\"i: {i}, j:{j}\")\n",
        "```"
      ],
      "metadata": {
        "id": "aeMCCH2LHXDS"
      }
    },
    {
      "cell_type": "code",
      "source": [
        "for i in range(3):\n",
        "  for j in range(3):\n",
        "    print(f\"i: {i}, j:{j}\")"
      ],
      "metadata": {
        "id": "sYUzu5AcHgEF",
        "colab": {
          "base_uri": "https://localhost:8080/"
        },
        "outputId": "88ca26ea-1373-45d5-88ff-127f46288273"
      },
      "execution_count": 15,
      "outputs": [
        {
          "output_type": "stream",
          "name": "stdout",
          "text": [
            "i: 0, j:0\n",
            "i: 0, j:1\n",
            "i: 0, j:2\n",
            "i: 1, j:0\n",
            "i: 1, j:1\n",
            "i: 1, j:2\n",
            "i: 2, j:0\n",
            "i: 2, j:1\n",
            "i: 2, j:2\n"
          ]
        }
      ]
    },
    {
      "cell_type": "markdown",
      "source": [
        "코드가 아직 익숙하지 않은 상태에서 다중 for문을 보면 해석하기 어려울 수 있습니다. 이것저것 변수를 건드려보고, 출력을 바꾸면서 최대한 익숙해지도록 하는 것이 좋습니다. 아래 코드가 어떻게 나올지 예상해보고 출력해 봅시다.\n"
      ],
      "metadata": {
        "id": "9t530iSZHdQ9"
      }
    },
    {
      "cell_type": "markdown",
      "source": [
        "```\n",
        "for i in range(1, 6):\n",
        "    print(i, end=\": \")\n",
        "    for j in range(1, 11):        \n",
        "        print(j, end=\" \")\n",
        "    print()\n",
        "```"
      ],
      "metadata": {
        "id": "E6O8MHx_HeH4"
      }
    },
    {
      "cell_type": "code",
      "source": [
        "for i in range(1, 6):\n",
        "    print(i, end=\": \")\n",
        "    for j in range(1, 11):        \n",
        "        print(j, end=\" \")\n",
        "    print()"
      ],
      "metadata": {
        "id": "LHKNGIVSHWBe",
        "colab": {
          "base_uri": "https://localhost:8080/"
        },
        "outputId": "e56f498f-9bf5-4f12-8b6b-f1d107edf276"
      },
      "execution_count": 16,
      "outputs": [
        {
          "output_type": "stream",
          "name": "stdout",
          "text": [
            "1: 1 2 3 4 5 6 7 8 9 10 \n",
            "2: 1 2 3 4 5 6 7 8 9 10 \n",
            "3: 1 2 3 4 5 6 7 8 9 10 \n",
            "4: 1 2 3 4 5 6 7 8 9 10 \n",
            "5: 1 2 3 4 5 6 7 8 9 10 \n"
          ]
        }
      ]
    },
    {
      "cell_type": "markdown",
      "source": [
        "### (6) 리스트 안에서 for문 쓰기\n",
        "\n"
      ],
      "metadata": {
        "id": "idITCfnSo_me"
      }
    },
    {
      "cell_type": "code",
      "source": [
        "list(range(10))"
      ],
      "metadata": {
        "colab": {
          "base_uri": "https://localhost:8080/"
        },
        "id": "NeTpJBRbpH7P",
        "outputId": "6a957e50-02d4-4972-9bab-1a9ac9c64e7c"
      },
      "execution_count": 18,
      "outputs": [
        {
          "output_type": "execute_result",
          "data": {
            "text/plain": [
              "[0, 1, 2, 3, 4, 5, 6, 7, 8, 9]"
            ]
          },
          "metadata": {},
          "execution_count": 18
        }
      ]
    },
    {
      "cell_type": "code",
      "source": [
        "l = []\n",
        "for i in range(10):\n",
        "  l.append(i)\n",
        "l"
      ],
      "metadata": {
        "colab": {
          "base_uri": "https://localhost:8080/"
        },
        "id": "sabwZpeIpTRn",
        "outputId": "16d52fc6-9269-419e-f104-7a70782573e6"
      },
      "execution_count": 20,
      "outputs": [
        {
          "output_type": "execute_result",
          "data": {
            "text/plain": [
              "[0, 1, 2, 3, 4, 5, 6, 7, 8, 9]"
            ]
          },
          "metadata": {},
          "execution_count": 20
        }
      ]
    },
    {
      "cell_type": "code",
      "source": [
        "l = [ i for i in range(10)]\n",
        "l"
      ],
      "metadata": {
        "colab": {
          "base_uri": "https://localhost:8080/"
        },
        "id": "Ra7hF2crpfRe",
        "outputId": "52da694b-7ad6-452c-aa9c-f079bee7ba7c"
      },
      "execution_count": 26,
      "outputs": [
        {
          "output_type": "execute_result",
          "data": {
            "text/plain": [
              "[0, 1, 2, 3, 4, 5, 6, 7, 8, 9]"
            ]
          },
          "metadata": {},
          "execution_count": 26
        }
      ]
    },
    {
      "cell_type": "code",
      "source": [
        "l = [ f'{i},{j}' for i in range(5) for j in range(3)]\n",
        "l"
      ],
      "metadata": {
        "colab": {
          "base_uri": "https://localhost:8080/"
        },
        "id": "T2GQMDb8p37-",
        "outputId": "36203e43-8474-4eeb-e05a-9b3c193bfb1f"
      },
      "execution_count": 29,
      "outputs": [
        {
          "output_type": "execute_result",
          "data": {
            "text/plain": [
              "['0,0',\n",
              " '0,1',\n",
              " '0,2',\n",
              " '1,0',\n",
              " '1,1',\n",
              " '1,2',\n",
              " '2,0',\n",
              " '2,1',\n",
              " '2,2',\n",
              " '3,0',\n",
              " '3,1',\n",
              " '3,2',\n",
              " '4,0',\n",
              " '4,1',\n",
              " '4,2']"
            ]
          },
          "metadata": {},
          "execution_count": 29
        }
      ]
    },
    {
      "cell_type": "markdown",
      "source": [
        "## 문제풀이\n",
        "---"
      ],
      "metadata": {
        "id": "8Rb4NNbKHiLD"
      }
    },
    {
      "cell_type": "markdown",
      "source": [
        "아래와 같이 리스트를 정의하세요.\n",
        "\n",
        "```\n",
        "my_list = [\"apple\", \"blue\", \"cup\", \"door\"]\n",
        "```\n"
      ],
      "metadata": {
        "id": "xOsqfbd9HmQh"
      }
    },
    {
      "cell_type": "code",
      "source": [
        "my_list = [\"apple\", \"blue\", \"cup\", \"door\"]"
      ],
      "metadata": {
        "id": "kT4FCjRCHzUP"
      },
      "execution_count": 30,
      "outputs": []
    },
    {
      "cell_type": "markdown",
      "source": [
        "**예제 01**\n",
        "\n",
        "\n",
        "아래 실행 결과를 내는 코드를 `for문`과 `my_list`를 이용하여 작성하세요\n",
        "\n",
        "```{.no-highlight}\n",
        "It's apple\n",
        "It's blue\n",
        "It's cup\n",
        "It's door\n",
        "```"
      ],
      "metadata": {
        "id": "lrpQEjSPHsq2"
      }
    },
    {
      "cell_type": "code",
      "source": [
        "for i in my_list :\n",
        "  print(f\"It's {i}\")"
      ],
      "metadata": {
        "id": "kY0jptRtHfu1",
        "colab": {
          "base_uri": "https://localhost:8080/"
        },
        "outputId": "34530791-7f27-4b6f-9b80-422134a1d9cd"
      },
      "execution_count": 31,
      "outputs": [
        {
          "output_type": "stream",
          "name": "stdout",
          "text": [
            "It's apple\n",
            "It's blue\n",
            "It's cup\n",
            "It's door\n"
          ]
        }
      ]
    },
    {
      "cell_type": "markdown",
      "source": [
        "**예제 02** \n",
        "\n",
        "아래 실행 결과를 내는 코드를 `for문`과 `range`를 이용해서 작성하세요\n",
        "\n",
        "```{.no-highlight}\n",
        "It's apple\n",
        "It's blue\n",
        "It's cup\n",
        "It's door\n",
        "```\n"
      ],
      "metadata": {
        "id": "EMiIhII_H1-l"
      }
    },
    {
      "cell_type": "code",
      "source": [
        "for i in range(len(my_list)):\n",
        "  print(f\"It's {my_list[i]}\")"
      ],
      "metadata": {
        "id": "2Z5FlkORH4k6",
        "colab": {
          "base_uri": "https://localhost:8080/"
        },
        "outputId": "07347294-a2a3-4555-cd19-498c9a772a1f"
      },
      "execution_count": 35,
      "outputs": [
        {
          "output_type": "stream",
          "name": "stdout",
          "text": [
            "It's apple\n",
            "It's blue\n",
            "It's cup\n",
            "It's door\n"
          ]
        }
      ]
    },
    {
      "cell_type": "markdown",
      "source": [
        "**예제 03** \n",
        "\n",
        "아래 실행 결과를 내는 코드를 작성하세요\n",
        "\n",
        "```{.no-highlight}\n",
        "-------\n",
        "start!\n",
        "It's apple\n",
        "It's blue\n",
        "It's cup\n",
        "It's door\n",
        "-------\n",
        "```"
      ],
      "metadata": {
        "id": "RupJUdtSH52T"
      }
    },
    {
      "cell_type": "code",
      "source": [
        "print('-------')\n",
        "print('start!')\n",
        "for i in my_list :\n",
        "  print(f\"It's {i}\")\n",
        "print('-------')"
      ],
      "metadata": {
        "id": "MJr9wmzoH6kV",
        "colab": {
          "base_uri": "https://localhost:8080/"
        },
        "outputId": "9a63a5a6-3936-4978-e1dd-4aba21c29397"
      },
      "execution_count": 37,
      "outputs": [
        {
          "output_type": "stream",
          "name": "stdout",
          "text": [
            "-------\n",
            "start!\n",
            "It's apple\n",
            "It's blue\n",
            "It's cup\n",
            "It's door\n",
            "-------\n"
          ]
        }
      ]
    },
    {
      "cell_type": "markdown",
      "source": [
        "**예제 04** \n",
        "\n",
        "아래 실행 결과를 내는 코드를 작성하세요\n",
        "\n",
        "\n",
        "```{.no-highlight}\n",
        "-------\n",
        "start!\n",
        "-------\n",
        "It's apple\n",
        "-------\n",
        "It's blue\n",
        "-------\n",
        "It's cup\n",
        "-------\n",
        "It's door\n",
        "end!\n",
        "-------\n",
        "```"
      ],
      "metadata": {
        "id": "_4sajqBiH7Ws"
      }
    },
    {
      "cell_type": "code",
      "source": [
        "for i in range(1) :\n",
        "  print('-------')\n",
        "  print('start!')\n",
        "\n",
        "  for j in my_list :\n",
        "    print('-------')\n",
        "    print(f\"It's {j}\")\n",
        "\n",
        "  print('end!')\n",
        "  print('-------')"
      ],
      "metadata": {
        "id": "JbjKVMsxH96v",
        "colab": {
          "base_uri": "https://localhost:8080/"
        },
        "outputId": "04dd8887-234f-492e-a030-b10a277725dc"
      },
      "execution_count": 43,
      "outputs": [
        {
          "output_type": "stream",
          "name": "stdout",
          "text": [
            "-------\n",
            "start!\n",
            "-------\n",
            "It's apple\n",
            "-------\n",
            "It's blue\n",
            "-------\n",
            "It's cup\n",
            "-------\n",
            "It's door\n",
            "end!\n",
            "-------\n"
          ]
        }
      ]
    },
    {
      "cell_type": "markdown",
      "source": [
        "\n",
        "**예제 05** \n",
        "\n",
        "아래 실행 결과를 내는 코드를 작성하세요\n",
        "\n",
        "```{.no-highlight}\n",
        "a is apple\n",
        "-------\n",
        "b is blue\n",
        "-------\n",
        "c is cup\n",
        "-------\n",
        "d is door\n",
        "-------\n",
        "```"
      ],
      "metadata": {
        "id": "pmWXw1f7H_-0"
      }
    },
    {
      "cell_type": "code",
      "source": [
        "for i in my_list :\n",
        "  print(f\"{i[0:1]} is {i}\")\n",
        "  print('-------')"
      ],
      "metadata": {
        "id": "ANwJwi6QIBWc",
        "colab": {
          "base_uri": "https://localhost:8080/"
        },
        "outputId": "6dc2d696-0acf-4c3d-ab5c-0d71c45a9f2c"
      },
      "execution_count": 40,
      "outputs": [
        {
          "output_type": "stream",
          "name": "stdout",
          "text": [
            "a is apple\n",
            "-------\n",
            "b is blue\n",
            "-------\n",
            "c is cup\n",
            "-------\n",
            "d is door\n",
            "-------\n"
          ]
        }
      ]
    },
    {
      "cell_type": "markdown",
      "source": [
        "**예제 06** \n",
        "\n",
        "아래 실행 결과를 내는 코드를 작성하세요\n",
        "\n",
        "```{.no-highlight}\n",
        "Apple\n",
        "Blue\n",
        "Cup\n",
        "Door\n",
        "```\n"
      ],
      "metadata": {
        "id": "I8ykoYNGICPR"
      }
    },
    {
      "cell_type": "code",
      "source": [
        "for i in my_list : \n",
        "  print(i.capitalize())"
      ],
      "metadata": {
        "id": "VJrCVewYIDR2",
        "colab": {
          "base_uri": "https://localhost:8080/"
        },
        "outputId": "08ab2251-709f-4689-c2fb-7916bca3fd38"
      },
      "execution_count": 44,
      "outputs": [
        {
          "output_type": "stream",
          "name": "stdout",
          "text": [
            "Apple\n",
            "Blue\n",
            "Cup\n",
            "Door\n"
          ]
        }
      ]
    },
    {
      "cell_type": "markdown",
      "source": [
        "\n",
        "**예제 07** \n",
        "\n",
        "아래 실행 결과를 내는 코드를 작성하세요\n",
        "\n",
        "```{.no-highlight}\n",
        "Apple len: 5 \n",
        "Blue len: 4\n",
        "Cup len: 3\n",
        "Door len: 4\n",
        "```\n"
      ],
      "metadata": {
        "id": "NxTLfkw2IEZp"
      }
    },
    {
      "cell_type": "code",
      "source": [
        "for i in my_list : \n",
        "  print(f' {i.capitalize()} len : {len(i)} ')"
      ],
      "metadata": {
        "id": "M1xP6KMNIFhX",
        "colab": {
          "base_uri": "https://localhost:8080/"
        },
        "outputId": "f885ef3d-8e1e-40a0-fc21-23f7d5eb3b36"
      },
      "execution_count": 47,
      "outputs": [
        {
          "output_type": "stream",
          "name": "stdout",
          "text": [
            " Apple len : 5 \n",
            " Blue len : 4 \n",
            " Cup len : 3 \n",
            " Door len : 4 \n"
          ]
        }
      ]
    },
    {
      "cell_type": "markdown",
      "source": [
        "**예제 08** \n",
        "\n",
        "아래 실행 결과를 내는 코드를 작성하세요\n",
        "\n",
        "```{.no-highlight}\n",
        "0. apple  \n",
        "1. blue \n",
        "2. cup \n",
        "3. door \n",
        "```"
      ],
      "metadata": {
        "id": "dEYLHxsyIGXV"
      }
    },
    {
      "cell_type": "code",
      "source": [
        "i = 0\n",
        "\n",
        "for j in my_list : \n",
        "  print(f' {i}. {j} ')\n",
        "  i += 1"
      ],
      "metadata": {
        "id": "O-I1qZJbIHEs",
        "colab": {
          "base_uri": "https://localhost:8080/"
        },
        "outputId": "36b7678e-3a9c-43d4-dbb5-0cd88b25aefe"
      },
      "execution_count": 48,
      "outputs": [
        {
          "output_type": "stream",
          "name": "stdout",
          "text": [
            " 0. apple \n",
            " 1. blue \n",
            " 2. cup \n",
            " 3. door \n"
          ]
        }
      ]
    },
    {
      "cell_type": "markdown",
      "source": [
        "**예제 09** \n",
        "\n",
        "아래 실행 결과를 내는 코드를 작성하세요\n",
        "\n",
        "```{.no-highlight}\n",
        "00. apple  \n",
        "01. blue \n",
        "02. cup \n",
        "03. door \n",
        "```"
      ],
      "metadata": {
        "id": "93edVmbzIIFF"
      }
    },
    {
      "cell_type": "code",
      "source": [
        "i = 00\n",
        "\n",
        "for j in my_list : \n",
        "  print(f' {str(i).zfill(2)}. {j} ')\n",
        "  i += 1"
      ],
      "metadata": {
        "id": "SM4OXF9EIIzt",
        "colab": {
          "base_uri": "https://localhost:8080/"
        },
        "outputId": "d93fde74-bcc8-4afa-9059-a1cd2110d99d"
      },
      "execution_count": 51,
      "outputs": [
        {
          "output_type": "stream",
          "name": "stdout",
          "text": [
            " 00. apple \n",
            " 01. blue \n",
            " 02. cup \n",
            " 03. door \n"
          ]
        }
      ]
    },
    {
      "cell_type": "markdown",
      "source": [
        "**예제 10** \n",
        "\n",
        "`my_list2`가 다음과 같이 주어졌을 때 위에서 만든 `my_list`와 `my_list2`를 이용하여 아래와 같은 결과를 내는 코드를 작성하세요\n",
        "\n",
        "```\n",
        "my_list2 = [\"red\",\"corona\",\"mug\",\"oppen\"]\n",
        "```\n",
        "\n",
        "```\n",
        "Red apple\n",
        "Corona blue\n",
        "Mug cup\n",
        "Oppen d\n",
        "```\n"
      ],
      "metadata": {
        "id": "LtypkJvFIJ4E"
      }
    },
    {
      "cell_type": "code",
      "source": [
        "my_list2 = [\"red\",\"corona\",\"mug\",\"oppen\"]"
      ],
      "metadata": {
        "id": "Vmyf0AiaIKYl"
      },
      "execution_count": 53,
      "outputs": []
    },
    {
      "cell_type": "code",
      "source": [
        "for i, j in zip(my_list2, my_list) : \n",
        "  print(i.capitalize(), j)"
      ],
      "metadata": {
        "colab": {
          "base_uri": "https://localhost:8080/"
        },
        "id": "ELaEFY3VuuEM",
        "outputId": "9f322e08-e71e-4313-c5e3-c155bec34a37"
      },
      "execution_count": 55,
      "outputs": [
        {
          "output_type": "stream",
          "name": "stdout",
          "text": [
            "Red apple\n",
            "Corona blue\n",
            "Mug cup\n",
            "Oppen door\n"
          ]
        }
      ]
    },
    {
      "cell_type": "markdown",
      "source": [
        "**예제 11** \n",
        "\n",
        "구구단을 호출하는 함수를 만드세요\n",
        "\n",
        "\n",
        "```\n",
        ">> gugudan(5)\n",
        "5 * 1 = 5\n",
        "5 * 2 = 10\n",
        "5 * 3 = 15\n",
        "5 * 4 = 20\n",
        "5 * 5 = 25\n",
        "5 * 6 = 30\n",
        "5 * 7 = 35\n",
        "5 * 8 = 40\n",
        "5 * 9 = 45\n",
        "```\n"
      ],
      "metadata": {
        "id": "ts1p9xkqKJPL"
      }
    },
    {
      "cell_type": "code",
      "source": [
        "def gugudan(num) :\n",
        "  for i in range(9) :\n",
        "    print(f' {num} * {i+1} = {5 * (i+1)} ')\n",
        "\n",
        "gugudan(5)"
      ],
      "metadata": {
        "id": "dOjMwO7TKNH1",
        "colab": {
          "base_uri": "https://localhost:8080/"
        },
        "outputId": "d7ef8df2-bf77-4de7-b0cd-760f333e3f72"
      },
      "execution_count": 57,
      "outputs": [
        {
          "output_type": "stream",
          "name": "stdout",
          "text": [
            " 5 * 1 = 5 \n",
            " 5 * 2 = 10 \n",
            " 5 * 3 = 15 \n",
            " 5 * 4 = 20 \n",
            " 5 * 5 = 25 \n",
            " 5 * 6 = 30 \n",
            " 5 * 7 = 35 \n",
            " 5 * 8 = 40 \n",
            " 5 * 9 = 45 \n"
          ]
        }
      ]
    },
    {
      "cell_type": "markdown",
      "source": [
        "**예제 12** \n",
        "\n",
        "이중 for문을 이용하여 아래와 똑같이 출력하는 코드를 작성하세요\n",
        "\n",
        "```{.no-highlight}\n",
        "1 2 3 4 5 6 7 8 9 10\n",
        "1 2 3 4 5 6 7 8 9 10\n",
        "1 2 3 4 5 6 7 8 9 10\n",
        "1 2 3 4 5 6 7 8 9 10\n",
        "1 2 3 4 5 6 7 8 9 10 \n",
        "1 2 3 4 5 6 7 8 9 10 \n",
        "1 2 3 4 5 6 7 8 9 10\n",
        "```\n"
      ],
      "metadata": {
        "id": "T9gPPxKVKOYL"
      }
    },
    {
      "cell_type": "code",
      "source": [
        "for i in range(7) :\n",
        "  for j in range(10) :\n",
        "    print(f'{j+1}' , end=' ')\n",
        "  print()"
      ],
      "metadata": {
        "id": "25gRJZvaKPT0",
        "colab": {
          "base_uri": "https://localhost:8080/"
        },
        "outputId": "124ed957-7da9-46b0-b5bf-023f178aa068"
      },
      "execution_count": 60,
      "outputs": [
        {
          "output_type": "stream",
          "name": "stdout",
          "text": [
            "1 2 3 4 5 6 7 8 9 10 \n",
            "1 2 3 4 5 6 7 8 9 10 \n",
            "1 2 3 4 5 6 7 8 9 10 \n",
            "1 2 3 4 5 6 7 8 9 10 \n",
            "1 2 3 4 5 6 7 8 9 10 \n",
            "1 2 3 4 5 6 7 8 9 10 \n",
            "1 2 3 4 5 6 7 8 9 10 \n"
          ]
        }
      ]
    },
    {
      "cell_type": "markdown",
      "source": [
        "**예제 13** \n",
        "\n",
        "이중 for문을 이용하여 아래와 똑같이 출력하는 코드를 작성하세요\n",
        "\n",
        "```{.no-highlight}\n",
        "1 2 3 4 5 6 \n",
        "1 2 3 4 5 6 \n",
        "1 2 3 4 5 6 \n",
        "1 2 3 4 5 6 \n",
        "1 2 3 4 5 6 \n",
        "1 2 3 4 5 6 \n",
        "1 2 3 4 5 6 \n",
        "```\n"
      ],
      "metadata": {
        "id": "4rEKTyo7QLUM"
      }
    },
    {
      "cell_type": "code",
      "source": [
        "for i in range(7) :\n",
        "  for j in range(6) :\n",
        "    print(f'{j+1}' , end=' ')\n",
        "  print()"
      ],
      "metadata": {
        "id": "Tp4yC8fjQLUR",
        "colab": {
          "base_uri": "https://localhost:8080/"
        },
        "outputId": "0dac64e6-28c7-49ba-f73e-fbca4b63f6ca"
      },
      "execution_count": 61,
      "outputs": [
        {
          "output_type": "stream",
          "name": "stdout",
          "text": [
            "1 2 3 4 5 6 \n",
            "1 2 3 4 5 6 \n",
            "1 2 3 4 5 6 \n",
            "1 2 3 4 5 6 \n",
            "1 2 3 4 5 6 \n",
            "1 2 3 4 5 6 \n",
            "1 2 3 4 5 6 \n"
          ]
        }
      ]
    },
    {
      "cell_type": "markdown",
      "source": [
        "**예제 14** \n",
        "\n",
        "아래와 똑같이 출력하는 코드를 작성하세요\n",
        "\n",
        "```{.no-highlight}\n",
        "2 4 6 8 10 \n",
        "1 3 5 7 9\n",
        "2 4 6 8 10 \n",
        "1 3 5 7 9\n",
        "2 4 6 8 10 \n",
        "1 3 5 7 9\n",
        "2 4 6 8 10 \n",
        "1 3 5 7 9\n",
        "2 4 6 8 10 \n",
        "1 3 5 7 9\n",
        "```\n"
      ],
      "metadata": {
        "id": "9JLqJX-qQS6N"
      }
    },
    {
      "cell_type": "code",
      "source": [
        "a = 11\n",
        "for i in range(a):\n",
        "    for k in range( a,i,-1):\n",
        "        print(' ',end='')\n",
        "\n",
        "    for k in range( (i+1) * 2-1):\n",
        "        print(\"*\",end='')\n",
        "    print()"
      ],
      "metadata": {
        "colab": {
          "base_uri": "https://localhost:8080/"
        },
        "id": "skhqSAFC33QJ",
        "outputId": "ccfd9dcc-afcb-433f-e161-9eb0baa1809f"
      },
      "execution_count": 116,
      "outputs": [
        {
          "output_type": "stream",
          "name": "stdout",
          "text": [
            "           *\n",
            "          ***\n",
            "         *****\n",
            "        *******\n",
            "       *********\n",
            "      ***********\n",
            "     *************\n",
            "    ***************\n",
            "   *****************\n",
            "  *******************\n",
            " *********************\n"
          ]
        }
      ]
    },
    {
      "cell_type": "code",
      "source": [
        "test = [1,2,3,4,5,6,7,8,9,10]\n",
        "\n",
        "for x in range(5) :\n",
        "\n",
        "  for y in test :\n",
        "    if y % 2 == 0 :\n",
        "      print(y, end = ' ')\n",
        "  print()\n",
        "\n",
        "  for z in test :\n",
        "    if z % 2 != 0 :\n",
        "        print(z, end = ' ')\n",
        "  print('')\n"
      ],
      "metadata": {
        "id": "PlZNTmyhQS6O",
        "colab": {
          "base_uri": "https://localhost:8080/"
        },
        "outputId": "8b36b3aa-2d03-4ee0-b306-a4a8b828e4c7"
      },
      "execution_count": 82,
      "outputs": [
        {
          "output_type": "stream",
          "name": "stdout",
          "text": [
            "2 4 6 8 10 \n",
            "1 3 5 7 9 \n",
            "2 4 6 8 10 \n",
            "1 3 5 7 9 \n",
            "2 4 6 8 10 \n",
            "1 3 5 7 9 \n",
            "2 4 6 8 10 \n",
            "1 3 5 7 9 \n",
            "2 4 6 8 10 \n",
            "1 3 5 7 9 \n"
          ]
        }
      ]
    },
    {
      "cell_type": "markdown",
      "source": [
        "**예제 15** \n",
        "\n",
        "이중 for문을 이용하여 아래와 똑같이 출력하는 코드를 작성하세요\n",
        "\n",
        "```{.no-highlight}\n",
        "         *\n",
        "        **\n",
        "       ***\n",
        "      ****\n",
        "     *****\n",
        "    ******\n",
        "   *******\n",
        "  ********\n",
        " *********\n",
        "**********\n",
        "```\n"
      ],
      "metadata": {
        "id": "WsRXZCzzKQuI"
      }
    },
    {
      "cell_type": "code",
      "source": [
        "num = 11\n",
        "\n",
        "for i in range (1 , num +1) :\n",
        "  print(' ' * (num - i), end = '')\n",
        "  print('*' * (i - 1))"
      ],
      "metadata": {
        "id": "uhVOEfvjKRpA",
        "colab": {
          "base_uri": "https://localhost:8080/"
        },
        "outputId": "3ff875f6-0c3b-4807-885c-adefcbcc3aae"
      },
      "execution_count": 93,
      "outputs": [
        {
          "output_type": "stream",
          "name": "stdout",
          "text": [
            "          \n",
            "         *\n",
            "        **\n",
            "       ***\n",
            "      ****\n",
            "     *****\n",
            "    ******\n",
            "   *******\n",
            "  ********\n",
            " *********\n",
            "**********\n"
          ]
        }
      ]
    },
    {
      "cell_type": "markdown",
      "source": [
        "\n",
        "**예제 16** \n",
        "\n",
        "이중 for문을 이용하여 아래와 똑같이 출력하는 코드를 작성하세요\n",
        "\n",
        "```{.no-highlight}\n",
        "           #\n",
        "           *\n",
        "          ***\n",
        "         *****\n",
        "        *******\n",
        "       *********\n",
        "      ***********\n",
        "     *************\n",
        "    ***************\n",
        "   *****************\n",
        "  -------------------\n",
        "  *******************\n",
        "    MARRY CHRISTMAS !\n",
        "```\n"
      ],
      "metadata": {
        "id": "ZDNCXYGRKSoK"
      }
    },
    {
      "cell_type": "code",
      "source": [
        "num = 11\n",
        "\n",
        "print(' ' * (num - 1), end = '')\n",
        "print('#' * (1 * 2 - 1))\n",
        "\n",
        "for i in range (1 , num) :\n",
        "  print(' ' * (num - i), end = '')\n",
        "  print('*' * (i * 2 - 1))\n",
        "\n",
        "##################################\n",
        "\n",
        "print(' ' * (11 - 11), end = '')\n",
        "print('-' * (11 * 2 -1))\n",
        "\n",
        "print(' ' * (11 - 11), end = '')\n",
        "print('*' * (11 * 2 -1))\n",
        "\n",
        "print(' ' * (11 - 8), end = '')\n",
        "print('MARRY CHRISTMAS !')\n"
      ],
      "metadata": {
        "id": "whjpiD-ZKTkc",
        "colab": {
          "base_uri": "https://localhost:8080/"
        },
        "outputId": "675ca324-0eaa-49a8-db72-add79a43a9e6"
      },
      "execution_count": 216,
      "outputs": [
        {
          "output_type": "stream",
          "name": "stdout",
          "text": [
            "          #\n",
            "          *\n",
            "         ***\n",
            "        *****\n",
            "       *******\n",
            "      *********\n",
            "     ***********\n",
            "    *************\n",
            "   ***************\n",
            "  *****************\n",
            " *******************\n",
            "---------------------\n",
            "*********************\n",
            "   MARRY CHRISTMAS !\n"
          ]
        }
      ]
    },
    {
      "cell_type": "markdown",
      "source": [
        "\n",
        "\n",
        "`apartment`가  다음과 같이 주어져 있습니다. \n",
        "```\n",
        "apartment = [ [201, 202, 203], [301, 302, 303], [401, 402, 403] ]\n",
        "```\n"
      ],
      "metadata": {
        "id": "uS3__jM6KUcG"
      }
    },
    {
      "cell_type": "code",
      "source": [
        "apartment = [ [201, 202, 203], [301, 302, 303], [401, 402, 403] ]"
      ],
      "metadata": {
        "id": "MxQ_LG-9NiDb"
      },
      "execution_count": 131,
      "outputs": []
    },
    {
      "cell_type": "markdown",
      "source": [
        "**예제 17** \n",
        "\n",
        "아래와 같은 결과를 출력하는 코드를 `for문`과 `range`를 이용해 작성하세요\n",
        "\n",
        "```{.no-highlight}\n",
        "201 호 \n",
        "301 호 \n",
        "401 호\n",
        "```\n"
      ],
      "metadata": {
        "id": "1i9-8K7aNKeG"
      }
    },
    {
      "cell_type": "code",
      "source": [
        "for i in range(len(apartment)) :\n",
        "  print( apartment[i][0] , '호' )"
      ],
      "metadata": {
        "id": "XWKIxb2-KWVe",
        "colab": {
          "base_uri": "https://localhost:8080/"
        },
        "outputId": "66ceed37-c8a6-47b5-81c4-1ea638109735"
      },
      "execution_count": 134,
      "outputs": [
        {
          "output_type": "stream",
          "name": "stdout",
          "text": [
            "201 호\n",
            "301 호\n",
            "401 호\n"
          ]
        }
      ]
    },
    {
      "cell_type": "markdown",
      "source": [
        "\n",
        "**예제 18** \n",
        "\n",
        "아래와 같은 결과를 출력하는 코드를 `for문`과 `range`를 이용해 작성하세요\n",
        "\n",
        "\n",
        "```{.no-highlight}\n",
        "203 호 \n",
        "303 호 \n",
        "403 호\n",
        "```\n"
      ],
      "metadata": {
        "id": "XNWuysbqNBDo"
      }
    },
    {
      "cell_type": "code",
      "source": [
        "for i in range(len(apartment)) :\n",
        "  print( apartment[i][2] , '호' )"
      ],
      "metadata": {
        "id": "lUmfgJwkNDEc",
        "colab": {
          "base_uri": "https://localhost:8080/"
        },
        "outputId": "e87c2b53-4e0b-4693-a2ca-6dc3da47aa84"
      },
      "execution_count": 135,
      "outputs": [
        {
          "output_type": "stream",
          "name": "stdout",
          "text": [
            "203 호\n",
            "303 호\n",
            "403 호\n"
          ]
        }
      ]
    },
    {
      "cell_type": "markdown",
      "source": [
        "**예제 19** \n",
        "\n",
        "아래와 같은 결과를 출력하는 코드를 `for문`과 `range`를 이용해 작성하세요\n",
        "\n",
        "\n",
        "```{.no-highlight}\n",
        "402 호 \n",
        "302 호 \n",
        "202 호 \n",
        "```\n"
      ],
      "metadata": {
        "id": "UR9FqS84NO7w"
      }
    },
    {
      "cell_type": "code",
      "source": [
        "for i in range(len(apartment)) :\n",
        "  print( apartment[-i-1][1] , '호' )"
      ],
      "metadata": {
        "id": "lWTZMYfLNRxy",
        "colab": {
          "base_uri": "https://localhost:8080/"
        },
        "outputId": "05592300-1814-4181-f117-31973e20e681"
      },
      "execution_count": 137,
      "outputs": [
        {
          "output_type": "stream",
          "name": "stdout",
          "text": [
            "402 호\n",
            "302 호\n",
            "202 호\n"
          ]
        }
      ]
    },
    {
      "cell_type": "markdown",
      "source": [
        "**예제 20** \n",
        "\n",
        "아래와 같은 결과를 출력하는 코드를 `for문`과 `range`를 이용해 작성하세요\n",
        "\n",
        "```{.no-highlight}\n",
        "201 호 옆집은 202 호\n",
        "301 호 옆집은 302 호\n",
        "401 호 옆집은 402 호\n",
        "```\n"
      ],
      "metadata": {
        "id": "DgUcIZAxNTTm"
      }
    },
    {
      "cell_type": "code",
      "source": [
        "for i in range(len(apartment)) :\n",
        "  print( f'{apartment[i][0]} 호 옆집은 {apartment[i][1]} 호' )"
      ],
      "metadata": {
        "id": "WgGC6KnONWkO",
        "colab": {
          "base_uri": "https://localhost:8080/"
        },
        "outputId": "ee8e1ed7-877c-4cfc-92d4-765fb785a122"
      },
      "execution_count": 138,
      "outputs": [
        {
          "output_type": "stream",
          "name": "stdout",
          "text": [
            "201 호 옆집은 202 호\n",
            "301 호 옆집은 302 호\n",
            "401 호 옆집은 402 호\n"
          ]
        }
      ]
    },
    {
      "cell_type": "markdown",
      "source": [
        "\n",
        "**예제 21** \n",
        "\n",
        "아래와 같은 결과를 출력하는 코드를 `for문`과 `range`를 이용해 작성하세요\n",
        "\n",
        "```{.no-highlight}\n",
        "201 호 윗층은 301 호 윗층은 401호\n",
        "202 호 윗층은 302 호 윗층은 402호\n",
        "203 호 윗층은 303 호 윗층은 403호\n",
        "```\n"
      ],
      "metadata": {
        "id": "UpeuvLh8NYEi"
      }
    },
    {
      "cell_type": "code",
      "source": [
        "for i in range(len(apartment)) :\n",
        "  print( f'{apartment[0][i]} 호 윗층은 {apartment[1][i]} 호 윗층은 {apartment[2][i]}호' )"
      ],
      "metadata": {
        "id": "X473dVz5NbIW",
        "colab": {
          "base_uri": "https://localhost:8080/"
        },
        "outputId": "d56f151f-0682-4c95-c7ad-d660f7c9a1b5"
      },
      "execution_count": 145,
      "outputs": [
        {
          "output_type": "stream",
          "name": "stdout",
          "text": [
            "201 호 윗층은 301 호 윗층은 401호\n",
            "202 호 윗층은 302 호 윗층은 402호\n",
            "203 호 윗층은 303 호 윗층은 403호\n"
          ]
        }
      ]
    },
    {
      "cell_type": "markdown",
      "source": [
        "**예제 22** \n",
        "\n",
        "아래와 같은 결과를 출력하는 코드를 `for문`과 `range`를 이용해 작성하세요\n",
        "\n",
        "\n",
        "```{.no-highlight}\n",
        "201 호 \n",
        "202 호\n",
        "203 호\n",
        "301 호\n",
        "302 호\n",
        "303 호\n",
        "401 호 \n",
        "402 호\n",
        "403 호\n",
        "```"
      ],
      "metadata": {
        "id": "sEoNppGDNcdX"
      }
    },
    {
      "cell_type": "code",
      "source": [
        "for i in range(len(apartment)) :\n",
        "  for j in range(len(apartment)) :\n",
        "    print( f'{apartment[i][j]} 호' )"
      ],
      "metadata": {
        "id": "YAtaBHGkNekE",
        "colab": {
          "base_uri": "https://localhost:8080/"
        },
        "outputId": "3e14bcdf-5e57-48c2-b20e-26fb1fc10da0"
      },
      "execution_count": 141,
      "outputs": [
        {
          "output_type": "stream",
          "name": "stdout",
          "text": [
            "201 호\n",
            "202 호\n",
            "203 호\n",
            "301 호\n",
            "302 호\n",
            "303 호\n",
            "401 호\n",
            "402 호\n",
            "403 호\n"
          ]
        }
      ]
    },
    {
      "cell_type": "markdown",
      "source": [
        "**예제 23** \n",
        "\n",
        "1, 4, 7, 10, 13 ... 31 을 `for문`과 `range`를 이용해서 출력하세요\n"
      ],
      "metadata": {
        "id": "viZj-9fZNfeh"
      }
    },
    {
      "cell_type": "code",
      "source": [
        "for i in range(11) :\n",
        "  print( 1 + 3 * i )"
      ],
      "metadata": {
        "id": "c8vZWw5kNfrU",
        "colab": {
          "base_uri": "https://localhost:8080/"
        },
        "outputId": "e5c60e08-b248-482f-d71c-27aabf083ab2"
      },
      "execution_count": 150,
      "outputs": [
        {
          "output_type": "stream",
          "name": "stdout",
          "text": [
            "1\n",
            "4\n",
            "7\n",
            "10\n",
            "13\n",
            "16\n",
            "19\n",
            "22\n",
            "25\n",
            "28\n",
            "31\n"
          ]
        }
      ]
    },
    {
      "cell_type": "markdown",
      "source": [
        "**예제 24** \n",
        "\n",
        "아래와 같이 n을 인풋으로 하면 1부터 n까지 더한 값을 출력하는 함수 `add_nums(n)`를 만드세요\n",
        "\n",
        "\n",
        "```\n",
        ">> add_nums_line(5)\n",
        "1\n",
        "3\n",
        "6\n",
        "10\n",
        "15\n",
        "```\n"
      ],
      "metadata": {
        "id": "j3SEY_qcNgro"
      }
    },
    {
      "cell_type": "code",
      "source": [
        "def add_nums_line(a) :\n",
        "\n",
        "  num = 0\n",
        "\n",
        "  for i in range(1,a+1) :\n",
        "    \n",
        "    num = num + (1 * i)\n",
        "    print(num)\n",
        "\n",
        "add_nums_line(6)"
      ],
      "metadata": {
        "id": "cQpQuNFTNg1s",
        "colab": {
          "base_uri": "https://localhost:8080/"
        },
        "outputId": "3515eeaa-87e4-4d39-fcf9-69307a8cff86"
      },
      "execution_count": 163,
      "outputs": [
        {
          "output_type": "stream",
          "name": "stdout",
          "text": [
            "1\n",
            "3\n",
            "6\n",
            "10\n",
            "15\n",
            "21\n"
          ]
        }
      ]
    },
    {
      "cell_type": "markdown",
      "source": [
        "`num_list`가 아래와 같이 정의되어 있습니다. \n",
        "\n",
        "```\n",
        "num_list = [0,2,3,5,6,12,15,17,18,23,25,27,45,47,48,53,57,58,59,60,63,64,68,72,75,79,86,93,96,99,100]\n",
        "```"
      ],
      "metadata": {
        "id": "fcoUNSiXNqjr"
      }
    },
    {
      "cell_type": "code",
      "source": [
        "num_list = [0,2,3,5,6,12,15,17,18,23,25,27,45,47,48,53,57,58,59,60,63,64,68,72,75,79,86,93,96,99,100]"
      ],
      "metadata": {
        "id": "VQnWtngfNqvM"
      },
      "execution_count": 165,
      "outputs": []
    },
    {
      "cell_type": "markdown",
      "source": [
        "**예제 25**\n",
        "\n",
        "`num_list` 중 4의 배수만 출력하세요\n"
      ],
      "metadata": {
        "id": "pq1r8LqKNvCB"
      }
    },
    {
      "cell_type": "code",
      "source": [
        "for i in num_list : \n",
        "  if i % 4 == 0 :\n",
        "    print(i)"
      ],
      "metadata": {
        "id": "yPjF8T57Nxd1",
        "colab": {
          "base_uri": "https://localhost:8080/"
        },
        "outputId": "0ae1d586-7ac3-4bf6-80cc-ecb02d67493f"
      },
      "execution_count": 166,
      "outputs": [
        {
          "output_type": "stream",
          "name": "stdout",
          "text": [
            "0\n",
            "12\n",
            "48\n",
            "60\n",
            "64\n",
            "68\n",
            "72\n",
            "96\n",
            "100\n"
          ]
        }
      ]
    },
    {
      "cell_type": "markdown",
      "source": [
        "\n",
        "**예제 26** \n",
        "\n",
        "`num_list` 중 50 이하인 5의 배수만 출력하세요\n",
        "\n"
      ],
      "metadata": {
        "id": "1jktkqlVNzAt"
      }
    },
    {
      "cell_type": "code",
      "source": [
        "for i in num_list : \n",
        "  if i < 50 :\n",
        "    if i % 5 == 0 :\n",
        "      print(i)"
      ],
      "metadata": {
        "id": "D8iepJF8N0kc",
        "colab": {
          "base_uri": "https://localhost:8080/"
        },
        "outputId": "ca9477ba-1332-4a17-8d55-c8e2da9dd0b6"
      },
      "execution_count": 167,
      "outputs": [
        {
          "output_type": "stream",
          "name": "stdout",
          "text": [
            "0\n",
            "5\n",
            "15\n",
            "25\n",
            "45\n"
          ]
        }
      ]
    },
    {
      "cell_type": "markdown",
      "source": [
        "**예제 27** \n",
        "\n",
        "`num_list` 중 각 자리수를 더해서 10이 넘는 숫자만 출력하세요\n"
      ],
      "metadata": {
        "id": "7ZhV5ExNN1ai"
      }
    },
    {
      "cell_type": "code",
      "source": [
        "for i in num_list : \n",
        "\n",
        "  tens , ones = divmod(i, 10)\n",
        "  if tens + ones > 10 :\n",
        "    print(i)"
      ],
      "metadata": {
        "id": "cQAChnLFN26k",
        "colab": {
          "base_uri": "https://localhost:8080/"
        },
        "outputId": "e90eafda-2ece-4b3b-91eb-0ffd7635c0a1"
      },
      "execution_count": 169,
      "outputs": [
        {
          "output_type": "stream",
          "name": "stdout",
          "text": [
            "47\n",
            "48\n",
            "57\n",
            "58\n",
            "59\n",
            "68\n",
            "75\n",
            "79\n",
            "86\n",
            "93\n",
            "96\n",
            "99\n"
          ]
        }
      ]
    },
    {
      "cell_type": "markdown",
      "source": [
        "**예제 28** \n",
        "\n",
        "`num_list` 중 가장 작은 7의 배수를 찾으세요. (hint: `break`을 반드시 포함하세요)\n"
      ],
      "metadata": {
        "id": "uCoRYjMoN4Js"
      }
    },
    {
      "cell_type": "code",
      "source": [
        "for i in num_list :\n",
        "  if i > 0 and i % 7 == 0 :\n",
        "    print(i)\n",
        "    break"
      ],
      "metadata": {
        "id": "Cwox2wbDN6B9",
        "colab": {
          "base_uri": "https://localhost:8080/"
        },
        "outputId": "91ab482f-9a89-4773-bdbb-b5d54ce64d2d"
      },
      "execution_count": 174,
      "outputs": [
        {
          "output_type": "stream",
          "name": "stdout",
          "text": [
            "63\n"
          ]
        }
      ]
    },
    {
      "cell_type": "markdown",
      "source": [
        "**예제 29** \n",
        "\n",
        "학생들의 번호와 점수가 딕셔너리에 아래와 같이 저장되어 있습니다. 전산 실수로 인해 점수가 실제 점수보다 10점이 깍인것을 발견했습니다. 점수를 모두 10점씩 올리세요\n",
        "\n",
        "```\n",
        "st_scores = {1:80, 2:55, 3:80, 4:35, 5:75, 6: 80, 7:40, 8: 90, 9:55, 10:20}\n",
        "```\n"
      ],
      "metadata": {
        "id": "AYVG1GMfN7A7"
      }
    },
    {
      "cell_type": "code",
      "source": [
        "st_scores = {1:80, 2:55, 3:80, 4:35, 5:75, 6: 80, 7:40, 8: 90, 9:55, 10:20}\n",
        "\n",
        "for i in st_scores : \n",
        "  print(f'{st_scores[i] + 10}')"
      ],
      "metadata": {
        "id": "3eRFw6f7N7SD",
        "colab": {
          "base_uri": "https://localhost:8080/"
        },
        "outputId": "abb83f9e-f9f6-4829-dbbd-581828a67a61"
      },
      "execution_count": 178,
      "outputs": [
        {
          "output_type": "stream",
          "name": "stdout",
          "text": [
            "90\n",
            "65\n",
            "90\n",
            "45\n",
            "85\n",
            "90\n",
            "50\n",
            "100\n",
            "65\n",
            "30\n"
          ]
        }
      ]
    },
    {
      "cell_type": "markdown",
      "source": [
        "\n",
        "**예제 30** \n",
        "\n",
        "60점 미만인 학생들에게 \"재평가가 실시될 예정입니다.\", 90점 이상인 학생들에게 \"우수장학금이 지급됩니다.\"를 출력하는 코드를 작성하세요. 단, 코드내에 continue를 반드시 포함하세요\n"
      ],
      "metadata": {
        "id": "o-QPq1PEN8SL"
      }
    },
    {
      "cell_type": "code",
      "source": [
        "for i in st_scores : \n",
        "\n",
        "  print(f'{i}번 학생 점수 확인 : {st_scores[i]}')\n",
        "  if 60 < st_scores[i] < 90 :\n",
        "    continue\n",
        "  elif st_scores[i] < 60 :\n",
        "    print('재평가가가 실시될 예정입니다.')\n",
        "  elif st_scores[i] >= 90 :\n",
        "    print('우수장학금이 지급됩니다.')\n",
        "    "
      ],
      "metadata": {
        "id": "IZESB5EJN8wb",
        "colab": {
          "base_uri": "https://localhost:8080/"
        },
        "outputId": "7e14dcfc-4aea-48b4-d715-3700726d2862"
      },
      "execution_count": 184,
      "outputs": [
        {
          "output_type": "stream",
          "name": "stdout",
          "text": [
            "1번 학생 점수 확인 : 80\n",
            "2번 학생 점수 확인 : 55\n",
            "재평가가가 실시될 예정입니다.\n",
            "3번 학생 점수 확인 : 80\n",
            "4번 학생 점수 확인 : 35\n",
            "재평가가가 실시될 예정입니다.\n",
            "5번 학생 점수 확인 : 75\n",
            "6번 학생 점수 확인 : 80\n",
            "7번 학생 점수 확인 : 40\n",
            "재평가가가 실시될 예정입니다.\n",
            "8번 학생 점수 확인 : 90\n",
            "우수장학금이 지급됩니다.\n",
            "9번 학생 점수 확인 : 55\n",
            "재평가가가 실시될 예정입니다.\n",
            "10번 학생 점수 확인 : 20\n",
            "재평가가가 실시될 예정입니다.\n"
          ]
        }
      ]
    },
    {
      "cell_type": "markdown",
      "source": [
        "**[정의] 31~32**\n",
        "\n",
        "아래와 같이 물건의 이름과 가격이 적힌 딕셔너리가 있습니다. \n",
        "```\n",
        "mart = {'a': ['apple', 1000], 'b': ['beer', 1200] , 'c' : ['cherry', 2000], 'd':['donut', 1500], 'e': ['egg', 500], 'f' : ['fish', 3000] }\n",
        "```"
      ],
      "metadata": {
        "id": "tV3O2NH1qp1V"
      }
    },
    {
      "cell_type": "code",
      "source": [
        "mart = {'a': ['apple', 1000], 'b': ['beer', 1200] , 'c' : ['cherry', 2000], 'd':['donut', 1500], 'e': ['egg', 500], 'f' : ['fish', 3000] }"
      ],
      "metadata": {
        "id": "o5w-Zukkqy3N"
      },
      "execution_count": 210,
      "outputs": []
    },
    {
      "cell_type": "markdown",
      "source": [
        "**예제 31**\n",
        "\n",
        "가장 저렴한 값을 구하는 코드를 for문을 이용해 한줄로 작성하세요.\n"
      ],
      "metadata": {
        "id": "IOmaV-fUqwge"
      }
    },
    {
      "cell_type": "code",
      "source": [
        "min([mart[i][1] for i in mart])"
      ],
      "metadata": {
        "colab": {
          "base_uri": "https://localhost:8080/"
        },
        "id": "CezRK7j5q4AF",
        "outputId": "f907f8f2-4b2e-4222-9785-d7dac267cc3f"
      },
      "execution_count": 212,
      "outputs": [
        {
          "output_type": "execute_result",
          "data": {
            "text/plain": [
              "500"
            ]
          },
          "metadata": {},
          "execution_count": 212
        }
      ]
    },
    {
      "cell_type": "markdown",
      "source": [
        "**예제 32**\n",
        "\n",
        "가격의 평균을 구하는 코드를 for문을 이용해 한줄로 작성하세요"
      ],
      "metadata": {
        "id": "Ou_-3_kkq4Z1"
      }
    },
    {
      "cell_type": "code",
      "source": [
        "sum([mart[i][1] for i in mart]) / len(mart)"
      ],
      "metadata": {
        "colab": {
          "base_uri": "https://localhost:8080/"
        },
        "id": "9-KemJi9q64N",
        "outputId": "5d0043a4-c640-4458-ef4f-035b2a2d9156"
      },
      "execution_count": 214,
      "outputs": [
        {
          "output_type": "execute_result",
          "data": {
            "text/plain": [
              "1533.3333333333333"
            ]
          },
          "metadata": {},
          "execution_count": 214
        }
      ]
    },
    {
      "cell_type": "markdown",
      "source": [
        "**예제 32**\n",
        "\n",
        "다음과 같은 출력을 하는 코드를 작성해보세요. 가능하다면 코드 한줄로 작성해 보세요.\n",
        "\n",
        "```\n",
        "a is apple, b is beer, c is cherry, d is donut, e is egg\n",
        "```"
      ],
      "metadata": {
        "id": "iVtmpIkoq7Qt"
      }
    },
    {
      "cell_type": "code",
      "source": [
        "', '.join([f' {i} is {mart[i][0]}'  for i in mart])"
      ],
      "metadata": {
        "colab": {
          "base_uri": "https://localhost:8080/",
          "height": 35
        },
        "id": "tTvk7UfVrDNn",
        "outputId": "86da9e9a-a355-4955-fcc8-a82cb12b1169"
      },
      "execution_count": 215,
      "outputs": [
        {
          "output_type": "execute_result",
          "data": {
            "text/plain": [
              "' a is apple,  b is beer,  c is cherry,  d is donut,  e is egg,  f is fish'"
            ],
            "application/vnd.google.colaboratory.intrinsic+json": {
              "type": "string"
            }
          },
          "metadata": {},
          "execution_count": 215
        }
      ]
    }
  ]
}